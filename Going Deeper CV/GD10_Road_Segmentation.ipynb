{
 "cells": [
  {
   "cell_type": "markdown",
   "id": "increased-switch",
   "metadata": {},
   "source": [
    "# Going Deeper 10. 도로 Segmentation\n",
    "\n",
    "자율주행차량이 주행해야할 도로 영역을 찾는 도로 segmentation task 를 진행한다.  \n",
    "\n",
    "U-Net 을 사용해서 이미지가 입력되면 도로의 영역을 segmenatation 하는 모델을 만들어보자.\n",
    "\n",
    "<a href='https://ifh.cc/v-QlxZ0l' target='_blank'><img src='https://ifh.cc/g/QlxZ0l.gif' border='0'></a>"
   ]
  },
  {
   "cell_type": "code",
   "execution_count": null,
   "id": "alert-scroll",
   "metadata": {},
   "outputs": [],
   "source": []
  }
 ],
 "metadata": {
  "kernelspec": {
   "display_name": "Python 3",
   "language": "python",
   "name": "python3"
  },
  "language_info": {
   "codemirror_mode": {
    "name": "ipython",
    "version": 3
   },
   "file_extension": ".py",
   "mimetype": "text/x-python",
   "name": "python",
   "nbconvert_exporter": "python",
   "pygments_lexer": "ipython3",
   "version": "3.7.9"
  }
 },
 "nbformat": 4,
 "nbformat_minor": 5
}
