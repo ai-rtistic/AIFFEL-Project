{
 "cells": [
  {
   "cell_type": "markdown",
   "id": "arctic-thread",
   "metadata": {},
   "source": [
    "# Exploration 19.  Conditional Generative Model ( cGAN )\n",
    "## 조건 있는 생성 모델\n",
    "일반적인 GAN과 같은 unconditioned generative model은 내가 생성하고자 하는 데이터에 대해 제어하기 힘들다.  \n",
    "\n",
    "__Conditional Generative Adversarial Nets (cGAN)__ 은 원하는 종류의 이미지를 생성하고자 할 때 GAN이 가진 생성 과정의 불편함을 해소하여, 원하는 종류의 이미지를 생성할 수 있도록 고안된 방법이다.\n",
    "\n",
    "### GAN 학습과정\n",
    "![image](https://user-images.githubusercontent.com/84179578/134269218-b6e58e11-517d-474a-a10d-eaea5b477246.png)\n",
    "\n",
    "- Generator\n",
    "  - 노이즈 zz(파란색)가 입력되고 특정 representation(검정색)으로 변환된 후 가짜 데이터 G(z)G(z) (빨간색)를 생성해낸다.\n",
    "- Discriminator\n",
    "  - 실제 데이터 xx와 Generator가 생성한 가짜 데이터 G(z)G(z)를 각각 입력받아 D(x)D(x) 및 D(G(z))D(G(z)) (보라색)를 계산하여 진짜와 가짜를 식별해낸다."
   ]
  },
  {
   "cell_type": "markdown",
   "id": "fewer-congress",
   "metadata": {},
   "source": [
    "### cGAN 학습과정\n",
    "\n",
    "![image](https://user-images.githubusercontent.com/84179578/134269445-ab454ffa-40c5-47d6-bff8-0dcc080a5f24.png)\n",
    "\n",
    "- Generator\n",
    "  - 노이즈 z(파란색)와 추가 정보 y(녹색)을 함께 입력받아 Generator 내부에서 결합되어 representation(검정색)으로 변환되며 가짜 데이터 G(z∣y)G(z∣y)를 생성한다. MNIST나 CIFAR-10 등의 데이터셋에 대해 학습시키는 경우 y는 레이블 정보이며, 일반적으로 one-hot 벡터를 입력으로 넣는다.\n",
    "- Discriminator\n",
    "  - 실제 데이터 x와 Generator가 생성한 가짜 데이터 G(z∣y)G(z∣y)를 각각 입력받으며, 마찬가지로 yy정보가 각각 함께 입력되어 진짜와 가짜를 식별한다. MNIST나 CIFAR-10 등의 데이터셋에 대해 학습시키는 경우 실제 데이터 x와 y는 알맞은 한 쌍(\"7\"이라 쓰인 이미지의 경우 레이블도 7)을 이뤄야 하며, 마찬가지로 Generator에 입력된 yy와 Discriminator에 입력되는 y는 동일한 레이블을 나타내야한다."
   ]
  },
  {
   "cell_type": "markdown",
   "id": "enormous-compensation",
   "metadata": {},
   "source": [
    " GAN과 cGAN을 각각 간단하게 구현하고 실험해보자."
   ]
  },
  {
   "cell_type": "markdown",
   "id": "coordinate-outdoors",
   "metadata": {},
   "source": [
    "----\n",
    "# 내가 원하는 숫자 이미지 만들기\n",
    "## 1. 데이터 준비\n",
    "tensorflow-dataset 라이브러리를 통해 MNIST 데이터셋을 불러온다.\n",
    "```\n",
    "$ pip install tensorflow-dataset\n",
    "```"
   ]
  },
  {
   "cell_type": "code",
   "execution_count": 1,
   "id": "removed-skating",
   "metadata": {},
   "outputs": [
    {
     "name": "stdout",
     "output_type": "stream",
     "text": [
      "\u001b[1mDownloading and preparing dataset 11.06 MiB (download: 11.06 MiB, generated: 21.00 MiB, total: 32.06 MiB) to /aiffel/tensorflow_datasets/mnist/3.0.1...\u001b[0m\n"
     ]
    },
    {
     "data": {
      "application/vnd.jupyter.widget-view+json": {
       "model_id": "7efb670f147e4fc8a3819c8da7d9e38b",
       "version_major": 2,
       "version_minor": 0
      },
      "text/plain": [
       "Dl Completed...:   0%|          | 0/4 [00:00<?, ? file/s]"
      ]
     },
     "metadata": {},
     "output_type": "display_data"
    },
    {
     "name": "stdout",
     "output_type": "stream",
     "text": [
      "\n",
      "\u001b[1mDataset mnist downloaded and prepared to /aiffel/tensorflow_datasets/mnist/3.0.1. Subsequent calls will reuse this data.\u001b[0m\n"
     ]
    },
    {
     "data": {
      "image/png": "[encoded data removed]",
      "text/plain": [
       "<Figure size 648x648 with 9 Axes>"
      ]
     },
     "metadata": {},
     "output_type": "display_data"
    }
   ],
   "source": [
    "import tensorflow_datasets as tfds\n",
    "\n",
    "mnist, info =  tfds.load(\n",
    "    \"mnist\", split=\"train\", with_info=True\n",
    ")\n",
    "\n",
    "fig = tfds.show_examples(mnist, info)"
   ]
  },
  {
   "cell_type": "markdown",
   "id": "killing-swimming",
   "metadata": {},
   "source": [
    "여러 개의 숫자 이미지와 그에 알맞은 레이블이 출력되었다. \n",
    "\n",
    "## 2. 데이터 전처리\n",
    "\n",
    "학습 전에 필요한 몇가지 처리를 수행하는 함수를 정의한다.  \n",
    "- 이미지 픽셀 값을 -1~1 사이의 범위로 변경\n",
    "- 레이블 정보를 원-핫 인코딩(one-hot encoding)\n",
    "\n",
    "GAN 과 cGAN 을 각각 실험하기 위해서 label 정보 사용 유무에 따라 `gan_preprocessing()` 과 `cgan_preprocessing()`  두가지 함수를 정의한다."
   ]
  },
  {
   "cell_type": "code",
   "execution_count": 2,
   "id": "skilled-attribute",
   "metadata": {},
   "outputs": [],
   "source": [
    "import tensorflow as tf\n",
    "\n",
    "BATCH_SIZE = 128\n",
    "\n",
    "def gan_preprocessing(data):\n",
    "    image = data[\"image\"]\n",
    "    image = tf.cast(image, tf.float32)\n",
    "    image = (image / 127.5) - 1\n",
    "    return image\n",
    "\n",
    "def cgan_preprocessing(data):\n",
    "    image = data[\"image\"]\n",
    "    image = tf.cast(image, tf.float32)\n",
    "    image = (image / 127.5) - 1\n",
    "    \n",
    "    label = tf.one_hot(data[\"label\"], 10)\n",
    "    return image, label\n",
    "\n",
    "gan_datasets = mnist.map(gan_preprocessing).shuffle(1000).batch(BATCH_SIZE)\n",
    "cgan_datasets = mnist.map(cgan_preprocessing).shuffle(100).batch(BATCH_SIZE)"
   ]
  },
  {
   "cell_type": "markdown",
   "id": "commercial-therapist",
   "metadata": {},
   "source": [
    "한 개의 데이터셋만 불러와 원하는대로 정확히 처리되었는지 확인한다."
   ]
  },
  {
   "cell_type": "code",
   "execution_count": 3,
   "id": "graduate-captain",
   "metadata": {},
   "outputs": [
    {
     "name": "stdout",
     "output_type": "stream",
     "text": [
      "Label : tf.Tensor([0. 0. 0. 0. 0. 0. 1. 0. 0. 0.], shape=(10,), dtype=float32)\n",
      "Image Min/Max : -1.0 1.0\n"
     ]
    },
    {
     "data": {
      "text/plain": [
       "<matplotlib.image.AxesImage at 0x7f33002d7f10>"
      ]
     },
     "execution_count": 3,
     "metadata": {},
     "output_type": "execute_result"
    },
    {
     "data": {
      "image/png": "[encoded data removed]",
      "text/plain": [
       "<Figure size 432x288 with 1 Axes>"
      ]
     },
     "metadata": {
      "needs_background": "light"
     },
     "output_type": "display_data"
    }
   ],
   "source": [
    "import matplotlib.pyplot as plt\n",
    "\n",
    "for i,j in cgan_datasets : break\n",
    "\n",
    "# 이미지 i와 라벨 j가 일치하는지 확인해 봅니다.     \n",
    "print(\"Label :\", j[0])\n",
    "print(\"Image Min/Max :\", i.numpy().min(), i.numpy().max())\n",
    "plt.imshow(i.numpy()[0,...,0], plt.cm.gray)"
   ]
  },
  {
   "cell_type": "markdown",
   "id": "boxed-apparatus",
   "metadata": {},
   "source": [
    "## 3. GAN Generator 구성\n",
    "구현은 Tensorflow2의 Subclassing 방법을 이용한다.  \n",
    "\n",
    "Subclassing 방법은 `tensorflow.keras.Model` 을 상속받아 클래스를 만들며, 일반적으로 `__init__()` 메서드 안에서 레이어 구성을 정의하고, 구성된 레이어를 `call()` 메서드에서 사용해 forward propagation을 진행한다. 이러한 Subclassing 방법은 Pytorch의 모델 구성 방법과도 매우 유사하므로 이에 익숙해진다면 Pytorch의 모델 구성 방법도 빠르게 습득할 수 있다.  \n",
    "\n",
    "먼저 GAN의 Generator를 아래와 같이 구현한다."
   ]
  },
  {
   "cell_type": "code",
   "execution_count": 4,
   "id": "minus-attitude",
   "metadata": {},
   "outputs": [],
   "source": [
    "from tensorflow.keras import layers, Input, Model\n",
    "\n",
    "class GeneratorGAN(Model):\n",
    "    def __init__(self):\n",
    "        super(GeneratorGAN, self).__init__()\n",
    "\n",
    "        self.dense_1 = layers.Dense(128, activation='relu')\n",
    "        self.dense_2 = layers.Dense(256, activation='relu')\n",
    "        self.dense_3 = layers.Dense(512, activation='relu')\n",
    "        self.dense_4 = layers.Dense(28*28*1, activation='tanh')\n",
    "\n",
    "        self.reshape = layers.Reshape((28, 28, 1))\n",
    "\n",
    "    def call(self, noise):\n",
    "        out = self.dense_1(noise)\n",
    "        out = self.dense_2(out)\n",
    "        out = self.dense_3(out)\n",
    "        out = self.dense_4(out)\n",
    "        return self.reshape(out)"
   ]
  },
  {
   "cell_type": "markdown",
   "id": "planned-dispute",
   "metadata": {},
   "source": [
    "- `__init__()` 메서드 안에서 사용할 모든 레이어를 정의했다. 4개의 fully-connected 레이어 중 한 개를 제외하고 모두 ReLU 활성화를 사용한다.\n",
    "- `call()` 메서드에서는 노이즈를 입력받아 `__init__()`에서 정의된 레이어들을 순서대로 통과한다.\n",
    "- Generator는 숫자가 쓰인 이미지를 출력해야 하므로 마지막 출력은 `layers.Reshape()`을 이용해 `(28,28,1)` 크기로 변환된다."
   ]
  },
  {
   "cell_type": "markdown",
   "id": "received-machine",
   "metadata": {},
   "source": [
    "## 4. cGAN Generator 구성 "
   ]
  },
  {
   "cell_type": "code",
   "execution_count": 5,
   "id": "parallel-stephen",
   "metadata": {},
   "outputs": [],
   "source": [
    "class GeneratorCGAN(Model):\n",
    "    def __init__(self):\n",
    "        super(GeneratorCGAN, self).__init__()\n",
    "        \n",
    "        self.dense_z = layers.Dense(256, activation='relu')\n",
    "        self.dense_y = layers.Dense(256, activation='relu')\n",
    "        self.combined_dense = layers.Dense(512, activation='relu')\n",
    "        self.final_dense = layers.Dense(28 * 28 * 1, activation='tanh')\n",
    "        self.reshape = layers.Reshape((28, 28, 1))\n",
    "\n",
    "    def call(self, noise, label):\n",
    "        noise = self.dense_z(noise)\n",
    "        label = self.dense_y(label)\n",
    "        out = self.combined_dense(tf.concat([noise, label], axis=-1))\n",
    "        out = self.final_dense(out)\n",
    "        return self.reshape(out)"
   ]
  },
  {
   "cell_type": "markdown",
   "id": "double-planet",
   "metadata": {},
   "source": [
    "GAN의 Generator보다 구현이 복잡한듯 하지만 ,이전에 cGAN을 이해한 대로 두 구조의 차이점은 레이블 정보가 추가된다는 것 뿐이다.  \n",
    "\n",
    "- 노이즈 입력 및 레이블 입력은 각각 1개의 fully-connected 레이어와 ReLU 활성화를 통과한다. (`dense_z`, `dense_y`)\n",
    "- 위의 각 결과가 서로 연결되어 다시 한번 1개의 fully-connected 레이어와 ReLU 활성화를 통과한다 (`tf.concat, conbined_dense`)\n",
    "- 위의 결과가 1개의 fully-connected 레이어 및 Hyperbolic tangent 활성화를 거쳐 28x28 차원의 결과가 생성되고 `(28,28,1)` 크기의 이미지 형태로 변환되어 출력된다 (final_dense, reshape)"
   ]
  },
  {
   "cell_type": "markdown",
   "id": "curious-central",
   "metadata": {},
   "source": [
    "## 5. GAN Discriminator 구성\n",
    "\n",
    "실제 이미지와 Generator가 생성한 이미지에 대해 진짜와 가짜를 식별하는 Discriminator를 구현해보자."
   ]
  },
  {
   "cell_type": "code",
   "execution_count": 6,
   "id": "peaceful-cylinder",
   "metadata": {},
   "outputs": [],
   "source": [
    "class DiscriminatorGAN(Model):\n",
    "    def __init__(self):\n",
    "        super(DiscriminatorGAN, self).__init__()\n",
    "        self.flatten = layers.Flatten()\n",
    "        \n",
    "        self.blocks = []\n",
    "        for f in [512, 256, 128, 1]:\n",
    "            self.blocks.append(\n",
    "                layers.Dense(f, activation=None if f==1 else \"relu\")\n",
    "            )\n",
    "        \n",
    "    def call(self, x):\n",
    "        x = self.flatten(x)\n",
    "        for block in self.blocks:\n",
    "            x = block(x)\n",
    "        return x"
   ]
  },
  {
   "cell_type": "markdown",
   "id": "certified-heaven",
   "metadata": {},
   "source": [
    "- `__init__()` 에 blocks라는 리스트를 하나 만들어 놓고, for loop를 이용하여 필요한 레이어들을 차곡차곡 쌓아놓았다. 이러한 방식을 이용하면 각각의 fully-connected 레이어를 매번 정의하지 않아도 되므로 많은 레이어가 필요할 때 편리하다.\n",
    "- Discriminator의 입력은 Generator가 생성한 `(28,28,1)` 크기의 이미지이며, 이를 fully-connected 레이어로 학습하기 위해 `call()`에서는 가장 먼저 `layers.Flatten()`이 적용된다.\n",
    "- 이어서 레이어들이 쌓여있는 blocks에 대해 for loop를 이용하여 레이어들을 순서대로 하나씩 꺼내 입력 데이터를 통과시킨다.\n",
    "- 마지막 fully-connected 레이어를 통과하면 진짜 및 가짜 이미지를 나타내는 1개의 값이 출력된다."
   ]
  },
  {
   "cell_type": "markdown",
   "id": "sonic-multiple",
   "metadata": {},
   "source": [
    "## 6. cGAN Discriminator 구성\n",
    "cGAN의 Discriminator는 `Maxout`이라는 특별한 레이어가 사용된다.  \n",
    "\n",
    "`Maxout`은 간단히 설명하면 두 레이어 사이를 연결할 때, 여러 개의 fully-connected 레이어를 통과시켜 그 중 가장 큰 값을 가져오도록 한다.  \n",
    "만약 2개의 fully-connected 레이어를 사용할 때 `Maxout`을 식으로 표현하면 아래와 같다.  \n",
    "\n",
    "$$\n",
    "\\max \\left(w_{1}^{T} x+b_{1}, w_{2}^{T} x+b_{2}\\right)\n",
    "$$\n",
    "\n",
    "아래와 같이 `Maxout` 을 구성할 수 있다."
   ]
  },
  {
   "cell_type": "code",
   "execution_count": 7,
   "id": "south-genius",
   "metadata": {},
   "outputs": [],
   "source": [
    "class Maxout(layers.Layer):\n",
    "    def __init__(self, units, pieces):\n",
    "        super(Maxout, self).__init__()\n",
    "        self.dense = layers.Dense(units*pieces, activation=\"relu\")\n",
    "        self.dropout = layers.Dropout(.5)    \n",
    "        self.reshape = layers.Reshape((-1, pieces, units))\n",
    "    \n",
    "    def call(self, x):\n",
    "        x = self.dense(x)\n",
    "        x = self.dropout(x)\n",
    "        x = self.reshape(x)\n",
    "        return tf.math.reduce_max(x, axis=1)"
   ]
  },
  {
   "cell_type": "markdown",
   "id": "demanding-qualification",
   "metadata": {},
   "source": [
    "Maxout 레이어를 구성할 때 units과 pieces의 설정이 필요하며, units 차원 수를 가진 fully-connected 레이어를 pieces개 만큼 만들고 그 중 최대 값을 출력한다.  \n",
    "예를 들어, 사용할 `Maxout` 레이어가 `units=100`, `pieces=10`으로 설정 된다면 입력으로 부터 100차원의 representation을 10개 만들고, 10개 중에서 최대값을 가져와 최종 1개의 100차원 representation이 출력된다. 식으로 나타낸다면 아래와 같다. (위 예시에서는 각각의 `wx+b`가 모두 100차원)  \n",
    "\n",
    "\n",
    "$$\n",
    "\\max \\left(w_{1}^{T} x+b_{1}, w_{2}^{T} x+b_{2}, \\ldots, w_{9}^{T} x+b_{9}, w_{10}^{T} x+b_{10}\\right)\n",
    "$$\n",
    "\n",
    "Maxout 레이어를 3번만 사용하면 아래와 같이 쉽게 cGAN의 Discriminator를 구성할 수 있다."
   ]
  },
  {
   "cell_type": "code",
   "execution_count": 8,
   "id": "bigger-baking",
   "metadata": {},
   "outputs": [],
   "source": [
    "class DiscriminatorCGAN(Model):\n",
    "    def __init__(self):\n",
    "        super(DiscriminatorCGAN, self).__init__()\n",
    "        self.flatten = layers.Flatten()\n",
    "        \n",
    "        self.image_block = Maxout(240, 5)\n",
    "        self.label_block = Maxout(50, 5)\n",
    "        self.combine_block = Maxout(240, 4)\n",
    "        \n",
    "        self.dense = layers.Dense(1, activation=None)\n",
    "    \n",
    "    def call(self, image, label):\n",
    "        image = self.flatten(image)\n",
    "        image = self.image_block(image)\n",
    "        label = self.label_block(label)\n",
    "        x = layers.Concatenate()([image, label])\n",
    "        x = self.combine_block(x)\n",
    "        return self.dense(x)"
   ]
  },
  {
   "cell_type": "markdown",
   "id": "concrete-opportunity",
   "metadata": {},
   "source": [
    "- GAN의 Discriminator와 마찬가지로 Generator가 생성한 `(28,28,1)` 크기의 이미지가 입력되므로, `layers.Flatten()`이 적용된다.  \n",
    "- 그리고 이미지 입력 및 레이블 입력 각각은 Maxout 레이어를 한번씩 통과한 후 서로 결합되어 `Maxout` 레이어를 한번 더 통과한다.  \n",
    "- 마지막 fully-connected 레이어를 통과하면 진짜 및 가짜 이미지를 나타내는 1개의 값이 출력된다."
   ]
  },
  {
   "cell_type": "markdown",
   "id": "logical-shelter",
   "metadata": {},
   "source": [
    "## 7. GAN으로 MNIST 학습 및 테스트\n",
    "\n",
    "Generator 및 Discriminator를 이용해 MINST를 학습하고 각 모델로 직접 숫자 손글씨를 생성해보자.  \n",
    "\n",
    "우선 GAN, cGAN 각각의 모델 학습에 공통적으로 필요한 loss function과 optimizer를 정의한다. 진짜 및 가짜를 구별하기 위해 `Binary Cross Entropy`를 사용하고, `Adam optimizer`를 이용해 학습한다."
   ]
  },
  {
   "cell_type": "code",
   "execution_count": 9,
   "id": "english-stephen",
   "metadata": {},
   "outputs": [],
   "source": [
    "from tensorflow.keras import optimizers, losses\n",
    "\n",
    "bce = losses.BinaryCrossentropy(from_logits=True)\n",
    "\n",
    "def generator_loss(fake_output):\n",
    "    return bce(tf.ones_like(fake_output), fake_output)\n",
    "\n",
    "def discriminator_loss(real_output, fake_output):\n",
    "    return bce(tf.ones_like(real_output), real_output) + bce(tf.zeros_like(fake_output), fake_output)\n",
    "\n",
    "gene_opt = optimizers.Adam(1e-4)\n",
    "disc_opt = optimizers.Adam(1e-4)    "
   ]
  },
  {
   "cell_type": "markdown",
   "id": "rising-excitement",
   "metadata": {},
   "source": [
    "이전 단계에서 구성한 GeneratorGAN 및 DiscriminatorGAN 모델 클래스를 이용한다.  \n",
    "여기서는 입력으로 사용되는 노이즈를 100차원으로 설정했으며, 하나의 배치 크기 데이터로 모델을 업데이트하는 함수를 아래와 같이 정의한다."
   ]
  },
  {
   "cell_type": "code",
   "execution_count": 10,
   "id": "progressive-contrast",
   "metadata": {},
   "outputs": [],
   "source": [
    "gan_generator = GeneratorGAN()\n",
    "gan_discriminator = DiscriminatorGAN()\n",
    "\n",
    "@tf.function()\n",
    "def gan_step(real_images):\n",
    "    noise = tf.random.normal([real_images.shape[0], 100])\n",
    "    \n",
    "    with tf.GradientTape(persistent=True) as tape:\n",
    "        # Generator를 이용해 가짜 이미지 생성\n",
    "        fake_images = gan_generator(noise)\n",
    "        # Discriminator를 이용해 진짜 및 가짜이미지를 각각 판별\n",
    "        real_out = gan_discriminator(real_images)\n",
    "        fake_out = gan_discriminator(fake_images)\n",
    "        # 각 손실(loss)을 계산\n",
    "        gene_loss = generator_loss(fake_out)\n",
    "        disc_loss = discriminator_loss(real_out, fake_out)\n",
    "    # gradient 계산\n",
    "    gene_grad = tape.gradient(gene_loss, gan_generator.trainable_variables)\n",
    "    disc_grad = tape.gradient(disc_loss, gan_discriminator.trainable_variables)\n",
    "    # 모델 학습\n",
    "    gene_opt.apply_gradients(zip(gene_grad, gan_generator.trainable_variables))\n",
    "    disc_opt.apply_gradients(zip(disc_grad, gan_discriminator.trainable_variables))\n",
    "    return gene_loss, disc_loss"
   ]
  },
  {
   "cell_type": "markdown",
   "id": "greek-details",
   "metadata": {},
   "source": [
    "위 함수를 이용해 우선 10 epoch만큼 학습을 진행한다. 100번의 반복마다 각 손실(loss)을 출력한다."
   ]
  },
  {
   "cell_type": "code",
   "execution_count": 11,
   "id": "brief-retreat",
   "metadata": {},
   "outputs": [
    {
     "name": "stdout",
     "output_type": "stream",
     "text": [
      "[1/10 EPOCHS, 100 ITER] G:1.9696707725524902, D:0.18356341123580933\n",
      "[1/10 EPOCHS, 200 ITER] G:2.7556204795837402, D:0.08979523181915283\n",
      "[1/10 EPOCHS, 300 ITER] G:2.6053009033203125, D:0.11996389180421829\n",
      "[1/10 EPOCHS, 400 ITER] G:2.2647595405578613, D:0.1470157355070114\n",
      "[2/10 EPOCHS, 100 ITER] G:1.921525478363037, D:0.37482744455337524\n",
      "[2/10 EPOCHS, 200 ITER] G:3.841576099395752, D:0.2316238284111023\n",
      "[2/10 EPOCHS, 300 ITER] G:3.1372885704040527, D:0.13008789718151093\n",
      "[2/10 EPOCHS, 400 ITER] G:3.132829427719116, D:0.11272451281547546\n",
      "[3/10 EPOCHS, 100 ITER] G:3.089139461517334, D:0.11220090091228485\n",
      "[3/10 EPOCHS, 200 ITER] G:4.114435195922852, D:0.04268302768468857\n",
      "[3/10 EPOCHS, 300 ITER] G:3.551236867904663, D:0.07745768129825592\n",
      "[3/10 EPOCHS, 400 ITER] G:4.1880669593811035, D:0.05271689593791962\n",
      "[4/10 EPOCHS, 100 ITER] G:3.6893234252929688, D:0.09193858504295349\n",
      "[4/10 EPOCHS, 200 ITER] G:5.398830413818359, D:0.05023930221796036\n",
      "[4/10 EPOCHS, 300 ITER] G:5.213912010192871, D:0.05971932411193848\n",
      "[4/10 EPOCHS, 400 ITER] G:4.243629455566406, D:0.08092562109231949\n",
      "[5/10 EPOCHS, 100 ITER] G:4.039322853088379, D:0.11433997750282288\n",
      "[5/10 EPOCHS, 200 ITER] G:4.319298267364502, D:0.04461376741528511\n",
      "[5/10 EPOCHS, 300 ITER] G:2.7063450813293457, D:0.14854705333709717\n",
      "[5/10 EPOCHS, 400 ITER] G:4.353250503540039, D:0.08978599309921265\n",
      "[6/10 EPOCHS, 100 ITER] G:4.081938743591309, D:0.0720449686050415\n",
      "[6/10 EPOCHS, 200 ITER] G:5.52058744430542, D:0.04078201204538345\n",
      "[6/10 EPOCHS, 300 ITER] G:3.0659186840057373, D:0.1087472215294838\n",
      "[6/10 EPOCHS, 400 ITER] G:3.4931154251098633, D:0.06310770660638809\n",
      "[7/10 EPOCHS, 100 ITER] G:3.788595676422119, D:0.06726674735546112\n",
      "[7/10 EPOCHS, 200 ITER] G:5.700263023376465, D:0.0304708369076252\n",
      "[7/10 EPOCHS, 300 ITER] G:5.367474555969238, D:0.02396746352314949\n",
      "[7/10 EPOCHS, 400 ITER] G:4.4554443359375, D:0.05100616440176964\n",
      "[8/10 EPOCHS, 100 ITER] G:4.507071495056152, D:0.026890765875577927\n",
      "[8/10 EPOCHS, 200 ITER] G:4.012927055358887, D:0.02780718170106411\n",
      "[8/10 EPOCHS, 300 ITER] G:4.500284194946289, D:0.08492545038461685\n",
      "[8/10 EPOCHS, 400 ITER] G:3.527151107788086, D:0.03739830106496811\n",
      "[9/10 EPOCHS, 100 ITER] G:4.643525123596191, D:0.01995246671140194\n",
      "[9/10 EPOCHS, 200 ITER] G:4.980186939239502, D:0.019712060689926147\n",
      "[9/10 EPOCHS, 300 ITER] G:5.070504188537598, D:0.05940169841051102\n",
      "[9/10 EPOCHS, 400 ITER] G:5.342895030975342, D:0.009786617010831833\n",
      "[10/10 EPOCHS, 100 ITER] G:5.118581771850586, D:0.10294630378484726\n",
      "[10/10 EPOCHS, 200 ITER] G:4.287627220153809, D:0.08241617679595947\n",
      "[10/10 EPOCHS, 300 ITER] G:4.4225568771362305, D:0.05559916794300079\n",
      "[10/10 EPOCHS, 400 ITER] G:4.681421279907227, D:0.016953658312559128\n"
     ]
    }
   ],
   "source": [
    "EPOCHS = 10\n",
    "for epoch in range(1, EPOCHS+1):\n",
    "    for i, images in enumerate(gan_datasets):\n",
    "        gene_loss, disc_loss = gan_step(images)\n",
    "\n",
    "        if (i+1) % 100 == 0:\n",
    "            print(f\"[{epoch}/{EPOCHS} EPOCHS, {i+1} ITER] G:{gene_loss}, D:{disc_loss}\")"
   ]
  },
  {
   "cell_type": "markdown",
   "id": "specialized-offering",
   "metadata": {},
   "source": [
    "학습된 모델을 테스트해보자. 100차원 노이즈 입력을 10개 사용하여 10개의 숫자 손글씨 데이터를 생성해 시각화한다."
   ]
  },
  {
   "cell_type": "code",
   "execution_count": 12,
   "id": "vertical-arabic",
   "metadata": {},
   "outputs": [
    {
     "data": {
      "image/png": "[encoded data removed]",
      "text/plain": [
       "<Figure size 1080x432 with 10 Axes>"
      ]
     },
     "metadata": {
      "needs_background": "light"
     },
     "output_type": "display_data"
    }
   ],
   "source": [
    "import numpy as np\n",
    "\n",
    "noise = tf.random.normal([10, 100])\n",
    "\n",
    "output = gan_generator(noise)\n",
    "output = np.squeeze(output.numpy())\n",
    "\n",
    "plt.figure(figsize=(15,6))\n",
    "for i in range(1, 11):\n",
    "    plt.subplot(2,5,i)\n",
    "    plt.imshow(output[i-1])"
   ]
  },
  {
   "cell_type": "markdown",
   "id": "marine-jamaica",
   "metadata": {},
   "source": [
    "결과를 보니 아마도 10 epoch의 학습만으로는 좋은 결과를 기대할 수 없나보다.  \n",
    "위 구현을 그대로 500 epoch 학습한 가중치를 한번 사용해보자."
   ]
  },
  {
   "cell_type": "code",
   "execution_count": 13,
   "id": "smoking-hazard",
   "metadata": {},
   "outputs": [
    {
     "data": {
      "image/png": "[encoded data removed]",
      "text/plain": [
       "<Figure size 1080x432 with 10 Axes>"
      ]
     },
     "metadata": {
      "needs_background": "light"
     },
     "output_type": "display_data"
    }
   ],
   "source": [
    "import os\n",
    "weight_path = os.getenv('HOME')+'/aiffel/conditional_generation/gan/GAN_500'\n",
    "\n",
    "noise = tf.random.normal([10, 100]) \n",
    "\n",
    "gan_generator = GeneratorGAN()\n",
    "gan_generator.load_weights(weight_path)\n",
    "\n",
    "output = gan_generator(noise)\n",
    "output = np.squeeze(output.numpy())\n",
    "\n",
    "plt.figure(figsize=(15,6))\n",
    "for i in range(1, 11):\n",
    "    plt.subplot(2,5,i)\n",
    "    plt.imshow(output[i-1])"
   ]
  },
  {
   "cell_type": "markdown",
   "id": "olive-headset",
   "metadata": {},
   "source": [
    "위와 같이 10개의 결과 이미지는 서로 다른 숫자들이 시각화되었다.  \n",
    "이러한 방법으로는 원하는 특정 숫자 하나를 출력하기 위해 수많은 입력을 넣어야 한다. 원하는 숫자를 바로 얻어내기 위해 cGAN을 사용해보자."
   ]
  },
  {
   "cell_type": "markdown",
   "id": "breeding-aging",
   "metadata": {},
   "source": [
    "## 8. cGAN으로 MNIST 학습 및 테스트  \n",
    "이전 단계에서 구성한 GeneratorCGAN 및 DiscriminatorCGAN 모델 클래스를 이용한다.\n"
   ]
  },
  {
   "cell_type": "code",
   "execution_count": 14,
   "id": "passive-holly",
   "metadata": {},
   "outputs": [],
   "source": [
    "cgan_generator = GeneratorCGAN()\n",
    "cgan_discriminator = DiscriminatorCGAN()\n",
    "\n",
    "@tf.function()\n",
    "def cgan_step(real_images, labels):\n",
    "    noise = tf.random.normal([real_images.shape[0], 100])\n",
    "    \n",
    "    with tf.GradientTape(persistent=True) as tape:\n",
    "        fake_images = cgan_generator(noise, labels)\n",
    "        \n",
    "        real_out = cgan_discriminator(real_images, labels)\n",
    "        fake_out = cgan_discriminator(fake_images, labels)\n",
    "        \n",
    "        gene_loss = generator_loss(fake_out)\n",
    "        disc_loss = discriminator_loss(real_out, fake_out)\n",
    "    \n",
    "    gene_grad = tape.gradient(gene_loss, cgan_generator.trainable_variables)\n",
    "    disc_grad = tape.gradient(disc_loss, cgan_discriminator.trainable_variables)\n",
    "    \n",
    "    gene_opt.apply_gradients(zip(gene_grad, cgan_generator.trainable_variables))\n",
    "    disc_opt.apply_gradients(zip(disc_grad, cgan_discriminator.trainable_variables))\n",
    "    return gene_loss, disc_loss"
   ]
  },
  {
   "cell_type": "markdown",
   "id": "entire-tenant",
   "metadata": {},
   "source": [
    "위에서 실행했던 GAN 학습처럼 약간의 학습으로는 제대로 된 생성 결과를 얻을 수 없을 테니 이번에는 연습 삼아 1 epoch만 학습 시켜 보겠다."
   ]
  },
  {
   "cell_type": "code",
   "execution_count": 15,
   "id": "ordered-shark",
   "metadata": {},
   "outputs": [
    {
     "name": "stdout",
     "output_type": "stream",
     "text": [
      "[1/1 EPOCHS, 99 ITER] G:5.468311309814453, D:0.008614793419837952\n",
      "[1/1 EPOCHS, 199 ITER] G:4.215452194213867, D:0.03137216717004776\n",
      "[1/1 EPOCHS, 299 ITER] G:2.7057013511657715, D:0.1978956162929535\n",
      "[1/1 EPOCHS, 399 ITER] G:3.7204761505126953, D:0.07972374558448792\n"
     ]
    }
   ],
   "source": [
    "EPOCHS = 1\n",
    "for epoch in range(1, EPOCHS+1):\n",
    "    \n",
    "    for i, (images, labels) in enumerate(cgan_datasets):\n",
    "        gene_loss, disc_loss = cgan_step(images, labels)\n",
    "    \n",
    "        if (i+1) % 100 == 0:\n",
    "            print(f\"[{epoch}/{EPOCHS} EPOCHS, {i} ITER] G:{gene_loss}, D:{disc_loss}\")"
   ]
  },
  {
   "cell_type": "markdown",
   "id": "crazy-model",
   "metadata": {},
   "source": [
    "학습 과정에서 Generator 및 Discriminator에 레이블 정보만 추가로 입력했다는 점을 제외하면 위에서 학습한 GAN과 큰 차이는 없다.  \n",
    "위 코드로 짧게나마 학습시켜봤는데, 충분한 학습이 되기엔 더 많은 시간을 투자해야한다.\n",
    "시간을 아끼기 위해 위 코드로 500 epoch 학습한 가중치를 사용해보자."
   ]
  },
  {
   "cell_type": "code",
   "execution_count": 16,
   "id": "valued-stephen",
   "metadata": {},
   "outputs": [
    {
     "data": {
      "image/png": "[encoded data removed]",
      "text/plain": [
       "<Figure size 1080x432 with 10 Axes>"
      ]
     },
     "metadata": {
      "needs_background": "light"
     },
     "output_type": "display_data"
    }
   ],
   "source": [
    "number = 7  # 생성할 숫자 입력\n",
    "\n",
    "weight_path = os.getenv('HOME')+'/aiffel/conditional_generation/cgan/CGAN_500'\n",
    "\n",
    "noise = tf.random.normal([10, 100])\n",
    "\n",
    "label = tf.one_hot(number, 10)\n",
    "label = tf.expand_dims(label, axis=0)\n",
    "label = tf.repeat(label, 10, axis=0)\n",
    "\n",
    "generator = GeneratorCGAN()\n",
    "generator.load_weights(weight_path)\n",
    "\n",
    "output = generator(noise, label)\n",
    "output = np.squeeze(output.numpy())\n",
    "\n",
    "plt.figure(figsize=(15,6))\n",
    "for i in range(1, 11):\n",
    "    plt.subplot(2,5,i)\n",
    "    plt.imshow(output[i-1])"
   ]
  },
  {
   "cell_type": "markdown",
   "id": "tracked-substance",
   "metadata": {},
   "source": [
    "number에 입력한 숫자에 해당하는 손글씨가 시각화되었다."
   ]
  },
  {
   "cell_type": "code",
   "execution_count": null,
   "id": "banned-chassis",
   "metadata": {},
   "outputs": [],
   "source": []
  }
 ],
 "metadata": {
  "kernelspec": {
   "display_name": "Python 3",
   "language": "python",
   "name": "python3"
  },
  "language_info": {
   "codemirror_mode": {
    "name": "ipython",
    "version": 3
   },
   "file_extension": ".py",
   "mimetype": "text/x-python",
   "name": "python",
   "nbconvert_exporter": "python",
   "pygments_lexer": "ipython3",
   "version": "3.7.9"
  }
 },
 "nbformat": 4,
 "nbformat_minor": 5
}
