{
 "cells": [
  {
   "cell_type": "code",
   "execution_count": 1,
   "id": "going-forestry",
   "metadata": {},
   "outputs": [
    {
     "name": "stdout",
     "output_type": "stream",
     "text": [
      "['First Citizen:', 'Before we proceed any further, hear me speak.', '', 'All:', 'Speak, speak.', '', 'First Citizen:', 'You are all resolved rather to die than to famish?', '']\n"
     ]
    }
   ],
   "source": [
    "import os, re\n",
    "import numpy as np\n",
    "import tensorflow as tf\n",
    "\n",
    "file_path = 'EP04_data/lyricist/data/shakespeare.txt'\n",
    "with open(file_path, \"r\") as f:\n",
    "    raw_corpus = f.read().splitlines()\n",
    "\n",
    "# 앞에서부터 10라인만 화면에 출력해 볼까요?\n",
    "print(raw_corpus[:9])"
   ]
  },
  {
   "cell_type": "code",
   "execution_count": 2,
   "id": "restricted-montreal",
   "metadata": {},
   "outputs": [
    {
     "name": "stdout",
     "output_type": "stream",
     "text": [
      "Before we proceed any further, hear me speak.\n",
      "Speak, speak.\n",
      "You are all resolved rather to die than to famish?\n"
     ]
    }
   ],
   "source": [
    "for idx, sentence in enumerate(raw_corpus):\n",
    "    if len(sentence) == 0: continue   # 길이가 0인 문장은 건너뜁니다.\n",
    "    if sentence[-1] == \":\": continue  # 문장의 끝이 : 인 문장은 건너뜁니다.\n",
    "\n",
    "    if idx > 9: break   # 일단 문장 10개만 확인해 볼 겁니다.\n",
    "        \n",
    "    print(sentence)"
   ]
  },
  {
   "cell_type": "code",
   "execution_count": 3,
   "id": "spare-independence",
   "metadata": {},
   "outputs": [
    {
     "name": "stdout",
     "output_type": "stream",
     "text": [
      "<start> this is sample sentence . <end>\n"
     ]
    }
   ],
   "source": [
    "# 입력된 문장을\n",
    "#     1. 소문자로 바꾸고, 양쪽 공백을 지웁니다\n",
    "#     2. 특수문자 양쪽에 공백을 넣고\n",
    "#     3. 여러개의 공백은 하나의 공백으로 바꿉니다\n",
    "#     4. a-zA-Z?.!,¿가 아닌 모든 문자를 하나의 공백으로 바꿉니다\n",
    "#     5. 다시 양쪽 공백을 지웁니다\n",
    "#     6. 문장 시작에는 <start>, 끝에는 <end>를 추가합니다\n",
    "# 이 순서로 처리해주면 문제가 되는 상황을 방지할 수 있겠네요!\n",
    "def preprocess_sentence(sentence):\n",
    "    sentence = sentence.lower().strip() # 1\n",
    "    sentence = re.sub(r\"([?.!,¿])\", r\" \\1 \", sentence) # 2\n",
    "    sentence = re.sub(r'[\" \"]+', \" \", sentence) # 3\n",
    "    sentence = re.sub(r\"[^a-zA-Z?.!,¿]+\", \" \", sentence) # 4\n",
    "    sentence = sentence.strip() # 5\n",
    "    sentence = '<start> ' + sentence + ' <end>' # 6\n",
    "    return sentence\n",
    "\n",
    "# 이 문장이 어떻게 필터링되는지 확인해 보세요.\n",
    "print(preprocess_sentence(\"This @_is ;;;sample        sentence.\"))"
   ]
  },
  {
   "cell_type": "code",
   "execution_count": 4,
   "id": "major-hands",
   "metadata": {},
   "outputs": [
    {
     "data": {
      "text/plain": [
       "['<start> before we proceed any further , hear me speak . <end>',\n",
       " '<start> speak , speak . <end>',\n",
       " '<start> you are all resolved rather to die than to famish ? <end>',\n",
       " '<start> resolved . resolved . <end>',\n",
       " '<start> first , you know caius marcius is chief enemy to the people . <end>',\n",
       " '<start> we know t , we know t . <end>',\n",
       " '<start> let us kill him , and we ll have corn at our own price . <end>',\n",
       " '<start> is t a verdict ? <end>',\n",
       " '<start> no more talking on t let it be done away , away ! <end>',\n",
       " '<start> one word , good citizens . <end>']"
      ]
     },
     "execution_count": 4,
     "metadata": {},
     "output_type": "execute_result"
    }
   ],
   "source": [
    "corpus = []\n",
    "\n",
    "for sentence in raw_corpus:\n",
    "    # 우리가 원하지 않는 문장은 건너뜁니다\n",
    "    if len(sentence) == 0: continue\n",
    "    if sentence[-1] == \":\": continue\n",
    "    \n",
    "    # 정제를 하고 담아주세요\n",
    "    preprocessed_sentence = preprocess_sentence(sentence)\n",
    "    corpus.append(preprocessed_sentence)\n",
    "        \n",
    "# 정제된 결과를 10개만 확인해보죠\n",
    "corpus[:10]"
   ]
  },
  {
   "cell_type": "code",
   "execution_count": 5,
   "id": "neural-trunk",
   "metadata": {},
   "outputs": [
    {
     "name": "stdout",
     "output_type": "stream",
     "text": [
      "[[   2  143   40 ...    0    0    0]\n",
      " [   2  110    4 ...    0    0    0]\n",
      " [   2   11   50 ...    0    0    0]\n",
      " ...\n",
      " [   2  149 4553 ...    0    0    0]\n",
      " [   2   34   71 ...    0    0    0]\n",
      " [   2  945   34 ...    0    0    0]] <keras_preprocessing.text.Tokenizer object at 0x7fd94483bf50>\n"
     ]
    }
   ],
   "source": [
    "# 토큰화 할 때 텐서플로우의 Tokenizer와 pad_sequences를 사용합니다\n",
    "# 더 잘 알기 위해 아래 문서들을 참고하면 좋습니다\n",
    "# https://www.tensorflow.org/api_docs/python/tf/keras/preprocessing/text/Tokenizer\n",
    "# https://www.tensorflow.org/api_docs/python/tf/keras/preprocessing/sequence/pad_sequences\n",
    "def tokenize(corpus):\n",
    "    # 7000단어를 기억할 수 있는 tokenizer를 만들겁니다\n",
    "    # 우리는 이미 문장을 정제했으니 filters가 필요없어요\n",
    "    # 7000단어에 포함되지 못한 단어는 '<unk>'로 바꿀거에요\n",
    "    tokenizer = tf.keras.preprocessing.text.Tokenizer(\n",
    "        num_words=7000, \n",
    "        filters=' ',\n",
    "        oov_token=\"<unk>\"\n",
    "    )\n",
    "    # corpus를 이용해 tokenizer 내부의 단어장을 완성합니다\n",
    "    tokenizer.fit_on_texts(corpus)\n",
    "    # 준비한 tokenizer를 이용해 corpus를 Tensor로 변환합니다\n",
    "    tensor = tokenizer.texts_to_sequences(corpus)   \n",
    "    # 입력 데이터의 시퀀스 길이를 일정하게 맞춰줍니다\n",
    "    # 만약 시퀀스가 짧다면 문장 뒤에 패딩을 붙여 길이를 맞춰줍니다.\n",
    "    # 문장 앞에 패딩을 붙여 길이를 맞추고 싶다면 padding='pre'를 사용합니다\n",
    "    tensor = tf.keras.preprocessing.sequence.pad_sequences(tensor, padding='post')  \n",
    "    \n",
    "    print(tensor,tokenizer)\n",
    "    return tensor, tokenizer\n",
    "\n",
    "tensor, tokenizer = tokenize(corpus)"
   ]
  },
  {
   "cell_type": "code",
   "execution_count": 6,
   "id": "spread-taylor",
   "metadata": {},
   "outputs": [
    {
     "name": "stdout",
     "output_type": "stream",
     "text": [
      "[[   2  143   40  933  140  591    4  124   24  110]\n",
      " [   2  110    4  110    5    3    0    0    0    0]\n",
      " [   2   11   50   43 1201  316    9  201   74    9]]\n"
     ]
    }
   ],
   "source": [
    "print(tensor[:3, :10])"
   ]
  },
  {
   "cell_type": "code",
   "execution_count": 7,
   "id": "perfect-amateur",
   "metadata": {},
   "outputs": [
    {
     "name": "stdout",
     "output_type": "stream",
     "text": [
      "1 : <unk>\n",
      "2 : <start>\n",
      "3 : <end>\n",
      "4 : ,\n",
      "5 : .\n",
      "6 : the\n",
      "7 : and\n",
      "8 : i\n",
      "9 : to\n",
      "10 : of\n"
     ]
    }
   ],
   "source": [
    "for idx in tokenizer.index_word:\n",
    "    print(idx, \":\", tokenizer.index_word[idx])\n",
    "\n",
    "    if idx >= 10: break"
   ]
  },
  {
   "cell_type": "code",
   "execution_count": 8,
   "id": "cardiovascular-layer",
   "metadata": {},
   "outputs": [
    {
     "name": "stdout",
     "output_type": "stream",
     "text": [
      "[  2 143  40 933 140 591   4 124  24 110   5   3   0   0   0   0   0   0\n",
      "   0   0]\n",
      "[143  40 933 140 591   4 124  24 110   5   3   0   0   0   0   0   0   0\n",
      "   0   0]\n"
     ]
    }
   ],
   "source": [
    "# tensor에서 마지막 토큰을 잘라내서 소스 문장을 생성합니다\n",
    "# 마지막 토큰은 <end>가 아니라 <pad>일 가능성이 높습니다.\n",
    "src_input = tensor[:, :-1]  \n",
    "# tensor에서 <start>를 잘라내서 타겟 문장을 생성합니다.\n",
    "tgt_input = tensor[:, 1:]    \n",
    "\n",
    "print(src_input[0])\n",
    "print(tgt_input[0])"
   ]
  },
  {
   "cell_type": "code",
   "execution_count": 9,
   "id": "solar-extraction",
   "metadata": {},
   "outputs": [
    {
     "name": "stdout",
     "output_type": "stream",
     "text": [
      "[  2 143  40 933 140 591   4 124  24 110   5   3   0   0   0   0   0   0\n",
      "   0   0]\n",
      "[143  40 933 140 591   4 124  24 110   5   3   0   0   0   0   0   0   0\n",
      "   0   0]\n"
     ]
    }
   ],
   "source": [
    "# tensor에서 마지막 토큰을 잘라내서 소스 문장을 생성합니다\n",
    "# 마지막 토큰은 <end>가 아니라 <pad>일 가능성이 높습니다.\n",
    "src_input = tensor[:, :-1]  \n",
    "# tensor에서 <start>를 잘라내서 타겟 문장을 생성합니다.\n",
    "tgt_input = tensor[:, 1:]    \n",
    "\n",
    "print(src_input[0])\n",
    "print(tgt_input[0])"
   ]
  },
  {
   "cell_type": "code",
   "execution_count": 10,
   "id": "stunning-peace",
   "metadata": {},
   "outputs": [
    {
     "data": {
      "text/plain": [
       "<BatchDataset shapes: ((256, 20), (256, 20)), types: (tf.int32, tf.int32)>"
      ]
     },
     "execution_count": 10,
     "metadata": {},
     "output_type": "execute_result"
    }
   ],
   "source": [
    "BUFFER_SIZE = len(src_input)\n",
    "BATCH_SIZE = 256\n",
    "steps_per_epoch = len(src_input) // BATCH_SIZE\n",
    "\n",
    " # tokenizer가 구축한 단어사전 내 7000개와, 여기 포함되지 않은 0:<pad>를 포함하여 7001개\n",
    "VOCAB_SIZE = tokenizer.num_words + 1   \n",
    "\n",
    "# 준비한 데이터 소스로부터 데이터셋을 만듭니다\n",
    "# 데이터셋에 대해서는 아래 문서를 참고하세요\n",
    "# 자세히 알아둘수록 도움이 많이 되는 중요한 문서입니다\n",
    "# https://www.tensorflow.org/api_docs/python/tf/data/Dataset\n",
    "dataset = tf.data.Dataset.from_tensor_slices((src_input, tgt_input))\n",
    "dataset = dataset.shuffle(BUFFER_SIZE)\n",
    "dataset = dataset.batch(BATCH_SIZE, drop_remainder=True)\n",
    "dataset"
   ]
  },
  {
   "cell_type": "markdown",
   "id": "social-stockholm",
   "metadata": {},
   "source": [
    "## 모델 학습"
   ]
  },
  {
   "cell_type": "code",
   "execution_count": 11,
   "id": "worth-incentive",
   "metadata": {},
   "outputs": [],
   "source": [
    "class TextGenerator(tf.keras.Model):\n",
    "    def __init__(self, vocab_size, embedding_size, hidden_size):\n",
    "        super().__init__()\n",
    "        \n",
    "        self.embedding = tf.keras.layers.Embedding(vocab_size, embedding_size)\n",
    "        self.rnn_1 = tf.keras.layers.LSTM(hidden_size, return_sequences=True)\n",
    "        self.rnn_2 = tf.keras.layers.LSTM(hidden_size, return_sequences=True)\n",
    "        self.linear = tf.keras.layers.Dense(vocab_size)\n",
    "        \n",
    "    def call(self, x):\n",
    "        out = self.embedding(x)\n",
    "        out = self.rnn_1(out)\n",
    "        out = self.rnn_2(out)\n",
    "        out = self.linear(out)\n",
    "        \n",
    "        return out\n",
    "    \n",
    "embedding_size = 256\n",
    "hidden_size = 1024\n",
    "model = TextGenerator(tokenizer.num_words + 1, embedding_size , hidden_size)"
   ]
  },
  {
   "cell_type": "code",
   "execution_count": 12,
   "id": "supported-allocation",
   "metadata": {},
   "outputs": [
    {
     "data": {
      "text/plain": [
       "<tf.Tensor: shape=(256, 20, 7001), dtype=float32, numpy=\n",
       "array([[[ 7.60706607e-05,  1.31822817e-04,  1.80920862e-04, ...,\n",
       "          5.12210463e-05,  7.81404306e-05, -1.80471048e-04],\n",
       "        [ 8.87055794e-05,  2.87898991e-04,  3.92272079e-04, ...,\n",
       "         -4.52388340e-05,  2.37951215e-04, -6.85741834e-05],\n",
       "        [-6.73289105e-06,  4.56591282e-04,  3.23627028e-04, ...,\n",
       "         -3.73421819e-04,  4.51848347e-04,  3.20716819e-04],\n",
       "        ...,\n",
       "        [ 6.92320697e-04,  1.99835910e-03, -2.75316322e-03, ...,\n",
       "          3.16253536e-05, -7.69740669e-04, -1.37781363e-03],\n",
       "        [ 8.55792605e-04,  2.35844892e-03, -3.01965093e-03, ...,\n",
       "         -2.99060575e-05, -9.95757757e-04, -1.86219229e-03],\n",
       "        [ 1.01342960e-03,  2.69830110e-03, -3.24622612e-03, ...,\n",
       "         -8.40597277e-05, -1.17036165e-03, -2.32654950e-03]],\n",
       "\n",
       "       [[ 7.60706607e-05,  1.31822817e-04,  1.80920862e-04, ...,\n",
       "          5.12210463e-05,  7.81404306e-05, -1.80471048e-04],\n",
       "        [ 1.39301206e-04,  2.11777049e-04,  2.45489966e-04, ...,\n",
       "         -1.30780871e-04,  8.53205638e-05, -2.94322759e-04],\n",
       "        [ 5.36316184e-05,  3.34115728e-04,  1.32163856e-04, ...,\n",
       "         -4.77748021e-04,  2.21590759e-04,  2.34784511e-06],\n",
       "        ...,\n",
       "        [ 1.63485960e-03,  3.24070454e-03, -2.23582075e-03, ...,\n",
       "          1.40003554e-04, -5.76717954e-04, -2.03292584e-03],\n",
       "        [ 1.74411037e-03,  3.50526045e-03, -2.67237541e-03, ...,\n",
       "          1.58781375e-04, -8.08290497e-04, -2.53105490e-03],\n",
       "        [ 1.84002798e-03,  3.73567804e-03, -3.02825682e-03, ...,\n",
       "          1.64760306e-04, -9.94848320e-04, -2.97611789e-03]],\n",
       "\n",
       "       [[ 7.60706607e-05,  1.31822817e-04,  1.80920862e-04, ...,\n",
       "          5.12210463e-05,  7.81404306e-05, -1.80471048e-04],\n",
       "        [-2.05545351e-04,  2.43081362e-04,  1.71597756e-04, ...,\n",
       "          1.32865665e-04,  2.43501258e-04, -4.85500408e-04],\n",
       "        [-3.37857782e-04,  4.89054190e-04, -1.30246204e-04, ...,\n",
       "          1.58177980e-04,  4.74813918e-04, -8.21017951e-04],\n",
       "        ...,\n",
       "        [ 1.38389121e-03,  2.07019434e-03, -3.92248482e-03, ...,\n",
       "         -4.30582964e-04, -9.28102003e-04, -3.03073507e-03],\n",
       "        [ 1.50188385e-03,  2.48869299e-03, -4.06132732e-03, ...,\n",
       "         -4.11826855e-04, -1.05023501e-03, -3.35139385e-03],\n",
       "        [ 1.61102763e-03,  2.85930489e-03, -4.16695466e-03, ...,\n",
       "         -3.91974667e-04, -1.13858480e-03, -3.63820349e-03]],\n",
       "\n",
       "       ...,\n",
       "\n",
       "       [[ 7.60706607e-05,  1.31822817e-04,  1.80920862e-04, ...,\n",
       "          5.12210463e-05,  7.81404306e-05, -1.80471048e-04],\n",
       "        [ 4.18126583e-05,  1.28272732e-04,  1.53599627e-04, ...,\n",
       "         -1.70757223e-04,  9.14453631e-05, -8.82893000e-05],\n",
       "        [ 2.16727043e-04,  4.01391095e-04,  1.93655185e-04, ...,\n",
       "         -3.50648043e-04,  1.82107004e-04,  5.50016179e-04],\n",
       "        ...,\n",
       "        [ 2.00973381e-03,  2.45497981e-03, -3.21452226e-03, ...,\n",
       "         -2.13910243e-04, -9.21371044e-04, -2.03669071e-03],\n",
       "        [ 2.05456372e-03,  2.81475927e-03, -3.42028076e-03, ...,\n",
       "         -2.20234608e-04, -1.02571829e-03, -2.50006095e-03],\n",
       "        [ 2.09271372e-03,  3.13255307e-03, -3.59438150e-03, ...,\n",
       "         -2.25349053e-04, -1.09537214e-03, -2.91401730e-03]],\n",
       "\n",
       "       [[ 7.60706607e-05,  1.31822817e-04,  1.80920862e-04, ...,\n",
       "          5.12210463e-05,  7.81404306e-05, -1.80471048e-04],\n",
       "        [-9.20602251e-05,  2.88505631e-04,  1.29933309e-04, ...,\n",
       "         -3.18534512e-06,  1.86146135e-05, -2.81081564e-04],\n",
       "        [-1.86430349e-04,  4.08801454e-04,  1.17762556e-05, ...,\n",
       "          2.25579322e-04, -2.29005964e-04, -3.90259345e-04],\n",
       "        ...,\n",
       "        [ 1.93236966e-03,  2.60702032e-03, -3.35379830e-03, ...,\n",
       "         -9.93183232e-04, -8.45120347e-04, -2.58723134e-03],\n",
       "        [ 2.01994600e-03,  2.90225167e-03, -3.58341238e-03, ...,\n",
       "         -8.62809189e-04, -1.02319755e-03, -3.01304436e-03],\n",
       "        [ 2.08474905e-03,  3.17604328e-03, -3.76786594e-03, ...,\n",
       "         -7.42539822e-04, -1.15770590e-03, -3.39088473e-03]],\n",
       "\n",
       "       [[ 7.60706607e-05,  1.31822817e-04,  1.80920862e-04, ...,\n",
       "          5.12210463e-05,  7.81404306e-05, -1.80471048e-04],\n",
       "        [ 2.18421425e-04, -1.64962519e-04,  2.20300586e-04, ...,\n",
       "          3.22203632e-05,  1.75336201e-04, -1.13260954e-04],\n",
       "        [ 2.57752981e-04, -1.79961877e-04,  1.85476572e-04, ...,\n",
       "          3.41135223e-04,  3.23020475e-04,  2.69716402e-04],\n",
       "        ...,\n",
       "        [ 1.98110053e-03,  3.09174671e-03, -3.50595010e-03, ...,\n",
       "          2.46527925e-04, -1.65811391e-03, -2.91632954e-03],\n",
       "        [ 2.03864300e-03,  3.36322025e-03, -3.68348137e-03, ...,\n",
       "          1.46052218e-04, -1.62976363e-03, -3.25235701e-03],\n",
       "        [ 2.08741403e-03,  3.59547464e-03, -3.83120379e-03, ...,\n",
       "          6.06795802e-05, -1.58129039e-03, -3.54650128e-03]]],\n",
       "      dtype=float32)>"
      ]
     },
     "execution_count": 12,
     "metadata": {},
     "output_type": "execute_result"
    }
   ],
   "source": [
    "# 데이터셋에서 데이터 한 배치만 불러오는 방법입니다.\n",
    "# 지금은 동작 원리에 너무 빠져들지 마세요~\n",
    "for src_sample, tgt_sample in dataset.take(1): break\n",
    "\n",
    "# 한 배치만 불러온 데이터를 모델에 넣어봅니다\n",
    "model(src_sample)"
   ]
  },
  {
   "cell_type": "code",
   "execution_count": 13,
   "id": "rough-coalition",
   "metadata": {},
   "outputs": [
    {
     "name": "stdout",
     "output_type": "stream",
     "text": [
      "Model: \"text_generator\"\n",
      "_________________________________________________________________\n",
      "Layer (type)                 Output Shape              Param #   \n",
      "=================================================================\n",
      "embedding (Embedding)        multiple                  1792256   \n",
      "_________________________________________________________________\n",
      "lstm (LSTM)                  multiple                  5246976   \n",
      "_________________________________________________________________\n",
      "lstm_1 (LSTM)                multiple                  8392704   \n",
      "_________________________________________________________________\n",
      "dense (Dense)                multiple                  7176025   \n",
      "=================================================================\n",
      "Total params: 22,607,961\n",
      "Trainable params: 22,607,961\n",
      "Non-trainable params: 0\n",
      "_________________________________________________________________\n"
     ]
    }
   ],
   "source": [
    "model.summary()"
   ]
  },
  {
   "cell_type": "code",
   "execution_count": 14,
   "id": "fifth-customer",
   "metadata": {},
   "outputs": [
    {
     "name": "stdout",
     "output_type": "stream",
     "text": [
      "Epoch 1/30\n",
      "93/93 [==============================] - 38s 384ms/step - loss: 4.3799\n",
      "Epoch 2/30\n",
      "93/93 [==============================] - 36s 385ms/step - loss: 2.8039\n",
      "Epoch 3/30\n",
      "93/93 [==============================] - 36s 385ms/step - loss: 2.7114\n",
      "Epoch 4/30\n",
      "93/93 [==============================] - 36s 386ms/step - loss: 2.6127\n",
      "Epoch 5/30\n",
      "93/93 [==============================] - 36s 388ms/step - loss: 2.5321\n",
      "Epoch 6/30\n",
      "93/93 [==============================] - 36s 389ms/step - loss: 2.4824\n",
      "Epoch 7/30\n",
      "93/93 [==============================] - 36s 391ms/step - loss: 2.4280\n",
      "Epoch 8/30\n",
      "93/93 [==============================] - 37s 392ms/step - loss: 2.3641\n",
      "Epoch 9/30\n",
      "93/93 [==============================] - 37s 392ms/step - loss: 2.3187\n",
      "Epoch 10/30\n",
      "93/93 [==============================] - 37s 392ms/step - loss: 2.2652\n",
      "Epoch 11/30\n",
      "93/93 [==============================] - 37s 392ms/step - loss: 2.2254\n",
      "Epoch 12/30\n",
      "93/93 [==============================] - 36s 392ms/step - loss: 2.1767\n",
      "Epoch 13/30\n",
      "93/93 [==============================] - 36s 391ms/step - loss: 2.1304\n",
      "Epoch 14/30\n",
      "93/93 [==============================] - 36s 392ms/step - loss: 2.0918\n",
      "Epoch 15/30\n",
      "93/93 [==============================] - 36s 391ms/step - loss: 2.0445\n",
      "Epoch 16/30\n",
      "93/93 [==============================] - 36s 392ms/step - loss: 2.0003\n",
      "Epoch 17/30\n",
      "93/93 [==============================] - 37s 392ms/step - loss: 1.9462\n",
      "Epoch 18/30\n",
      "93/93 [==============================] - 36s 392ms/step - loss: 1.9061\n",
      "Epoch 19/30\n",
      "93/93 [==============================] - 37s 393ms/step - loss: 1.8670\n",
      "Epoch 20/30\n",
      "93/93 [==============================] - 36s 392ms/step - loss: 1.8143\n",
      "Epoch 21/30\n",
      "93/93 [==============================] - 36s 392ms/step - loss: 1.7653\n",
      "Epoch 22/30\n",
      "93/93 [==============================] - 36s 392ms/step - loss: 1.7219\n",
      "Epoch 23/30\n",
      "93/93 [==============================] - 36s 391ms/step - loss: 1.6715\n",
      "Epoch 24/30\n",
      "93/93 [==============================] - 36s 391ms/step - loss: 1.6214\n",
      "Epoch 25/30\n",
      "93/93 [==============================] - 36s 391ms/step - loss: 1.5750\n",
      "Epoch 26/30\n",
      "93/93 [==============================] - 36s 391ms/step - loss: 1.5278\n",
      "Epoch 27/30\n",
      "93/93 [==============================] - 36s 390ms/step - loss: 1.4738\n",
      "Epoch 28/30\n",
      "93/93 [==============================] - 36s 392ms/step - loss: 1.4215\n",
      "Epoch 29/30\n",
      "93/93 [==============================] - 36s 390ms/step - loss: 1.3702\n",
      "Epoch 30/30\n",
      "93/93 [==============================] - 36s 390ms/step - loss: 1.3209\n"
     ]
    },
    {
     "data": {
      "text/plain": [
       "<tensorflow.python.keras.callbacks.History at 0x7fd9f99d77d0>"
      ]
     },
     "execution_count": 14,
     "metadata": {},
     "output_type": "execute_result"
    }
   ],
   "source": [
    "# optimizer와 loss등은 차차 배웁니다\n",
    "# 혹시 미리 알고 싶다면 아래 문서를 참고하세요\n",
    "# https://www.tensorflow.org/api_docs/python/tf/keras/optimizers\n",
    "# https://www.tensorflow.org/api_docs/python/tf/keras/losses\n",
    "# 양이 상당히 많은 편이니 지금 보는 것은 추천하지 않습니다\n",
    "optimizer = tf.keras.optimizers.Adam()\n",
    "loss = tf.keras.losses.SparseCategoricalCrossentropy(\n",
    "    from_logits=True,\n",
    "    reduction='none'\n",
    ")\n",
    "\n",
    "model.compile(loss=loss, optimizer=optimizer)\n",
    "model.fit(dataset, epochs=30)"
   ]
  },
  {
   "cell_type": "code",
   "execution_count": 15,
   "id": "inner-destruction",
   "metadata": {},
   "outputs": [],
   "source": [
    "def generate_text(model, tokenizer, init_sentence=\"<start>\", max_len=20):\n",
    "    # 테스트를 위해서 입력받은 init_sentence도 텐서로 변환합니다\n",
    "    test_input = tokenizer.texts_to_sequences([init_sentence])\n",
    "    test_tensor = tf.convert_to_tensor(test_input, dtype=tf.int64)\n",
    "    end_token = tokenizer.word_index[\"<end>\"]\n",
    "\n",
    "    # 단어 하나씩 예측해 문장을 만듭니다\n",
    "    #    1. 입력받은 문장의 텐서를 입력합니다\n",
    "    #    2. 예측된 값 중 가장 높은 확률인 word index를 뽑아냅니다\n",
    "    #    3. 2에서 예측된 word index를 문장 뒤에 붙입니다\n",
    "    #    4. 모델이 <end>를 예측했거나, max_len에 도달했다면 문장 생성을 마칩니다\n",
    "    while True:\n",
    "        # 1\n",
    "        predict = model(test_tensor) \n",
    "        # 2\n",
    "        predict_word = tf.argmax(tf.nn.softmax(predict, axis=-1), axis=-1)[:, -1] \n",
    "        # 3 \n",
    "        test_tensor = tf.concat([test_tensor, tf.expand_dims(predict_word, axis=0)], axis=-1)\n",
    "        # 4\n",
    "        if predict_word.numpy()[0] == end_token: break\n",
    "        if test_tensor.shape[1] >= max_len: break\n",
    "\n",
    "    generated = \"\"\n",
    "    # tokenizer를 이용해 word index를 단어로 하나씩 변환합니다 \n",
    "    for word_index in test_tensor[0].numpy():\n",
    "        generated += tokenizer.index_word[word_index] + \" \"\n",
    "\n",
    "    return generated"
   ]
  },
  {
   "cell_type": "code",
   "execution_count": 16,
   "id": "judicial-married",
   "metadata": {},
   "outputs": [
    {
     "data": {
      "text/plain": [
       "'<start> he is the fairies midwife , and she <end> '"
      ]
     },
     "execution_count": 16,
     "metadata": {},
     "output_type": "execute_result"
    }
   ],
   "source": [
    "generate_text(model, tokenizer, init_sentence=\"<start> he\")"
   ]
  },
  {
   "cell_type": "code",
   "execution_count": 24,
   "id": "sensitive-approval",
   "metadata": {},
   "outputs": [
    {
     "data": {
      "text/plain": [
       "'<start> i ll tell you what you shall arraign to make <end> '"
      ]
     },
     "execution_count": 24,
     "metadata": {},
     "output_type": "execute_result"
    }
   ],
   "source": [
    "generate_text(model, tokenizer, init_sentence=\"<start> i\")"
   ]
  },
  {
   "cell_type": "code",
   "execution_count": 20,
   "id": "welcome-script",
   "metadata": {},
   "outputs": [
    {
     "data": {
      "text/plain": [
       "'<start> she is not fourteen . <end> '"
      ]
     },
     "execution_count": 20,
     "metadata": {},
     "output_type": "execute_result"
    }
   ],
   "source": [
    "generate_text(model, tokenizer, init_sentence=\"<start> she\")"
   ]
  },
  {
   "cell_type": "code",
   "execution_count": 23,
   "id": "protective-mailman",
   "metadata": {},
   "outputs": [
    {
     "data": {
      "text/plain": [
       "'<start> if you do sweat and <unk> of our hands , <end> '"
      ]
     },
     "execution_count": 23,
     "metadata": {},
     "output_type": "execute_result"
    }
   ],
   "source": [
    "generate_text(model, tokenizer, init_sentence=\"<start> If\")"
   ]
  },
  {
   "cell_type": "code",
   "execution_count": null,
   "id": "executive-midnight",
   "metadata": {},
   "outputs": [],
   "source": []
  }
 ],
 "metadata": {
  "kernelspec": {
   "display_name": "Python 3",
   "language": "python",
   "name": "python3"
  },
  "language_info": {
   "codemirror_mode": {
    "name": "ipython",
    "version": 3
   },
   "file_extension": ".py",
   "mimetype": "text/x-python",
   "name": "python",
   "nbconvert_exporter": "python",
   "pygments_lexer": "ipython3",
   "version": "3.7.9"
  }
 },
 "nbformat": 4,
 "nbformat_minor": 5
}
