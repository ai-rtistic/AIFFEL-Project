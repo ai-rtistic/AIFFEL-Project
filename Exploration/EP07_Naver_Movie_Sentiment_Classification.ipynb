{
 "cells": [
  {
   "cell_type": "markdown",
   "id": "exempt-advocate",
   "metadata": {},
   "source": [
    "# 미니 프로젝트 : 네이버 영화리뷰 감성분석\n",
    "\n",
    "네이버 영화의 댓글을 모아 구성된 [Naver sentiment movie corpus](https://github.com/e9t/nsmc) 데이터 셋을 활용하여 한국어 텍스트의 감정분석을 진행해보자."
   ]
  },
  {
   "cell_type": "markdown",
   "id": "positive-affairs",
   "metadata": {},
   "source": [
    "## 1. 데이터 준비 및 확인"
   ]
  },
  {
   "cell_type": "code",
   "execution_count": 1,
   "id": "guided-thesis",
   "metadata": {
    "scrolled": true
   },
   "outputs": [
    {
     "data": {
      "text/html": [
       "<div>\n",
       "<style scoped>\n",
       "    .dataframe tbody tr th:only-of-type {\n",
       "        vertical-align: middle;\n",
       "    }\n",
       "\n",
       "    .dataframe tbody tr th {\n",
       "        vertical-align: top;\n",
       "    }\n",
       "\n",
       "    .dataframe thead th {\n",
       "        text-align: right;\n",
       "    }\n",
       "</style>\n",
       "<table border=\"1\" class=\"dataframe\">\n",
       "  <thead>\n",
       "    <tr style=\"text-align: right;\">\n",
       "      <th></th>\n",
       "      <th>id</th>\n",
       "      <th>document</th>\n",
       "      <th>label</th>\n",
       "    </tr>\n",
       "  </thead>\n",
       "  <tbody>\n",
       "    <tr>\n",
       "      <th>0</th>\n",
       "      <td>9976970</td>\n",
       "      <td>아 더빙.. 진짜 짜증나네요 목소리</td>\n",
       "      <td>0</td>\n",
       "    </tr>\n",
       "    <tr>\n",
       "      <th>1</th>\n",
       "      <td>3819312</td>\n",
       "      <td>흠...포스터보고 초딩영화줄....오버연기조차 가볍지 않구나</td>\n",
       "      <td>1</td>\n",
       "    </tr>\n",
       "    <tr>\n",
       "      <th>2</th>\n",
       "      <td>10265843</td>\n",
       "      <td>너무재밓었다그래서보는것을추천한다</td>\n",
       "      <td>0</td>\n",
       "    </tr>\n",
       "    <tr>\n",
       "      <th>3</th>\n",
       "      <td>9045019</td>\n",
       "      <td>교도소 이야기구먼 ..솔직히 재미는 없다..평점 조정</td>\n",
       "      <td>0</td>\n",
       "    </tr>\n",
       "    <tr>\n",
       "      <th>4</th>\n",
       "      <td>6483659</td>\n",
       "      <td>사이몬페그의 익살스런 연기가 돋보였던 영화!스파이더맨에서 늙어보이기만 했던 커스틴 ...</td>\n",
       "      <td>1</td>\n",
       "    </tr>\n",
       "  </tbody>\n",
       "</table>\n",
       "</div>"
      ],
      "text/plain": [
       "         id                                           document  label\n",
       "0   9976970                                아 더빙.. 진짜 짜증나네요 목소리      0\n",
       "1   3819312                  흠...포스터보고 초딩영화줄....오버연기조차 가볍지 않구나      1\n",
       "2  10265843                                  너무재밓었다그래서보는것을추천한다      0\n",
       "3   9045019                      교도소 이야기구먼 ..솔직히 재미는 없다..평점 조정      0\n",
       "4   6483659  사이몬페그의 익살스런 연기가 돋보였던 영화!스파이더맨에서 늙어보이기만 했던 커스틴 ...      1"
      ]
     },
     "execution_count": 1,
     "metadata": {},
     "output_type": "execute_result"
    }
   ],
   "source": [
    "import pandas as pd\n",
    "import urllib.request\n",
    "%matplotlib inline\n",
    "import matplotlib.pyplot as plt\n",
    "import re\n",
    "from konlpy.tag import Okt\n",
    "from tensorflow import keras\n",
    "from tensorflow.keras.preprocessing.text import Tokenizer\n",
    "import numpy as np\n",
    "from tensorflow.keras.preprocessing.sequence import pad_sequences\n",
    "from collections import Counter\n",
    "\n",
    "\n",
    "# 데이터 파일 읽기\n",
    "train_data = pd.read_table('~/aiffel/sentiment_classification/data/ratings_train.txt')\n",
    "test_data = pd.read_table('~/aiffel/sentiment_classification/data/ratings_test.txt')\n",
    "\n",
    "train_data.head()"
   ]
  },
  {
   "cell_type": "markdown",
   "id": "vanilla-profile",
   "metadata": {},
   "source": [
    "## 2. 데이터로더 구성\n",
    "\n",
    "다음의 기능을 수행하는 함수 `data_loader` 을 정의한다.\n",
    "- 데이터의 중복 제거\n",
    "- NaN 결측치 제거\n",
    "- 한국어 토크나이저로 토큰화\n",
    "- 불용어(Stopwords) 제거\n",
    "- 사전word_to_index 구성\n",
    "- 텍스트 스트링을 사전 인덱스 스트링으로 변환\n",
    "- `X_train`, `y_train`, `X_test`, `y_test`, `word_to_index` 리턴"
   ]
  },
  {
   "cell_type": "code",
   "execution_count": 2,
   "id": "suitable-rochester",
   "metadata": {},
   "outputs": [],
   "source": [
    "from konlpy.tag import Mecab\n",
    "tokenizer = Mecab()\n",
    "stopwords = ['의','가','이','은','들','는','좀','잘','걍','과','도','를','으로','자','에','와','한','하다']\n",
    "\n",
    "def load_data(train_data, test_data, num_words=10000):\n",
    "    train_data.drop_duplicates(subset=['document'], inplace=True)  # 중복 제거\n",
    "    train_data = train_data.dropna(how = 'any') \n",
    "    test_data.drop_duplicates(subset=['document'], inplace=True)   # 중복 제거\n",
    "    test_data = test_data.dropna(how = 'any') \n",
    "    \n",
    "    X_train = []\n",
    "    for sentence in train_data['document']:\n",
    "        temp_X = tokenizer.morphs(sentence) # 토큰화\n",
    "        temp_X = [word for word in temp_X if not word in stopwords] # 불용어 제거\n",
    "        X_train.append(temp_X)\n",
    "\n",
    "    X_test = []\n",
    "    for sentence in test_data['document']:\n",
    "        temp_X = tokenizer.morphs(sentence) # 토큰화\n",
    "        temp_X = [word for word in temp_X if not word in stopwords] # 불용어 제거\n",
    "        X_test.append(temp_X)\n",
    "    \n",
    "    words = np.concatenate(X_train).tolist()\n",
    "    counter = Counter(words)\n",
    "    counter = counter.most_common(10000-4)\n",
    "    vocab = ['<PAD>', '<BOS>', '<UNK>', '<UNUSED>'] + [key for key, _ in counter]\n",
    "    word_to_index = {word:index for index, word in enumerate(vocab)}    # {단어:숫자} 딕셔너리 생성\n",
    "        \n",
    "    def wordlist_to_indexlist(wordlist):\n",
    "        return [word_to_index[word] if word in word_to_index else word_to_index['<UNK>'] for word in wordlist]\n",
    "        \n",
    "    X_train = list(map(wordlist_to_indexlist, X_train))\n",
    "    X_test = list(map(wordlist_to_indexlist, X_test))\n",
    "        \n",
    "    return X_train, np.array(list(train_data['label'])), X_test, np.array(list(test_data['label'])), word_to_index"
   ]
  },
  {
   "cell_type": "code",
   "execution_count": 3,
   "id": "comparative-narrative",
   "metadata": {},
   "outputs": [
    {
     "name": "stdout",
     "output_type": "stream",
     "text": [
      "train data 개수: 146182, test data 개수: 49157\n"
     ]
    }
   ],
   "source": [
    "X_train, y_train, X_test, y_test, word_to_index = load_data(train_data, test_data) \n",
    "print(f'train data 개수: {len(X_train)}, test data 개수: {len(X_test)}')"
   ]
  },
  {
   "cell_type": "markdown",
   "id": "greater-marble",
   "metadata": {},
   "source": [
    "{숫자:단어} 의 딕셔너리 `index_to_word` 생성한다."
   ]
  },
  {
   "cell_type": "code",
   "execution_count": 4,
   "id": "intermediate-intervention",
   "metadata": {},
   "outputs": [],
   "source": [
    "index_to_word = {index:word for word, index in word_to_index.items()}"
   ]
  },
  {
   "cell_type": "markdown",
   "id": "photographic-latex",
   "metadata": {},
   "source": [
    "다음의 기능을 수행하는 함수들을 정의한다.\n",
    "- `get_encoded_sentence` : 문장 1개를 활용할 딕셔너리와 함께 주면, 단어 인덱스 리스트 벡터로 변환해 주는 함수\n",
    "- `get_encoded_sentences` : 여러 개의 문장 리스트를 한꺼번에 단어 인덱스 리스트 벡터로 encode해 주는 함수\n",
    "- `get_decoded_sentence` : 숫자 벡터로 encode된 문장을 원래대로 decode하는 함수\n",
    "- `get_decoded_sentences` : 여러 개의 숫자 벡터로 encode된 문장을 한꺼번에 원래대로 decode하는 함수"
   ]
  },
  {
   "cell_type": "code",
   "execution_count": 5,
   "id": "annual-appliance",
   "metadata": {},
   "outputs": [],
   "source": [
    "# 문장 1개를 활용할 딕셔너리와 함께 주면, 단어 인덱스 리스트 벡터로 변환해 주는 함수\n",
    "# 단, 모든 문장은 <BOS>로 시작\n",
    "def get_encoded_sentence(sentence, word_to_index):\n",
    "    return [word_to_index['<BOS>']]+[word_to_index[word] if word in word_to_index else word_to_index['<UNK>'] for word in sentence.split()]\n",
    "\n",
    "# 여러 개의 문장 리스트를 한꺼번에 단어 인덱스 리스트 벡터로 encode해 주는 함수\n",
    "def get_encoded_sentences(sentences, word_to_index):\n",
    "    return [get_encoded_sentence(sentence, word_to_index) for sentence in sentences]\n",
    "\n",
    "# 숫자 벡터로 encode된 문장을 원래대로 decode하는 함수\n",
    "def get_decoded_sentence(encoded_sentence, index_to_word):\n",
    "    return ' '.join(index_to_word[index] if index in index_to_word else '<UNK>' for index in encoded_sentence[1:])  #[1:]를 통해 <BOS>를 제외\n",
    "\n",
    "# 여러 개의 숫자 벡터로 encode된 문장을 한꺼번에 원래대로 decode하는 함수\n",
    "def get_decoded_sentences(encoded_sentences, index_to_word):\n",
    "    return [get_decoded_sentence(encoded_sentence, index_to_word) for encoded_sentence in encoded_sentences]"
   ]
  },
  {
   "cell_type": "markdown",
   "id": "embedded-palace",
   "metadata": {},
   "source": [
    "encode된 텍스트가 정상적으로 decode되는지 확인해보자."
   ]
  },
  {
   "cell_type": "code",
   "execution_count": 6,
   "id": "living-energy",
   "metadata": {},
   "outputs": [
    {
     "name": "stdout",
     "output_type": "stream",
     "text": [
      "[32, 74, 919, 4, 4, 39, 228, 20, 33, 748]\n",
      "더 빙 . . 진짜 짜증 나 네요 목소리\n",
      "라벨:  0\n"
     ]
    }
   ],
   "source": [
    "print(X_train[0])\n",
    "print(get_decoded_sentence(X_train[0], index_to_word))\n",
    "print('라벨: ', y_train[0])  # 1번째 리뷰데이터의 라벨"
   ]
  },
  {
   "cell_type": "markdown",
   "id": "organizational-nomination",
   "metadata": {},
   "source": [
    "## 3. 모델구성을 위한 데이터 분석 및 가공"
   ]
  },
  {
   "cell_type": "markdown",
   "id": "governmental-wesley",
   "metadata": {},
   "source": [
    "###  적절한 최대 문장 길이 지정\n",
    "\n",
    "문장 최대 길이 maxlen의 값 설정도 전체 모델 성능에 영향을 미치게 된다. 이 길이도 적절한 값을 찾기 위해서는 전체 데이터셋의 분포를 확인해 보는 것이 좋다."
   ]
  },
  {
   "cell_type": "code",
   "execution_count": 7,
   "id": "developing-recovery",
   "metadata": {},
   "outputs": [
    {
     "name": "stdout",
     "output_type": "stream",
     "text": [
      "문장길이 평균 :  15.96940191154864\n",
      "문장길이 최대 :  116\n",
      "문장길이 표준편차 :  12.843571191092\n",
      "pad_sequences maxlen :  41\n",
      "전체 문장의 0.9342988343341575%가 maxlen 설정값 이내에 포함됩니다. \n"
     ]
    }
   ],
   "source": [
    "total_data_text = list(X_train) + list(X_test)\n",
    "# 텍스트데이터 문장길이의 리스트를 생성한 후\n",
    "num_tokens = [len(tokens) for tokens in total_data_text]\n",
    "num_tokens = np.array(num_tokens)\n",
    "# 문장길이의 평균값, 최대값, 표준편차를 계산\n",
    "print('문장길이 평균 : ', np.mean(num_tokens))\n",
    "print('문장길이 최대 : ', np.max(num_tokens))\n",
    "print('문장길이 표준편차 : ', np.std(num_tokens))\n",
    "\n",
    "# 예를들어, 최대 길이를 (평균 + 2*표준편차)로 한다면,  \n",
    "max_tokens = np.mean(num_tokens) + 2 * np.std(num_tokens)\n",
    "maxlen = int(max_tokens)\n",
    "print('pad_sequences maxlen : ', maxlen)\n",
    "print('전체 문장의 {}%가 maxlen 설정값 이내에 포함됩니다. '.format(np.sum(num_tokens < max_tokens) / len(num_tokens)))"
   ]
  },
  {
   "cell_type": "markdown",
   "id": "tight-guest",
   "metadata": {},
   "source": [
    "위에서는 `maxlen`= 41 이 된다."
   ]
  },
  {
   "cell_type": "markdown",
   "id": "fixed-expansion",
   "metadata": {},
   "source": [
    "### padding 적용\n",
    "`keras.preprocessing.sequence.pad_sequences` 을 활용하여 패딩을 추가한다.  \n",
    "\n",
    "이때, padding 방식을 문장 뒤쪽('post')과 앞쪽('pre') 중 어느쪽으로 하느냐에 따라 RNN을 이용한 딥러닝 적용 시 성능 차이가 발생하는 것을 확인하기위해 두 가지 방법 각각 적용하여 진행한다."
   ]
  },
  {
   "cell_type": "code",
   "execution_count": 8,
   "id": "documented-juvenile",
   "metadata": {},
   "outputs": [
    {
     "name": "stdout",
     "output_type": "stream",
     "text": [
      "(146182, 41)\n"
     ]
    }
   ],
   "source": [
    "X_train_pre = keras.preprocessing.sequence.pad_sequences(X_train,\n",
    "                                                        value=word_to_index[\"<PAD>\"],\n",
    "                                                        padding='pre',\n",
    "                                                        maxlen=maxlen)\n",
    "\n",
    "X_test_pre = keras.preprocessing.sequence.pad_sequences(X_test,\n",
    "                                                       value=word_to_index[\"<PAD>\"],\n",
    "                                                       padding='pre', \n",
    "                                                       maxlen=maxlen)\n",
    "\n",
    "print(X_train_pre.shape)"
   ]
  },
  {
   "cell_type": "code",
   "execution_count": 9,
   "id": "weekly-pledge",
   "metadata": {},
   "outputs": [
    {
     "name": "stdout",
     "output_type": "stream",
     "text": [
      "(146182, 41)\n"
     ]
    }
   ],
   "source": [
    "X_train_post = keras.preprocessing.sequence.pad_sequences(X_train,\n",
    "                                                        value=word_to_index[\"<PAD>\"],\n",
    "                                                        padding='post',\n",
    "                                                        maxlen=maxlen)\n",
    "\n",
    "X_test_post = keras.preprocessing.sequence.pad_sequences(X_test,\n",
    "                                                       value=word_to_index[\"<PAD>\"],\n",
    "                                                       padding='post', \n",
    "                                                       maxlen=maxlen)\n",
    "\n",
    "print(X_train_post.shape)"
   ]
  },
  {
   "cell_type": "code",
   "execution_count": 10,
   "id": "lesbian-palmer",
   "metadata": {},
   "outputs": [
    {
     "name": "stdout",
     "output_type": "stream",
     "text": [
      "[  0   0   0   0   0   0   0   0   0   0   0   0   0   0   0   0   0   0\n",
      "   0   0   0   0   0   0   0   0   0   0   0   0   0  32  74 919   4   4\n",
      "  39 228  20  33 748]\n",
      "<PAD> <PAD> <PAD> <PAD> <PAD> <PAD> <PAD> <PAD> <PAD> <PAD> <PAD> <PAD> <PAD> <PAD> <PAD> <PAD> <PAD> <PAD> <PAD> <PAD> <PAD> <PAD> <PAD> <PAD> <PAD> <PAD> <PAD> <PAD> <PAD> <PAD> 아 더 빙 . . 진짜 짜증 나 네요 목소리\n",
      "라벨:  0\n"
     ]
    }
   ],
   "source": [
    "print(X_train_pre[0])\n",
    "print(get_decoded_sentence(X_train_pre[0], index_to_word))\n",
    "print('라벨: ', y_train[0])  # 1번째 리뷰데이터의 라벨"
   ]
  },
  {
   "cell_type": "code",
   "execution_count": 11,
   "id": "civic-reader",
   "metadata": {
    "scrolled": true
   },
   "outputs": [
    {
     "name": "stdout",
     "output_type": "stream",
     "text": [
      "[ 32  74 919   4   4  39 228  20  33 748   0   0   0   0   0   0   0   0\n",
      "   0   0   0   0   0   0   0   0   0   0   0   0   0   0   0   0   0   0\n",
      "   0   0   0   0   0]\n",
      "더 빙 . . 진짜 짜증 나 네요 목소리 <PAD> <PAD> <PAD> <PAD> <PAD> <PAD> <PAD> <PAD> <PAD> <PAD> <PAD> <PAD> <PAD> <PAD> <PAD> <PAD> <PAD> <PAD> <PAD> <PAD> <PAD> <PAD> <PAD> <PAD> <PAD> <PAD> <PAD> <PAD> <PAD> <PAD> <PAD>\n",
      "라벨:  0\n"
     ]
    }
   ],
   "source": [
    "print(X_train_post[0])\n",
    "print(get_decoded_sentence(X_train_post[0], index_to_word))\n",
    "print('라벨: ', y_train[0])  # 1번째 리뷰데이터의 라벨"
   ]
  },
  {
   "cell_type": "markdown",
   "id": "wireless-procurement",
   "metadata": {},
   "source": [
    "앞과 뒤에 각각 패딩이 적용된 것을 확인 할 수 있다. "
   ]
  },
  {
   "cell_type": "markdown",
   "id": "dried-nicaragua",
   "metadata": {},
   "source": [
    "## 4. 모델구성 및 validation set 구성\n",
    "### validation set 분리\n",
    "146182 개의 train set 중에 45000개를 validation set 으로 사용한다."
   ]
  },
  {
   "cell_type": "code",
   "execution_count": 12,
   "id": "competitive-sarah",
   "metadata": {},
   "outputs": [
    {
     "name": "stdout",
     "output_type": "stream",
     "text": [
      "(45000, 41)\n",
      "(45000, 41)\n",
      "(45000,)\n",
      "(101182, 41)\n",
      "(101182, 41)\n",
      "(101182,)\n"
     ]
    }
   ],
   "source": [
    "# validation set 10000건 분리\n",
    "X_val_pre = X_train_pre[:45000]    # pre 패딩된 train set 분리\n",
    "X_val_post = X_train_post[:45000]  # post 패딩된 train set 분리\n",
    "y_val = y_train[:45000]\n",
    "\n",
    "# validation set을 제외한 나머지\n",
    "partial_X_train_pre = X_train_pre[45000:]\n",
    "partial_X_train_post = X_train_post[45000:]\n",
    "partial_y_train = y_train[45000:]\n",
    "\n",
    "\n",
    "# validation set 갯수\n",
    "print(X_val_pre.shape)\n",
    "print(X_val_post.shape)\n",
    "print(y_val.shape)\n",
    "\n",
    "# 나머지 train set 갯수\n",
    "print(partial_X_train_pre.shape)\n",
    "print(partial_X_train_post.shape)\n",
    "print(partial_y_train.shape)"
   ]
  },
  {
   "cell_type": "markdown",
   "id": "earned-salvation",
   "metadata": {},
   "source": [
    "### 모델 생성\n",
    "\n",
    "텍스트 데이터를 다루는 다양한 모델을 구성해보자. 이때, padding을 앞에 적용한 데이터와 뒤에 적용한 데이터의 모델 훈련 및 성능 차이를 보기 위해 각각의 모델을 생성한다.\n",
    "- __Recurrent Neural Network(RNN)__\n",
    "- __1-D Convolution Neural Network(1-D CNN)__\n",
    "- __GlobalMaxPooling1D() 레이어__"
   ]
  },
  {
   "cell_type": "markdown",
   "id": "based-rugby",
   "metadata": {},
   "source": [
    "### Recurrent Neural Network(RNN)"
   ]
  },
  {
   "cell_type": "code",
   "execution_count": 13,
   "id": "accompanied-cricket",
   "metadata": {},
   "outputs": [
    {
     "name": "stdout",
     "output_type": "stream",
     "text": [
      "Model: \"sequential\"\n",
      "_________________________________________________________________\n",
      "Layer (type)                 Output Shape              Param #   \n",
      "=================================================================\n",
      "embedding (Embedding)        (None, None, 16)          160000    \n",
      "_________________________________________________________________\n",
      "lstm (LSTM)                  (None, 8)                 800       \n",
      "_________________________________________________________________\n",
      "dense (Dense)                (None, 8)                 72        \n",
      "_________________________________________________________________\n",
      "dense_1 (Dense)              (None, 1)                 9         \n",
      "=================================================================\n",
      "Total params: 160,881\n",
      "Trainable params: 160,881\n",
      "Non-trainable params: 0\n",
      "_________________________________________________________________\n"
     ]
    }
   ],
   "source": [
    "vocab_size = 10000    # 어휘 사전의 크기(10,000개의 단어)\n",
    "word_vector_dim = 16  # 단어 하나를 표현하는 임베딩 벡터의 차원수 (변경가능)\n",
    "\n",
    "# LSTM 레이어로 모델 설계\n",
    "model_rnn_pre = keras.Sequential()\n",
    "model_rnn_pre.add(keras.layers.Embedding(vocab_size, word_vector_dim, input_shape=(None,)))\n",
    "model_rnn_pre.add(keras.layers.LSTM(8))  # LSTM state 벡터의 차원수 (변경가능)\n",
    "model_rnn_pre.add(keras.layers.Dense(8, activation='relu'))\n",
    "model_rnn_pre.add(keras.layers.Dense(1, activation='sigmoid'))  # 최종 출력은 긍정/부정을 나타내는 1dim\n",
    "\n",
    "model_rnn_pre.summary()"
   ]
  },
  {
   "cell_type": "code",
   "execution_count": 14,
   "id": "roman-blind",
   "metadata": {},
   "outputs": [
    {
     "name": "stdout",
     "output_type": "stream",
     "text": [
      "Model: \"sequential_1\"\n",
      "_________________________________________________________________\n",
      "Layer (type)                 Output Shape              Param #   \n",
      "=================================================================\n",
      "embedding_1 (Embedding)      (None, None, 16)          160000    \n",
      "_________________________________________________________________\n",
      "lstm_1 (LSTM)                (None, 8)                 800       \n",
      "_________________________________________________________________\n",
      "dense_2 (Dense)              (None, 8)                 72        \n",
      "_________________________________________________________________\n",
      "dense_3 (Dense)              (None, 1)                 9         \n",
      "=================================================================\n",
      "Total params: 160,881\n",
      "Trainable params: 160,881\n",
      "Non-trainable params: 0\n",
      "_________________________________________________________________\n"
     ]
    }
   ],
   "source": [
    "vocab_size = 10000    # 어휘 사전의 크기(10,000개의 단어)\n",
    "word_vector_dim = 16  # 단어 하나를 표현하는 임베딩 벡터의 차원수 (변경가능)\n",
    "\n",
    "# LSTM 레이어로 모델 설계\n",
    "model_rnn_post = keras.Sequential()\n",
    "model_rnn_post.add(keras.layers.Embedding(vocab_size, word_vector_dim, input_shape=(None,)))\n",
    "model_rnn_post.add(keras.layers.LSTM(8))  # LSTM state 벡터의 차원수 (변경가능)\n",
    "model_rnn_post.add(keras.layers.Dense(8, activation='relu'))\n",
    "model_rnn_post.add(keras.layers.Dense(1, activation='sigmoid'))  # 최종 출력은 긍정/부정을 나타내는 1dim\n",
    "\n",
    "model_rnn_post.summary()"
   ]
  },
  {
   "cell_type": "markdown",
   "id": "quality-lloyd",
   "metadata": {},
   "source": [
    "### 1-D Convolution Neural Network(1-D CNN)"
   ]
  },
  {
   "cell_type": "code",
   "execution_count": 15,
   "id": "closed-supervision",
   "metadata": {},
   "outputs": [
    {
     "name": "stdout",
     "output_type": "stream",
     "text": [
      "Model: \"sequential_2\"\n",
      "_________________________________________________________________\n",
      "Layer (type)                 Output Shape              Param #   \n",
      "=================================================================\n",
      "embedding_2 (Embedding)      (None, None, 16)          160000    \n",
      "_________________________________________________________________\n",
      "conv1d (Conv1D)              (None, None, 16)          784       \n",
      "_________________________________________________________________\n",
      "max_pooling1d (MaxPooling1D) (None, None, 16)          0         \n",
      "_________________________________________________________________\n",
      "conv1d_1 (Conv1D)            (None, None, 16)          784       \n",
      "_________________________________________________________________\n",
      "global_max_pooling1d (Global (None, 16)                0         \n",
      "_________________________________________________________________\n",
      "dense_4 (Dense)              (None, 8)                 136       \n",
      "_________________________________________________________________\n",
      "dense_5 (Dense)              (None, 1)                 9         \n",
      "=================================================================\n",
      "Total params: 161,713\n",
      "Trainable params: 161,713\n",
      "Non-trainable params: 0\n",
      "_________________________________________________________________\n"
     ]
    }
   ],
   "source": [
    "vocab_size = 10000    # 어휘 사전의 크기(10,000개의 단어)\n",
    "word_vector_dim = 16  # 단어 하나를 표현하는 임베딩 벡터의 차원수 (변경가능)\n",
    "\n",
    "# 1-D CNN 모델 설계\n",
    "model_1dcnn_pre = keras.Sequential()\n",
    "model_1dcnn_pre.add(keras.layers.Embedding(vocab_size, word_vector_dim, input_shape=(None,)))\n",
    "model_1dcnn_pre.add(keras.layers.Conv1D(16, 3, activation='relu'))\n",
    "model_1dcnn_pre.add(keras.layers.MaxPooling1D(5))\n",
    "model_1dcnn_pre.add(keras.layers.Conv1D(16, 3, activation='relu'))\n",
    "model_1dcnn_pre.add(keras.layers.GlobalMaxPooling1D())\n",
    "model_1dcnn_pre.add(keras.layers.Dense(8, activation='relu'))\n",
    "model_1dcnn_pre.add(keras.layers.Dense(1, activation='sigmoid'))  # 최종 출력은 긍정/부정을 나타내는 1dim\n",
    "\n",
    "model_1dcnn_pre.summary()"
   ]
  },
  {
   "cell_type": "code",
   "execution_count": 16,
   "id": "framed-priest",
   "metadata": {},
   "outputs": [
    {
     "name": "stdout",
     "output_type": "stream",
     "text": [
      "Model: \"sequential_3\"\n",
      "_________________________________________________________________\n",
      "Layer (type)                 Output Shape              Param #   \n",
      "=================================================================\n",
      "embedding_3 (Embedding)      (None, None, 16)          160000    \n",
      "_________________________________________________________________\n",
      "conv1d_2 (Conv1D)            (None, None, 16)          784       \n",
      "_________________________________________________________________\n",
      "max_pooling1d_1 (MaxPooling1 (None, None, 16)          0         \n",
      "_________________________________________________________________\n",
      "conv1d_3 (Conv1D)            (None, None, 16)          784       \n",
      "_________________________________________________________________\n",
      "global_max_pooling1d_1 (Glob (None, 16)                0         \n",
      "_________________________________________________________________\n",
      "dense_6 (Dense)              (None, 8)                 136       \n",
      "_________________________________________________________________\n",
      "dense_7 (Dense)              (None, 1)                 9         \n",
      "=================================================================\n",
      "Total params: 161,713\n",
      "Trainable params: 161,713\n",
      "Non-trainable params: 0\n",
      "_________________________________________________________________\n"
     ]
    }
   ],
   "source": [
    "vocab_size = 10000    # 어휘 사전의 크기(10,000개의 단어)\n",
    "word_vector_dim = 16  # 단어 하나를 표현하는 임베딩 벡터의 차원수 (변경가능)\n",
    "\n",
    "# 1-D CNN 모델 설계\n",
    "model_1dcnn_post = keras.Sequential()\n",
    "model_1dcnn_post.add(keras.layers.Embedding(vocab_size, word_vector_dim, input_shape=(None,)))\n",
    "model_1dcnn_post.add(keras.layers.Conv1D(16, 3, activation='relu'))\n",
    "model_1dcnn_post.add(keras.layers.MaxPooling1D(5))\n",
    "model_1dcnn_post.add(keras.layers.Conv1D(16, 3, activation='relu'))\n",
    "model_1dcnn_post.add(keras.layers.GlobalMaxPooling1D())\n",
    "model_1dcnn_post.add(keras.layers.Dense(8, activation='relu'))\n",
    "model_1dcnn_post.add(keras.layers.Dense(1, activation='sigmoid'))  # 최종 출력은 긍정/부정을 나타내는 1dim\n",
    "\n",
    "model_1dcnn_post.summary()"
   ]
  },
  {
   "cell_type": "markdown",
   "id": "floral-maria",
   "metadata": {},
   "source": [
    "### GlobalMaxPooling1D() 레이어"
   ]
  },
  {
   "cell_type": "code",
   "execution_count": 17,
   "id": "occupied-optimization",
   "metadata": {
    "scrolled": true
   },
   "outputs": [
    {
     "name": "stdout",
     "output_type": "stream",
     "text": [
      "Model: \"sequential_4\"\n",
      "_________________________________________________________________\n",
      "Layer (type)                 Output Shape              Param #   \n",
      "=================================================================\n",
      "embedding_4 (Embedding)      (None, None, 16)          160000    \n",
      "_________________________________________________________________\n",
      "global_max_pooling1d_2 (Glob (None, 16)                0         \n",
      "_________________________________________________________________\n",
      "dense_8 (Dense)              (None, 8)                 136       \n",
      "_________________________________________________________________\n",
      "dense_9 (Dense)              (None, 1)                 9         \n",
      "=================================================================\n",
      "Total params: 160,145\n",
      "Trainable params: 160,145\n",
      "Non-trainable params: 0\n",
      "_________________________________________________________________\n"
     ]
    }
   ],
   "source": [
    "vocab_size = 10000    # 어휘 사전의 크기(10,000개의 단어)\n",
    "word_vector_dim = 16  # 단어 하나를 표현하는 임베딩 벡터의 차원수 (변경가능)\n",
    "\n",
    "# GlobalMaxPooling1D() 레이어 하나만 사용하여 모델 설계\n",
    "model_gmp_pre = keras.Sequential()\n",
    "model_gmp_pre.add(keras.layers.Embedding(vocab_size, word_vector_dim, input_shape=(None,)))\n",
    "model_gmp_pre.add(keras.layers.GlobalMaxPooling1D())\n",
    "model_gmp_pre.add(keras.layers.Dense(8, activation='relu'))\n",
    "model_gmp_pre.add(keras.layers.Dense(1, activation='sigmoid'))  # 최종 출력은 긍정/부정을 나타내는 1dim\n",
    "\n",
    "model_gmp_pre.summary()"
   ]
  },
  {
   "cell_type": "code",
   "execution_count": 18,
   "id": "outer-casting",
   "metadata": {},
   "outputs": [
    {
     "name": "stdout",
     "output_type": "stream",
     "text": [
      "Model: \"sequential_5\"\n",
      "_________________________________________________________________\n",
      "Layer (type)                 Output Shape              Param #   \n",
      "=================================================================\n",
      "embedding_5 (Embedding)      (None, None, 16)          160000    \n",
      "_________________________________________________________________\n",
      "global_max_pooling1d_3 (Glob (None, 16)                0         \n",
      "_________________________________________________________________\n",
      "dense_10 (Dense)             (None, 8)                 136       \n",
      "_________________________________________________________________\n",
      "dense_11 (Dense)             (None, 1)                 9         \n",
      "=================================================================\n",
      "Total params: 160,145\n",
      "Trainable params: 160,145\n",
      "Non-trainable params: 0\n",
      "_________________________________________________________________\n"
     ]
    }
   ],
   "source": [
    "vocab_size = 10000    # 어휘 사전의 크기(10,000개의 단어)\n",
    "word_vector_dim = 16  # 단어 하나를 표현하는 임베딩 벡터의 차원수 (변경가능)\n",
    "\n",
    "# GlobalMaxPooling1D() 레이어 하나만 사용하여 모델 설계\n",
    "model_gmp_post = keras.Sequential()\n",
    "model_gmp_post.add(keras.layers.Embedding(vocab_size, word_vector_dim, input_shape=(None,)))\n",
    "model_gmp_post.add(keras.layers.GlobalMaxPooling1D())\n",
    "model_gmp_post.add(keras.layers.Dense(8, activation='relu'))\n",
    "model_gmp_post.add(keras.layers.Dense(1, activation='sigmoid'))  # 최종 출력은 긍정/부정을 나타내는 1dim\n",
    "\n",
    "model_gmp_post.summary()"
   ]
  },
  {
   "cell_type": "markdown",
   "id": "cloudy-artwork",
   "metadata": {},
   "source": [
    "----\n",
    "## 5. 모델 학습, 학습 시각화 및 평가\n",
    "### 5-1. RNN 모델 훈련 - pre 패딩 데이터 사용\n",
    "패딩을 앞에 넣은 데이터셋으로 모델을 훈련"
   ]
  },
  {
   "cell_type": "code",
   "execution_count": 19,
   "id": "noticed-behavior",
   "metadata": {
    "scrolled": false
   },
   "outputs": [
    {
     "name": "stdout",
     "output_type": "stream",
     "text": [
      "Epoch 1/5\n",
      "198/198 [==============================] - 6s 15ms/step - loss: 0.6084 - accuracy: 0.7155 - val_loss: 0.3791 - val_accuracy: 0.8412\n",
      "Epoch 2/5\n",
      "198/198 [==============================] - 2s 11ms/step - loss: 0.3524 - accuracy: 0.8546 - val_loss: 0.3504 - val_accuracy: 0.8489\n",
      "Epoch 3/5\n",
      "198/198 [==============================] - 2s 11ms/step - loss: 0.3167 - accuracy: 0.8688 - val_loss: 0.3477 - val_accuracy: 0.8498\n",
      "Epoch 4/5\n",
      "198/198 [==============================] - 2s 11ms/step - loss: 0.3010 - accuracy: 0.8760 - val_loss: 0.3517 - val_accuracy: 0.8491\n",
      "Epoch 5/5\n",
      "198/198 [==============================] - 2s 11ms/step - loss: 0.2836 - accuracy: 0.8858 - val_loss: 0.3510 - val_accuracy: 0.8502\n"
     ]
    }
   ],
   "source": [
    "model_rnn_pre.compile(optimizer='adam',\n",
    "              loss='binary_crossentropy',\n",
    "              metrics=['accuracy'])\n",
    "              \n",
    "epochs=5\n",
    "\n",
    "history_rnn_pre = model_rnn_pre.fit(partial_X_train_pre,\n",
    "                    partial_y_train,\n",
    "                    epochs=epochs,\n",
    "                    batch_size=512,\n",
    "                    validation_data=(X_val_pre, y_val),\n",
    "                    verbose=1)"
   ]
  },
  {
   "cell_type": "code",
   "execution_count": 20,
   "id": "varying-weekly",
   "metadata": {
    "scrolled": false
   },
   "outputs": [
    {
     "data": {
      "image/png": "[encoded data removed]",
      "text/plain": [
       "<Figure size 864x576 with 2 Axes>"
      ]
     },
     "metadata": {
      "needs_background": "light"
     },
     "output_type": "display_data"
    }
   ],
   "source": [
    "history_rnn_pre_dict = history_rnn_pre.history\n",
    "\n",
    "acc = history_rnn_pre_dict['accuracy']\n",
    "val_acc = history_rnn_pre_dict['val_accuracy']\n",
    "loss = history_rnn_pre_dict['loss']\n",
    "val_loss = history_rnn_pre_dict['val_loss']\n",
    "\n",
    "epochs = range(1, len(acc) + 1)\n",
    "\n",
    "plt.figure(figsize=(12,8))\n",
    "\n",
    "# loss 그래프\n",
    "plt.subplot(1,2,1)\n",
    "plt.plot(epochs, loss, 'bo', label='Training loss')\n",
    "plt.plot(epochs, val_loss, 'b', label='Validation loss')\n",
    "plt.title('Training and validation loss')\n",
    "plt.xlabel('Epochs')\n",
    "plt.ylabel('Loss')\n",
    "plt.legend()\n",
    "\n",
    "# accuracy 그래프\n",
    "plt.subplot(1,2,2)\n",
    "plt.plot(epochs, acc, 'ro', label='Training acc')\n",
    "plt.plot(epochs, val_acc, 'r', label='Validation acc')\n",
    "plt.title('Training and validation accuracy')\n",
    "plt.xlabel('Epochs')\n",
    "plt.ylabel('Accuracy')\n",
    "plt.legend()\n",
    "\n",
    "plt.show()"
   ]
  },
  {
   "cell_type": "markdown",
   "id": "consolidated-holder",
   "metadata": {},
   "source": [
    "학습이 끝난 모델을 test set 으로 평가"
   ]
  },
  {
   "cell_type": "code",
   "execution_count": 21,
   "id": "veterinary-bahamas",
   "metadata": {},
   "outputs": [
    {
     "name": "stdout",
     "output_type": "stream",
     "text": [
      "1537/1537 - 5s - loss: 0.3623 - accuracy: 0.8431\n",
      "[0.3622892200946808, 0.8431352376937866]\n"
     ]
    }
   ],
   "source": [
    "results = model_rnn_pre.evaluate(X_test_pre,  y_test, verbose=2)\n",
    "\n",
    "print(results)"
   ]
  },
  {
   "cell_type": "markdown",
   "id": "alert-calgary",
   "metadata": {},
   "source": [
    "----\n",
    "### 5-2. RNN 모델 훈련 - post 패딩 데이터 사용"
   ]
  },
  {
   "cell_type": "code",
   "execution_count": 22,
   "id": "canadian-alexandria",
   "metadata": {},
   "outputs": [
    {
     "name": "stdout",
     "output_type": "stream",
     "text": [
      "Epoch 1/5\n",
      "198/198 [==============================] - 4s 13ms/step - loss: 0.6685 - accuracy: 0.5526 - val_loss: 0.4069 - val_accuracy: 0.8312\n",
      "Epoch 2/5\n",
      "198/198 [==============================] - 2s 11ms/step - loss: 0.3709 - accuracy: 0.8491 - val_loss: 0.3506 - val_accuracy: 0.8474\n",
      "Epoch 3/5\n",
      "198/198 [==============================] - 2s 11ms/step - loss: 0.3175 - accuracy: 0.8695 - val_loss: 0.3470 - val_accuracy: 0.8488\n",
      "Epoch 4/5\n",
      "198/198 [==============================] - 2s 11ms/step - loss: 0.2994 - accuracy: 0.8765 - val_loss: 0.3573 - val_accuracy: 0.8462\n",
      "Epoch 5/5\n",
      "198/198 [==============================] - 2s 11ms/step - loss: 0.2890 - accuracy: 0.8787 - val_loss: 0.3519 - val_accuracy: 0.8470\n"
     ]
    }
   ],
   "source": [
    "model_rnn_post.compile(optimizer='adam',\n",
    "              loss='binary_crossentropy',\n",
    "              metrics=['accuracy'])\n",
    "              \n",
    "epochs=5\n",
    "\n",
    "history_rnn_post = model_rnn_post.fit(partial_X_train_post,\n",
    "                    partial_y_train,\n",
    "                    epochs=epochs,\n",
    "                    batch_size=512,\n",
    "                    validation_data=(X_val_post, y_val),\n",
    "                    verbose=1)"
   ]
  },
  {
   "cell_type": "code",
   "execution_count": 23,
   "id": "pressed-devil",
   "metadata": {},
   "outputs": [
    {
     "data": {
      "image/png": "[encoded data removed]",
      "text/plain": [
       "<Figure size 864x576 with 2 Axes>"
      ]
     },
     "metadata": {
      "needs_background": "light"
     },
     "output_type": "display_data"
    }
   ],
   "source": [
    "history_rnn_post_dict = history_rnn_post.history\n",
    "\n",
    "acc = history_rnn_post_dict['accuracy']\n",
    "val_acc = history_rnn_post_dict['val_accuracy']\n",
    "loss = history_rnn_post_dict['loss']\n",
    "val_loss = history_rnn_post_dict['val_loss']\n",
    "\n",
    "epochs = range(1, len(acc) + 1)\n",
    "\n",
    "plt.figure(figsize=(12,8))\n",
    "\n",
    "# loss 그래프\n",
    "plt.subplot(1,2,1)\n",
    "plt.plot(epochs, loss, 'bo', label='Training loss')\n",
    "plt.plot(epochs, val_loss, 'b', label='Validation loss')\n",
    "plt.title('Training and validation loss')\n",
    "plt.xlabel('Epochs')\n",
    "plt.ylabel('Loss')\n",
    "plt.legend()\n",
    "\n",
    "# accuracy 그래프\n",
    "plt.subplot(1,2,2)\n",
    "plt.plot(epochs, acc, 'ro', label='Training acc')\n",
    "plt.plot(epochs, val_acc, 'r', label='Validation acc')\n",
    "plt.title('Training and validation accuracy')\n",
    "plt.xlabel('Epochs')\n",
    "plt.ylabel('Accuracy')\n",
    "plt.legend()\n",
    "\n",
    "plt.show()"
   ]
  },
  {
   "cell_type": "code",
   "execution_count": 24,
   "id": "spiritual-language",
   "metadata": {},
   "outputs": [
    {
     "name": "stdout",
     "output_type": "stream",
     "text": [
      "1537/1537 - 5s - loss: 0.3615 - accuracy: 0.8423\n",
      "[0.36150267720222473, 0.8422605395317078]\n"
     ]
    }
   ],
   "source": [
    "results = model_rnn_post.evaluate(X_test_post,  y_test, verbose=2)\n",
    "\n",
    "print(results)"
   ]
  },
  {
   "cell_type": "markdown",
   "id": "amber-conditions",
   "metadata": {},
   "source": [
    "----\n",
    "### 5-3. 1-D Convolution Neural Network(1-D CNN) - pre 패딩 데이터 사용"
   ]
  },
  {
   "cell_type": "code",
   "execution_count": 25,
   "id": "different-strength",
   "metadata": {},
   "outputs": [
    {
     "name": "stdout",
     "output_type": "stream",
     "text": [
      "Epoch 1/5\n",
      "198/198 [==============================] - 7s 23ms/step - loss: 0.6597 - accuracy: 0.5912 - val_loss: 0.4815 - val_accuracy: 0.7570\n",
      "Epoch 2/5\n",
      "198/198 [==============================] - 2s 8ms/step - loss: 0.4491 - accuracy: 0.7804 - val_loss: 0.4611 - val_accuracy: 0.7649\n",
      "Epoch 3/5\n",
      "198/198 [==============================] - 2s 8ms/step - loss: 0.4044 - accuracy: 0.8072 - val_loss: 0.4612 - val_accuracy: 0.7695\n",
      "Epoch 4/5\n",
      "198/198 [==============================] - 2s 8ms/step - loss: 0.3719 - accuracy: 0.8231 - val_loss: 0.4692 - val_accuracy: 0.7696\n",
      "Epoch 5/5\n",
      "198/198 [==============================] - 2s 8ms/step - loss: 0.3424 - accuracy: 0.8392 - val_loss: 0.4845 - val_accuracy: 0.7672\n"
     ]
    }
   ],
   "source": [
    "model_1dcnn_pre.compile(optimizer='adam',\n",
    "              loss='binary_crossentropy',\n",
    "              metrics=['accuracy'])\n",
    "              \n",
    "epochs=5\n",
    "\n",
    "history_1dcnn_pre = model_1dcnn_pre.fit(partial_X_train_pre,\n",
    "                                       partial_y_train,\n",
    "                                       epochs=epochs,\n",
    "                                       batch_size=512,\n",
    "                                       validation_data=(X_val_pre, y_val),\n",
    "                                       verbose=1)"
   ]
  },
  {
   "cell_type": "code",
   "execution_count": 26,
   "id": "legal-final",
   "metadata": {},
   "outputs": [
    {
     "data": {
      "image/png": "[encoded data removed]",
      "text/plain": [
       "<Figure size 864x576 with 2 Axes>"
      ]
     },
     "metadata": {
      "needs_background": "light"
     },
     "output_type": "display_data"
    }
   ],
   "source": [
    "history_1dcnn_pre_dict = history_1dcnn_pre.history\n",
    "\n",
    "acc = history_1dcnn_pre_dict['accuracy']\n",
    "val_acc = history_1dcnn_pre_dict['val_accuracy']\n",
    "loss = history_1dcnn_pre_dict['loss']\n",
    "val_loss = history_1dcnn_pre_dict['val_loss']\n",
    "\n",
    "epochs = range(1, len(acc) + 1)\n",
    "\n",
    "plt.figure(figsize=(12,8))\n",
    "\n",
    "# loss 그래프\n",
    "plt.subplot(1,2,1)\n",
    "plt.plot(epochs, loss, 'bo', label='Training loss')\n",
    "plt.plot(epochs, val_loss, 'b', label='Validation loss')\n",
    "plt.title('Training and validation loss')\n",
    "plt.xlabel('Epochs')\n",
    "plt.ylabel('Loss')\n",
    "plt.legend()\n",
    "\n",
    "# accuracy 그래프\n",
    "plt.subplot(1,2,2)\n",
    "plt.plot(epochs, acc, 'ro', label='Training acc')\n",
    "plt.plot(epochs, val_acc, 'r', label='Validation acc')\n",
    "plt.title('Training and validation accuracy')\n",
    "plt.xlabel('Epochs')\n",
    "plt.ylabel('Accuracy')\n",
    "plt.legend()\n",
    "\n",
    "plt.show()"
   ]
  },
  {
   "cell_type": "code",
   "execution_count": 27,
   "id": "quick-collapse",
   "metadata": {},
   "outputs": [
    {
     "name": "stdout",
     "output_type": "stream",
     "text": [
      "1537/1537 - 4s - loss: 0.4896 - accuracy: 0.7651\n",
      "[0.4896228015422821, 0.7650995850563049]\n"
     ]
    }
   ],
   "source": [
    "results = model_1dcnn_pre.evaluate(X_test_pre,  y_test, verbose=2)\n",
    "\n",
    "print(results)"
   ]
  },
  {
   "cell_type": "markdown",
   "id": "indie-tower",
   "metadata": {},
   "source": [
    "----\n",
    "### 5-4. 1-D Convolution Neural Network(1-D CNN) - post 패딩 데이터 사용"
   ]
  },
  {
   "cell_type": "code",
   "execution_count": 28,
   "id": "patent-princess",
   "metadata": {},
   "outputs": [
    {
     "name": "stdout",
     "output_type": "stream",
     "text": [
      "Epoch 1/5\n",
      "198/198 [==============================] - 2s 9ms/step - loss: 0.6522 - accuracy: 0.5878 - val_loss: 0.3737 - val_accuracy: 0.8377\n",
      "Epoch 2/5\n",
      "198/198 [==============================] - 2s 8ms/step - loss: 0.3473 - accuracy: 0.8547 - val_loss: 0.3482 - val_accuracy: 0.8496\n",
      "Epoch 3/5\n",
      "198/198 [==============================] - 2s 8ms/step - loss: 0.3042 - accuracy: 0.8753 - val_loss: 0.3446 - val_accuracy: 0.8517\n",
      "Epoch 4/5\n",
      "198/198 [==============================] - 2s 8ms/step - loss: 0.2750 - accuracy: 0.8883 - val_loss: 0.3509 - val_accuracy: 0.8499\n",
      "Epoch 5/5\n",
      "198/198 [==============================] - 2s 8ms/step - loss: 0.2512 - accuracy: 0.9016 - val_loss: 0.3584 - val_accuracy: 0.8498\n"
     ]
    }
   ],
   "source": [
    "model_1dcnn_post.compile(optimizer='adam',\n",
    "              loss='binary_crossentropy',\n",
    "              metrics=['accuracy'])\n",
    "              \n",
    "epochs=5\n",
    "\n",
    "history_1dcnn_post = model_1dcnn_post.fit(partial_X_train_post,\n",
    "                                       partial_y_train,\n",
    "                                       epochs=epochs,\n",
    "                                       batch_size=512,\n",
    "                                       validation_data=(X_val_post, y_val),\n",
    "                                       verbose=1)"
   ]
  },
  {
   "cell_type": "code",
   "execution_count": 29,
   "id": "lesbian-german",
   "metadata": {},
   "outputs": [
    {
     "data": {
      "image/png": "[encoded data removed]",
      "text/plain": [
       "<Figure size 864x576 with 2 Axes>"
      ]
     },
     "metadata": {
      "needs_background": "light"
     },
     "output_type": "display_data"
    }
   ],
   "source": [
    "history_1dcnn_post_dict = history_1dcnn_post.history\n",
    "\n",
    "acc = history_1dcnn_post_dict['accuracy']\n",
    "val_acc = history_1dcnn_post_dict['val_accuracy']\n",
    "loss = history_1dcnn_post_dict['loss']\n",
    "val_loss = history_1dcnn_post_dict['val_loss']\n",
    "\n",
    "epochs = range(1, len(acc) + 1)\n",
    "\n",
    "plt.figure(figsize=(12,8))\n",
    "\n",
    "# loss 그래프\n",
    "plt.subplot(1,2,1)\n",
    "plt.plot(epochs, loss, 'bo', label='Training loss')\n",
    "plt.plot(epochs, val_loss, 'b', label='Validation loss')\n",
    "plt.title('Training and validation loss')\n",
    "plt.xlabel('Epochs')\n",
    "plt.ylabel('Loss')\n",
    "plt.legend()\n",
    "\n",
    "# accuracy 그래프\n",
    "plt.subplot(1,2,2)\n",
    "plt.plot(epochs, acc, 'ro', label='Training acc')\n",
    "plt.plot(epochs, val_acc, 'r', label='Validation acc')\n",
    "plt.title('Training and validation accuracy')\n",
    "plt.xlabel('Epochs')\n",
    "plt.ylabel('Accuracy')\n",
    "plt.legend()\n",
    "\n",
    "plt.show()"
   ]
  },
  {
   "cell_type": "code",
   "execution_count": 30,
   "id": "comparable-baker",
   "metadata": {},
   "outputs": [
    {
     "name": "stdout",
     "output_type": "stream",
     "text": [
      "1537/1537 - 2s - loss: 0.3678 - accuracy: 0.8453\n",
      "[0.36784476041793823, 0.8452509045600891]\n"
     ]
    }
   ],
   "source": [
    "results = model_1dcnn_post.evaluate(X_test_post,  y_test, verbose=2)\n",
    "\n",
    "print(results)"
   ]
  },
  {
   "cell_type": "markdown",
   "id": "entire-history",
   "metadata": {},
   "source": [
    "----\n",
    "### 5-5. GlobalMaxPooling1D() 레이어 - pre 패딩 데이터 사용"
   ]
  },
  {
   "cell_type": "code",
   "execution_count": 31,
   "id": "honey-clarity",
   "metadata": {},
   "outputs": [
    {
     "name": "stdout",
     "output_type": "stream",
     "text": [
      "Epoch 1/5\n",
      "198/198 [==============================] - 2s 6ms/step - loss: 0.6684 - accuracy: 0.6680 - val_loss: 0.4832 - val_accuracy: 0.8115\n",
      "Epoch 2/5\n",
      "198/198 [==============================] - 1s 5ms/step - loss: 0.4330 - accuracy: 0.8286 - val_loss: 0.3754 - val_accuracy: 0.8354\n",
      "Epoch 3/5\n",
      "198/198 [==============================] - 1s 5ms/step - loss: 0.3465 - accuracy: 0.8524 - val_loss: 0.3581 - val_accuracy: 0.8426\n",
      "Epoch 4/5\n",
      "198/198 [==============================] - 1s 5ms/step - loss: 0.3107 - accuracy: 0.8711 - val_loss: 0.3556 - val_accuracy: 0.8449\n",
      "Epoch 5/5\n",
      "198/198 [==============================] - 1s 5ms/step - loss: 0.2856 - accuracy: 0.8836 - val_loss: 0.3585 - val_accuracy: 0.8451\n"
     ]
    }
   ],
   "source": [
    "model_gmp_pre.compile(optimizer='adam',\n",
    "              loss='binary_crossentropy',\n",
    "              metrics=['accuracy'])\n",
    "              \n",
    "epochs=5\n",
    "\n",
    "history_gmp_pre = model_gmp_pre.fit(partial_X_train_pre,\n",
    "                                       partial_y_train,\n",
    "                                       epochs=epochs,\n",
    "                                       batch_size=512,\n",
    "                                       validation_data=(X_val_pre, y_val),\n",
    "                                       verbose=1)"
   ]
  },
  {
   "cell_type": "code",
   "execution_count": 32,
   "id": "random-talent",
   "metadata": {},
   "outputs": [
    {
     "data": {
      "image/png": "[encoded data removed]",
      "text/plain": [
       "<Figure size 864x576 with 2 Axes>"
      ]
     },
     "metadata": {
      "needs_background": "light"
     },
     "output_type": "display_data"
    }
   ],
   "source": [
    "history_gmp_pre_dict = history_gmp_pre.history\n",
    "\n",
    "acc = history_gmp_pre_dict['accuracy']\n",
    "val_acc = history_gmp_pre_dict['val_accuracy']\n",
    "loss = history_gmp_pre_dict['loss']\n",
    "val_loss = history_gmp_pre_dict['val_loss']\n",
    "\n",
    "epochs = range(1, len(acc) + 1)\n",
    "\n",
    "plt.figure(figsize=(12,8))\n",
    "\n",
    "# loss 그래프\n",
    "plt.subplot(1,2,1)\n",
    "plt.plot(epochs, loss, 'bo', label='Training loss')\n",
    "plt.plot(epochs, val_loss, 'b', label='Validation loss')\n",
    "plt.title('Training and validation loss')\n",
    "plt.xlabel('Epochs')\n",
    "plt.ylabel('Loss')\n",
    "plt.legend()\n",
    "\n",
    "# accuracy 그래프\n",
    "plt.subplot(1,2,2)\n",
    "plt.plot(epochs, acc, 'ro', label='Training acc')\n",
    "plt.plot(epochs, val_acc, 'r', label='Validation acc')\n",
    "plt.title('Training and validation accuracy')\n",
    "plt.xlabel('Epochs')\n",
    "plt.ylabel('Accuracy')\n",
    "plt.legend()\n",
    "\n",
    "plt.show()"
   ]
  },
  {
   "cell_type": "code",
   "execution_count": 33,
   "id": "alpine-midnight",
   "metadata": {},
   "outputs": [
    {
     "name": "stdout",
     "output_type": "stream",
     "text": [
      "1537/1537 - 2s - loss: 0.3698 - accuracy: 0.8402\n",
      "[0.3698310852050781, 0.8401651978492737]\n"
     ]
    }
   ],
   "source": [
    "results = model_gmp_pre.evaluate(X_test_pre,  y_test, verbose=2)\n",
    "\n",
    "print(results)"
   ]
  },
  {
   "cell_type": "markdown",
   "id": "limited-mississippi",
   "metadata": {},
   "source": [
    "____\n",
    "### 5-6. GlobalMaxPooling1D() 레이어 - post 패딩 데이터 사용"
   ]
  },
  {
   "cell_type": "code",
   "execution_count": 34,
   "id": "sensitive-papua",
   "metadata": {},
   "outputs": [
    {
     "name": "stdout",
     "output_type": "stream",
     "text": [
      "Epoch 1/5\n",
      "198/198 [==============================] - 2s 6ms/step - loss: 0.6613 - accuracy: 0.6789 - val_loss: 0.4785 - val_accuracy: 0.8136\n",
      "Epoch 2/5\n",
      "198/198 [==============================] - 1s 5ms/step - loss: 0.4309 - accuracy: 0.8282 - val_loss: 0.3727 - val_accuracy: 0.8365\n",
      "Epoch 3/5\n",
      "198/198 [==============================] - 1s 5ms/step - loss: 0.3397 - accuracy: 0.8564 - val_loss: 0.3555 - val_accuracy: 0.8442\n",
      "Epoch 4/5\n",
      "198/198 [==============================] - 1s 5ms/step - loss: 0.3010 - accuracy: 0.8753 - val_loss: 0.3527 - val_accuracy: 0.8475\n",
      "Epoch 5/5\n",
      "198/198 [==============================] - 1s 5ms/step - loss: 0.2799 - accuracy: 0.8857 - val_loss: 0.3558 - val_accuracy: 0.8470\n"
     ]
    }
   ],
   "source": [
    "model_gmp_post.compile(optimizer='adam',\n",
    "              loss='binary_crossentropy',\n",
    "              metrics=['accuracy'])\n",
    "              \n",
    "epochs=5\n",
    "\n",
    "history_gmp_post = model_gmp_post.fit(partial_X_train_post,\n",
    "                                       partial_y_train,\n",
    "                                       epochs=epochs,\n",
    "                                       batch_size=512,\n",
    "                                       validation_data=(X_val_post, y_val),\n",
    "                                       verbose=1)"
   ]
  },
  {
   "cell_type": "code",
   "execution_count": 35,
   "id": "chubby-segment",
   "metadata": {},
   "outputs": [
    {
     "data": {
      "image/png": "[encoded data removed]",
      "text/plain": [
       "<Figure size 864x576 with 2 Axes>"
      ]
     },
     "metadata": {
      "needs_background": "light"
     },
     "output_type": "display_data"
    }
   ],
   "source": [
    "history_gmp_post_dict = history_gmp_post.history\n",
    "\n",
    "acc = history_gmp_post_dict['accuracy']\n",
    "val_acc = history_gmp_post_dict['val_accuracy']\n",
    "loss = history_gmp_post_dict['loss']\n",
    "val_loss = history_gmp_post_dict['val_loss']\n",
    "\n",
    "epochs = range(1, len(acc) + 1)\n",
    "\n",
    "plt.figure(figsize=(12,8))\n",
    "\n",
    "# loss 그래프\n",
    "plt.subplot(1,2,1)\n",
    "plt.plot(epochs, loss, 'bo', label='Training loss')\n",
    "plt.plot(epochs, val_loss, 'b', label='Validation loss')\n",
    "plt.title('Training and validation loss')\n",
    "plt.xlabel('Epochs')\n",
    "plt.ylabel('Loss')\n",
    "plt.legend()\n",
    "\n",
    "# accuracy 그래프\n",
    "plt.subplot(1,2,2)\n",
    "plt.plot(epochs, acc, 'ro', label='Training acc')\n",
    "plt.plot(epochs, val_acc, 'r', label='Validation acc')\n",
    "plt.title('Training and validation accuracy')\n",
    "plt.xlabel('Epochs')\n",
    "plt.ylabel('Accuracy')\n",
    "plt.legend()\n",
    "\n",
    "plt.show()"
   ]
  },
  {
   "cell_type": "code",
   "execution_count": 36,
   "id": "extended-crisis",
   "metadata": {},
   "outputs": [
    {
     "name": "stdout",
     "output_type": "stream",
     "text": [
      "1537/1537 - 2s - loss: 0.3669 - accuracy: 0.8408\n",
      "[0.36692285537719727, 0.8408161401748657]\n"
     ]
    }
   ],
   "source": [
    "results = model_gmp_post.evaluate(X_test_post,  y_test, verbose=2)\n",
    "\n",
    "print(results)"
   ]
  },
  {
   "cell_type": "markdown",
   "id": "proprietary-rehabilitation",
   "metadata": {},
   "source": [
    "### 모델 별 test set 예측  정확도(accuracy) 비교\n",
    "\n",
    "|모델|앞 패딩(pre)적용 정확도|뒷 패딩(post) 적용 정확도|\n",
    "|:----:|:----:|:----:|\n",
    "|RNN (LSTM)|0.8431|0.8423|\n",
    "|1-D CNN|0.7651|0.8453|\n",
    "|GlobalMaxPooling1D() 레이어|0.8402|0.8408|"
   ]
  },
  {
   "cell_type": "markdown",
   "id": "blank-cross",
   "metadata": {},
   "source": [
    "> RNN 모델의 경우, 입력데이터가 순차적으로 처리되어, 가장 마지막 입력이 최종 state 값에 가장 영향을 많이 미치게 된다. 그러므로 마지막 입력이 무의미한 padding으로 채워지는 것은 비효율적이다.  \n",
    "따라서 pre padding 이 적용되었을 때, 더 좋은 성능을 보였다."
   ]
  },
  {
   "cell_type": "markdown",
   "id": "japanese-editor",
   "metadata": {},
   "source": [
    "> 위의 1-D CNN 모델의 경우, post 패딩을 적용했을 때의 정확도가 pre 패딩을 적용했을때보다 훨씬 높게 나온다. 이것의 원인을 한번 살펴볼 필요성이 있다."
   ]
  },
  {
   "cell_type": "markdown",
   "id": "forty-windsor",
   "metadata": {},
   "source": [
    "Mahidhar Dwarampudi, N V Subba Reddy - __Effects of padding on LSTMs and CNNs (18 Mar 2019)__ 를 참고하면  \n",
    "- LSTM과 달리 CNN모델에서는 무언가를 기억하려고 하지 않기 때문에 사전 패딩 및 사후 패딩은 CNN에 중요하지 않다. 그저 이전 출력에서 대신 주어진 데이터에서 패턴을 찾으려고 시도한다.   \n",
    "- 감정 분석의 경우 LSTM이 CNN보다 효율적이다.\n",
    "- LSTM의 경우, pre padding 으로 시퀀스를 채우는 것이 더 효율적이다.\n",
    "- 일반적으로 여러 유형의 신경망이 결합되어 작업을 수행할 때 pre padding 이 더 좋다.\n",
    "\n",
    "[참고 링크](https://arxiv.org/abs/1903.07288)"
   ]
  },
  {
   "cell_type": "markdown",
   "id": "exact-convention",
   "metadata": {},
   "source": [
    "----\n",
    "## 6. 학습된 임베딩 레이어 분석\n",
    "\n",
    "model의 첫 번째 레이어는 바로 Embedding 레이어였다. 이 레이어는 우리가 가진 사전의 단어 개수 X 워드 벡터 사이즈만큼의 크기를 가진 학습 파라미터였다. 모델이 학습이 잘 되었다면, Embedding 레이어에 학습된 우리의 워드 벡터들도 의미 공간상에 유의미한 형태로 학습되었을 것이다.   \n",
    "\n",
    "위의 모델 중에 가장 성능이 좋게 나온 __pre 패딩을 적용한 데이터로 학습한 RNN 모델__ 을\n",
    "워드 벡터를 다루는데 유용한 `gensim` 패키지를 사용하여   \n",
    "\n",
    "단어를 하나 주고 그와 가장 유사한 단어와 그 유사도를 확인하는 방법으로 워드 벡터가 의미벡터 공간상에 유의미하게 학습되었는지 확인해보자."
   ]
  },
  {
   "cell_type": "code",
   "execution_count": 37,
   "id": "mediterranean-color",
   "metadata": {},
   "outputs": [
    {
     "name": "stdout",
     "output_type": "stream",
     "text": [
      "(10000, 16)\n"
     ]
    }
   ],
   "source": [
    "embedding_layer = model_rnn_pre.layers[0]\n",
    "weights = embedding_layer.get_weights()[0]\n",
    "print(weights.shape)    # shape: (vocab_size, embedding_dim)"
   ]
  },
  {
   "cell_type": "code",
   "execution_count": 38,
   "id": "raised-template",
   "metadata": {},
   "outputs": [],
   "source": [
    "import os\n",
    "\n",
    "# 학습한 Embedding 파라미터를 파일에 써서 저장\n",
    "word2vec_file_path = os.getenv('HOME')+'/aiffel/sentiment_classification/data/word2vec_project.txt'\n",
    "f = open(word2vec_file_path, 'w')\n",
    "f.write('{} {}\\n'.format(vocab_size-4, word_vector_dim))  # 몇개의 벡터를 얼마 사이즈로 기재할지 타이틀을 씁니다.\n",
    "\n",
    "# 단어 개수(특수문자 4개는 제외)만큼의 워드 벡터를 파일에 기록\n",
    "vectors = model_rnn_pre.get_weights()[0]\n",
    "for i in range(4,vocab_size):\n",
    "    f.write('{} {}\\n'.format(index_to_word[i], ' '.join(map(str, list(vectors[i, :])))))\n",
    "f.close()"
   ]
  },
  {
   "cell_type": "markdown",
   "id": "unknown-wyoming",
   "metadata": {},
   "source": [
    "단어를 하나 주고 그와 가장 유사한 단어와 그 유사도를 확인하는 방법으로 워드 벡터가 의미벡터 공간상에 유의미하게 학습되었는지 확인"
   ]
  },
  {
   "cell_type": "code",
   "execution_count": 39,
   "id": "interested-reducing",
   "metadata": {},
   "outputs": [
    {
     "data": {
      "text/plain": [
       "[('환상', 0.9627501964569092),\n",
       " ('염', 0.9523703455924988),\n",
       " ('very', 0.9484211206436157),\n",
       " ('울리', 0.9469653367996216),\n",
       " ('강해', 0.9461369514465332),\n",
       " ('헨리', 0.9423972964286804),\n",
       " ('해져요', 0.9401565790176392),\n",
       " ('、', 0.9392151236534119),\n",
       " ('소화', 0.9371898174285889),\n",
       " ('치도', 0.9355247616767883)]"
      ]
     },
     "execution_count": 39,
     "metadata": {},
     "output_type": "execute_result"
    }
   ],
   "source": [
    "from gensim.models.keyedvectors import Word2VecKeyedVectors\n",
    "\n",
    "word_vectors = Word2VecKeyedVectors.load_word2vec_format(word2vec_file_path, binary=False)\n",
    "\n",
    "word_vectors.similar_by_word(\"행복\")"
   ]
  },
  {
   "cell_type": "code",
   "execution_count": 40,
   "id": "chinese-seafood",
   "metadata": {},
   "outputs": [
    {
     "data": {
      "text/plain": [
       "[('졸린', 0.9568641781806946),\n",
       " ('어려운', 0.9540711641311646),\n",
       " ('싫', 0.9485859274864197),\n",
       " ('털리', 0.9456669092178345),\n",
       " ('아까울', 0.9361624121665955),\n",
       " ('사업', 0.9343879818916321),\n",
       " ('막장', 0.9343835115432739),\n",
       " ('쯔쯔', 0.9337289929389954),\n",
       " ('지루함', 0.9333158731460571),\n",
       " ('비추', 0.931437075138092)]"
      ]
     },
     "execution_count": 40,
     "metadata": {},
     "output_type": "execute_result"
    }
   ],
   "source": [
    "word_vectors.similar_by_word(\"지루\")"
   ]
  },
  {
   "cell_type": "markdown",
   "id": "traditional-venue",
   "metadata": {},
   "source": [
    "위의 훈련데이터만으로는 워드 벡터를 정교하게 학습시키기 어렵다는 것을 알 수 있다.  \n",
    "\n",
    "따라서 더 좋은 모델의 성능을 위해서는 한국어 Word2Vec 임베딩 활용한 성능개선이 필요하다."
   ]
  },
  {
   "cell_type": "markdown",
   "id": "hollywood-union",
   "metadata": {},
   "source": [
    "## 7. 한국어 Word2Vec 임베딩 활용하여 성능개선\n",
    "\n",
    "[Pre-trained word vectors of 30+ languages](https://github.com/Kyubyong/wordvectors) 에서 한국어 Word2Vec 데이터를 불러와 사용하였다."
   ]
  },
  {
   "cell_type": "markdown",
   "id": "entitled-uzbekistan",
   "metadata": {},
   "source": [
    "```\n",
    "pip install --upgrade gensim==3.8.3\n",
    "```"
   ]
  },
  {
   "cell_type": "code",
   "execution_count": 41,
   "id": "suited-cigarette",
   "metadata": {},
   "outputs": [
    {
     "name": "stderr",
     "output_type": "stream",
     "text": [
      "/opt/conda/lib/python3.7/site-packages/ipykernel_launcher.py:7: DeprecationWarning: Call to deprecated `__getitem__` (Method will be removed in 4.0.0, use self.wv.__getitem__() instead).\n",
      "  import sys\n"
     ]
    },
    {
     "data": {
      "text/plain": [
       "(200,)"
      ]
     },
     "execution_count": 41,
     "metadata": {},
     "output_type": "execute_result"
    }
   ],
   "source": [
    "import gensim\n",
    "from gensim.models import KeyedVectors\n",
    "\n",
    "word2vec_path = os.getenv('HOME')+'/aiffel/sentiment_classification/data/ko.bin'\n",
    "\n",
    "word2vec = gensim.models.Word2Vec.load(word2vec_path)\n",
    "vector = word2vec['행복']\n",
    "vector.shape     # 200dim의 워드 벡터"
   ]
  },
  {
   "cell_type": "code",
   "execution_count": 42,
   "id": "strong-uruguay",
   "metadata": {},
   "outputs": [
    {
     "name": "stderr",
     "output_type": "stream",
     "text": [
      "/opt/conda/lib/python3.7/site-packages/ipykernel_launcher.py:1: DeprecationWarning: Call to deprecated `similar_by_word` (Method will be removed in 4.0.0, use self.wv.similar_by_word() instead).\n",
      "  \"\"\"Entry point for launching an IPython kernel.\n"
     ]
    },
    {
     "data": {
      "text/plain": [
       "[('사랑', 0.6759077310562134),\n",
       " ('기쁨', 0.6493781805038452),\n",
       " ('즐거움', 0.6396492719650269),\n",
       " ('삶', 0.6299898028373718),\n",
       " ('젊음', 0.6187379360198975),\n",
       " ('즐겁', 0.6027448177337646),\n",
       " ('인생', 0.6002243161201477),\n",
       " ('존엄', 0.5952589511871338),\n",
       " ('고독', 0.5938762426376343),\n",
       " ('불행', 0.5894461870193481)]"
      ]
     },
     "execution_count": 42,
     "metadata": {},
     "output_type": "execute_result"
    }
   ],
   "source": [
    "word2vec.similar_by_word(\"행복\")"
   ]
  },
  {
   "cell_type": "code",
   "execution_count": 43,
   "id": "stylish-disaster",
   "metadata": {},
   "outputs": [
    {
     "name": "stderr",
     "output_type": "stream",
     "text": [
      "/opt/conda/lib/python3.7/site-packages/ipykernel_launcher.py:1: DeprecationWarning: Call to deprecated `similar_by_word` (Method will be removed in 4.0.0, use self.wv.similar_by_word() instead).\n",
      "  \"\"\"Entry point for launching an IPython kernel.\n"
     ]
    },
    {
     "data": {
      "text/plain": [
       "[('답답', 0.7367106676101685),\n",
       " ('편안', 0.7046725749969482),\n",
       " ('솔직', 0.689364492893219),\n",
       " ('쓸쓸', 0.6880695819854736),\n",
       " ('차분', 0.6868932247161865),\n",
       " ('조용', 0.6765609383583069),\n",
       " ('냉정', 0.6706622838973999),\n",
       " ('자유분방', 0.6680829524993896),\n",
       " ('피곤', 0.6597293019294739),\n",
       " ('느긋', 0.659047544002533)]"
      ]
     },
     "execution_count": 43,
     "metadata": {},
     "output_type": "execute_result"
    }
   ],
   "source": [
    "word2vec.similar_by_word(\"지루\")"
   ]
  },
  {
   "cell_type": "markdown",
   "id": "executed-knight",
   "metadata": {},
   "source": [
    "Word2Vec에서 제공하는 워드 임베딩 벡터들끼리는 의미적 유사도가 가까운 것이 서로 가깝게 제대로 학습된 것을 확인할 수 있다.  \n",
    "\n",
    "이제 이전 스텝에서 학습했던 모델의 임베딩 레이어를 Word2Vec의 것으로 교체하여  \n",
    "RNN 모델(pre padding) 을 학습시켜보자."
   ]
  },
  {
   "cell_type": "markdown",
   "id": "animal-grenada",
   "metadata": {},
   "source": [
    "### RNN 모델 생성\n",
    "\n",
    "이때, LSTM 레이어의 LSTM state 벡터의 차원수를 기존 8 -> 128로 변경한다."
   ]
  },
  {
   "cell_type": "code",
   "execution_count": 44,
   "id": "royal-greene",
   "metadata": {},
   "outputs": [
    {
     "name": "stderr",
     "output_type": "stream",
     "text": [
      "/opt/conda/lib/python3.7/site-packages/ipykernel_launcher.py:10: DeprecationWarning: Call to deprecated `__contains__` (Method will be removed in 4.0.0, use self.wv.__contains__() instead).\n",
      "  # Remove the CWD from sys.path while we load stuff.\n",
      "/opt/conda/lib/python3.7/site-packages/ipykernel_launcher.py:11: DeprecationWarning: Call to deprecated `__getitem__` (Method will be removed in 4.0.0, use self.wv.__getitem__() instead).\n",
      "  # This is added back by InteractiveShellApp.init_path()\n"
     ]
    }
   ],
   "source": [
    "from tensorflow.keras.initializers import Constant\n",
    "\n",
    "vocab_size = 10000    # 어휘 사전의 크기입니다(10,000개의 단어)\n",
    "word_vector_dim = 200  # 워드 벡터의 차원수 (변경가능한 하이퍼파라미터)\n",
    "\n",
    "embedding_matrix = np.random.rand(vocab_size, word_vector_dim)\n",
    "\n",
    "# embedding_matrix에 Word2Vec 워드 벡터를 단어 하나씩마다 차례차례 카피한다.\n",
    "for i in range(4,vocab_size):\n",
    "    if index_to_word[i] in word2vec:\n",
    "        embedding_matrix[i] = word2vec[index_to_word[i]]"
   ]
  },
  {
   "cell_type": "code",
   "execution_count": 45,
   "id": "balanced-guard",
   "metadata": {
    "scrolled": true
   },
   "outputs": [
    {
     "name": "stdout",
     "output_type": "stream",
     "text": [
      "Model: \"sequential_6\"\n",
      "_________________________________________________________________\n",
      "Layer (type)                 Output Shape              Param #   \n",
      "=================================================================\n",
      "embedding_6 (Embedding)      (None, 41, 200)           2000000   \n",
      "_________________________________________________________________\n",
      "lstm_2 (LSTM)                (None, 128)               168448    \n",
      "_________________________________________________________________\n",
      "dense_12 (Dense)             (None, 8)                 1032      \n",
      "_________________________________________________________________\n",
      "dense_13 (Dense)             (None, 1)                 9         \n",
      "=================================================================\n",
      "Total params: 2,169,489\n",
      "Trainable params: 2,169,489\n",
      "Non-trainable params: 0\n",
      "_________________________________________________________________\n"
     ]
    }
   ],
   "source": [
    "# LSTM 레이어로 모델 설계\n",
    "model_ko = keras.Sequential()\n",
    "model_ko.add(keras.layers.Embedding(vocab_size, \n",
    "                                 word_vector_dim, \n",
    "                                 embeddings_initializer=Constant(embedding_matrix),  # 카피한 임베딩을 여기서 활용\n",
    "                                 input_length=maxlen, \n",
    "                                 trainable=True))   # trainable을 True로 주면 Fine-tuning\n",
    "model_ko.add(keras.layers.LSTM(128))  # LSTM state 벡터의 차원수 (변경가능)\n",
    "model_ko.add(keras.layers.Dense(8, activation='relu'))\n",
    "model_ko.add(keras.layers.Dense(1, activation='sigmoid'))  # 최종 출력은 긍정/부정을 나타내는 1dim\n",
    "\n",
    "model_ko.summary()"
   ]
  },
  {
   "cell_type": "markdown",
   "id": "permanent-compact",
   "metadata": {},
   "source": [
    "### 모델 학습 및 학습 과정 시각화"
   ]
  },
  {
   "cell_type": "code",
   "execution_count": 46,
   "id": "continental-botswana",
   "metadata": {},
   "outputs": [
    {
     "name": "stdout",
     "output_type": "stream",
     "text": [
      "Epoch 1/5\n",
      "1581/1581 [==============================] - 35s 21ms/step - loss: 0.4738 - accuracy: 0.7665 - val_loss: 0.3413 - val_accuracy: 0.8518\n",
      "Epoch 2/5\n",
      "1581/1581 [==============================] - 33s 21ms/step - loss: 0.2940 - accuracy: 0.8764 - val_loss: 0.3113 - val_accuracy: 0.8672\n",
      "Epoch 3/5\n",
      "1581/1581 [==============================] - 31s 19ms/step - loss: 0.2423 - accuracy: 0.8995 - val_loss: 0.3179 - val_accuracy: 0.8657\n",
      "Epoch 4/5\n",
      "1581/1581 [==============================] - 30s 19ms/step - loss: 0.1950 - accuracy: 0.9221 - val_loss: 0.3334 - val_accuracy: 0.8608\n",
      "Epoch 5/5\n",
      "1581/1581 [==============================] - 32s 20ms/step - loss: 0.1567 - accuracy: 0.9400 - val_loss: 0.3733 - val_accuracy: 0.8611\n"
     ]
    }
   ],
   "source": [
    "model_ko.compile(optimizer='adam',\n",
    "              loss='binary_crossentropy',\n",
    "              metrics=['accuracy'])\n",
    "              \n",
    "epochs=5   \n",
    "\n",
    "history_ko = model_ko.fit(partial_X_train_pre,\n",
    "                    partial_y_train,\n",
    "                    epochs=epochs,\n",
    "                    batch_size=64,\n",
    "                    validation_data=(X_val_pre, y_val),\n",
    "                    verbose=1)"
   ]
  },
  {
   "cell_type": "code",
   "execution_count": 47,
   "id": "heated-person",
   "metadata": {},
   "outputs": [
    {
     "data": {
      "image/png": "[encoded data removed]",
      "text/plain": [
       "<Figure size 864x576 with 2 Axes>"
      ]
     },
     "metadata": {
      "needs_background": "light"
     },
     "output_type": "display_data"
    }
   ],
   "source": [
    "history_ko_dict = history_ko.history\n",
    "\n",
    "acc = history_ko_dict['accuracy']\n",
    "val_acc = history_ko_dict['val_accuracy']\n",
    "loss = history_ko_dict['loss']\n",
    "val_loss = history_ko_dict['val_loss']\n",
    "\n",
    "epochs = range(1, len(acc) + 1)\n",
    "\n",
    "plt.figure(figsize=(12,8))\n",
    "\n",
    "# loss 그래프\n",
    "plt.subplot(1,2,1)\n",
    "plt.plot(epochs, loss, 'bo', label='Training loss')\n",
    "plt.plot(epochs, val_loss, 'b', label='Validation loss')\n",
    "plt.title('Training and validation loss')\n",
    "plt.xlabel('Epochs')\n",
    "plt.ylabel('Loss')\n",
    "plt.legend()\n",
    "\n",
    "# accuracy 그래프\n",
    "plt.subplot(1,2,2)\n",
    "plt.plot(epochs, acc, 'ro', label='Training acc')\n",
    "plt.plot(epochs, val_acc, 'r', label='Validation acc')\n",
    "plt.title('Training and validation accuracy')\n",
    "plt.xlabel('Epochs')\n",
    "plt.ylabel('Accuracy')\n",
    "plt.legend()\n",
    "\n",
    "plt.show()"
   ]
  },
  {
   "cell_type": "code",
   "execution_count": 48,
   "id": "institutional-package",
   "metadata": {},
   "outputs": [
    {
     "name": "stdout",
     "output_type": "stream",
     "text": [
      "1537/1537 - 6s - loss: 0.3799 - accuracy: 0.8580\n",
      "[0.37993860244750977, 0.8579856157302856]\n"
     ]
    }
   ],
   "source": [
    "results = model_ko.evaluate(X_test_pre,  y_test, verbose=2)\n",
    "\n",
    "print(results)"
   ]
  },
  {
   "cell_type": "markdown",
   "id": "short-pearl",
   "metadata": {},
   "source": [
    "한국어 Word2Vec 임베딩을 사용하여 새로 모델을 생성한 결과 test set 에서의 정확도는 __0.8580__ 으로 향상 된 것을 확인 할 수 있다."
   ]
  },
  {
   "cell_type": "markdown",
   "id": "local-sector",
   "metadata": {},
   "source": [
    "## 8. Dropout, Bidirectional layer \n",
    "\n",
    "### Dropout 추가\n",
    "\n",
    "Dropout이란 deep 한 neural network 모델을 만들 때 overfitting 문제를 해결하고 정규화된 모델을 만들기 위해 말 그대로 network 일부를 생략하는 방법이다. 생략된 network는 학습에 영향을 끼치지 않게 된다.\n"
   ]
  },
  {
   "cell_type": "code",
   "execution_count": 49,
   "id": "stable-inclusion",
   "metadata": {},
   "outputs": [
    {
     "name": "stdout",
     "output_type": "stream",
     "text": [
      "Model: \"sequential_7\"\n",
      "_________________________________________________________________\n",
      "Layer (type)                 Output Shape              Param #   \n",
      "=================================================================\n",
      "embedding_7 (Embedding)      (None, 41, 200)           2000000   \n",
      "_________________________________________________________________\n",
      "lstm_3 (LSTM)                (None, 128)               168448    \n",
      "_________________________________________________________________\n",
      "dropout (Dropout)            (None, 128)               0         \n",
      "_________________________________________________________________\n",
      "dense_14 (Dense)             (None, 8)                 1032      \n",
      "_________________________________________________________________\n",
      "dropout_1 (Dropout)          (None, 8)                 0         \n",
      "_________________________________________________________________\n",
      "dense_15 (Dense)             (None, 1)                 9         \n",
      "=================================================================\n",
      "Total params: 2,169,489\n",
      "Trainable params: 2,169,489\n",
      "Non-trainable params: 0\n",
      "_________________________________________________________________\n"
     ]
    }
   ],
   "source": [
    "# LSTM 레이어로 모델 설계\n",
    "model_ko_final = keras.Sequential()\n",
    "model_ko_final.add(keras.layers.Embedding(vocab_size, \n",
    "                                 word_vector_dim, \n",
    "                                 embeddings_initializer=Constant(embedding_matrix),  # 카피한 임베딩을 여기서 활용\n",
    "                                 input_length=maxlen, \n",
    "                                 trainable=True))   # trainable을 True로 주면 Fine-tuning\n",
    "model_ko_final.add(keras.layers.LSTM(128))  # LSTM state 벡터의 차원수 (변경가능)\n",
    "model_ko_final.add(keras.layers.Dropout(0.25))                    # Dropout 추가\n",
    "model_ko_final.add(keras.layers.Dense(8, activation='relu'))\n",
    "model_ko_final.add(keras.layers.Dropout(0.3))                     # Dropout 추가\n",
    "model_ko_final.add(keras.layers.Dense(1, activation='sigmoid'))  # 최종 출력은 긍정/부정을 나타내는 1dim\n",
    "model_ko_final.summary()"
   ]
  },
  {
   "cell_type": "code",
   "execution_count": 50,
   "id": "little-retail",
   "metadata": {},
   "outputs": [
    {
     "name": "stdout",
     "output_type": "stream",
     "text": [
      "Epoch 1/5\n",
      "1581/1581 [==============================] - 34s 20ms/step - loss: 0.5328 - accuracy: 0.7335 - val_loss: 0.3384 - val_accuracy: 0.8536\n",
      "Epoch 2/5\n",
      "1581/1581 [==============================] - 30s 19ms/step - loss: 0.3504 - accuracy: 0.8620 - val_loss: 0.3229 - val_accuracy: 0.8610\n",
      "Epoch 3/5\n",
      "1581/1581 [==============================] - 33s 21ms/step - loss: 0.2931 - accuracy: 0.8874 - val_loss: 0.3174 - val_accuracy: 0.8662\n",
      "Epoch 4/5\n",
      "1581/1581 [==============================] - 31s 20ms/step - loss: 0.2595 - accuracy: 0.9023 - val_loss: 0.3218 - val_accuracy: 0.8646\n",
      "Epoch 5/5\n",
      "1581/1581 [==============================] - 30s 19ms/step - loss: 0.2217 - accuracy: 0.9185 - val_loss: 0.3582 - val_accuracy: 0.8648\n"
     ]
    }
   ],
   "source": [
    "model_ko_final.compile(optimizer='adam',\n",
    "              loss='binary_crossentropy',\n",
    "              metrics=['accuracy'])\n",
    "              \n",
    "epochs=5   \n",
    "\n",
    "history_ko_final = model_ko_final.fit(partial_X_train_pre,\n",
    "                    partial_y_train,\n",
    "                    epochs=epochs,\n",
    "                    batch_size=64,\n",
    "                    validation_data=(X_val_pre, y_val),\n",
    "                    verbose=1)"
   ]
  },
  {
   "cell_type": "code",
   "execution_count": 51,
   "id": "incorporated-toilet",
   "metadata": {},
   "outputs": [
    {
     "data": {
      "image/png": "[encoded data removed]",
      "text/plain": [
       "<Figure size 864x576 with 2 Axes>"
      ]
     },
     "metadata": {
      "needs_background": "light"
     },
     "output_type": "display_data"
    }
   ],
   "source": [
    "history_ko_final_dict = history_ko_final.history\n",
    "\n",
    "acc = history_ko_final_dict['accuracy']\n",
    "val_acc = history_ko_final_dict['val_accuracy']\n",
    "loss = history_ko_final_dict['loss']\n",
    "val_loss = history_ko_final_dict['val_loss']\n",
    "\n",
    "epochs = range(1, len(acc) + 1)\n",
    "\n",
    "plt.figure(figsize=(12,8))\n",
    "\n",
    "# loss 그래프\n",
    "plt.subplot(1,2,1)\n",
    "plt.plot(epochs, loss, 'bo', label='Training loss')\n",
    "plt.plot(epochs, val_loss, 'b', label='Validation loss')\n",
    "plt.title('Training and validation loss')\n",
    "plt.xlabel('Epochs')\n",
    "plt.ylabel('Loss')\n",
    "plt.legend()\n",
    "\n",
    "# accuracy 그래프\n",
    "plt.subplot(1,2,2)\n",
    "plt.plot(epochs, acc, 'ro', label='Training acc')\n",
    "plt.plot(epochs, val_acc, 'r', label='Validation acc')\n",
    "plt.title('Training and validation accuracy')\n",
    "plt.xlabel('Epochs')\n",
    "plt.ylabel('Accuracy')\n",
    "plt.legend()\n",
    "\n",
    "plt.show()"
   ]
  },
  {
   "cell_type": "code",
   "execution_count": 52,
   "id": "stretch-congo",
   "metadata": {},
   "outputs": [
    {
     "name": "stdout",
     "output_type": "stream",
     "text": [
      "1537/1537 - 6s - loss: 0.3642 - accuracy: 0.8621\n",
      "[0.3641846776008606, 0.8620542287826538]\n"
     ]
    }
   ],
   "source": [
    "results = model_ko_final.evaluate(X_test_pre,  y_test, verbose=2)\n",
    "\n",
    "print(results)"
   ]
  },
  {
   "cell_type": "markdown",
   "id": "fantastic-modern",
   "metadata": {},
   "source": [
    "Dropout 을 추가하여 모델을 생성한 결과 test set 에서의 정확도는 __0.8621__ 으로 향상 된 것을 확인 할 수 있다."
   ]
  },
  {
   "cell_type": "markdown",
   "id": "jewish-whale",
   "metadata": {},
   "source": [
    "### Bidirectional layer\n",
    "\n",
    "참고 링크 : [Bidirectional layer](https://keras.io/api/layers/recurrent_layers/bidirectional/)"
   ]
  },
  {
   "cell_type": "code",
   "execution_count": 53,
   "id": "functioning-ideal",
   "metadata": {},
   "outputs": [
    {
     "name": "stdout",
     "output_type": "stream",
     "text": [
      "Model: \"sequential_8\"\n",
      "_________________________________________________________________\n",
      "Layer (type)                 Output Shape              Param #   \n",
      "=================================================================\n",
      "embedding_8 (Embedding)      (None, 41, 200)           2000000   \n",
      "_________________________________________________________________\n",
      "bidirectional (Bidirectional (None, 256)               336896    \n",
      "_________________________________________________________________\n",
      "dropout_2 (Dropout)          (None, 256)               0         \n",
      "_________________________________________________________________\n",
      "dense_16 (Dense)             (None, 8)                 2056      \n",
      "_________________________________________________________________\n",
      "dropout_3 (Dropout)          (None, 8)                 0         \n",
      "_________________________________________________________________\n",
      "dense_17 (Dense)             (None, 1)                 9         \n",
      "=================================================================\n",
      "Total params: 2,338,961\n",
      "Trainable params: 2,338,961\n",
      "Non-trainable params: 0\n",
      "_________________________________________________________________\n"
     ]
    }
   ],
   "source": [
    "# LSTM 레이어로 모델 설계\n",
    "model_ko_final_2 = keras.Sequential()\n",
    "model_ko_final_2.add(keras.layers.Embedding(vocab_size, \n",
    "                                 word_vector_dim, \n",
    "                                 embeddings_initializer=Constant(embedding_matrix),  # 카피한 임베딩을 여기서 활용\n",
    "                                 input_length=maxlen, \n",
    "                                 trainable=True))   # trainable을 True로 주면 Fine-tuning\n",
    "model_ko_final_2.add(keras.layers.Bidirectional(keras.layers.LSTM(128, recurrent_dropout=0)))   # Bidirectional layer\n",
    "model_ko_final_2.add(keras.layers.Dropout(0.25))\n",
    "model_ko_final_2.add(keras.layers.Dense(8, activation='relu'))\n",
    "model_ko_final_2.add(keras.layers.Dropout(0.3))\n",
    "model_ko_final_2.add(keras.layers.Dense(1, activation='sigmoid'))  # 최종 출력은 긍정/부정을 나타내는 1dim\n",
    "model_ko_final_2.summary()"
   ]
  },
  {
   "cell_type": "code",
   "execution_count": 54,
   "id": "alternative-benjamin",
   "metadata": {},
   "outputs": [
    {
     "name": "stdout",
     "output_type": "stream",
     "text": [
      "Epoch 1/5\n",
      "1581/1581 [==============================] - 56s 34ms/step - loss: 0.5138 - accuracy: 0.7395 - val_loss: 0.3392 - val_accuracy: 0.8539\n",
      "Epoch 2/5\n",
      "1581/1581 [==============================] - 45s 28ms/step - loss: 0.3308 - accuracy: 0.8683 - val_loss: 0.3177 - val_accuracy: 0.8629\n",
      "Epoch 3/5\n",
      "1581/1581 [==============================] - 45s 28ms/step - loss: 0.2861 - accuracy: 0.8879 - val_loss: 0.3157 - val_accuracy: 0.8651\n",
      "Epoch 4/5\n",
      "1581/1581 [==============================] - 44s 28ms/step - loss: 0.2453 - accuracy: 0.9064 - val_loss: 0.3234 - val_accuracy: 0.8668\n",
      "Epoch 5/5\n",
      "1581/1581 [==============================] - 44s 28ms/step - loss: 0.2124 - accuracy: 0.9210 - val_loss: 0.3413 - val_accuracy: 0.8656\n"
     ]
    }
   ],
   "source": [
    "model_ko_final_2.compile(optimizer='adam',\n",
    "              loss='binary_crossentropy',\n",
    "              metrics=['accuracy'])\n",
    "              \n",
    "epochs=5   \n",
    "\n",
    "history_ko_final_2 = model_ko_final_2.fit(partial_X_train_pre,\n",
    "                    partial_y_train,\n",
    "                    epochs=epochs,\n",
    "                    batch_size=64,\n",
    "                    validation_data=(X_val_pre, y_val),\n",
    "                    verbose=1)"
   ]
  },
  {
   "cell_type": "code",
   "execution_count": 55,
   "id": "dynamic-coordinate",
   "metadata": {},
   "outputs": [
    {
     "data": {
      "image/png": "[encoded data removed]",
      "text/plain": [
       "<Figure size 864x576 with 2 Axes>"
      ]
     },
     "metadata": {
      "needs_background": "light"
     },
     "output_type": "display_data"
    }
   ],
   "source": [
    "history_ko_final_2_dict = history_ko_final_2.history\n",
    "\n",
    "acc = history_ko_final_2_dict['accuracy']\n",
    "val_acc = history_ko_final_2_dict['val_accuracy']\n",
    "loss = history_ko_final_2_dict['loss']\n",
    "val_loss = history_ko_final_2_dict['val_loss']\n",
    "\n",
    "epochs = range(1, len(acc) + 1)\n",
    "\n",
    "plt.figure(figsize=(12,8))\n",
    "\n",
    "# loss 그래프\n",
    "plt.subplot(1,2,1)\n",
    "plt.plot(epochs, loss, 'bo', label='Training loss')\n",
    "plt.plot(epochs, val_loss, 'b', label='Validation loss')\n",
    "plt.title('Training and validation loss')\n",
    "plt.xlabel('Epochs')\n",
    "plt.ylabel('Loss')\n",
    "plt.legend()\n",
    "\n",
    "# accuracy 그래프\n",
    "plt.subplot(1,2,2)\n",
    "plt.plot(epochs, acc, 'ro', label='Training acc')\n",
    "plt.plot(epochs, val_acc, 'r', label='Validation acc')\n",
    "plt.title('Training and validation accuracy')\n",
    "plt.xlabel('Epochs')\n",
    "plt.ylabel('Accuracy')\n",
    "plt.legend()\n",
    "\n",
    "plt.show()"
   ]
  },
  {
   "cell_type": "code",
   "execution_count": 56,
   "id": "hollywood-michigan",
   "metadata": {},
   "outputs": [
    {
     "name": "stdout",
     "output_type": "stream",
     "text": [
      "1537/1537 - 9s - loss: 0.3508 - accuracy: 0.8614\n",
      "[0.35077765583992004, 0.8614439368247986]\n"
     ]
    }
   ],
   "source": [
    "results = model_ko_final_2.evaluate(X_test_pre,  y_test, verbose=2)\n",
    "\n",
    "print(results)"
   ]
  },
  {
   "cell_type": "markdown",
   "id": "informative-control",
   "metadata": {},
   "source": [
    "Bidirectional layer LSTM 으로 모델을 생성한 결과 test set 에서의 정확도는 0.8614 으로 이전과 거의 비슷한 것을 확인 할 수 있다."
   ]
  },
  {
   "cell_type": "markdown",
   "id": "protected-mission",
   "metadata": {},
   "source": [
    "----\n",
    "# 프로젝트 정리"
   ]
  },
  {
   "cell_type": "markdown",
   "id": "national-jewelry",
   "metadata": {},
   "source": [
    "### 기본 데이터 셋을 이용한 모델의 정확도\n",
    "\n",
    "|모델|앞 패딩(pre)적용 정확도|뒷 패딩(post) 적용 정확도|\n",
    "|:----:|:----:|:----:|\n",
    "|RNN (LSTM)|0.8437|0.8427|\n",
    "|1-D CNN|0.7662|0.8424|\n",
    "|GlobalMaxPooling1D() 레이어|0.8415|0.8415|"
   ]
  },
  {
   "cell_type": "markdown",
   "id": "offshore-howard",
   "metadata": {},
   "source": [
    "> RNN 모델의 경우, 입력데이터가 순차적으로 처리되어, 가장 마지막 입력이 최종 state 값에 가장 영향을 많이 미치게 된다. 그러므로 마지막 입력이 무의미한 padding으로 채워지는 것은 비효율적이다.  \n",
    "따라서 pre padding 이 적용되었을 때, 더 좋은 성능을 보였다."
   ]
  },
  {
   "cell_type": "markdown",
   "id": "allied-tutorial",
   "metadata": {},
   "source": [
    "> 위의 1-D CNN 모델의 경우, post 패딩을 적용했을 때의 정확도가 pre 패딩을 적용했을때보다 훨씬 높게 나온다. 이것의 원인을 한번 살펴볼 필요성이 있다."
   ]
  },
  {
   "cell_type": "markdown",
   "id": "under-breast",
   "metadata": {},
   "source": [
    "Mahidhar Dwarampudi, N V Subba Reddy - __Effects of padding on LSTMs and CNNs (18 Mar 2019)__ 를 참고하면  \n",
    "- LSTM과 달리 CNN모델에서는 무언가를 기억하려고 하지 않기 때문에 사전 패딩 및 사후 패딩은 CNN에 중요하지 않다. 그저 이전 출력에서 대신 주어진 데이터에서 패턴을 찾으려고 시도한다.   \n",
    "- 감정 분석의 경우 LSTM이 CNN보다 효율적이다.\n",
    "- LSTM의 경우, pre padding 으로 시퀀스를 채우는 것이 더 효율적이다.\n",
    "- 일반적으로 여러 유형의 신경망이 결합되어 작업을 수행할 때 pre padding 이 더 좋다.\n",
    "\n",
    "[참고 링크](https://arxiv.org/abs/1903.07288)"
   ]
  },
  {
   "cell_type": "markdown",
   "id": "protective-sight",
   "metadata": {},
   "source": [
    "### 한국어 Word2Vec 임베딩 활용하여 성능개선\n",
    "\n",
    "pre-padding 된 데이터로 학습 및 평가함"
   ]
  },
  {
   "cell_type": "markdown",
   "id": "different-sunday",
   "metadata": {},
   "source": [
    "|모델|추가한 점|정확도|\n",
    "|:----:|:----:|:----:|\n",
    "|RNN (LSTM)||__0.8580__|\n",
    "|RNN (LSTM)|Dropout|__0.8621__|\n",
    "|RNN (LSTM)|Dropout, Bidirectional layer|__0.8614__|"
   ]
  },
  {
   "cell_type": "markdown",
   "id": "enhanced-trust",
   "metadata": {},
   "source": [
    "한국어 Word2Vec 을 사용하여 임베딩을 진행하고 추가로 Dropout 을 진행한 결과 최종 test set의 정확도가 0.86정도로 나왔다."
   ]
  },
  {
   "cell_type": "markdown",
   "id": "phantom-traffic",
   "metadata": {},
   "source": []
  }
 ],
 "metadata": {
  "kernelspec": {
   "display_name": "Python 3",
   "language": "python",
   "name": "python3"
  },
  "language_info": {
   "codemirror_mode": {
    "name": "ipython",
    "version": 3
   },
   "file_extension": ".py",
   "mimetype": "text/x-python",
   "name": "python",
   "nbconvert_exporter": "python",
   "pygments_lexer": "ipython3",
   "version": "3.7.9"
  }
 },
 "nbformat": 4,
 "nbformat_minor": 5
}
