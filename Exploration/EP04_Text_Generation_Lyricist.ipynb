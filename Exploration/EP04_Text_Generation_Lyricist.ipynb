{
 "cells": [
  {
   "cell_type": "markdown",
   "id": "returning-native",
   "metadata": {},
   "source": [
    "# Exploration4 . Text Generation. 작사가 만들기\n"
   ]
  },
  {
   "cell_type": "markdown",
   "id": "incorporated-forwarding",
   "metadata": {},
   "source": [
    "![image](https://user-images.githubusercontent.com/84179578/126740374-78072ca8-87a0-4667-90b2-b0a8fa1801e0.png)"
   ]
  },
  {
   "cell_type": "code",
   "execution_count": null,
   "id": "humanitarian-profit",
   "metadata": {},
   "outputs": [],
   "source": []
  }
 ],
 "metadata": {
  "kernelspec": {
   "display_name": "Python 3",
   "language": "python",
   "name": "python3"
  },
  "language_info": {
   "codemirror_mode": {
    "name": "ipython",
    "version": 3
   },
   "file_extension": ".py",
   "mimetype": "text/x-python",
   "name": "python",
   "nbconvert_exporter": "python",
   "pygments_lexer": "ipython3",
   "version": "3.7.9"
  }
 },
 "nbformat": 4,
 "nbformat_minor": 5
}
