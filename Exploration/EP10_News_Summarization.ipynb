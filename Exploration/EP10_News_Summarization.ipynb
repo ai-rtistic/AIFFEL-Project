{
 "cells": [
  {
   "cell_type": "markdown",
   "id": "expanded-savage",
   "metadata": {},
   "source": [
    "# 미니프로젝트 : 뉴스 기사 Text Summarization \n",
    "\n",
    "텍스트 요약(Text Summarization)이란 긴 길이의 문서(Document) 원문을 핵심 주제만으로 구성된 짧은 요약(Summary) 문장들로 변환하는 것이다.\n",
    "\n",
    "텍스트 요약은 크게 추출적 요약(extractive summarization)과 추상적 요약(abstractive summarization)으로 나뉜다.\n",
    "\n",
    "- __추출적 요약(Extractive Summarization)__ : 원문에서 중요한 핵심 문장 또는 단어구를 몇 개 뽑아서 이들로 구성된 요약문을 만드는 방법\n",
    "- __추상적 요약(Abstractive Summarization)__ : 원문에 없던 문장이라도 핵심 문맥을 반영한 새로운 문장을 생성해서 원문을 요약하는 방법\n",
    "\n",
    "두 가지 방법을 각각 이용하여 뉴스기사 데이터셋을 요약해보자.\n",
    "\n",
    "----\n",
    "\n",
    "----\n",
    "# 추상적 요약 (Abstractive Summarization)\n"
   ]
  },
  {
   "cell_type": "markdown",
   "id": "romance-copyright",
   "metadata": {},
   "source": [
    "## 0. 필요한 모듈 불러오기"
   ]
  },
  {
   "cell_type": "code",
   "execution_count": 1,
   "id": "wicked-round",
   "metadata": {},
   "outputs": [
    {
     "name": "stderr",
     "output_type": "stream",
     "text": [
      "[nltk_data] Downloading package stopwords to /aiffel/nltk_data...\n",
      "[nltk_data]   Package stopwords is already up-to-date!\n"
     ]
    }
   ],
   "source": [
    "import nltk\n",
    "nltk.download('stopwords')\n",
    "\n",
    "import numpy as np\n",
    "import pandas as pd\n",
    "import os\n",
    "import re\n",
    "import matplotlib.pyplot as plt\n",
    "\n",
    "from sklearn.model_selection import train_test_split\n",
    "from nltk.corpus import stopwords\n",
    "from bs4 import BeautifulSoup \n",
    "from tensorflow.keras.preprocessing.text import Tokenizer \n",
    "from tensorflow.keras.preprocessing.sequence import pad_sequences\n",
    "import urllib.request"
   ]
  },
  {
   "cell_type": "markdown",
   "id": "promotional-identification",
   "metadata": {},
   "source": [
    "## 1. 데이터 준비\n",
    "아래 링크에 있는 뉴스 기사 데이터(`news_summary_more.csv`) 를 사용한다.\n",
    ">[sunnysai12345/News_Summary](https://github.com/sunnysai12345/News_Summary)"
   ]
  },
  {
   "cell_type": "code",
   "execution_count": 2,
   "id": "mathematical-photographer",
   "metadata": {},
   "outputs": [
    {
     "name": "stdout",
     "output_type": "stream",
     "text": [
      "전체 샘플수 : 98401\n"
     ]
    }
   ],
   "source": [
    "# 데이터 다운로드\n",
    "urllib.request.urlretrieve(\"https://raw.githubusercontent.com/sunnysai12345/News_Summary/master/news_summary_more.csv\", filename=\"news_summary_more.csv\")\n",
    "data = pd.read_csv('news_summary_more.csv', encoding='iso-8859-1')\n",
    "print('전체 샘플수 :', (len(data)))"
   ]
  },
  {
   "cell_type": "code",
   "execution_count": 3,
   "id": "peripheral-palmer",
   "metadata": {},
   "outputs": [
    {
     "data": {
      "text/html": [
       "<div>\n",
       "<style scoped>\n",
       "    .dataframe tbody tr th:only-of-type {\n",
       "        vertical-align: middle;\n",
       "    }\n",
       "\n",
       "    .dataframe tbody tr th {\n",
       "        vertical-align: top;\n",
       "    }\n",
       "\n",
       "    .dataframe thead th {\n",
       "        text-align: right;\n",
       "    }\n",
       "</style>\n",
       "<table border=\"1\" class=\"dataframe\">\n",
       "  <thead>\n",
       "    <tr style=\"text-align: right;\">\n",
       "      <th></th>\n",
       "      <th>headlines</th>\n",
       "      <th>text</th>\n",
       "    </tr>\n",
       "  </thead>\n",
       "  <tbody>\n",
       "    <tr>\n",
       "      <th>95351</th>\n",
       "      <td>UP man kills daughter &amp; her boyfriend for 'fam...</td>\n",
       "      <td>A man murdered his 19-year-old daughter and he...</td>\n",
       "    </tr>\n",
       "    <tr>\n",
       "      <th>24824</th>\n",
       "      <td>Ex-delivery boy partners Amazon employee to ch...</td>\n",
       "      <td>Amazon India's ex-delivery boy partnered with ...</td>\n",
       "    </tr>\n",
       "    <tr>\n",
       "      <th>29619</th>\n",
       "      <td>Kerala asks visitors to avoid 4 districts amid...</td>\n",
       "      <td>After 12 people died due to Nipah virus in Ker...</td>\n",
       "    </tr>\n",
       "    <tr>\n",
       "      <th>94258</th>\n",
       "      <td>Barclays CEO faces pay cut on trying to unmask...</td>\n",
       "      <td>Banking major Barclays' CEO Jes Staley will be...</td>\n",
       "    </tr>\n",
       "    <tr>\n",
       "      <th>68935</th>\n",
       "      <td>PV Sindhu becomes world number 2 in latest ran...</td>\n",
       "      <td>Rio Olympic silver medalist PV Sindhu has jump...</td>\n",
       "    </tr>\n",
       "    <tr>\n",
       "      <th>30930</th>\n",
       "      <td>Aditya Birla Capital's 2 firms seek approval f...</td>\n",
       "      <td>Aditya Birla Capital's two units are in the pr...</td>\n",
       "    </tr>\n",
       "    <tr>\n",
       "      <th>95356</th>\n",
       "      <td>Hugh Jackman saved me from burning building on...</td>\n",
       "      <td>Actor Zac Efron has revealed he was saved from...</td>\n",
       "    </tr>\n",
       "    <tr>\n",
       "      <th>33763</th>\n",
       "      <td>13-year-old boy signed by professional gaming ...</td>\n",
       "      <td>Thirteen-year-old Kyle Jackson has become one ...</td>\n",
       "    </tr>\n",
       "    <tr>\n",
       "      <th>49175</th>\n",
       "      <td>Aus to use Tesla batteries for 'largest virtua...</td>\n",
       "      <td>South Australia is planning to use Tesla batte...</td>\n",
       "    </tr>\n",
       "    <tr>\n",
       "      <th>97764</th>\n",
       "      <td>We fight everywhere: Kapil on reports of assau...</td>\n",
       "      <td>Reacting to reports of him physically assaulti...</td>\n",
       "    </tr>\n",
       "  </tbody>\n",
       "</table>\n",
       "</div>"
      ],
      "text/plain": [
       "                                               headlines  \\\n",
       "95351  UP man kills daughter & her boyfriend for 'fam...   \n",
       "24824  Ex-delivery boy partners Amazon employee to ch...   \n",
       "29619  Kerala asks visitors to avoid 4 districts amid...   \n",
       "94258  Barclays CEO faces pay cut on trying to unmask...   \n",
       "68935  PV Sindhu becomes world number 2 in latest ran...   \n",
       "30930  Aditya Birla Capital's 2 firms seek approval f...   \n",
       "95356  Hugh Jackman saved me from burning building on...   \n",
       "33763  13-year-old boy signed by professional gaming ...   \n",
       "49175  Aus to use Tesla batteries for 'largest virtua...   \n",
       "97764  We fight everywhere: Kapil on reports of assau...   \n",
       "\n",
       "                                                    text  \n",
       "95351  A man murdered his 19-year-old daughter and he...  \n",
       "24824  Amazon India's ex-delivery boy partnered with ...  \n",
       "29619  After 12 people died due to Nipah virus in Ker...  \n",
       "94258  Banking major Barclays' CEO Jes Staley will be...  \n",
       "68935  Rio Olympic silver medalist PV Sindhu has jump...  \n",
       "30930  Aditya Birla Capital's two units are in the pr...  \n",
       "95356  Actor Zac Efron has revealed he was saved from...  \n",
       "33763  Thirteen-year-old Kyle Jackson has become one ...  \n",
       "49175  South Australia is planning to use Tesla batte...  \n",
       "97764  Reacting to reports of him physically assaulti...  "
      ]
     },
     "execution_count": 3,
     "metadata": {},
     "output_type": "execute_result"
    }
   ],
   "source": [
    "data.sample(10)"
   ]
  },
  {
   "cell_type": "markdown",
   "id": "pressed-noise",
   "metadata": {},
   "source": [
    "이 데이터는 기사의 본문에 해당되는 `text`와 `headlines` 두 가지 열로 구성되어 있다.  \n",
    "\n",
    "각 요약 방법에 따라 데이터를 아래와 같이 사용한다.\n",
    "- 추상적 요약 :  text를 본문, headlines를 이미 요약된 데이터로 삼아서 모델을 학습\n",
    "- 추출적 요약 : 오직 text열만을 사용 "
   ]
  },
  {
   "cell_type": "markdown",
   "id": "seventh-extreme",
   "metadata": {},
   "source": [
    "----\n",
    "## 2. 데이터 전처리\n",
    "\n",
    "데이터 전처리 과정은 크게 세 과정으로 나눠서 진행한다.  \n",
    "\n",
    "- 데이터 정리\n",
    "- 훈련 데이터와 데스트 데이터 분할\n",
    "- 정수 인코딩"
   ]
  },
  {
   "cell_type": "markdown",
   "id": "selected-bradford",
   "metadata": {},
   "source": [
    "## 2-1 .  데이터 전처리 - 데이터 정리"
   ]
  },
  {
   "cell_type": "markdown",
   "id": "rising-puppy",
   "metadata": {},
   "source": [
    "### 중복 샘플과 NULL 값이 존재하는 샘플 제거"
   ]
  },
  {
   "cell_type": "code",
   "execution_count": 4,
   "id": "hourly-minister",
   "metadata": {},
   "outputs": [
    {
     "name": "stdout",
     "output_type": "stream",
     "text": [
      "text 열에서 중복을 배제한 유일한 샘플의 수 : 98360\n",
      "headlines 열에서 중복을 배제한 유일한 샘플의 수 : 98280\n"
     ]
    }
   ],
   "source": [
    "# 데이터의 중복 샘플 유무 확인\n",
    "print('text 열에서 중복을 배제한 유일한 샘플의 수 :', data['text'].nunique())\n",
    "print('headlines 열에서 중복을 배제한 유일한 샘플의 수 :', data['headlines'].nunique())"
   ]
  },
  {
   "cell_type": "markdown",
   "id": "sized-front",
   "metadata": {},
   "source": [
    "\n",
    "Headlines 는 아주 간단한 요약들도 많아서 Text가 달라도 headlines는 동일할 수 있다. 따라서 Text 자체가 중복이 된 경우만 중복 샘플로 취급하여 제거한다.\n",
    "\n",
    "전체 샘플수는 98401개 이므로 `text` 열에서 41개 중복이 존재하는 것을 알 수 있다."
   ]
  },
  {
   "cell_type": "code",
   "execution_count": 5,
   "id": "leading-timber",
   "metadata": {},
   "outputs": [
    {
     "name": "stdout",
     "output_type": "stream",
     "text": [
      "전체 샘플수 : 98360\n"
     ]
    }
   ],
   "source": [
    "# inplace=True 를 설정하면 DataFrame 타입 값을 return 하지 않고 data 내부를 직접적으로 바꿈\n",
    "data.drop_duplicates(subset = ['text'], inplace=True)\n",
    "print('전체 샘플수 :', (len(data)))"
   ]
  },
  {
   "cell_type": "markdown",
   "id": "absolute-amsterdam",
   "metadata": {},
   "source": [
    "`.isnull().sum()` 를 사용해 데이터의 Null 값이 있는지 확인한다."
   ]
  },
  {
   "cell_type": "code",
   "execution_count": 6,
   "id": "subject-belgium",
   "metadata": {},
   "outputs": [
    {
     "name": "stdout",
     "output_type": "stream",
     "text": [
      "headlines    0\n",
      "text         0\n",
      "dtype: int64\n"
     ]
    }
   ],
   "source": [
    "print(data.isnull().sum())"
   ]
  },
  {
   "cell_type": "markdown",
   "id": "religious-halifax",
   "metadata": {},
   "source": [
    "결측치가 존재하지 않는 것을 확인 할 수 있다."
   ]
  },
  {
   "cell_type": "markdown",
   "id": "unavailable-graph",
   "metadata": {},
   "source": [
    "### 텍스트 정규화와 불용어 제거\n",
    "\n",
    "__텍스트 정규화(text normalization)__ 란, `it'll` = `it will`, `mustn't` = `must not` 와 같은 같은 의미의 표현들을 통일시키는 과정이다. 텍스트 정규화를 통해 기계의 연산량을 줄일 수 있다.  \n",
    "\n",
    "아래의 링크를 참고하여 텍스트 정규화를 위한 딕셔너리를 구성한다.  \n",
    "> [정규화 사전 출처](https://stackoverflow.com/questions/19790188/expanding-english-language-contractions-in-python)"
   ]
  },
  {
   "cell_type": "code",
   "execution_count": 7,
   "id": "proprietary-reconstruction",
   "metadata": {},
   "outputs": [
    {
     "name": "stdout",
     "output_type": "stream",
     "text": [
      "정규화 사전의 수:  120\n"
     ]
    }
   ],
   "source": [
    "contractions = {\"ain't\": \"is not\", \"aren't\": \"are not\",\"can't\": \"cannot\", \"'cause\": \"because\", \"could've\": \"could have\", \"couldn't\": \"could not\",\n",
    "                           \"didn't\": \"did not\",  \"doesn't\": \"does not\", \"don't\": \"do not\", \"hadn't\": \"had not\", \"hasn't\": \"has not\", \"haven't\": \"have not\",\n",
    "                           \"he'd\": \"he would\",\"he'll\": \"he will\", \"he's\": \"he is\", \"how'd\": \"how did\", \"how'd'y\": \"how do you\", \"how'll\": \"how will\", \"how's\": \"how is\",\n",
    "                           \"I'd\": \"I would\", \"I'd've\": \"I would have\", \"I'll\": \"I will\", \"I'll've\": \"I will have\",\"I'm\": \"I am\", \"I've\": \"I have\", \"i'd\": \"i would\",\n",
    "                           \"i'd've\": \"i would have\", \"i'll\": \"i will\",  \"i'll've\": \"i will have\",\"i'm\": \"i am\", \"i've\": \"i have\", \"isn't\": \"is not\", \"it'd\": \"it would\",\n",
    "                           \"it'd've\": \"it would have\", \"it'll\": \"it will\", \"it'll've\": \"it will have\",\"it's\": \"it is\", \"let's\": \"let us\", \"ma'am\": \"madam\",\n",
    "                           \"mayn't\": \"may not\", \"might've\": \"might have\",\"mightn't\": \"might not\",\"mightn't've\": \"might not have\", \"must've\": \"must have\",\n",
    "                           \"mustn't\": \"must not\", \"mustn't've\": \"must not have\", \"needn't\": \"need not\", \"needn't've\": \"need not have\",\"o'clock\": \"of the clock\",\n",
    "                           \"oughtn't\": \"ought not\", \"oughtn't've\": \"ought not have\", \"shan't\": \"shall not\", \"sha'n't\": \"shall not\", \"shan't've\": \"shall not have\",\n",
    "                           \"she'd\": \"she would\", \"she'd've\": \"she would have\", \"she'll\": \"she will\", \"she'll've\": \"she will have\", \"she's\": \"she is\",\n",
    "                           \"should've\": \"should have\", \"shouldn't\": \"should not\", \"shouldn't've\": \"should not have\", \"so've\": \"so have\",\"so's\": \"so as\",\n",
    "                           \"this's\": \"this is\",\"that'd\": \"that would\", \"that'd've\": \"that would have\", \"that's\": \"that is\", \"there'd\": \"there would\",\n",
    "                           \"there'd've\": \"there would have\", \"there's\": \"there is\", \"here's\": \"here is\",\"they'd\": \"they would\", \"they'd've\": \"they would have\",\n",
    "                           \"they'll\": \"they will\", \"they'll've\": \"they will have\", \"they're\": \"they are\", \"they've\": \"they have\", \"to've\": \"to have\",\n",
    "                           \"wasn't\": \"was not\", \"we'd\": \"we would\", \"we'd've\": \"we would have\", \"we'll\": \"we will\", \"we'll've\": \"we will have\", \"we're\": \"we are\",\n",
    "                           \"we've\": \"we have\", \"weren't\": \"were not\", \"what'll\": \"what will\", \"what'll've\": \"what will have\", \"what're\": \"what are\",\n",
    "                           \"what's\": \"what is\", \"what've\": \"what have\", \"when's\": \"when is\", \"when've\": \"when have\", \"where'd\": \"where did\", \"where's\": \"where is\",\n",
    "                           \"where've\": \"where have\", \"who'll\": \"who will\", \"who'll've\": \"who will have\", \"who's\": \"who is\", \"who've\": \"who have\",\n",
    "                           \"why's\": \"why is\", \"why've\": \"why have\", \"will've\": \"will have\", \"won't\": \"will not\", \"won't've\": \"will not have\",\n",
    "                           \"would've\": \"would have\", \"wouldn't\": \"would not\", \"wouldn't've\": \"would not have\", \"y'all\": \"you all\",\n",
    "                           \"y'all'd\": \"you all would\",\"y'all'd've\": \"you all would have\",\"y'all're\": \"you all are\",\"y'all've\": \"you all have\",\n",
    "                           \"you'd\": \"you would\", \"you'd've\": \"you would have\", \"you'll\": \"you will\", \"you'll've\": \"you will have\",\n",
    "                           \"you're\": \"you are\", \"you've\": \"you have\"}\n",
    "\n",
    "print(\"정규화 사전의 수: \", len(contractions))"
   ]
  },
  {
   "cell_type": "markdown",
   "id": "pursuant-shame",
   "metadata": {},
   "source": [
    "__불용어__ 란 자연어 처리를 할 때 의미를 분석하고 요약하는 데는 거의 의미가 없는 단어이다.\n",
    "\n",
    "`NLTK` 에서 제공하는 불용어 리스트를 참조해, 샘플에서 불용어를 제거한다."
   ]
  },
  {
   "cell_type": "code",
   "execution_count": 8,
   "id": "retained-riverside",
   "metadata": {},
   "outputs": [
    {
     "name": "stdout",
     "output_type": "stream",
     "text": [
      "불용어 개수 : 179\n",
      "['i', 'me', 'my', 'myself', 'we', 'our', 'ours', 'ourselves', 'you', \"you're\", \"you've\", \"you'll\", \"you'd\", 'your', 'yours', 'yourself', 'yourselves', 'he', 'him', 'his', 'himself', 'she', \"she's\", 'her', 'hers', 'herself', 'it', \"it's\", 'its', 'itself', 'they', 'them', 'their', 'theirs', 'themselves', 'what', 'which', 'who', 'whom', 'this', 'that', \"that'll\", 'these', 'those', 'am', 'is', 'are', 'was', 'were', 'be', 'been', 'being', 'have', 'has', 'had', 'having', 'do', 'does', 'did', 'doing', 'a', 'an', 'the', 'and', 'but', 'if', 'or', 'because', 'as', 'until', 'while', 'of', 'at', 'by', 'for', 'with', 'about', 'against', 'between', 'into', 'through', 'during', 'before', 'after', 'above', 'below', 'to', 'from', 'up', 'down', 'in', 'out', 'on', 'off', 'over', 'under', 'again', 'further', 'then', 'once', 'here', 'there', 'when', 'where', 'why', 'how', 'all', 'any', 'both', 'each', 'few', 'more', 'most', 'other', 'some', 'such', 'no', 'nor', 'not', 'only', 'own', 'same', 'so', 'than', 'too', 'very', 's', 't', 'can', 'will', 'just', 'don', \"don't\", 'should', \"should've\", 'now', 'd', 'll', 'm', 'o', 're', 've', 'y', 'ain', 'aren', \"aren't\", 'couldn', \"couldn't\", 'didn', \"didn't\", 'doesn', \"doesn't\", 'hadn', \"hadn't\", 'hasn', \"hasn't\", 'haven', \"haven't\", 'isn', \"isn't\", 'ma', 'mightn', \"mightn't\", 'mustn', \"mustn't\", 'needn', \"needn't\", 'shan', \"shan't\", 'shouldn', \"shouldn't\", 'wasn', \"wasn't\", 'weren', \"weren't\", 'won', \"won't\", 'wouldn', \"wouldn't\"]\n"
     ]
    }
   ],
   "source": [
    "print('불용어 개수 :', len(stopwords.words('english') ))\n",
    "print(stopwords.words('english'))"
   ]
  },
  {
   "cell_type": "markdown",
   "id": "healthy-duration",
   "metadata": {},
   "source": [
    "다음과 같은 기능을 수행하는 데이터 전처리 함수 `preprocess_sentence` 를 생성한다.\n",
    "\n",
    "- 모든 영어 문자를 소문자로 변환\n",
    "- 섞여있는 html 태그 제러\n",
    "- 정규 표현식을 통해 각종 특수문자 제거\n",
    "- `text` 데이터만 불용어 제거하기 위해 함수의 인자로 remove_stopwords 추가 -> Abstractive한 문장 요약 결과문이 자연스러운 문장이 되려면 이 불용어들이 `headlines`에는 남아 있는 게 더 좋음"
   ]
  },
  {
   "cell_type": "code",
   "execution_count": 9,
   "id": "computational-clearing",
   "metadata": {},
   "outputs": [],
   "source": [
    "#데이터 전처리 함수\n",
    "def preprocess_sentence(sentence, remove_stopwords=True):\n",
    "    sentence = sentence.lower() # 텍스트 소문자화\n",
    "    sentence = BeautifulSoup(sentence, \"lxml\").text # <br />, <a href = ...> 등의 html 태그 제거\n",
    "    sentence = re.sub(r'\\([^)]*\\)', '', sentence) # 괄호로 닫힌 문자열 (...) 제거 Ex) my husband (and myself!) for => my husband for\n",
    "    sentence = re.sub('\"','', sentence) # 쌍따옴표 \" 제거\n",
    "    sentence = ' '.join([contractions[t] if t in contractions else t for t in sentence.split(\" \")]) # 약어 정규화\n",
    "    sentence = re.sub(r\"'s\\b\",\"\",sentence) # 소유격 제거. Ex) roland's -> roland\n",
    "    sentence = re.sub(\"[^a-zA-Z]\", \" \", sentence) # 영어 외 문자(숫자, 특수문자 등) 공백으로 변환\n",
    "    sentence = re.sub('[m]{2,}', 'mm', sentence) # m이 3개 이상이면 2개로 변경. Ex) ummmmmmm yeah -> umm yeah\n",
    "    \n",
    "    # 불용어 제거 (text)\n",
    "    if remove_stopwords:\n",
    "        tokens = ' '.join(word for word in sentence.split() if not word in stopwords.words('english') if len(word) > 1)\n",
    "    # 불용어 미제거 (headlines)\n",
    "    else:\n",
    "        tokens = ' '.join(word for word in sentence.split() if len(word) > 1)\n",
    "    return tokens"
   ]
  },
  {
   "cell_type": "markdown",
   "id": "tutorial-sarah",
   "metadata": {},
   "source": [
    "훈련 데이터 전체에 대해서 전처리를 수행한다.\n",
    "\n",
    "`text`의 경우에는 불용어를 제거하고, `headlines` 의 경우에는 불용어를 제거하지 않을 것이므로 따로 호출해서 진행한다.\n",
    "\n",
    "멀티프로세싱을 활용하여 별도의 프로세스를 생성하여 병렬처리로 소요시간을 단축하여 진행한다."
   ]
  },
  {
   "cell_type": "code",
   "execution_count": 10,
   "id": "elementary-decade",
   "metadata": {},
   "outputs": [
    {
     "name": "stdout",
     "output_type": "stream",
     "text": [
      "183.60071063041687  seconds\n",
      "['saurav kant alumnus upgrad iiit pg program machine learning artificial intelligence sr systems engineer infosys almost years work experience program upgrad degree career support helped transition data scientist tech mahindra salary hike upgrad online power learning powered lakh careers'\n",
      " 'kunal shah credit card bill payment platform cred gave users chance win free food swiggy one year pranav kaushik delhi techie bagged reward spending cred coins users get one cred coin per rupee bill paid used avail rewards brands like ixigo bookmyshow ubereats cult fit'\n",
      " 'new zealand defeated india wickets fourth odi hamilton thursday win first match five match odi series india lost international match rohit sharma captaincy consecutive victories dating back march match witnessed india getting seventh lowest total odi cricket history'\n",
      " ...\n",
      " 'according reports new version science fiction film matrix development michael jordan reportedly play lead role film screenwriter zak penn talks write script film reports added actor keanu reeves starred original film followed two sequels'\n",
      " 'new music video shows rapper snoop dogg aiming toy gun clown character parodying us president donald trump video also shows tv airing news conference headline ronald klump wants deport doggs airing live clown house video remixed version song lavender'\n",
      " 'madhesi morcha alliance seven political parties withdrawn support pm pushpa kamal dahal led nepal government failed meet seven day ultimatum fulfil demands including endorsement revised constitution amendment bill morcha seats parliament despite withdrawal support immediate threat government']\n",
      "6.084692716598511  seconds\n",
      "['upgrad learner switches to career in ml al with salary hike'\n",
      " 'delhi techie wins free food from swiggy for one year on cred'\n",
      " 'new zealand end rohit sharma led india match winning streak' ...\n",
      " 'the matrix film to get reboot reports'\n",
      " 'snoop dogg aims gun at clown dressed as trump in new video'\n",
      " 'madhesi morcha withdraws support to nepalese government']\n"
     ]
    }
   ],
   "source": [
    "import multiprocessing as mp  \n",
    "from multiprocessing import Pool\n",
    "import numpy as np\n",
    "import time\n",
    "from functools import partial  # map을 할 때 함수에 여러 인자를 넣어줄 수 있도록 함\n",
    "\n",
    "start = time.time()\n",
    "\n",
    "# num_cores 만큼 쪼개진 데이터를 전처리하여 반환\n",
    "def appendTexts(sentences, remove_stopwords):\n",
    "  texts = []\n",
    "  for s in sentences:\n",
    "    texts += preprocess_sentence(s, remove_stopwords),\n",
    "  return texts\n",
    "\n",
    "def preprocess_data(data, remove_stopwords=True):\n",
    "  start_time = time.time()\n",
    "  num_cores = mp.cpu_count()  # 컴퓨터의 코어 수를 구합니다\n",
    "\n",
    "  text_data_split = np.array_split(data, num_cores)  # 코어 수만큼 데이터를 배분하여 병렬적으로 처리할 수 있게 합니다\n",
    "  pool = Pool(num_cores)\n",
    "\n",
    "  processed_data = np.concatenate(pool.map(partial(appendTexts, remove_stopwords=remove_stopwords), text_data_split))  # 각자 작업한 데이터를 하나로 합쳐줍니다\n",
    "  pool.close()\n",
    "  pool.join()\n",
    "  print(time.time() - start_time, \" seconds\")\n",
    "  return processed_data\n",
    "\n",
    "clean_text = preprocess_data(data['text'])  \n",
    "print(clean_text)\n",
    "\n",
    "clean_headlines = preprocess_data(data['headlines'], remove_stopwords=False) \n",
    "print(clean_headlines)"
   ]
  },
  {
   "cell_type": "markdown",
   "id": "sticky-addiction",
   "metadata": {},
   "source": [
    "정제 전에는 데이터가 존재했지만, 정제 과정에서 문장의 모든 단어가 사라지는 경우가 있을 수 있디. 이렇게 되면 샘플 자체가 빈 값을 가지게 된다.\n",
    "\n",
    "데이터를 보다 쉽게 확인하기 위하여 데이터프레임에 저장한다. 이후 빈(empty) 값을 가진 샘플들이 있다면, 모두 Null 값을 가진 샘플로 대체한다."
   ]
  },
  {
   "cell_type": "code",
   "execution_count": 11,
   "id": "attempted-extreme",
   "metadata": {},
   "outputs": [],
   "source": [
    "data['text'] = clean_text\n",
    "data['headlines'] = clean_headlines\n",
    "\n",
    "# 빈 값을 Null 값으로 변환\n",
    "data.replace('', np.nan, inplace=True)"
   ]
  },
  {
   "cell_type": "markdown",
   "id": "taken-vermont",
   "metadata": {},
   "source": [
    "## 2-2. 데이터 전처리 - 훈련 데이터와 테스트 데이터 분할"
   ]
  },
  {
   "cell_type": "markdown",
   "id": "differential-imagination",
   "metadata": {},
   "source": [
    "### 샘플의 최대 길이 정하기\n",
    "`text` 와 `headlines` 의 최소, 최대, 평균 길이를 구하도 길이 분포를 시각화해보자."
   ]
  },
  {
   "cell_type": "code",
   "execution_count": 12,
   "id": "killing-volume",
   "metadata": {},
   "outputs": [
    {
     "name": "stdout",
     "output_type": "stream",
     "text": [
      "text 의 최소 길이 : 1\n",
      "text 의 최대 길이 : 60\n",
      "text 의 평균 길이 : 35.09968483123221\n",
      "headlines 의 최소 길이 : 1\n",
      "headlines 의 최대 길이 : 16\n",
      "headlines 의 평균 길이 : 9.299532330215534\n"
     ]
    },
    {
     "data": {
      "image/png": "[encoded data removed]",
      "text/plain": [
       "<Figure size 432x288 with 2 Axes>"
      ]
     },
     "metadata": {
      "needs_background": "light"
     },
     "output_type": "display_data"
    },
    {
     "data": {
      "image/png": "[encoded data removed]",
      "text/plain": [
       "<Figure size 432x288 with 1 Axes>"
      ]
     },
     "metadata": {
      "needs_background": "light"
     },
     "output_type": "display_data"
    },
    {
     "data": {
      "image/png": "[encoded data removed]",
      "text/plain": [
       "<Figure size 432x288 with 1 Axes>"
      ]
     },
     "metadata": {
      "needs_background": "light"
     },
     "output_type": "display_data"
    }
   ],
   "source": [
    "# 길이 분포 출력\n",
    "import matplotlib.pyplot as plt\n",
    "\n",
    "text_len = [len(s.split()) for s in data['text']]\n",
    "headlines_len = [len(s.split()) for s in data['headlines']]\n",
    "\n",
    "print('text 의 최소 길이 : {}'.format(np.min(text_len)))\n",
    "print('text 의 최대 길이 : {}'.format(np.max(text_len)))\n",
    "print('text 의 평균 길이 : {}'.format(np.mean(text_len)))\n",
    "print('headlines 의 최소 길이 : {}'.format(np.min(headlines_len)))\n",
    "print('headlines 의 최대 길이 : {}'.format(np.max(headlines_len)))\n",
    "print('headlines 의 평균 길이 : {}'.format(np.mean(headlines_len)))\n",
    "\n",
    "plt.subplot(1,2,1)\n",
    "plt.boxplot(headlines_len)\n",
    "plt.title('headlines')\n",
    "plt.subplot(1,2,2)\n",
    "plt.boxplot(text_len)\n",
    "plt.title('text')\n",
    "plt.tight_layout()\n",
    "plt.show()\n",
    "\n",
    "plt.title('headlines')\n",
    "plt.hist(headlines_len, bins = 40)\n",
    "plt.xlabel('length of samples')\n",
    "plt.ylabel('number of samples')\n",
    "plt.show()\n",
    "\n",
    "plt.title('text')\n",
    "plt.hist(text_len, bins = 40)\n",
    "plt.xlabel('length of samples')\n",
    "plt.ylabel('number of samples')\n",
    "plt.show()"
   ]
  },
  {
   "cell_type": "markdown",
   "id": "right-lecture",
   "metadata": {},
   "source": [
    "위에서부터 그래프의 의미는 차례대로 아래과 같다.\n",
    "\n",
    "- Summary 과 실제 Text 의 길이 분포\n",
    "- 요약본 샘플 길이별 개수\n",
    "- 실제 텍스트 샘플 길이별 개수\n",
    "\n",
    "`text` 와 `headlines` 모두 정규 분포 곡선과 비슷한 형태로 데이터가 분포하는 것을 알 수 있다. 따라서 `text` 와 `headlines` 의 최대 길이는 모든 데이터가 포함 될수 있도록 지정한다."
   ]
  },
  {
   "cell_type": "code",
   "execution_count": 13,
   "id": "sexual-toronto",
   "metadata": {},
   "outputs": [],
   "source": [
    "text_max_len = 60\n",
    "headlines_max_len = 16"
   ]
  },
  {
   "cell_type": "code",
   "execution_count": 14,
   "id": "wired-dietary",
   "metadata": {},
   "outputs": [
    {
     "name": "stdout",
     "output_type": "stream",
     "text": [
      "전체 샘플 중 길이가 60 이하인 샘플의 비율: 1.0\n",
      "전체 샘플 중 길이가 16 이하인 샘플의 비율: 1.0\n"
     ]
    }
   ],
   "source": [
    "def below_threshold_len(max_len, nested_list):  # 데이터의 몇 %가 해당하는지 계산하는 함수\n",
    "  cnt = 0\n",
    "  for s in nested_list:\n",
    "    if(len(s.split()) <= max_len):\n",
    "        cnt = cnt + 1\n",
    "  print('전체 샘플 중 길이가 %s 이하인 샘플의 비율: %s'%(max_len, (cnt / len(nested_list))))\n",
    "\n",
    "below_threshold_len(text_max_len, data['text'])\n",
    "below_threshold_len(headlines_max_len,  data['headlines'])"
   ]
  },
  {
   "cell_type": "markdown",
   "id": "norman-article",
   "metadata": {},
   "source": [
    "### 시작 토근과 종료 토근 추가\n",
    "\n",
    "seq2seq 훈련을 위해서는 디코더의 입력과 레이블에 시작 토큰과 종료 토큰을 추가해야한다.\n",
    "\n",
    "시작 토큰은 `sostoken`, 종료 토큰은 `eostoken`이라 임의로 명명하고 앞, 뒤로 추가한다."
   ]
  },
  {
   "cell_type": "code",
   "execution_count": 15,
   "id": "successful-savage",
   "metadata": {},
   "outputs": [
    {
     "data": {
      "text/html": [
       "<div>\n",
       "<style scoped>\n",
       "    .dataframe tbody tr th:only-of-type {\n",
       "        vertical-align: middle;\n",
       "    }\n",
       "\n",
       "    .dataframe tbody tr th {\n",
       "        vertical-align: top;\n",
       "    }\n",
       "\n",
       "    .dataframe thead th {\n",
       "        text-align: right;\n",
       "    }\n",
       "</style>\n",
       "<table border=\"1\" class=\"dataframe\">\n",
       "  <thead>\n",
       "    <tr style=\"text-align: right;\">\n",
       "      <th></th>\n",
       "      <th>headlines</th>\n",
       "      <th>text</th>\n",
       "      <th>decoder_input</th>\n",
       "      <th>decoder_target</th>\n",
       "    </tr>\n",
       "  </thead>\n",
       "  <tbody>\n",
       "    <tr>\n",
       "      <th>0</th>\n",
       "      <td>upgrad learner switches to career in ml al wit...</td>\n",
       "      <td>saurav kant alumnus upgrad iiit pg program mac...</td>\n",
       "      <td>sostoken upgrad learner switches to career in ...</td>\n",
       "      <td>upgrad learner switches to career in ml al wit...</td>\n",
       "    </tr>\n",
       "    <tr>\n",
       "      <th>1</th>\n",
       "      <td>delhi techie wins free food from swiggy for on...</td>\n",
       "      <td>kunal shah credit card bill payment platform c...</td>\n",
       "      <td>sostoken delhi techie wins free food from swig...</td>\n",
       "      <td>delhi techie wins free food from swiggy for on...</td>\n",
       "    </tr>\n",
       "    <tr>\n",
       "      <th>2</th>\n",
       "      <td>new zealand end rohit sharma led india match w...</td>\n",
       "      <td>new zealand defeated india wickets fourth odi ...</td>\n",
       "      <td>sostoken new zealand end rohit sharma led indi...</td>\n",
       "      <td>new zealand end rohit sharma led india match w...</td>\n",
       "    </tr>\n",
       "    <tr>\n",
       "      <th>3</th>\n",
       "      <td>aegon life iterm insurance plan helps customer...</td>\n",
       "      <td>aegon life iterm insurance plan customers enjo...</td>\n",
       "      <td>sostoken aegon life iterm insurance plan helps...</td>\n",
       "      <td>aegon life iterm insurance plan helps customer...</td>\n",
       "    </tr>\n",
       "    <tr>\n",
       "      <th>4</th>\n",
       "      <td>have known hirani for yrs what if metoo claims...</td>\n",
       "      <td>speaking sexual harassment allegations rajkuma...</td>\n",
       "      <td>sostoken have known hirani for yrs what if met...</td>\n",
       "      <td>have known hirani for yrs what if metoo claims...</td>\n",
       "    </tr>\n",
       "  </tbody>\n",
       "</table>\n",
       "</div>"
      ],
      "text/plain": [
       "                                           headlines  \\\n",
       "0  upgrad learner switches to career in ml al wit...   \n",
       "1  delhi techie wins free food from swiggy for on...   \n",
       "2  new zealand end rohit sharma led india match w...   \n",
       "3  aegon life iterm insurance plan helps customer...   \n",
       "4  have known hirani for yrs what if metoo claims...   \n",
       "\n",
       "                                                text  \\\n",
       "0  saurav kant alumnus upgrad iiit pg program mac...   \n",
       "1  kunal shah credit card bill payment platform c...   \n",
       "2  new zealand defeated india wickets fourth odi ...   \n",
       "3  aegon life iterm insurance plan customers enjo...   \n",
       "4  speaking sexual harassment allegations rajkuma...   \n",
       "\n",
       "                                       decoder_input  \\\n",
       "0  sostoken upgrad learner switches to career in ...   \n",
       "1  sostoken delhi techie wins free food from swig...   \n",
       "2  sostoken new zealand end rohit sharma led indi...   \n",
       "3  sostoken aegon life iterm insurance plan helps...   \n",
       "4  sostoken have known hirani for yrs what if met...   \n",
       "\n",
       "                                      decoder_target  \n",
       "0  upgrad learner switches to career in ml al wit...  \n",
       "1  delhi techie wins free food from swiggy for on...  \n",
       "2  new zealand end rohit sharma led india match w...  \n",
       "3  aegon life iterm insurance plan helps customer...  \n",
       "4  have known hirani for yrs what if metoo claims...  "
      ]
     },
     "execution_count": 15,
     "metadata": {},
     "output_type": "execute_result"
    }
   ],
   "source": [
    "# headlines 데이터에는 시작 토큰과 종료 토큰을 추가\n",
    "data['decoder_input'] = data['headlines'].apply(lambda x : 'sostoken '+ x)\n",
    "data['decoder_target'] = data['headlines'].apply(lambda x : x + ' eostoken')\n",
    "data.head()"
   ]
  },
  {
   "cell_type": "code",
   "execution_count": 16,
   "id": "meaningful-prayer",
   "metadata": {},
   "outputs": [],
   "source": [
    "# 인코더의 입력, 디코더의 입력과 레이블을 각각 다시 Numpy 타입으로 저장 \n",
    "\n",
    "encoder_input = np.array(data['text']) # 인코더의 입력\n",
    "decoder_input = np.array(data['decoder_input']) # 디코더의 입력\n",
    "decoder_target = np.array(data['decoder_target']) # 디코더의 레이블"
   ]
  },
  {
   "cell_type": "markdown",
   "id": "direct-capacity",
   "metadata": {},
   "source": [
    "### 훈련 데이터와 테스트 데이터 분할\n",
    "\n",
    "`sklearn.model_selection` 의 `train_test_split` 을 사용해 훈련 데이터와 테스트 데이터를 분할한다.  \n",
    "\n",
    "이때 `test_size` 값은 `0.2`로 지정한다. 또한 결과를 일정하게 보여주기 위하여 `random_state` 값은 `34`로 지정한다."
   ]
  },
  {
   "cell_type": "code",
   "execution_count": 17,
   "id": "alone-portland",
   "metadata": {},
   "outputs": [
    {
     "name": "stdout",
     "output_type": "stream",
     "text": [
      "훈련 데이터의 개수 : 78688\n",
      "훈련 레이블의 개수 : 78688\n",
      "테스트 데이터의 개수 : 19672\n",
      "테스트 레이블의 개수 : 19672\n"
     ]
    }
   ],
   "source": [
    "encoder_input_train, encoder_input_test, decoder_input_train, decoder_input_test, decoder_target_train, decoder_target_test = train_test_split(encoder_input,\n",
    "                                                                                                                                               decoder_input,\n",
    "                                                                                                                                               decoder_target,\n",
    "                                                                                                                                               test_size=0.2,                                   \n",
    "                                                                                                                                               random_state=34)\n",
    "\n",
    "print('훈련 데이터의 개수 :', len(encoder_input_train))\n",
    "print('훈련 레이블의 개수 :', len(decoder_input_train))\n",
    "print('테스트 데이터의 개수 :', len(encoder_input_test))\n",
    "print('테스트 레이블의 개수 :', len(decoder_input_test))"
   ]
  },
  {
   "cell_type": "markdown",
   "id": "continent-extension",
   "metadata": {},
   "source": [
    "## 2-3. 데이터 전처리 - 정수 인코딩\n",
    "### 단어 집합(vocabulary) 만들기 및 정수 인코딩\n",
    "\n",
    "Keras의 토크나이저를 사용해서 입력된 훈련 데이터로부터 단어 집합을 만들자."
   ]
  },
  {
   "cell_type": "code",
   "execution_count": 18,
   "id": "brown-heaven",
   "metadata": {},
   "outputs": [],
   "source": [
    "src_tokenizer = Tokenizer() # 토크나이저 정의\n",
    "src_tokenizer.fit_on_texts(encoder_input_train) # 입력된 데이터로부터 단어 집합 생성"
   ]
  },
  {
   "cell_type": "markdown",
   "id": "fixed-burst",
   "metadata": {},
   "source": [
    "현재 생성된 단어 집합은 `src_tokenizer.word_index` 에 저장되어 있다.\n",
    "\n",
    "만든 단어 집합에 있는 모든 단어를 사용하는 것이 아니라, 빈도수가 낮은 단어들은 훈련 데이터에서 제외한다.\n",
    "\n",
    "`src_tokenizer.word_counts.items()` 를 사용하여 등장 빈도수가 8회 미만인 단어들이 이 데이터에서 얼만큼의 비중을 차지하는지 확인해보자."
   ]
  },
  {
   "cell_type": "code",
   "execution_count": 19,
   "id": "environmental-danish",
   "metadata": {},
   "outputs": [
    {
     "name": "stdout",
     "output_type": "stream",
     "text": [
      "단어 집합(vocabulary)의 크기 : 69618\n",
      "등장 빈도가 7번 이하인 희귀 단어의 수: 48939\n",
      "단어 집합에서 희귀 단어를 제외시킬 경우의 단어 집합의 크기 20679\n",
      "단어 집합에서 희귀 단어의 비율: 70.29647504955615\n",
      "전체 등장 빈도에서 희귀 단어 등장 빈도 비율: 3.856952677557366\n"
     ]
    }
   ],
   "source": [
    "threshold = 8\n",
    "total_cnt = len(src_tokenizer.word_index) # 단어의 수\n",
    "rare_cnt = 0 # 등장 빈도수가 threshold보다 작은 단어의 개수를 카운트\n",
    "total_freq = 0 # 훈련 데이터의 전체 단어 빈도수 총 합\n",
    "rare_freq = 0 # 등장 빈도수가 threshold보다 작은 단어의 등장 빈도수의 총 합\n",
    "\n",
    "# 단어와 빈도수의 쌍(pair)을 key와 value로 받는다.\n",
    "for key, value in src_tokenizer.word_counts.items():\n",
    "    total_freq = total_freq + value\n",
    "\n",
    "    # 단어의 등장 빈도수가 threshold보다 작으면\n",
    "    if(value < threshold):\n",
    "        rare_cnt = rare_cnt + 1\n",
    "        rare_freq = rare_freq + value\n",
    "\n",
    "print('단어 집합(vocabulary)의 크기 :', total_cnt)\n",
    "print('등장 빈도가 %s번 이하인 희귀 단어의 수: %s'%(threshold - 1, rare_cnt))\n",
    "print('단어 집합에서 희귀 단어를 제외시킬 경우의 단어 집합의 크기 %s'%(total_cnt - rare_cnt))\n",
    "print(\"단어 집합에서 희귀 단어의 비율:\", (rare_cnt / total_cnt)*100)\n",
    "print(\"전체 등장 빈도에서 희귀 단어 등장 빈도 비율:\", (rare_freq / total_freq)*100)"
   ]
  },
  {
   "cell_type": "markdown",
   "id": "unnecessary-theta",
   "metadata": {},
   "source": [
    "- 등장 빈도가 threshold 값인 8회 미만, 즉, 7회 이하인 단어들은 단어 집합에서 무려 70% 를 차지함.\n",
    "- 하지만, 실제로 훈련 데이터에서 등장 빈도로 차지하는 비중은 상대적으로 적은 수치인 3.8%밖에 되지 않음."
   ]
  },
  {
   "cell_type": "markdown",
   "id": "invalid-width",
   "metadata": {},
   "source": [
    "그래서 등장 빈도가 7회 이하인 단어들은 정수 인코딩 과정에서 빼고, 훈련 데이터에서 제거한다.\n",
    "\n",
    "위에서 이를 제외한 단어 집합의 크기를 2만여 개로 계산했는데, 이와 비슷한 값으로 어림잡아 단어 집합의 크기를 20,000으로 제한한다."
   ]
  },
  {
   "cell_type": "code",
   "execution_count": 20,
   "id": "biological-mixture",
   "metadata": {},
   "outputs": [],
   "source": [
    "src_vocab = 20000\n",
    "src_tokenizer = Tokenizer(num_words=src_vocab) # 단어 집합의 크기를 20,000으로 제한\n",
    "src_tokenizer.fit_on_texts(encoder_input_train) # 단어 집합 재생성."
   ]
  },
  {
   "cell_type": "code",
   "execution_count": 21,
   "id": "eight-retailer",
   "metadata": {},
   "outputs": [
    {
     "name": "stdout",
     "output_type": "stream",
     "text": [
      "[1833, 919, 237, 1, 339, 9681, 1037, 3044, 231, 11884, 9152, 2916, 4000, 856, 4467, 200, 1515, 7671, 6477, 1085, 6, 4, 919, 1, 11573, 14794, 9488, 559, 431, 861]\n"
     ]
    }
   ],
   "source": [
    "# 텍스트 시퀀스를 정수 시퀀스로 변환\n",
    "encoder_input_train = src_tokenizer.texts_to_sequences(encoder_input_train) \n",
    "encoder_input_test = src_tokenizer.texts_to_sequences(encoder_input_test)\n",
    "\n",
    "# 잘 진행되었는지 샘플 출력\n",
    "print(encoder_input_train[0])"
   ]
  },
  {
   "cell_type": "markdown",
   "id": "protective-hybrid",
   "metadata": {},
   "source": [
    "### headlines 데이터에 대해서도 동일한 작업 수행"
   ]
  },
  {
   "cell_type": "code",
   "execution_count": 22,
   "id": "recent-brighton",
   "metadata": {},
   "outputs": [],
   "source": [
    "# 전체 단어 집합과 각 단어에 대한 빈도수를 계산\n",
    "tar_tokenizer = Tokenizer()\n",
    "tar_tokenizer.fit_on_texts(decoder_input_train)"
   ]
  },
  {
   "cell_type": "code",
   "execution_count": 23,
   "id": "deadly-catch",
   "metadata": {},
   "outputs": [
    {
     "name": "stdout",
     "output_type": "stream",
     "text": [
      "단어 집합(vocabulary)의 크기 : 30026\n",
      "등장 빈도가 6번 이하인 희귀 단어의 수: 20509\n",
      "단어 집합에서 희귀 단어를 제외시킬 경우의 단어 집합의 크기 9517\n",
      "단어 집합에서 희귀 단어의 비율: 68.30413641510691\n",
      "전체 등장 빈도에서 희귀 단어 등장 빈도 비율: 5.292321359169396\n"
     ]
    }
   ],
   "source": [
    "# 등장 빈도수가 8회 미만인 단어들이 이 데이터에서 얼만큼의 비중을 차지하는지 확인\n",
    "threshold = 7\n",
    "total_cnt = len(tar_tokenizer.word_index) # 단어의 수\n",
    "rare_cnt = 0 # 등장 빈도수가 threshold보다 작은 단어의 개수를 카운트\n",
    "total_freq = 0 # 훈련 데이터의 전체 단어 빈도수 총 합\n",
    "rare_freq = 0 # 등장 빈도수가 threshold보다 작은 단어의 등장 빈도수의 총 합\n",
    "\n",
    "# 단어와 빈도수의 쌍(pair)을 key와 value로 받는다.\n",
    "for key, value in tar_tokenizer.word_counts.items():\n",
    "    total_freq = total_freq + value\n",
    "\n",
    "    # 단어의 등장 빈도수가 threshold보다 작으면\n",
    "    if(value < threshold):\n",
    "        rare_cnt = rare_cnt + 1\n",
    "        rare_freq = rare_freq + value\n",
    "\n",
    "print('단어 집합(vocabulary)의 크기 :', total_cnt)\n",
    "print('등장 빈도가 %s번 이하인 희귀 단어의 수: %s'%(threshold - 1, rare_cnt))\n",
    "print('단어 집합에서 희귀 단어를 제외시킬 경우의 단어 집합의 크기 %s'%(total_cnt - rare_cnt))\n",
    "print(\"단어 집합에서 희귀 단어의 비율:\", (rare_cnt / total_cnt)*100)\n",
    "print(\"전체 등장 빈도에서 희귀 단어 등장 빈도 비율:\", (rare_freq / total_freq)*100)"
   ]
  },
  {
   "cell_type": "code",
   "execution_count": 24,
   "id": "supposed-combat",
   "metadata": {},
   "outputs": [
    {
     "name": "stdout",
     "output_type": "stream",
     "text": [
      "input\n",
      "input  [1, 142, 10, 636, 8784, 16, 1481, 522, 526]\n",
      "target\n",
      "decoder  [142, 10, 636, 8784, 16, 1481, 522, 526, 2]\n"
     ]
    }
   ],
   "source": [
    "tar_vocab = 9000\n",
    "tar_tokenizer = Tokenizer(num_words = tar_vocab) \n",
    "tar_tokenizer.fit_on_texts(decoder_input_train)\n",
    "tar_tokenizer.fit_on_texts(decoder_target_train)\n",
    "\n",
    "# 텍스트 시퀀스를 정수 시퀀스로 변환\n",
    "decoder_input_train = tar_tokenizer.texts_to_sequences(decoder_input_train) \n",
    "decoder_target_train = tar_tokenizer.texts_to_sequences(decoder_target_train)\n",
    "decoder_input_test = tar_tokenizer.texts_to_sequences(decoder_input_test)\n",
    "decoder_target_test = tar_tokenizer.texts_to_sequences(decoder_target_test)\n",
    "\n",
    "#잘 변환되었는지 확인\n",
    "print('input')\n",
    "print('input ',decoder_input_train[0])\n",
    "print('target')\n",
    "print('decoder ',decoder_target_train[0])"
   ]
  },
  {
   "cell_type": "markdown",
   "id": "centered-record",
   "metadata": {},
   "source": [
    "전체 데이터에서 빈도수가 낮은 단어가 삭제되었다는 것은 빈도수가 낮은 단어만으로 구성되었던 샘플들은 이제 빈(empty) 샘플이 되었을 가능성이 있다.\n",
    "\n",
    "`decoder_input`에는 `sostoken` 또는 `decoder_target`에는 `eostoken`이 추가된 상태이므로 길이가 0이 된 요악문의 실제 길이는 1로 나올 것이다.\n",
    "\n",
    "훈련 데이터와 테스트 데이터에 대해서 요약문의 길이가 1인 경우의 인덱스를 각각 `drop_train`과 `drop_test`에 라는 변수에 저장하고 샘플들은 모두 삭제한다."
   ]
  },
  {
   "cell_type": "code",
   "execution_count": 25,
   "id": "controversial-discovery",
   "metadata": {},
   "outputs": [
    {
     "name": "stdout",
     "output_type": "stream",
     "text": [
      "삭제할 훈련 데이터의 개수 : 0\n",
      "삭제할 테스트 데이터의 개수 : 1\n",
      "훈련 데이터의 개수 : 78688\n",
      "훈련 레이블의 개수 : 78688\n",
      "테스트 데이터의 개수 : 19671\n",
      "테스트 레이블의 개수 : 19671\n"
     ]
    },
    {
     "name": "stderr",
     "output_type": "stream",
     "text": [
      "/opt/conda/lib/python3.7/site-packages/numpy/core/_asarray.py:83: VisibleDeprecationWarning: Creating an ndarray from ragged nested sequences (which is a list-or-tuple of lists-or-tuples-or ndarrays with different lengths or shapes) is deprecated. If you meant to do this, you must specify 'dtype=object' when creating the ndarray\n",
      "  return array(a, dtype, copy=False, order=order)\n"
     ]
    }
   ],
   "source": [
    "drop_train = [index for index, sentence in enumerate(decoder_input_train) if len(sentence) == 1]\n",
    "drop_test = [index for index, sentence in enumerate(decoder_input_test) if len(sentence) == 1]\n",
    "\n",
    "print('삭제할 훈련 데이터의 개수 :', len(drop_train))\n",
    "print('삭제할 테스트 데이터의 개수 :', len(drop_test))\n",
    "\n",
    "encoder_input_train = np.delete(encoder_input_train, drop_train, axis=0)\n",
    "decoder_input_train = np.delete(decoder_input_train, drop_train, axis=0)\n",
    "decoder_target_train = np.delete(decoder_target_train, drop_train, axis=0)\n",
    "\n",
    "encoder_input_test = np.delete(encoder_input_test, drop_test, axis=0)\n",
    "decoder_input_test = np.delete(decoder_input_test, drop_test, axis=0)\n",
    "decoder_target_test = np.delete(decoder_target_test, drop_test, axis=0)\n",
    "\n",
    "print('훈련 데이터의 개수 :', len(encoder_input_train))\n",
    "print('훈련 레이블의 개수 :', len(decoder_input_train))\n",
    "print('테스트 데이터의 개수 :', len(encoder_input_test))\n",
    "print('테스트 레이블의 개수 :', len(decoder_input_test))"
   ]
  },
  {
   "cell_type": "markdown",
   "id": "economic-gibson",
   "metadata": {},
   "source": [
    "### 패딩 추가\n",
    "\n",
    "최대 길이보다 짧은 데이터들은 뒤의 공간에 숫자 0을 넣어 아까 정해두었던 최대 길이로 길이를 맞춘다."
   ]
  },
  {
   "cell_type": "code",
   "execution_count": 26,
   "id": "quantitative-monitor",
   "metadata": {},
   "outputs": [],
   "source": [
    "encoder_input_train = pad_sequences(encoder_input_train, maxlen=text_max_len, padding='post')\n",
    "encoder_input_test = pad_sequences(encoder_input_test, maxlen=text_max_len, padding='post')\n",
    "decoder_input_train = pad_sequences(decoder_input_train, maxlen=headlines_max_len, padding='post')\n",
    "decoder_target_train = pad_sequences(decoder_target_train, maxlen=headlines_max_len, padding='post')\n",
    "decoder_input_test = pad_sequences(decoder_input_test, maxlen=headlines_max_len, padding='post')\n",
    "decoder_target_test = pad_sequences(decoder_target_test, maxlen=headlines_max_len, padding='post')"
   ]
  },
  {
   "cell_type": "markdown",
   "id": "standard-retro",
   "metadata": {},
   "source": [
    "----\n",
    "## 3. 모델 설계"
   ]
  },
  {
   "cell_type": "markdown",
   "id": "differential-rabbit",
   "metadata": {},
   "source": [
    "### seq2seq"
   ]
  },
  {
   "cell_type": "code",
   "execution_count": 27,
   "id": "prompt-comedy",
   "metadata": {},
   "outputs": [
    {
     "name": "stdout",
     "output_type": "stream",
     "text": [
      "WARNING:tensorflow:Layer lstm will not use cuDNN kernel since it doesn't meet the cuDNN kernel criteria. It will use generic GPU kernel as fallback when running on GPU\n",
      "WARNING:tensorflow:Layer lstm_1 will not use cuDNN kernel since it doesn't meet the cuDNN kernel criteria. It will use generic GPU kernel as fallback when running on GPU\n",
      "WARNING:tensorflow:Layer lstm_2 will not use cuDNN kernel since it doesn't meet the cuDNN kernel criteria. It will use generic GPU kernel as fallback when running on GPU\n"
     ]
    }
   ],
   "source": [
    "from tensorflow.keras.layers import Input, LSTM, Embedding, Dense, Concatenate\n",
    "from tensorflow.keras.models import Model\n",
    "from tensorflow.keras.callbacks import EarlyStopping, ModelCheckpoint\n",
    "\n",
    "\n",
    "# 인코더 설계 시작\n",
    "embedding_dim = 128\n",
    "hidden_size = 256\n",
    "\n",
    "# 인코더\n",
    "encoder_inputs = Input(shape=(text_max_len,))\n",
    "\n",
    "# 인코더의 임베딩 층\n",
    "enc_emb = Embedding(src_vocab, embedding_dim)(encoder_inputs)\n",
    "\n",
    "# 인코더의 LSTM 1\n",
    "encoder_lstm1 = LSTM(hidden_size, return_sequences=True, return_state=True ,dropout = 0.4, recurrent_dropout = 0.4)\n",
    "encoder_output1, state_h1, state_c1 = encoder_lstm1(enc_emb)\n",
    "\n",
    "# 인코더의 LSTM 2\n",
    "encoder_lstm2 = LSTM(hidden_size, return_sequences=True, return_state=True, dropout=0.4, recurrent_dropout=0.4)\n",
    "encoder_output2, state_h2, state_c2 = encoder_lstm2(encoder_output1)\n",
    "\n",
    "# 인코더의 LSTM 3\n",
    "encoder_lstm3 = LSTM(hidden_size, return_state=True, return_sequences=True, dropout=0.4, recurrent_dropout=0.4)\n",
    "encoder_outputs, state_h, state_c= encoder_lstm3(encoder_output2)"
   ]
  },
  {
   "cell_type": "code",
   "execution_count": 28,
   "id": "incomplete-scoop",
   "metadata": {},
   "outputs": [
    {
     "name": "stdout",
     "output_type": "stream",
     "text": [
      "WARNING:tensorflow:Layer lstm_3 will not use cuDNN kernel since it doesn't meet the cuDNN kernel criteria. It will use generic GPU kernel as fallback when running on GPU\n"
     ]
    }
   ],
   "source": [
    "# 디코더 설계\n",
    "decoder_inputs = Input(shape=(None,))\n",
    "\n",
    "# 디코더의 임베딩 층\n",
    "dec_emb_layer = Embedding(tar_vocab, embedding_dim)\n",
    "dec_emb = dec_emb_layer(decoder_inputs)\n",
    "\n",
    "# 디코더의 LSTM\n",
    "decoder_lstm = LSTM(hidden_size, return_sequences=True, return_state=True, dropout=0.4, recurrent_dropout=0.2)\n",
    "decoder_outputs, _, _ = decoder_lstm(dec_emb, initial_state=[state_h, state_c])"
   ]
  },
  {
   "cell_type": "code",
   "execution_count": 29,
   "id": "assumed-leisure",
   "metadata": {},
   "outputs": [
    {
     "name": "stdout",
     "output_type": "stream",
     "text": [
      "Model: \"model\"\n",
      "__________________________________________________________________________________________________\n",
      "Layer (type)                    Output Shape         Param #     Connected to                     \n",
      "==================================================================================================\n",
      "input_1 (InputLayer)            [(None, 60)]         0                                            \n",
      "__________________________________________________________________________________________________\n",
      "embedding (Embedding)           (None, 60, 128)      2560000     input_1[0][0]                    \n",
      "__________________________________________________________________________________________________\n",
      "lstm (LSTM)                     [(None, 60, 256), (N 394240      embedding[0][0]                  \n",
      "__________________________________________________________________________________________________\n",
      "input_2 (InputLayer)            [(None, None)]       0                                            \n",
      "__________________________________________________________________________________________________\n",
      "lstm_1 (LSTM)                   [(None, 60, 256), (N 525312      lstm[0][0]                       \n",
      "__________________________________________________________________________________________________\n",
      "embedding_1 (Embedding)         (None, None, 128)    1152000     input_2[0][0]                    \n",
      "__________________________________________________________________________________________________\n",
      "lstm_2 (LSTM)                   [(None, 60, 256), (N 525312      lstm_1[0][0]                     \n",
      "__________________________________________________________________________________________________\n",
      "lstm_3 (LSTM)                   [(None, None, 256),  394240      embedding_1[0][0]                \n",
      "                                                                 lstm_2[0][1]                     \n",
      "                                                                 lstm_2[0][2]                     \n",
      "__________________________________________________________________________________________________\n",
      "dense (Dense)                   (None, None, 9000)   2313000     lstm_3[0][0]                     \n",
      "==================================================================================================\n",
      "Total params: 7,864,104\n",
      "Trainable params: 7,864,104\n",
      "Non-trainable params: 0\n",
      "__________________________________________________________________________________________________\n"
     ]
    }
   ],
   "source": [
    "# 디코더의 출력층 설계\n",
    "decoder_softmax_layer = Dense(tar_vocab, activation='softmax')\n",
    "decoder_softmax_outputs = decoder_softmax_layer(decoder_outputs) \n",
    "\n",
    "# 모델 정의\n",
    "model = Model([encoder_inputs, decoder_inputs], decoder_softmax_outputs)\n",
    "model.summary()"
   ]
  },
  {
   "cell_type": "markdown",
   "id": "purple-classroom",
   "metadata": {},
   "source": [
    "### 어텐션 메커니즘"
   ]
  },
  {
   "cell_type": "code",
   "execution_count": 30,
   "id": "collect-constitutional",
   "metadata": {},
   "outputs": [],
   "source": [
    "urllib.request.urlretrieve(\"https://raw.githubusercontent.com/thushv89/attention_keras/master/src/layers/attention.py\", filename=\"attention.py\")\n",
    "from attention import AttentionLayer"
   ]
  },
  {
   "cell_type": "code",
   "execution_count": 31,
   "id": "desirable-production",
   "metadata": {},
   "outputs": [
    {
     "name": "stdout",
     "output_type": "stream",
     "text": [
      "Model: \"model_1\"\n",
      "__________________________________________________________________________________________________\n",
      "Layer (type)                    Output Shape         Param #     Connected to                     \n",
      "==================================================================================================\n",
      "input_1 (InputLayer)            [(None, 60)]         0                                            \n",
      "__________________________________________________________________________________________________\n",
      "embedding (Embedding)           (None, 60, 128)      2560000     input_1[0][0]                    \n",
      "__________________________________________________________________________________________________\n",
      "lstm (LSTM)                     [(None, 60, 256), (N 394240      embedding[0][0]                  \n",
      "__________________________________________________________________________________________________\n",
      "input_2 (InputLayer)            [(None, None)]       0                                            \n",
      "__________________________________________________________________________________________________\n",
      "lstm_1 (LSTM)                   [(None, 60, 256), (N 525312      lstm[0][0]                       \n",
      "__________________________________________________________________________________________________\n",
      "embedding_1 (Embedding)         (None, None, 128)    1152000     input_2[0][0]                    \n",
      "__________________________________________________________________________________________________\n",
      "lstm_2 (LSTM)                   [(None, 60, 256), (N 525312      lstm_1[0][0]                     \n",
      "__________________________________________________________________________________________________\n",
      "lstm_3 (LSTM)                   [(None, None, 256),  394240      embedding_1[0][0]                \n",
      "                                                                 lstm_2[0][1]                     \n",
      "                                                                 lstm_2[0][2]                     \n",
      "__________________________________________________________________________________________________\n",
      "attention_layer (AttentionLayer ((None, None, 256),  131328      lstm_2[0][0]                     \n",
      "                                                                 lstm_3[0][0]                     \n",
      "__________________________________________________________________________________________________\n",
      "concat_layer (Concatenate)      (None, None, 512)    0           lstm_3[0][0]                     \n",
      "                                                                 attention_layer[0][0]            \n",
      "__________________________________________________________________________________________________\n",
      "dense_1 (Dense)                 (None, None, 9000)   4617000     concat_layer[0][0]               \n",
      "==================================================================================================\n",
      "Total params: 10,299,432\n",
      "Trainable params: 10,299,432\n",
      "Non-trainable params: 0\n",
      "__________________________________________________________________________________________________\n"
     ]
    }
   ],
   "source": [
    "# 어텐션 층(어텐션 함수)\n",
    "attn_layer = AttentionLayer(name='attention_layer')\n",
    "# 인코더와 디코더의 모든 time step의 hidden state를 어텐션 층에 전달하고 결과를 리턴\n",
    "attn_out, attn_states = attn_layer([encoder_outputs, decoder_outputs])\n",
    "\n",
    "# 어텐션의 결과와 디코더의 hidden state들을 연결\n",
    "decoder_concat_input = Concatenate(axis=-1, name='concat_layer')([decoder_outputs, attn_out])\n",
    "\n",
    "# 디코더의 출력층\n",
    "decoder_softmax_layer = Dense(tar_vocab, activation='softmax')\n",
    "decoder_softmax_outputs = decoder_softmax_layer(decoder_concat_input)\n",
    "\n",
    "# 모델 정의\n",
    "model = Model([encoder_inputs, decoder_inputs], decoder_softmax_outputs)\n",
    "model.summary()"
   ]
  },
  {
   "cell_type": "markdown",
   "id": "subtle-usage",
   "metadata": {},
   "source": [
    "----\n",
    "## 4. 모델 훈련"
   ]
  },
  {
   "cell_type": "code",
   "execution_count": 32,
   "id": "descending-utilization",
   "metadata": {},
   "outputs": [
    {
     "name": "stdout",
     "output_type": "stream",
     "text": [
      "Epoch 1/50\n",
      "308/308 [==============================] - 293s 913ms/step - loss: 4.6212 - val_loss: 3.8606\n",
      "Epoch 2/50\n",
      "308/308 [==============================] - 282s 915ms/step - loss: 3.8204 - val_loss: 3.6037\n",
      "Epoch 3/50\n",
      "308/308 [==============================] - 281s 912ms/step - loss: 3.5437 - val_loss: 3.3962\n",
      "Epoch 4/50\n",
      "308/308 [==============================] - 279s 905ms/step - loss: 3.3162 - val_loss: 3.2476\n",
      "Epoch 5/50\n",
      "308/308 [==============================] - 276s 898ms/step - loss: 3.1540 - val_loss: 3.1354\n",
      "Epoch 6/50\n",
      "308/308 [==============================] - 272s 882ms/step - loss: 3.0223 - val_loss: 3.0431\n",
      "Epoch 7/50\n",
      "308/308 [==============================] - 271s 880ms/step - loss: 2.9090 - val_loss: 2.9781\n",
      "Epoch 8/50\n",
      "308/308 [==============================] - 271s 879ms/step - loss: 2.8074 - val_loss: 2.9267\n",
      "Epoch 9/50\n",
      "308/308 [==============================] - 271s 881ms/step - loss: 2.7146 - val_loss: 2.8760\n",
      "Epoch 10/50\n",
      "308/308 [==============================] - 272s 882ms/step - loss: 2.6374 - val_loss: 2.8236\n",
      "Epoch 11/50\n",
      "308/308 [==============================] - 271s 880ms/step - loss: 2.5722 - val_loss: 2.7883\n",
      "Epoch 12/50\n",
      "308/308 [==============================] - 272s 884ms/step - loss: 2.5053 - val_loss: 2.7636\n",
      "Epoch 13/50\n",
      "308/308 [==============================] - 272s 882ms/step - loss: 2.4543 - val_loss: 2.7366\n",
      "Epoch 14/50\n",
      "308/308 [==============================] - 272s 882ms/step - loss: 2.3979 - val_loss: 2.7174\n",
      "Epoch 15/50\n",
      "308/308 [==============================] - 272s 883ms/step - loss: 2.3518 - val_loss: 2.7011\n",
      "Epoch 16/50\n",
      "308/308 [==============================] - 272s 884ms/step - loss: 2.3097 - val_loss: 2.6927\n",
      "Epoch 17/50\n",
      "308/308 [==============================] - 271s 881ms/step - loss: 2.2669 - val_loss: 2.6712\n",
      "Epoch 18/50\n",
      "308/308 [==============================] - 272s 883ms/step - loss: 2.2295 - val_loss: 2.6660\n",
      "Epoch 19/50\n",
      "308/308 [==============================] - 271s 881ms/step - loss: 2.1976 - val_loss: 2.6505\n",
      "Epoch 20/50\n",
      "308/308 [==============================] - 273s 886ms/step - loss: 2.1693 - val_loss: 2.6438\n",
      "Epoch 21/50\n",
      "308/308 [==============================] - 273s 885ms/step - loss: 2.1372 - val_loss: 2.6361\n",
      "Epoch 22/50\n",
      "308/308 [==============================] - 272s 884ms/step - loss: 2.1006 - val_loss: 2.6318\n",
      "Epoch 23/50\n",
      "308/308 [==============================] - 272s 884ms/step - loss: 2.0772 - val_loss: 2.6261\n",
      "Epoch 24/50\n",
      "308/308 [==============================] - 273s 886ms/step - loss: 2.0530 - val_loss: 2.6231\n",
      "Epoch 25/50\n",
      "308/308 [==============================] - 272s 883ms/step - loss: 2.0258 - val_loss: 2.6195\n",
      "Epoch 26/50\n",
      "308/308 [==============================] - 272s 883ms/step - loss: 2.0115 - val_loss: 2.6138\n",
      "Epoch 27/50\n",
      "308/308 [==============================] - 272s 882ms/step - loss: 1.9847 - val_loss: 2.6124\n",
      "Epoch 28/50\n",
      "308/308 [==============================] - 272s 883ms/step - loss: 1.9574 - val_loss: 2.6108\n",
      "Epoch 29/50\n",
      "308/308 [==============================] - 272s 884ms/step - loss: 1.9417 - val_loss: 2.6165\n",
      "Epoch 30/50\n",
      "308/308 [==============================] - 273s 886ms/step - loss: 1.9202 - val_loss: 2.6092\n",
      "Epoch 31/50\n",
      "308/308 [==============================] - 273s 886ms/step - loss: 1.8938 - val_loss: 2.6130\n",
      "Epoch 32/50\n",
      "308/308 [==============================] - 272s 884ms/step - loss: 1.8775 - val_loss: 2.6108\n",
      "Epoch 00032: early stopping\n"
     ]
    }
   ],
   "source": [
    "model.compile(optimizer='rmsprop', loss='sparse_categorical_crossentropy')\n",
    "es = EarlyStopping(monitor='val_loss', patience=2, verbose=1)\n",
    "history = model.fit(x=[encoder_input_train, decoder_input_train], y=decoder_target_train, \\\n",
    "          validation_data=([encoder_input_test, decoder_input_test], decoder_target_test), \\\n",
    "          batch_size=256, callbacks=[es], epochs=50)"
   ]
  },
  {
   "cell_type": "markdown",
   "id": "flexible-falls",
   "metadata": {},
   "source": [
    "조기 종료'를 뜻하는 EarlyStopping 은 특정 조건이 충족되면 훈련을 멈추는 역할을 한다.\n",
    "\n",
    "위 코드에서는 val_loss(검증 데이터의 손실)을 관찰하다가, 검증 데이터의 손실이 줄어들지 않고 증가하는 현상이 2회(patience=2) 관측되면 학습을 멈추도록 설정했다.\n",
    "\n",
    "훈련 데이터의 손실과 검증 데이터의 손실이 줄어드는 과정을 시각화 하였다."
   ]
  },
  {
   "cell_type": "code",
   "execution_count": 33,
   "id": "featured-foster",
   "metadata": {},
   "outputs": [
    {
     "data": {
      "image/png": "[encoded data removed]",
      "text/plain": [
       "<Figure size 432x288 with 1 Axes>"
      ]
     },
     "metadata": {
      "needs_background": "light"
     },
     "output_type": "display_data"
    }
   ],
   "source": [
    "plt.plot(history.history['loss'], label='train')\n",
    "plt.plot(history.history['val_loss'], label='test')\n",
    "plt.legend()\n",
    "plt.show()"
   ]
  },
  {
   "cell_type": "markdown",
   "id": "negative-domestic",
   "metadata": {},
   "source": [
    "----\n",
    "## 5. 인퍼런스 모델 구현"
   ]
  },
  {
   "cell_type": "code",
   "execution_count": 34,
   "id": "strange-taylor",
   "metadata": {},
   "outputs": [],
   "source": [
    "src_index_to_word = src_tokenizer.index_word # 원문 단어 집합에서 정수 -> 단어를 얻음\n",
    "tar_word_to_index = tar_tokenizer.word_index # 요약 단어 집합에서 단어 -> 정수를 얻음\n",
    "tar_index_to_word = tar_tokenizer.index_word # 요약 단어 집합에서 정수 -> 단어를 얻음"
   ]
  },
  {
   "cell_type": "code",
   "execution_count": 35,
   "id": "gross-congo",
   "metadata": {},
   "outputs": [],
   "source": [
    "# 인코더 설계\n",
    "encoder_model = Model(inputs=encoder_inputs, outputs=[encoder_outputs, state_h, state_c])\n",
    "\n",
    "# 이전 시점의 상태들을 저장하는 텐서\n",
    "decoder_state_input_h = Input(shape=(hidden_size,))\n",
    "decoder_state_input_c = Input(shape=(hidden_size,))\n",
    "\n",
    "dec_emb2 = dec_emb_layer(decoder_inputs)\n",
    "\n",
    "# 문장의 다음 단어를 예측하기 위해서 초기 상태(initial_state)를 이전 시점의 상태로 사용. 이는 뒤의 함수 decode_sequence()에 구현\n",
    "# 훈련 과정에서와 달리 LSTM의 리턴하는 은닉 상태와 셀 상태인 state_h와 state_c를 버리지 않음.\n",
    "decoder_outputs2, state_h2, state_c2 = decoder_lstm(dec_emb2, initial_state=[decoder_state_input_h, decoder_state_input_c])"
   ]
  },
  {
   "cell_type": "code",
   "execution_count": 36,
   "id": "charged-portrait",
   "metadata": {},
   "outputs": [],
   "source": [
    "# 어텐션 함수\n",
    "decoder_hidden_state_input = Input(shape=(text_max_len, hidden_size))\n",
    "attn_out_inf, attn_states_inf = attn_layer([decoder_hidden_state_input, decoder_outputs2])\n",
    "decoder_inf_concat = Concatenate(axis=-1, name='concat')([decoder_outputs2, attn_out_inf])\n",
    "\n",
    "# 디코더의 출력층\n",
    "decoder_outputs2 = decoder_softmax_layer(decoder_inf_concat) \n",
    "\n",
    "# 최종 디코더 모델\n",
    "decoder_model = Model(\n",
    "    [decoder_inputs] + [decoder_hidden_state_input,decoder_state_input_h, decoder_state_input_c],\n",
    "    [decoder_outputs2] + [state_h2, state_c2])"
   ]
  },
  {
   "cell_type": "markdown",
   "id": "future-crime",
   "metadata": {},
   "source": [
    "인퍼런스 단계에서 단어 시퀀스를 완성하는 함수를 만든다."
   ]
  },
  {
   "cell_type": "code",
   "execution_count": 37,
   "id": "working-marker",
   "metadata": {},
   "outputs": [],
   "source": [
    "def decode_sequence(input_seq):\n",
    "    # 입력으로부터 인코더의 상태를 얻음\n",
    "    e_out, e_h, e_c = encoder_model.predict(input_seq)\n",
    "\n",
    "     # <SOS>에 해당하는 토큰 생성\n",
    "    target_seq = np.zeros((1,1))\n",
    "    target_seq[0, 0] = tar_word_to_index['sostoken']\n",
    "\n",
    "    stop_condition = False\n",
    "    decoded_sentence = ''\n",
    "    while not stop_condition: # stop_condition이 True가 될 때까지 루프 반복\n",
    "\n",
    "        output_tokens, h, c = decoder_model.predict([target_seq] + [e_out, e_h, e_c])\n",
    "        sampled_token_index = np.argmax(output_tokens[0, -1, :])\n",
    "        sampled_token = tar_index_to_word[sampled_token_index]\n",
    "\n",
    "        if (sampled_token!='eostoken'):\n",
    "            decoded_sentence += ' '+sampled_token\n",
    "\n",
    "        #  <eos>에 도달하거나 최대 길이를 넘으면 중단.\n",
    "        if (sampled_token == 'eostoken'  or len(decoded_sentence.split()) >= (headlines_max_len-1)):\n",
    "            stop_condition = True\n",
    "\n",
    "        # 길이가 1인 타겟 시퀀스를 업데이트\n",
    "        target_seq = np.zeros((1,1))\n",
    "        target_seq[0, 0] = sampled_token_index\n",
    "\n",
    "        # 상태를 업데이트 합니다.\n",
    "        e_h, e_c = h, c\n",
    "\n",
    "    return decoded_sentence"
   ]
  },
  {
   "cell_type": "markdown",
   "id": "extended-riverside",
   "metadata": {},
   "source": [
    "----\n",
    "## 6. 모델 테스트"
   ]
  },
  {
   "cell_type": "markdown",
   "id": "classified-necessity",
   "metadata": {},
   "source": [
    "주어진 정수 시퀀스를 텍스트 시퀀스로 변환하는 함수를 만든다.\n",
    "\n",
    "이때, Text의 정수 시퀀스에서는 패딩을 위해 사용되는 숫자 0을 제외하고 Summary의 정수 시퀀스에서는 숫자 0, 시작 토큰의 인덱스, 종료 토큰의 인덱스를 출력에서 제외하도록 만든다."
   ]
  },
  {
   "cell_type": "code",
   "execution_count": 38,
   "id": "novel-spain",
   "metadata": {},
   "outputs": [],
   "source": [
    "# 원문의 정수 시퀀스를 텍스트 시퀀스로 변환\n",
    "def seq2text(input_seq):\n",
    "    temp=''\n",
    "    for i in input_seq:\n",
    "        if (i!=0):\n",
    "            temp = temp + src_index_to_word[i]+' '\n",
    "    return temp\n",
    "\n",
    "# 요약문의 정수 시퀀스를 텍스트 시퀀스로 변환\n",
    "def seq2summary(input_seq):\n",
    "    temp=''\n",
    "    for i in input_seq:\n",
    "        if ((i!=0 and i!=tar_word_to_index['sostoken']) and i!=tar_word_to_index['eostoken']):\n",
    "            temp = temp + tar_index_to_word[i] + ' '\n",
    "    return temp"
   ]
  },
  {
   "cell_type": "markdown",
   "id": "standing-statement",
   "metadata": {},
   "source": [
    "테스트 데이터 약 50개의 샘플에 대해서 실제 요약과 예측된 요약을 비교해보자."
   ]
  },
  {
   "cell_type": "code",
   "execution_count": 39,
   "id": "limiting-thumbnail",
   "metadata": {
    "scrolled": false
   },
   "outputs": [
    {
     "name": "stdout",
     "output_type": "stream",
     "text": [
      "원문 : former indian navy officer kulbhushan jadhav mother called ki maa pakistan media outside country foreign office islamabad meeting son monday jadhav mother wife forced wait car heckled journalists jadhav sentenced death pakistan military court \n",
      "실제 요약 : pakistan media calls jadhav mother ki maa \n",
      "예측 요약 :  jadhav son to meet pak mother in jadhav case\n",
      "\n",
      "\n",
      "원문 : second odi india windies visakhapatnam wednesday ended last ball tie teams scored runs india second tied odi month tie afghanistan september tie india extended unbeaten run across formats international cricket matches \n",
      "실제 요약 : nd india wi odi ends in tie india nd tied odi in month \n",
      "예측 요약 :  india lose to odi series vs india in last years\n",
      "\n",
      "\n",
      "원문 : india anti doping body national anti doping agency reportedly conducted tests intended target tests throughout tests conducted april december notably india ranked third global anti doping violation figures \n",
      "실제 요약 : conducted tests out of target of \n",
      "예측 요약 :  india doping violations suspended for doping violations\n",
      "\n",
      "\n",
      "원문 : nine member committee concluded report karnataka government separate flag state constitution reports said committee formed july following demands kannada activists independent state flag unofficial karnataka flag red yellow colour often seen hoisted public places \n",
      "실제 요약 : separate karnataka flag not against constitution govt panel \n",
      "예측 요약 :  karnataka to observe red fort flag into\n",
      "\n",
      "\n",
      "원문 : first known object visit solar system another star system given name means messenger arriving first hawaiian earlier referred metre wide asteroid comet discovered pan telescope hawaii volcano past earth kmph mid october \n",
      "실제 요약 : first ever interstellar object named as \n",
      "예측 요약 :  astronomers find solar system to find saturn moon\n",
      "\n",
      "\n",
      "원문 : among india top startups ceos paytm vijay shekhar sharma takes salary crore year quikr gets crore yearly mu gets crore hike bharti mittal gets crore urban ladder ashish goel gets lakh year shopclues ceo sanjay sethi draws annual salary lakh \n",
      "실제 요약 : how much salary do the ceos of india top startups earn \n",
      "예측 요약 :  indian startups earn crore in day in day\n",
      "\n",
      "\n",
      "원문 : leader also known monday arrested sentenced day judicial custody connection sedition case case filed speech warned india would remain united country war banned outfit stopped sri lanka \n",
      "실제 요약 : sent to day judicial custody for sedition \n",
      "예측 요약 :  ex man arrested for yrs in of anti nuclear war\n",
      "\n",
      "\n",
      "원문 : german online bank using bitcoin transfer loans throughout world uses cryptocurrency bypass swift international transfer system lend money across globe low cost traditional money transfers relatively costly due currency exchange fees take days founder ceo said \n",
      "실제 요약 : german online bank uses bitcoin to transfer loans globally \n",
      "예측 요약 :  germany to buy bitcoin exchange for bitcoin exchange\n",
      "\n",
      "\n",
      "원문 : congress president rahul gandhi sunday met twitter ceo jack dorsey maiden india visit discussed steps twitter taking tackle fake news issue meeting dorsey also showed rahul nine inch tattoo shape thick tattoo reference interests math music \n",
      "실제 요약 : rahul gandhi twitter ceo meet to discuss fake news issue \n",
      "예측 요약 :  twitter reacts to rahul gandhi tweet on twitter\n",
      "\n",
      "\n",
      "원문 : delhi metro announced passengers allowed exit rajiv chowk metro station pm new year eve security reasons however passengers would allowed enter block side gates station boarding trains services metro stations continue normally \n",
      "실제 요약 : no exit from rajiv chowk metro station on dec after pm \n",
      "예측 요약 :  delhi metro gets its first ever metro\n",
      "\n",
      "\n",
      "원문 : indian wrestlers participated recently concluded commonwealth games gold coast medal sumit malik rahul aware bajrang sushil kumar vinesh phogat bagged gold medals babita kumari pooja clinched silver medals meanwhile sakshi malik divya kakran kiran settled bronze \n",
      "실제 요약 : india sent to cwg all of them won medals \n",
      "예측 요약 :  cwg gold winner karunanidhi was olympic gold medalist\n",
      "\n",
      "\n",
      "원문 : prime minister narendra modi friday launched bhim aadhaar platform merchant interface bhim app allow people make payments fingerprint scanner service use aadhaar numbers linked bank accounts payments finalised customers keep finger merchant biometric machine connected app smartphone \n",
      "실제 요약 : aadhaar app to allow payment using fingerprint launched \n",
      "예측 요약 :  pm modi launches app to aadhaar apps by apps\n",
      "\n",
      "\n",
      "원문 : sc appointed bcci committee administrators decided switch online financial transactions make direct payments cricketers levels current procedure wherein bcci sends players fees state associations hand cheques end decision comes officials state boards found involved corruption \n",
      "실제 요약 : cricketers to be paid online to be scrapped bcci \n",
      "예측 요약 :  bcci to play ipl store for crore in ipl\n",
      "\n",
      "\n",
      "원문 : radhika apte said dating tusshar kapoor even phone number used find funny used added apte said bffs vogue host neha dhupia asked tusshar sister ekta kapoor said radhika apte \n",
      "실제 요약 : rumour was dated did not even have his number apte \n",
      "예측 요약 :  am not single phone in instagram radhika apte\n",
      "\n",
      "\n",
      "원문 : black maria built grounds american inventor thomas edison laboratories new jersey known world first film studio studio edison made short films use show machine studio could revolve face sun direction cost build \n",
      "실제 요약 : world first film studio was built in thomas lab \n",
      "예측 요약 :  what is the world most expensive\n",
      "\n",
      "\n",
      "원문 : browsing internet using public wireless computer networks railway stations airports may leave vulnerable cyber attacks government agency indian computer emergency response team said successful exploitation vulnerabilities allows attacker obtain sensitive information credit card numbers passwords chat messages emails etc added \n",
      "실제 요약 : airport railway wi fi vulnerable to cyber attacks govt \n",
      "예측 요약 :  internet free to help hackers access to jio attack\n",
      "\n",
      "\n",
      "원문 : us president donald trump said sometimes tweets bed meals although occasionally lets others post words added sometimes dictate something really quickly ask someone share online trump previously made headlines tweeting covfefe calling north korean leader kim jong un little rocket man twitter \n",
      "실제 요약 : tweet from bed sometimes says us president donald trump \n",
      "예측 요약 :  trump tweets toilet paper bottle to toilet paper\n",
      "\n",
      "\n",
      "원문 : shabana azmi actress wife lyricist javed akhtar said think twice writing item songs words used songs derogatory image females added shabana said feel need include item song movies \n",
      "실제 요약 : must think twice before writing item songs shabana \n",
      "예측 요약 :  my body is not actors to open me in the song daisy\n",
      "\n",
      "\n",
      "원문 : vijay nair founder ceo mumbai based new media startup much claimed stalked woman bullied tweets emails whatsapp woman let nair believe victim online abuse geeta however woman geeta later turned person \n",
      "실제 요약 : indian startup ceo claims being bullied by woman \n",
      "예측 요약 :  uber co founder responds to rape victim in\n",
      "\n",
      "\n",
      "원문 : government cut gst rate houses purchased using credit linked subsidy scheme pradhan mantri awas however people eligible continue pay gst tax benefit also extended affordable housing project given infrastructure status \n",
      "실제 요약 : gst on houses under pradhan reduced to \n",
      "예측 요약 :  govt to cut gst rates for small services\n",
      "\n",
      "\n",
      "원문 : cbi registered cases three mumbai based companies alleged banking fraud caused cumulative loss crore sbi companies allegedly enjoyed bill facilities letters credit issued sbi however bills returned unpaid concerned banks since instances diversion funds companies observed cbi said \n",
      "실제 요약 : cbi books mumbai firms for defrauding sbi of crore \n",
      "예측 요약 :  cbi books ex sbi officials for crore in\n",
      "\n",
      "\n",
      "원문 : ayushmann khurrana bhumi pednekar star third film together romantic comedy directed rs per reports bhumi made acting debut opposite ayushmann film dum laga ke haisha actors also starred together shubh mangal official announcement project reportedly made soon \n",
      "실제 요약 : ayushmann bhumi to star in rd film together report \n",
      "예측 요약 :  ayushmann bhumi to star in ayushmann film reports\n",
      "\n",
      "\n",
      "원문 : french football club monaco manager henry gave year old defender death stare latter forgot chair uefa champions league press conference simply got walked away leaving chair path henry henry stopped stared came back arranged chair \n",
      "실제 요약 : henry gives yr old player death for not chair in \n"
     ]
    },
    {
     "name": "stdout",
     "output_type": "stream",
     "text": [
      "예측 요약 :  player arrested for throwing player shot at player in match\n",
      "\n",
      "\n",
      "원문 : ipl chairman rajeev shukla said consider kolkata knight riders owner shah rukh khan suggestion reserve day ipl playoffs kkr rain hit win sunrisers hyderabad eliminator wednesday shah rukh tweeted playoffs needed alternative day case abandoned match kkr got six overs play eliminator \n",
      "실제 요약 : ipl chairman considers srk for ipl playoffs \n",
      "예측 요약 :  shah rukh khan to be sad on ipl auction reports\n",
      "\n",
      "\n",
      "원문 : many police personnel awarded medals eve republic day president ram nath kovind awarded police medals gallantry three personnel decorated president police medal gallantry award crpf decorated maximum followed odisha police received medals \n",
      "실제 요약 : police officers awarded medals on eve of republic day \n",
      "예측 요약 :  police national award to be held at rally\n",
      "\n",
      "\n",
      "원문 : bjp president amit shah wednesday said person associated bjp found involved destroying statue face severe action party adding bjp support bringing anybody statue shah said party believes wide range ideas ideologies india \n",
      "실제 요약 : workers destroying statues will face action from party shah \n",
      "예측 요약 :  bjp should not have statue of bjp amit shah\n",
      "\n",
      "\n",
      "원문 : bjp spokesperson sambit patra wednesday said corrupt jailed law taking course see reason political party cry vendetta law vendetta statement comes congress slammed bjp chidambaram son karti chidambaram arrest money laundering case calling bjp government vendetta \n",
      "실제 요약 : this is law not bjp on karti chidambaram arrest \n",
      "예측 요약 :  bjp trying to power to power bjp leader\n",
      "\n",
      "\n",
      "원문 : man arrested allegedly driving truck crowd sweden stockholm friday killing four injuring believed year old uzbekistan born previously known security services detained suspicion terrorist crime confirmed would sweden first terrorist assault using large vehicle \n",
      "실제 요약 : sweden truck attack suspect is born authorities \n",
      "예측 요약 :  man carrying gun arrested in canada\n",
      "\n",
      "\n",
      "원문 : samajwadi party leader azam khan saturday asked prime minister narendra modi talk muslim women losing husbands sons due violence gau rakshaks comes pm modi appealed muslim community find proper solution triple talaq issue congress also criticised modi statement inadequate \n",
      "실제 요약 : pm must speak on gau muslim women khan \n",
      "예측 요약 :  pm modi is muslim muslim women pm azam khan\n",
      "\n",
      "\n",
      "원문 : ahead us sanctions iranian oil iraq replaced saudi arabia india largest oil supplier august according reuters despite lower purchases iran remained third biggest oil supplier india month us sanctions iran following decision may withdraw nuclear deal \n",
      "실제 요약 : iraq replaces saudi as india largest oil supplier report \n",
      "예측 요약 :  iran oil imports to cut oil imports from iran\n",
      "\n",
      "\n",
      "원문 : chief justice india js khehar saturday said nowadays become mere piece paper political parties made accountable said none political parties indicated link electoral reforms constitutional goal ensuring economic social justice marginalised section \n",
      "실제 요약 : parties must be held for promises \n",
      "예측 요약 :  evms can be used to prove evms cji\n",
      "\n",
      "\n",
      "원문 : college student assam seriously injured youth reportedly college poured acid monday family reportedly refused marriage proposal back police registered case launched hunt nab accused stating prima facie seems outcome relationship gone \n",
      "실제 요약 : acid attack on assam girl for refusing marriage proposal \n",
      "예측 요약 :  crpf jawans in assam for not family report\n",
      "\n",
      "\n",
      "원문 : contrary existing theory sea generated limbs moved onto land first time international study suggested first creatures learned walk ocean floor remained underwater since researchers studied locomotive abilities little whose ancestors common lived million years ago \n",
      "실제 요약 : st that learned to walk never left oceans study \n",
      "예측 요약 :  earth may be st century in years study\n",
      "\n",
      "\n",
      "원문 : us indian space agencies nasa isro jointly develop launch world biggest expensive earth imaging satellite costing billion satellite named nisar nasa isro synthetic radar satellite take earth every week helping scientists study changes climate environment \n",
      "실제 요약 : nasa isro to jointly make most expensive satellite \n",
      "예측 요약 :  nasa to launch its th space in us\n",
      "\n",
      "\n",
      "원문 : airtel chairman sunil mittal total remuneration last fiscal two times reliance industries chairman mukesh ambani mittal received compensation crore ambani earned total salary crore however ambani india richest person net worth billion sunil mittal fortune billion \n",
      "실제 요약 : sunil mittal salary two times that of mukesh ambani \n",
      "예측 요약 :  airtel posts crore loss in india in crore\n",
      "\n",
      "\n",
      "원문 : madras high court observed result getting free rice people become lazy import workers northern states even works court added people expect everything free government free rice distributed poverty line bench stated \n",
      "실제 요약 : free rice has made people of tamil nadu madras hc \n",
      "예측 요약 :  free to free for free for free free hc to hc\n",
      "\n",
      "\n",
      "원문 : commerce major amazon likely buy least stake kishore biyani led future retail investment arm according reports potential cash stock deal final stages could reportedly worth around million earlier reports claimed amazon talks buy stake future retail \n",
      "실제 요약 : amazon likely to buy stake in future retail report \n",
      "예측 요약 :  amazon to buy stake in flipkart for cr reports\n",
      "\n",
      "\n",
      "원문 : jammu kashmir governor satya pal malik monday inaugurated mata vaishno devi mandir bhawan passenger project cost around crore carrying capacity persons per hour would reduce one way journey bhawan mandir one hour three minutes official statement said \n",
      "실제 요약 : governor inaugurates devi mandir \n",
      "예측 요약 :  governor malik inaugurates projects worth crore in mumbai\n",
      "\n",
      "\n",
      "원문 : police booked two youths pune clicking nude pictures two minor girls bathing fir registered suspects one girls overheard conversation regarding pictures police launched search investigation nab suspects went absconding complaint lodged \n",
      "실제 요약 : booked for clicking pics of minor girls taking bath \n",
      "예측 요약 :  booked for girls hostel girls in hyderabad\n",
      "\n",
      "\n",
      "원문 : admission batch students fathima medical college cancelled six students parent climbed mobile tower andhra pradesh vijayawada threatened suicide resigned protest assured appointment cm chandrababu naidu national disaster response force personnel deployed spot \n",
      "실제 요약 : andhra students threaten suicide given appointment with cm \n",
      "예측 요약 :  students protest in andhra pradesh over cow slaughter\n",
      "\n",
      "\n",
      "원문 : andhra pradesh cm chandrababu naidu termed formation day telangana black day stating congress bjp andhra pradesh create telangana june andhra pradesh suffering split denied special status added meanwhile telangana cm chandrashekar rao said telangana become india state \n",
      "실제 요약 : andhra cm terms formation day of telangana as black day \n",
      "예측 요약 :  andhra cm to telangana cm on his th anniversary\n",
      "\n",
      "\n",
      "원문 : china military ordered pledge absolute loyalty president xi jinping adding world largest armed forces honest reliable xi order said army follow xi command answer order never worry xi recently became china powerful leader since country revolutionary leader mao \n",
      "실제 요약 : chinese military ordered to pledge to xi \n",
      "예측 요약 :  china xi jinping xi jinping to be part of china summit\n",
      "\n",
      "\n",
      "원문 : chennai based online pharmacy acquired online startup cash stock deal nearly million deal fully absorb team integrate technology platform founded iit graduates abhishek kumar singh connects patients doctors country via online consultation \n",
      "실제 요약 : chennai based acquires health tech startup \n",
      "예측 요약 :  to buy stake in startup for mn\n",
      "\n",
      "\n",
      "원문 : qatar airways ceo akbar al baker said us president donald trump wise individual good businessman comment came response us airlines asking government prevent gulf airlines expanding aggressively us market regard al baker suggested trump unlikely bullied accepting demands \n",
      "실제 요약 : trump is very good businessman says qatar airways ceo \n",
      "예측 요약 :  trump told me to make it business qatar airways ceo\n",
      "\n",
      "\n",
      "원문 : indian cricket team captain virat kohli anushka sharma marriage actress sagarika ghatge zaheer khan got married november year bodyguard actress hazel yuvraj singh tied knot harbhajan singh geeta got married notably sharmila tagore converted islam marry late cricketer mansoor ali khan pataudi \n",
      "실제 요약 : which cricketers have married bollywood actresses \n"
     ]
    },
    {
     "name": "stdout",
     "output_type": "stream",
     "text": [
      "예측 요약 :  virat anushka zaheer sagarika zaheer zaheer on marriage\n",
      "\n",
      "\n",
      "원문 : passenger reportedly found insect pakoda served staff bihar kranti express fellow passenger tweeted picture meal following railway ministry directed officials look matter urgently several passengers also eaten pakodas reportedly developed vomiting incident \n",
      "실제 요약 : insect found in pakoda served in express \n",
      "예측 요약 :  passenger found in bihar hotel after his dogs\n",
      "\n",
      "\n",
      "원문 : anurag kashyap friday took twitter wrote shook hands mike tyson mumbai airport believe india tyson mumbai airport early friday morning india inaugurate league national sports club india mumbai tyson maiden india visit \n",
      "실제 요약 : hands with mike tyson cannot believe it anurag \n",
      "예측 요약 :  anurag kashyap trolls air india over rail rail flight\n",
      "\n",
      "\n",
      "원문 : actor known cameo appearance rajkumar hirani raho munna bhai passed away due lung ailment residence dadar mumbai monday suffering lung infection past one half years actor also known contribution marathi theatre \n",
      "실제 요약 : munna bhai actor passes away at \n",
      "예측 요약 :  sanju co founder sanjay dutt passes away\n",
      "\n",
      "\n",
      "원문 : uk pm theresa may got briefly locked inside car tuesday arrived berlin meet german chancellor angela merkel member pm may staff seen struggling pull door handle let merkel waited red carpet may met merkel discuss current brexit deal \n",
      "실제 요약 : uk pm theresa may gets locked inside her car \n",
      "예측 요약 :  uk pm theresa may take back to german parliament\n",
      "\n",
      "\n",
      "원문 : sikkim cm pawan kumar wednesday said state reducing poverty aiming become india first poverty free state according united nations country state recorded steepest fall poverty level quickly sikkim said sikkim poverty levels came \n",
      "실제 요약 : sikkim fastest in the world to shed poverty cm \n",
      "예측 요약 :  india has become most state of india in years\n",
      "\n",
      "\n"
     ]
    }
   ],
   "source": [
    "for i in range(50, 100):\n",
    "    print(\"원문 :\", seq2text(encoder_input_test[i]))\n",
    "    print(\"실제 요약 :\", seq2summary(decoder_input_test[i]))\n",
    "    print(\"예측 요약 :\", decode_sequence(encoder_input_test[i].reshape(1, text_max_len)))\n",
    "    print(\"\\n\")"
   ]
  },
  {
   "cell_type": "markdown",
   "id": "induced-completion",
   "metadata": {},
   "source": [
    "어느정도 요약된 문장이 출력되는 것을 확인 할 수 있다."
   ]
  },
  {
   "cell_type": "markdown",
   "id": "dependent-project",
   "metadata": {},
   "source": [
    "----\n",
    "----\n",
    "# 추출적 요약 (Extractive Summarization)\n",
    "패키지 Summa에서는 추출적 요약을 위한 모듈인 summarize를 제공하고 있어 아주 간단하게 구현할 수 있다."
   ]
  },
  {
   "cell_type": "code",
   "execution_count": 40,
   "id": "coordinated-joining",
   "metadata": {},
   "outputs": [],
   "source": [
    "from summa.summarizer import summarize\n",
    "import urllib.request\n",
    "\n",
    "urllib.request.urlretrieve(\"https://raw.githubusercontent.com/sunnysai12345/News_Summary/master/news_summary_more.csv\", filename=\"news_summary_more.csv\")\n",
    "data = pd.read_csv('news_summary_more.csv', encoding='iso-8859-1')"
   ]
  },
  {
   "cell_type": "code",
   "execution_count": 41,
   "id": "desperate-operation",
   "metadata": {},
   "outputs": [
    {
     "data": {
      "text/html": [
       "<div>\n",
       "<style scoped>\n",
       "    .dataframe tbody tr th:only-of-type {\n",
       "        vertical-align: middle;\n",
       "    }\n",
       "\n",
       "    .dataframe tbody tr th {\n",
       "        vertical-align: top;\n",
       "    }\n",
       "\n",
       "    .dataframe thead th {\n",
       "        text-align: right;\n",
       "    }\n",
       "</style>\n",
       "<table border=\"1\" class=\"dataframe\">\n",
       "  <thead>\n",
       "    <tr style=\"text-align: right;\">\n",
       "      <th></th>\n",
       "      <th>headlines</th>\n",
       "      <th>text</th>\n",
       "    </tr>\n",
       "  </thead>\n",
       "  <tbody>\n",
       "    <tr>\n",
       "      <th>96503</th>\n",
       "      <td>Smith takes one-handed catch to dismiss Wriddh...</td>\n",
       "      <td>Australian captain Steve Smith took a one-hand...</td>\n",
       "    </tr>\n",
       "    <tr>\n",
       "      <th>34901</th>\n",
       "      <td>Chandrayaan-2 to cost Ã¢ÂÂ¹800 crore: ISRO Ch...</td>\n",
       "      <td>India's second Moon mission, the Chandrayaan-2...</td>\n",
       "    </tr>\n",
       "    <tr>\n",
       "      <th>46767</th>\n",
       "      <td>IAF officer becomes 1st Indian woman to fly fi...</td>\n",
       "      <td>Indian Air Force officer Avani Chaturvedi has ...</td>\n",
       "    </tr>\n",
       "    <tr>\n",
       "      <th>7218</th>\n",
       "      <td>US rapper 2 Milly sues Fortnite maker for stea...</td>\n",
       "      <td>US rapper 2 Milly has sued Epic Games saying t...</td>\n",
       "    </tr>\n",
       "    <tr>\n",
       "      <th>9556</th>\n",
       "      <td>Ball slips out of SA fast bowler's hand, lands...</td>\n",
       "      <td>During the ninth over of Australia's innings i...</td>\n",
       "    </tr>\n",
       "    <tr>\n",
       "      <th>19223</th>\n",
       "      <td>Researcher admits plot to steal GSK secrets to...</td>\n",
       "      <td>A US cancer researcher has pleaded guilty to c...</td>\n",
       "    </tr>\n",
       "    <tr>\n",
       "      <th>17113</th>\n",
       "      <td>Rishabh Pant's coach recommended for Dronachar...</td>\n",
       "      <td>Delhi's Tarak Sinha, coach of wicketkeeper-bat...</td>\n",
       "    </tr>\n",
       "    <tr>\n",
       "      <th>48339</th>\n",
       "      <td>UP CM calls for simpler exams as 10 lakh skip ...</td>\n",
       "      <td>After around 10 lakh students skipped Board ex...</td>\n",
       "    </tr>\n",
       "    <tr>\n",
       "      <th>35915</th>\n",
       "      <td>Told govt note ban wasn't well-planned, useful...</td>\n",
       "      <td>Former RBI Governor Raghuram Rajan has reveale...</td>\n",
       "    </tr>\n",
       "    <tr>\n",
       "      <th>88836</th>\n",
       "      <td>1st reaction was 'I've to play Sanjay's mother...</td>\n",
       "      <td>Actress Manisha Koirala, while talking about b...</td>\n",
       "    </tr>\n",
       "  </tbody>\n",
       "</table>\n",
       "</div>"
      ],
      "text/plain": [
       "                                               headlines  \\\n",
       "96503  Smith takes one-handed catch to dismiss Wriddh...   \n",
       "34901  Chandrayaan-2 to cost Ã¢ÂÂ¹800 crore: ISRO Ch...   \n",
       "46767  IAF officer becomes 1st Indian woman to fly fi...   \n",
       "7218   US rapper 2 Milly sues Fortnite maker for stea...   \n",
       "9556   Ball slips out of SA fast bowler's hand, lands...   \n",
       "19223  Researcher admits plot to steal GSK secrets to...   \n",
       "17113  Rishabh Pant's coach recommended for Dronachar...   \n",
       "48339  UP CM calls for simpler exams as 10 lakh skip ...   \n",
       "35915  Told govt note ban wasn't well-planned, useful...   \n",
       "88836  1st reaction was 'I've to play Sanjay's mother...   \n",
       "\n",
       "                                                    text  \n",
       "96503  Australian captain Steve Smith took a one-hand...  \n",
       "34901  India's second Moon mission, the Chandrayaan-2...  \n",
       "46767  Indian Air Force officer Avani Chaturvedi has ...  \n",
       "7218   US rapper 2 Milly has sued Epic Games saying t...  \n",
       "9556   During the ninth over of Australia's innings i...  \n",
       "19223  A US cancer researcher has pleaded guilty to c...  \n",
       "17113  Delhi's Tarak Sinha, coach of wicketkeeper-bat...  \n",
       "48339  After around 10 lakh students skipped Board ex...  \n",
       "35915  Former RBI Governor Raghuram Rajan has reveale...  \n",
       "88836  Actress Manisha Koirala, while talking about b...  "
      ]
     },
     "execution_count": 41,
     "metadata": {},
     "output_type": "execute_result"
    }
   ],
   "source": [
    "data.sample(10)"
   ]
  },
  {
   "cell_type": "markdown",
   "id": "dynamic-letters",
   "metadata": {},
   "source": [
    "### 중복 샘플과 NULL 값이 존재하는 샘플 제거"
   ]
  },
  {
   "cell_type": "code",
   "execution_count": 42,
   "id": "cultural-holly",
   "metadata": {},
   "outputs": [
    {
     "name": "stdout",
     "output_type": "stream",
     "text": [
      "text 열에서 중복을 배제한 유일한 샘플의 수 : 98360\n",
      "headlines 열에서 중복을 배제한 유일한 샘플의 수 : 98280\n"
     ]
    }
   ],
   "source": [
    "# 데이터의 중복 샘플 유무 확인\n",
    "print('text 열에서 중복을 배제한 유일한 샘플의 수 :', data['text'].nunique())\n",
    "print('headlines 열에서 중복을 배제한 유일한 샘플의 수 :', data['headlines'].nunique())"
   ]
  },
  {
   "cell_type": "code",
   "execution_count": 43,
   "id": "driving-qualification",
   "metadata": {},
   "outputs": [
    {
     "name": "stdout",
     "output_type": "stream",
     "text": [
      "전체 샘플수 : 98360\n"
     ]
    }
   ],
   "source": [
    "# inplace=True 를 설정하면 DataFrame 타입 값을 return 하지 않고 data 내부를 직접적으로 바꿈\n",
    "data.drop_duplicates(subset = ['text'], inplace=True)\n",
    "print('전체 샘플수 :', (len(data)))"
   ]
  },
  {
   "cell_type": "code",
   "execution_count": 44,
   "id": "historic-difficulty",
   "metadata": {},
   "outputs": [
    {
     "name": "stdout",
     "output_type": "stream",
     "text": [
      "headlines    0\n",
      "text         0\n",
      "dtype: int64\n"
     ]
    }
   ],
   "source": [
    "print(data.isnull().sum())"
   ]
  },
  {
   "cell_type": "markdown",
   "id": "portable-tender",
   "metadata": {},
   "source": [
    "### summarize 를 사용한 추출적 요약"
   ]
  },
  {
   "cell_type": "code",
   "execution_count": 45,
   "id": "legislative-bhutan",
   "metadata": {},
   "outputs": [],
   "source": [
    "data['headlines_predict'] = data['text'].apply(lambda x: summarize(x, ratio=0.5))"
   ]
  },
  {
   "cell_type": "code",
   "execution_count": 46,
   "id": "according-oasis",
   "metadata": {},
   "outputs": [
    {
     "data": {
      "text/html": [
       "<div>\n",
       "<style scoped>\n",
       "    .dataframe tbody tr th:only-of-type {\n",
       "        vertical-align: middle;\n",
       "    }\n",
       "\n",
       "    .dataframe tbody tr th {\n",
       "        vertical-align: top;\n",
       "    }\n",
       "\n",
       "    .dataframe thead th {\n",
       "        text-align: right;\n",
       "    }\n",
       "</style>\n",
       "<table border=\"1\" class=\"dataframe\">\n",
       "  <thead>\n",
       "    <tr style=\"text-align: right;\">\n",
       "      <th></th>\n",
       "      <th>headlines</th>\n",
       "      <th>text</th>\n",
       "      <th>headlines_predict</th>\n",
       "    </tr>\n",
       "  </thead>\n",
       "  <tbody>\n",
       "    <tr>\n",
       "      <th>31476</th>\n",
       "      <td>BJP K'taka candidate performs gau puja before ...</td>\n",
       "      <td>BJP candidate B Sriramulu performed gau puja b...</td>\n",
       "      <td>He is contesting from the Badami seat against ...</td>\n",
       "    </tr>\n",
       "    <tr>\n",
       "      <th>22194</th>\n",
       "      <td>India invite to Trump not exclusive to Republi...</td>\n",
       "      <td>India's invitation to US President Donald Trum...</td>\n",
       "      <td>This comes after White House officials reveale...</td>\n",
       "    </tr>\n",
       "    <tr>\n",
       "      <th>68277</th>\n",
       "      <td>PM Modi should apologise over BHU incident: Ra...</td>\n",
       "      <td>Congress Vice President Rahul Gandhi on Tuesda...</td>\n",
       "      <td>Congress Vice President Rahul Gandhi on Tuesda...</td>\n",
       "    </tr>\n",
       "    <tr>\n",
       "      <th>43436</th>\n",
       "      <td>Cops in Haryana violating 'lal batti' norms: T...</td>\n",
       "      <td>The Indian Police Service officers in Haryana ...</td>\n",
       "      <td>The Indian Police Service officers in Haryana ...</td>\n",
       "    </tr>\n",
       "    <tr>\n",
       "      <th>3234</th>\n",
       "      <td>GST panel approves Kerala levying 1% calamity ...</td>\n",
       "      <td>A ministerial panel on Sunday allowed flood-hi...</td>\n",
       "      <td>A ministerial panel on Sunday allowed flood-hi...</td>\n",
       "    </tr>\n",
       "    <tr>\n",
       "      <th>43618</th>\n",
       "      <td>India not really prepared for electric vehicle...</td>\n",
       "      <td>Volkswagen India President and MD Andreas Laue...</td>\n",
       "      <td>Volkswagen India President and MD Andreas Laue...</td>\n",
       "    </tr>\n",
       "    <tr>\n",
       "      <th>71721</th>\n",
       "      <td>GST Council may lower tax rates if high collec...</td>\n",
       "      <td>GST Council may consider lowering tax on items...</td>\n",
       "      <td>GST Council may consider lowering tax on items...</td>\n",
       "    </tr>\n",
       "    <tr>\n",
       "      <th>93382</th>\n",
       "      <td>US successfully tests new nuclear gravity bomb</td>\n",
       "      <td>The US National Nuclear Security Administratio...</td>\n",
       "      <td>The US National Nuclear Security Administratio...</td>\n",
       "    </tr>\n",
       "    <tr>\n",
       "      <th>49285</th>\n",
       "      <td>BCCI website expires, down even during India-S...</td>\n",
       "      <td>BCCI's official domain, bcci.tv, reportedly ex...</td>\n",
       "      <td>BCCI has yet not renewed the domain, which is ...</td>\n",
       "    </tr>\n",
       "    <tr>\n",
       "      <th>75961</th>\n",
       "      <td>Women to carry out 'Bekhauf Aazaadi March' in ...</td>\n",
       "      <td>In light of Varnika Kundu stalking case, 'Bekh...</td>\n",
       "      <td>The organisers of the event said that they are...</td>\n",
       "    </tr>\n",
       "  </tbody>\n",
       "</table>\n",
       "</div>"
      ],
      "text/plain": [
       "                                               headlines  \\\n",
       "31476  BJP K'taka candidate performs gau puja before ...   \n",
       "22194  India invite to Trump not exclusive to Republi...   \n",
       "68277  PM Modi should apologise over BHU incident: Ra...   \n",
       "43436  Cops in Haryana violating 'lal batti' norms: T...   \n",
       "3234   GST panel approves Kerala levying 1% calamity ...   \n",
       "43618  India not really prepared for electric vehicle...   \n",
       "71721  GST Council may lower tax rates if high collec...   \n",
       "93382     US successfully tests new nuclear gravity bomb   \n",
       "49285  BCCI website expires, down even during India-S...   \n",
       "75961  Women to carry out 'Bekhauf Aazaadi March' in ...   \n",
       "\n",
       "                                                    text  \\\n",
       "31476  BJP candidate B Sriramulu performed gau puja b...   \n",
       "22194  India's invitation to US President Donald Trum...   \n",
       "68277  Congress Vice President Rahul Gandhi on Tuesda...   \n",
       "43436  The Indian Police Service officers in Haryana ...   \n",
       "3234   A ministerial panel on Sunday allowed flood-hi...   \n",
       "43618  Volkswagen India President and MD Andreas Laue...   \n",
       "71721  GST Council may consider lowering tax on items...   \n",
       "93382  The US National Nuclear Security Administratio...   \n",
       "49285  BCCI's official domain, bcci.tv, reportedly ex...   \n",
       "75961  In light of Varnika Kundu stalking case, 'Bekh...   \n",
       "\n",
       "                                       headlines_predict  \n",
       "31476  He is contesting from the Badami seat against ...  \n",
       "22194  This comes after White House officials reveale...  \n",
       "68277  Congress Vice President Rahul Gandhi on Tuesda...  \n",
       "43436  The Indian Police Service officers in Haryana ...  \n",
       "3234   A ministerial panel on Sunday allowed flood-hi...  \n",
       "43618  Volkswagen India President and MD Andreas Laue...  \n",
       "71721  GST Council may consider lowering tax on items...  \n",
       "93382  The US National Nuclear Security Administratio...  \n",
       "49285  BCCI has yet not renewed the domain, which is ...  \n",
       "75961  The organisers of the event said that they are...  "
      ]
     },
     "execution_count": 46,
     "metadata": {},
     "output_type": "execute_result"
    }
   ],
   "source": [
    "data.sample(10)"
   ]
  },
  {
   "cell_type": "code",
   "execution_count": 47,
   "id": "separate-bankruptcy",
   "metadata": {
    "scrolled": false
   },
   "outputs": [
    {
     "name": "stdout",
     "output_type": "stream",
     "text": [
      "원문 : Former Finance Minister Yashwant Sinha on Tuesday demanded a probe into the alleged diversion of loans worth Ã¢ÂÂ¹31,000 crore by Dewan Housing Finance (DHFL). All agencies including regulators of the government have failed to track nefarious deals, he said. This comes after a media report on Tuesday accused DHFL's controlling shareholders of diverting funds to shell companies to buy assets.\n",
      "실제 요약 : Yashwant Sinha demands probe into alleged fund diversion by DHFL\n",
      "예측 요약 : Former Finance Minister Yashwant Sinha on Tuesday demanded a probe into the alleged diversion of loans worth Ã¢ÂÂ¹31,000 crore by Dewan Housing Finance (DHFL).\n",
      "\n",
      "\n",
      "원문 : US-based Boeing on Wednesday reported annual sales worth $101.12 billion in 2018, the first time the planemaker's sales crossed the $100-billion mark in its 102-year history. The company said it expects to deliver between 895 and 905 commercial aircraft in 2019. Boeing retained its position as the world's largest planemaker for the seventh straight year, delivering 806 aircraft in 2018. \n",
      "실제 요약 : Boeing sales cross $100bn for 1st time in its 102-yr history\n",
      "예측 요약 : Boeing retained its position as the world's largest planemaker for the seventh straight year, delivering 806 aircraft in 2018.\n",
      "\n",
      "\n",
      "원문 : text\n",
      "실제 요약 : headlines\n",
      "예측 요약 : \n",
      "\n",
      "\n",
      "원문 : OnePlus has emerged as India's best-selling premium smartphone brand of 2018, as per a report by Counterpoint. It captured 36% of the market share in the premium segment, in Q4 2018. Further, its OnePlus 6 emerged as the highest selling premium smartphone of 2018 followed by OnePlus 6T.\n",
      "실제 요약 : OnePlus named bestselling premium smartphone brand of 2018: Report\n",
      "예측 요약 : Further, its OnePlus 6 emerged as the highest selling premium smartphone of 2018 followed by OnePlus 6T.\n",
      "\n",
      "\n",
      "원문 : Filmmaker Pooja Bhatt, while talking about the presentation of women in her films, said, \"I can never look at a female body, even if it's naked, in a vulgar manner.\" \"Our audience can say...the women in my films are bold or sensual, but never ever vulgar,\" she added. Pooja further said her censor board is her \"own heart and mind\".\n",
      "실제 요약 : Can never look at female body, even if naked, in vulgar way: Pooja\n",
      "예측 요약 : Filmmaker Pooja Bhatt, while talking about the presentation of women in her films, said, \"I can never look at a female body, even if it's naked, in a vulgar manner.\" \"Our audience can say...the women in my films are bold or sensual, but never ever vulgar,\" she added.\n",
      "\n",
      "\n",
      "원문 : Actress Mishti, who has featured in 'Manikarnika: The Queen of Jhansi', has said the film's co-director Kangana Ranaut made false promises to the cast. \"Kangana had said, 'I want dates because all characters look jumbled up...I'm trying my best to give everybody a prominent space on screen.' After watching the movie, there is no scope for other characters,\" Mishti added. \n",
      "실제 요약 : Kangana made fake promises to cast: 'Manikarnika' actress Mishti\n",
      "예측 요약 : Actress Mishti, who has featured in 'Manikarnika: The Queen of Jhansi', has said the film's co-director Kangana Ranaut made false promises to the cast.\n",
      "\n",
      "\n",
      "원문 : The high-powered committee led by PM Narendra Modi to select the next CBI Director will meet again on February 1, Congress leader Mallikarjun Kharge has said. The panel consisting of Kharge and Chief Justice of India Ranjan Gogoi met on January 24, but the meeting ended \"inconclusively\" after Kharge cited lack of details in the list of 80 IPS officers. \n",
      "실제 요약 : PM-led panel to meet on Friday to pick new CBI chief: Kharge\n",
      "예측 요약 : The high-powered committee led by PM Narendra Modi to select the next CBI Director will meet again on February 1, Congress leader Mallikarjun Kharge has said.\n",
      "\n",
      "\n",
      "원문 : Nevada State Athletic Commission has banned MMA fighters Conor McGregor and Khabib Nurmagomedov for six months and nine months respectively over their roles in the mass brawl that occurred after their fight at UFC 229 last October. McGregor and Khabib have been fined $50,000 (Ã¢ÂÂ¹35 lakh) and $500,000 (Ã¢ÂÂ¹3.5 crore) respectively. The brawl occurred after Nurmagomedov confronted McGregor's teammate.\n",
      "실제 요약 : McGregor fined Ã¢ÂÂ¹35 lakh, Khabib Ã¢ÂÂ¹3.5 crore for brawl; both banned\n",
      "예측 요약 : Nevada State Athletic Commission has banned MMA fighters Conor McGregor and Khabib Nurmagomedov for six months and nine months respectively over their roles in the mass brawl that occurred after their fight at UFC 229 last October.\n",
      "\n",
      "\n",
      "원문 : Pakistan captain Sarfaraz Ahmed, who has been banned for four matches over racist remarks, took an apparent dig at his critics by sharing a video of a child reciting 'log hai na' poem on Twitter. \"Pyaar karna hai to khud se kar...dushmani karne ke liye log hai na,\" the poem read. \"This is how the world is,\" Sarfaraz wrote.\n",
      "실제 요약 : Banned for 4 matches, Sarfaraz shares 'log hai na' poem for critics\n",
      "예측 요약 : Pakistan captain Sarfaraz Ahmed, who has been banned for four matches over racist remarks, took an apparent dig at his critics by sharing a video of a child reciting 'log hai na' poem on Twitter.\n",
      "\n",
      "\n",
      "원문 : Banned cricketer Sreesanth has told Supreme Court he initially confessed to Delhi Police about his alleged involvement in 2013 IPL spot-fixing scandal to escape continuous police torture. Sreesanth further said the bookie tried dragging him into spot-fixing but he didn't fall for it. Citing Sreesanth not informing BCCI about fixing approach, the apex court said Sreesanth's conduct \"wasn't good\".\n",
      "실제 요약 : Confessed to spot-fixing to escape police torture: Sreesanth to SC\n",
      "예측 요약 : Sreesanth further said the bookie tried dragging him into spot-fixing but he didn't fall for it.\n",
      "\n",
      "\n",
      "원문 : The Finance Ministry on Wednesday said the government will present an Interim Budget on February 1. The clarification came amid speculations that a full Budget may be presented during the session. The government recently assigned Piyush Goyal temporary additional charge of the Finance and Corporate Affairs ministries in the absence of Arun Jaitley, who is in the US for treatment.\n",
      "실제 요약 : Govt to present Interim Budget, not full Budget on February 1\n",
      "예측 요약 : The Finance Ministry on Wednesday said the government will present an Interim Budget on February 1.\n",
      "\n",
      "\n",
      "원문 : US President Donald Trump on Wednesday called his country's top intelligence chiefs \"naive\" and \"wrong\" on Iran and added that they should perhaps \"go back to school\". Trump claimed Iran is testing rockets, calling the country \"a source of potential danger and conflict\". Top US intelligence officials on Tuesday said that Iran isn't currently taking steps towards building nuclear weapons.\n",
      "실제 요약 : US intelligence naive and wrong, should go back to school: Trump\n",
      "예측 요약 : US President Donald Trump on Wednesday called his country's top intelligence chiefs \"naive\" and \"wrong\" on Iran and added that they should perhaps \"go back to school\".\n",
      "\n",
      "\n",
      "원문 : A senior priest at the Vatican who handled cases of sexual abuse has quit after being accused of sexual abuse by a former nun. The accused priest claimed he is innocent and said he would consider taking legal action. The Vatican said in a statement that a Church investigation of the case was underway.\n",
      "실제 요약 : Vatican priest handling sex abuse cases quits over alleged sex abuse\n",
      "예측 요약 : A senior priest at the Vatican who handled cases of sexual abuse has quit after being accused of sexual abuse by a former nun.\n",
      "\n",
      "\n",
      "원문 : A 22-year-old writer turned down a job offer, claiming she was bullied to the point of tears during her two-hour interview by a UK company's CEO. Olivia Bland added the \"brutal\" interview brought back painful memories of her abusive relationship. \"I am so sorry that anyone has been hurt, it is never my intent,\" Web Applications CEO Craig Dean replied. \n",
      "실제 요약 : Woman rejects job after CEO bullies her in interview; he apologises\n",
      "예측 요약 : A 22-year-old writer turned down a job offer, claiming she was bullied to the point of tears during her two-hour interview by a UK company's CEO.\n",
      "\n",
      "\n",
      "원문 : Noida Police has arrested Sector 20 station in-charge Manoj Pant and three journalists for allegedly extorting money from a call centre owner for removing his name from an FIR. The four were caught while taking bribe money of Ã¢ÂÂ¹8 lakh, police said. Pant was the lead investigator in the Paytm extortion case involving Founder Vijay Shekhar Sharma's secretary Sonia Dhawan.\n",
      "실제 요약 : Police officer probing Paytm extortion case arrested for extortion\n",
      "예측 요약 : Noida Police has arrested Sector 20 station in-charge Manoj Pant and three journalists for allegedly extorting money from a call centre owner for removing his name from an FIR.\n",
      "\n",
      "\n",
      "원문 : Airtel on Wednesday said that Qatar's sovereign wealth fund Qatar Investment Authority will invest $200 million through a primary equity issuance in Airtel Africa. India's second-largest telecom operator's Africa unit recently raised $1.25 billion from six investors. Airtel Africa, the holding company for Airtel's operations in 14 African countries, is preparing for an initial public offering.\n",
      "실제 요약 : Qatar to invest $200 million in Airtel Africa\n",
      "예측 요약 : Airtel Africa, the holding company for Airtel's operations in 14 African countries, is preparing for an initial public offering.\n",
      "\n",
      "\n",
      "원문 : Actor Shreyas Talpade said that 'Golmaal' filmmaker Rohit Shetty is still working on the script for the fifth instalment of the 'Golmaal' film franchise. \"He was telling us the other day that he...cracked some story. Once he's done with the...scripting, he'll take a call,Ã¢ÂÂ the actor added. The series features Shreyas along with Ajay Devgn, Arshad Warsi and Tusshar Kapoor.\n",
      "실제 요약 : Rohit Shetty still working on script for Golmaal 5: Shreyas\n",
      "예측 요약 : Actor Shreyas Talpade said that 'Golmaal' filmmaker Rohit Shetty is still working on the script for the fifth instalment of the 'Golmaal' film franchise.\n",
      "Once he's done with the...scripting, he'll take a call,Ã¢ÂÂ the actor added.\n",
      "\n",
      "\n",
      "원문 : A 72-year-old man named Terry Sanderson has sued 'Avengers' actress Gwyneth Paltrow for allegedly crashing into him while skiing, and is seeking $3.1 million (over Ã¢ÂÂ¹22 crore) in damages. The lawsuit states the actress got up and skied away after knocking the man down, leaving him with broken ribs. The incident reportedly took place in 2016 in Utah, US. \n",
      "실제 요약 : Man sues Avengers actress Gwyneth for Ã¢ÂÂ¹22 crore over ski crash\n",
      "예측 요약 : A 72-year-old man named Terry Sanderson has sued 'Avengers' actress Gwyneth Paltrow for allegedly crashing into him while skiing, and is seeking $3.1 million (over Ã¢ÂÂ¹22 crore) in damages.\n",
      "\n",
      "\n",
      "원문 : Yami Gautam was felicitated by Border Security Force (BSF) in Amritsar for her performance in 'Uri: The Surgical Strike'. \"BSF is the first line of defence of our country and it gives me...pride to have met them,\" Yami said. The film, which also stars Vicky Kaushal, is based on the Indian Army's surgical strike operation which took place in 2016.\n",
      "실제 요약 : Yami Gautam felicitated by BSF for performance in 'Uri...'\n",
      "예측 요약 : Yami Gautam was felicitated by Border Security Force (BSF) in Amritsar for her performance in 'Uri: The Surgical Strike'.\n",
      "\n",
      "\n",
      "원문 : Social media giant Facebook has hired privacy critic Nate Cardozo, formerly the top legal counsel for US privacy watchdog EFF, as a privacy policy manager for WhatsApp. Cardozo had called Facebook a \"faceless corporation\" whose business model depends on user's confusion and indifference about privacy, in October 2015. Facebook has also hired attorney Robyn Greene as its privacy policy manager.\n",
      "실제 요약 : Facebook hires its privacy critic as privacy policy manager\n",
      "예측 요약 : Social media giant Facebook has hired privacy critic Nate Cardozo, formerly the top legal counsel for US privacy watchdog EFF, as a privacy policy manager for WhatsApp. Cardozo had called Facebook a \"faceless corporation\" whose business model depends on user's confusion and indifference about privacy, in October 2015.\n",
      "\n",
      "\n",
      "원문 : Apple CEO Tim Cook said the company plans to lower some iPhones' prices in markets with currencies that weakened against the US dollar in the past year. \"WeÃ¢ÂÂve decided to go back to (iPhone prices) more commensurate with...local prices...a year ago,\" Cook added. The price cuts, in hopes of increasing sales, are reportedly occurring for second time in 12 years.\n",
      "실제 요약 : Apple to cut some iPhones' prices outside US over strong dollar\n",
      "예측 요약 : \"WeÃ¢ÂÂve decided to go back to (iPhone prices) more commensurate with...local prices...a year ago,\" Cook added.\n",
      "\n",
      "\n",
      "원문 : Scientists in Australia's Flinders University are testing a wetsuit prototype that could protect its wearer after a shark attack. The suit, made of synthetic material similar to the material used in bulletproof vests, could help reduce blood loss after a shark attack. \"The majority of fatalities from shark bites is due to blood loss...shock from blood loss,\" a scientist said.\n",
      "실제 요약 : Scientists test wetsuit to protect wearer after shark attack\n",
      "예측 요약 : \"The majority of fatalities from shark bites is due to blood loss...shock from blood loss,\" a scientist said.\n",
      "\n",
      "\n",
      "원문 : BJP National Secretary Rahul Sinha on Wednesday asked the party workers in West Bengal to come armed with sticks to PM Narendra Modi's rally in the state on February 2. His statement came a day after clashes broke out following BJP chief Amit Shah's WB rally. Sinha added the TMC is indulged in violence as they're afraid of BJP's strength.\n",
      "실제 요약 : Come armed with sticks for PM Modi's rally in WB: BJP leader\n",
      "예측 요약 : BJP National Secretary Rahul Sinha on Wednesday asked the party workers in West Bengal to come armed with sticks to PM Narendra Modi's rally in the state on February 2.\n",
      "\n",
      "\n",
      "원문 : BJP President Amit Shah on Wednesday took a dig at the Opposition parties saying that the 'mahagathbandhan' for the Opposition is 4B - \"Bua-Bhatija-Bhai-Behen\". He added that 4B for the BJP meant \"Badhta Bharat, Banta Bharat\". He said Opposition's government cannot take the country ahead and \"only Modiji can provide a 'mazboot' (strong) government\".\n",
      "실제 요약 : '4B' for Opposition is 'Bua-Bhatija-Bhai-Behen': Amit Shah\n",
      "예측 요약 : BJP President Amit Shah on Wednesday took a dig at the Opposition parties saying that the 'mahagathbandhan' for the Opposition is 4B - \"Bua-Bhatija-Bhai-Behen\".\n",
      "\n",
      "\n",
      "원문 : German automaker Volkswagen Group has retained the car industry's top spot in global sales, beating its Japanese rival Toyota. Volkswagen's sales, including its MAN and Scania heavy trucks and buses, rose 0.9% to 10.83 million in 2018, the company had said. Toyota came second with around 10.6 million deliveries, including its affiliated brands Daihatsu and Hino, in 2018.\n",
      "실제 요약 : Volkswagen retains top spot in global sales, beats Toyota\n",
      "예측 요약 : Volkswagen's sales, including its MAN and Scania heavy trucks and buses, rose 0.9% to 10.83 million in 2018, the company had said.\n",
      "\n",
      "\n",
      "원문 : Ousted Nissan Chairman Carlos Ghosn has said his arrest over alleged financial misconduct was led by \"plot and treason\" by the Japanese carmaker's executives who opposed its deeper integration with Renault and Mitsubishi. Ghosn added he had discussed the integration plans with Nissan's CEO in September, a month before his arrest. He further said he wouldn't flee if granted bail.\n",
      "실제 요약 : Plot, treason by Nissan executives led to my arrest: Ghosn\n",
      "예측 요약 : Ousted Nissan Chairman Carlos Ghosn has said his arrest over alleged financial misconduct was led by \"plot and treason\" by the Japanese carmaker's executives who opposed its deeper integration with Renault and Mitsubishi.\n",
      "\n",
      "\n",
      "원문 : The government has cut down customs duty on import of parts and components for electric vehicles to 10-15%, down from the previous 15-30%. The Central Board of Indirect Taxes and Customs said disassembled parts will attract 10% duty, whereas 15% will be levied on pre-assembled packs. However, fully built electric vehicles will continue to attract 25% import duty.\n",
      "실제 요약 : Govt cuts customs duty on electric vehicle parts to 10-15%\n",
      "예측 요약 : The government has cut down customs duty on import of parts and components for electric vehicles to 10-15%, down from the previous 15-30%.\n",
      "\n",
      "\n",
      "원문 : Government officials on Wednesday said that a swine flu outbreak has killed 76 people this year in Rajasthan. Colder weather has worsened the seasonal outbreak of the H1N1 virus in the country, officials added. Rajasthan recorded more than a third of all swine flu deaths in India with Jodhpur being the worst affected area in the state, officials said.\n",
      "실제 요약 : Swine flu outbreak kills 76 in Rajasthan\n",
      "예측 요약 : Government officials on Wednesday said that a swine flu outbreak has killed 76 people this year in Rajasthan.\n",
      "\n",
      "\n",
      "원문 : North Korea is \"unlikely to completely give up its nuclear weapons and production capabilities\", Director of US' National Intelligence, Daniel Coats, said. \"North Korean leaders view nuclear arms as critical to regime survival,\" he added. His statements come despite North Korea's agreement with the US at the Singapore summit last year to denuclearise the Korean Peninsula. \n",
      "실제 요약 : N Korea unlikely to give up nuclear weapons: US intelligence chief\n",
      "예측 요약 : \"North Korean leaders view nuclear arms as critical to regime survival,\" he added.\n",
      "\n",
      "\n",
      "원문 : Jet Airways on Wednesday denied it was directed by GE Capital Aviation Services to ground its aircraft due to non-payment of dues. The airline said it's in the process of delivering three aircraft to lessors due to the expiry of lease terms. Further, three aircraft have been temporarily grounded to carry out an engine normalisation exercise, it added.\n",
      "실제 요약 : Jet Airways denies being told to ground aircraft\n",
      "예측 요약 : Further, three aircraft have been temporarily grounded to carry out an engine normalisation exercise, it added.\n",
      "\n",
      "\n",
      "원문 : Retired Justice Srikrishna's enquiry panel has found that ex-CEO Chanda Kochhar violated ICICI Bank's code of conduct. The bank said it'll treat Kochhar's exit as termination and will take back all bonuses paid to her from April 2009 until March 2018. The CBI recently filed a case against Kochhar, her husband, and Videocon MD in the ICICI-Videocon loan case.\n",
      "실제 요약 : ICICI fires Chanda Kochhar, to take back bonuses paid in last 9 yrs\n",
      "예측 요약 : Retired Justice Srikrishna's enquiry panel has found that ex-CEO Chanda Kochhar violated ICICI Bank's code of conduct.\n",
      "\n",
      "\n",
      "원문 : Ex-India cricketer Jacob Martin has been shifted to general ward from the ICU after being on a ventilator for nearly a month following a road accident, wherein he severely injured his lungs. Martin's wife Khyati mentioned there are chances that Jacob will be in hospital for two more months. BCCI, CSK and various cricketers provided financial assistance for Martin's treatment.\n",
      "실제 요약 : Ex-cricketer Martin out of ICU after being on ventilator for a month\n",
      "예측 요약 : Ex-India cricketer Jacob Martin has been shifted to general ward from the ICU after being on a ventilator for nearly a month following a road accident, wherein he severely injured his lungs.\n",
      "\n",
      "\n",
      "원문 : Sri Lanka all-rounder Thisara Perera has written to Sri Lanka Cricket CEO Ashley de Silva, asking the board to intervene after ODI captain Lasith Malinga's wife Tanya targeted him on Facebook. Tanya accused Perera of meeting country's Sports Minister to secure his place in the team. \"We've become laughing stock of whole country...because of one person's personal vendetta,\" Perera wrote.\n",
      "실제 요약 : Malinga's wife targets Perera on Facebook, he seeks board's help\n",
      "예측 요약 : Tanya accused Perera of meeting country's Sports Minister to secure his place in the team.\n",
      "\n",
      "\n",
      "원문 : Goa CM and ex-Defence Minister Manohar Parrikar has written a letter to Congress President Rahul Gandhi over his claim that Parrikar told him he has nothing to do with new Rafale deal. Parrikar wrote, \"Kindly do not use your visit to an ailing person to feed political opportunism.\" In their five-minute meeting, they didn't discuss anything about Rafale, he added.\n",
      "실제 요약 : Don't use visit to ailing man for political gains: Goa CM to Rahul\n",
      "예측 요약 : Goa CM and ex-Defence Minister Manohar Parrikar has written a letter to Congress President Rahul Gandhi over his claim that Parrikar told him he has nothing to do with new Rafale deal.\n",
      "\n",
      "\n",
      "원문 : Prime Minister Narendra Modi stopped his speech at the inauguration of the new terminal building at Surat airport after observing that a cameraman had fainted. PM Modi then asked his officers to urgently arrange for an ambulance for the cameraman. \"It's good that PM was paying attention to his surroundings during his speech,\" the cameraman later said from a hospital. \n",
      "실제 요약 : PM Modi stops speech after cameraman faints, asks officers to help\n",
      "예측 요약 : PM Modi then asked his officers to urgently arrange for an ambulance for the cameraman.\n",
      "\n",
      "\n",
      "원문 : A couple got divorced minutes after their wedding ceremony got over in Gujarat's Gondal as a disagreement broke out and relatives from both sides started throwing dishes at each other during lunch. The advocates representing both sides arrived at the marriage hall and got the couple divorced within minutes. The couple even reportedly returned the gifts exchanged during the ceremony.\n",
      "실제 요약 : Couple divorces minutes after marriage as families fight over lunch\n",
      "예측 요약 : A couple got divorced minutes after their wedding ceremony got over in Gujarat's Gondal as a disagreement broke out and relatives from both sides started throwing dishes at each other during lunch.\n",
      "\n",
      "\n",
      "원문 : Gujarat Education Minister Bhupendrasinh Chudasma has written a congratulatory message to a yoga ashram run by rape-convict Asaram's organisation for observing February 14 as \"Matru-Pitru Pujan Divas\" (Mother-Father worship day). After the Congress termed the letter as \"unfortunate\", saying it \"shows the nexus between BJP and godman\", Chudasma clarified, \"All I have done is sent best wishes.\" \n",
      "실제 요약 : Minister praises rape-convict Asaram over Matru-Pitru Divas\n",
      "예측 요약 : Gujarat Education Minister Bhupendrasinh Chudasma has written a congratulatory message to a yoga ashram run by rape-convict Asaram's organisation for observing February 14 as \"Matru-Pitru Pujan Divas\" (Mother-Father worship day).\n",
      "\n",
      "\n",
      "원문 : Venezuelan President NicolÃÂ¡s Maduro has claimed that his American counterpart Donald Trump ordered the Colombian government and the Colombian mafia to kill him. \"If something happens to me, Trump and Colombian President IvÃÂ¡n MÃÂ¡rquez will bear responsibility,\" he added. The US has blamed Maduro for the economic crisis in Venezuela and recognised opposition leader Juan GuaidÃÂ³ as interim President.\n",
      "실제 요약 : Trump ordered to kill me: Venezuela President Maduro\n",
      "예측 요약 : Venezuelan President NicolÃÂ¡s Maduro has claimed that his American counterpart Donald Trump ordered the Colombian government and the Colombian mafia to kill him.\n",
      "\n",
      "\n",
      "원문 : Eight Asian billionaires aged 90 or above on the Bloomberg Billionaires Index of world's 500 richest people have a combined net worth of $125 billion. The richest among them is Hong Kong's Li Ka Shing with a net worth of $30.5 billion. India's 90-year-old Pallonji Mistry, who controls 18.3% of Tata Sons through Shapoorji Pallonji Group, is worth $20.1 billion.\n",
      "실제 요약 : 8 Asian billionaires aged over 90, including Mistry, control $125bn\n",
      "예측 요약 : The richest among them is Hong Kong's Li Ka Shing with a net worth of $30.5 billion.\n",
      "\n",
      "\n",
      "원문 : Tamil Nadu food safety officials on Wednesday raided and seized 1,000 kgs of banned plastic items from Hotel Saravana Bhavan in Chennai's Vadapalani. Officials began a surprise check in the branch at 8 am. The state government had banned single-use plastics from January 1 and said the banned items should be handed over at the offices of the city corporation.\n",
      "실제 요약 : 1,000 kg banned plastic seized from Saravana Bhavan in Chennai\n",
      "예측 요약 : Tamil Nadu food safety officials on Wednesday raided and seized 1,000 kgs of banned plastic items from Hotel Saravana Bhavan in Chennai's Vadapalani.\n",
      "\n",
      "\n",
      "원문 : Actress Shamita Shetty was verbally abused and her driver was slapped in an incident of road rage in Mumbai on Tuesday, as per reports. The incident reportedly took place after a motorist who was accompanied by two friends, rammed his vehicle into Shamita's car. The men allegedly manhandled and threatened Shamita's driver when he stepped out to inspect the damage. \n",
      "실제 요약 : Shamita Shetty abused, driver slapped after accident: Report\n",
      "예측 요약 : Actress Shamita Shetty was verbally abused and her driver was slapped in an incident of road rage in Mumbai on Tuesday, as per reports.\n",
      "\n",
      "\n",
      "원문 : Actress Vaani Kapoor said that trolling has become a norm on social media, adding, \"There's no one who hasn't got trolled on social media.\" \"Everybody is out there to pull the other person down but it'll only bother [you] if you let it bother you,\" Vaani added. She further said, social media offers a platform \"where people enjoy belittling everybody\". \n",
      "실제 요약 : Trolling has become the norm on social media: Vaani\n",
      "예측 요약 : Actress Vaani Kapoor said that trolling has become a norm on social media, adding, \"There's no one who hasn't got trolled on social media.\" \"Everybody is out there to pull the other person down but it'll only bother [you] if you let it bother you,\" Vaani added.\n",
      "\n",
      "\n",
      "원문 : Actress Sushmita Sen took to Instagram to share a joke on the subject of marriage. \"Whoever invented marriage was creepy as hell. Like I love you so much IÃ¢ÂÂm gonna get the government involved so you canÃ¢ÂÂt leave,\" Sushmita's post read. \"This is an insult to [the] beauty of marriage,\" an Instagram user commented on her post.\n",
      "실제 요약 : Whoever invented marriage was creepy as hell: Sushmita posts joke\n",
      "예측 요약 : Actress Sushmita Sen took to Instagram to share a joke on the subject of marriage.\n",
      "\"This is an insult to [the] beauty of marriage,\" an Instagram user commented on her post.\n",
      "\n",
      "\n",
      "원문 : Television actor Karanvir Bohra, who flew to Russia on Tuesday to attend a film festival, has been detained in Moscow due to passport damage. \"They [are] contemplating to deport me back to India,\" the actor wrote on Twitter. The Indian embassy in Russia's capital responded to his tweet and said that they were looking into the issue. \n",
      "실제 요약 : Actor Karanvir Bohra detained in Russia over passport damage\n",
      "예측 요약 : Television actor Karanvir Bohra, who flew to Russia on Tuesday to attend a film festival, has been detained in Moscow due to passport damage.\n",
      "\n",
      "\n",
      "원문 : While speaking about winning awards for his films, Shah Rukh Khan said, \"If I don't get an award, that award is at a loss.\" \"Sometimes, the prestige of an award increases when I receive it,\" the actor jokingly added. Shah Rukh further said that he was \"extremely ambitious\" but in a \"fair manner\". \n",
      "실제 요약 : If I don't get an award, that award is at loss: SRK\n",
      "예측 요약 : While speaking about winning awards for his films, Shah Rukh Khan said, \"If I don't get an award, that award is at a loss.\" \"Sometimes, the prestige of an award increases when I receive it,\" the actor jokingly added.\n",
      "\n",
      "\n",
      "원문 : Actress Patralekhaa will make her debut in the Kannada film industry with the action-comedy film 'Where is my Kannadaka?' \"I can definitely say that itÃ¢ÂÂs a kind of role that I havenÃ¢ÂÂt portrayed on screen so far and that makes it special for me,\" the actress said in a statement. Shooting for the film will reportedly begin in April.\n",
      "실제 요약 : Actress Patralekhaa to make her Kannada film debut \n",
      "예측 요약 : Actress Patralekhaa will make her debut in the Kannada film industry with the action-comedy film 'Where is my Kannadaka?' \"I can definitely say that itÃ¢ÂÂs a kind of role that I havenÃ¢ÂÂt portrayed on screen so far and that makes it special for me,\" the actress said in a statement.\n",
      "\n",
      "\n",
      "원문 : Gmail on Tuesday faced a global outage, which also affected India, wherein certain users complained they faced a '404 error' message while trying to sign-in to their accounts. The error message read: \"The requested URL was not found on this server. That's all we know.\" Google responded saying \"problem with Gmail should be resolved (now). We apologise for the inconvenience\".\n",
      "실제 요약 : Gmail faces temporary global outage, users face '404 error'\n",
      "예측 요약 : Gmail on Tuesday faced a global outage, which also affected India, wherein certain users complained they faced a '404 error' message while trying to sign-in to their accounts.\n",
      "The error message read: \"The requested URL was not found on this server.\n",
      "\n",
      "\n",
      "원문 : Shiv Sena chief Uddhav Thackeray has asked the BJP to decide about the alliance with the Sena within 15 days and said the BJP should make a concrete proposal on the alliance. Thackeray added that only if the BJP agrees to Sena's terms and conditions, the party will agree for an alliance. Sena is free to fight independently, he said. \n",
      "실제 요약 : Decide about an alliance within 15 days: Uddhav to BJP\n",
      "예측 요약 : Shiv Sena chief Uddhav Thackeray has asked the BJP to decide about the alliance with the Sena within 15 days and said the BJP should make a concrete proposal on the alliance.\n",
      "\n",
      "\n",
      "원문 : BJP President Amit Shah on Wednesday took a dig at the Opposition's proposed grand alliance saying if the \"mahagathbandhan comes to power, each opposition leader will be a Prime Minister every day of the week\". He added, \"[The] country will go on...holiday on Sunday\". He said the Opposition is thinking about leading the country but does not have a leader.\n",
      "실제 요약 : Grand alliance, if wins, will see a new PM every day: Shah\n",
      "예측 요약 : He said the Opposition is thinking about leading the country but does not have a leader.\n",
      "\n",
      "\n",
      "원문 : Prime Minister Narendra Modi on Wednesday said his government's demonetisation decision made houses affordable for the aspiring youth. He added decisions like demonetisation and RERA have put a check on black money that used to be \"parked in the real estate sector\". He said 'UDAN' (Ude Desh ka Aam Nagrik) scheme has boosted the development of the country's aviation sector.\n",
      "실제 요약 : Demonetisation made homes affordable for youth: PM Modi\n",
      "예측 요약 : He added decisions like demonetisation and RERA have put a check on black money that used to be \"parked in the real estate sector\".\n",
      "\n",
      "\n"
     ]
    }
   ],
   "source": [
    "for i in range(50, 100):\n",
    "    print(\"원문 :\", data['text'][i])\n",
    "    print(\"실제 요약 :\", data['headlines'][i])\n",
    "    print(\"예측 요약 :\", data['headlines_predict'][i])\n",
    "    print(\"\\n\")"
   ]
  },
  {
   "cell_type": "markdown",
   "id": "developed-plain",
   "metadata": {},
   "source": [
    "----\n",
    "# 프로젝트 정리\n",
    "\n",
    "### 추상적 요약\n",
    "__원문__ :  \n",
    "us indian space agencies nasa isro jointly develop launch world biggest expensive earth imaging satellite costing billion satellite named nisar nasa isro synthetic radar satellite take earth every week helping scientists study changes climate environment \n",
    "   \n",
    "   \n",
    "__실제 요약__ : nasa isro to jointly make most expensive satellite \n",
    "\n",
    "\n",
    "__예측 요약__ : spacex to launch nasa mars for mars mission report\n",
    "\n",
    "위의 예측 결과를 보면, 추상적 요약에서는 키워드를 찾아내고 그것을 요약할 수 있는 새로운 단어를 만들어 요약을 하는 모습을 확인 할 수 있다. 하지만 위와 같이 아주 대략적인 범주는 비슷하지만 구체적으로 보면 원문의 내용과는 연관성이 떨어지는 요약을 하는 경우도 다수 확인 할 수 있다.\n",
    "  \n",
    "  \n",
    "\n",
    "\n",
    "### 추출적 요약\n",
    "__원문__ :  \n",
    "Prime Minister Narendra Modi stopped his speech at the inauguration of the new terminal building at Surat airport after observing that a cameraman had fainted. PM Modi then asked his officers to urgently arrange for an ambulance for the cameraman. \"It's good that PM was paying attention to his surroundings during his speech,\" the cameraman later said from a hospital. \n",
    "   \n",
    "   \n",
    "__실제 요약__ : PM Modi stops speech after cameraman faints, asks officers to help  \n",
    "\n",
    "\n",
    "__예측 요약__ : PM Modi then asked his officers to urgently arrange for an ambulance for the cameraman.\n",
    "\n",
    "위의 예측 결과를 보면, 추출적 요약에서는 어느정도 연관성과 일관성을 가지고 요약이 된 것을 확인 할 수 있다. 하지만 then 같은 문장의 중간 순서를 표시하는 단어를 포함하고 있어 뉴스의 헤드라인에는 어색한 느낌을 주기도 하였다."
   ]
  },
  {
   "cell_type": "markdown",
   "id": "eligible-detector",
   "metadata": {},
   "source": [
    "결론적으로, 대중들에게 정보를 정확하게 전달해야하는 뉴스의 특성상, 실제 원문과 관련성이 없는 요약이 다수 존재하는 추상적 요약 모델의 경우보다, 일부 내용이 빠져있더라도 전체적인 내용을 포괄할 수 있는 추출적 요약 모델이 더 적합 할 것이라고 생각된다. "
   ]
  },
  {
   "cell_type": "code",
   "execution_count": null,
   "id": "modified-breakfast",
   "metadata": {},
   "outputs": [],
   "source": []
  }
 ],
 "metadata": {
  "kernelspec": {
   "display_name": "Python 3",
   "language": "python",
   "name": "python3"
  },
  "language_info": {
   "codemirror_mode": {
    "name": "ipython",
    "version": 3
   },
   "file_extension": ".py",
   "mimetype": "text/x-python",
   "name": "python",
   "nbconvert_exporter": "python",
   "pygments_lexer": "ipython3",
   "version": "3.7.9"
  }
 },
 "nbformat": 4,
 "nbformat_minor": 5
}
