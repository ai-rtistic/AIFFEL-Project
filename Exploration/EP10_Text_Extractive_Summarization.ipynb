{
 "cells": [
  {
   "cell_type": "markdown",
   "id": "downtown-infrastructure",
   "metadata": {},
   "source": [
    "# Exploration 10. Text Summarization - 추출적 요약(Extractive Summarization)\n",
    "\n",
    "\n",
    "텍스트 요약(Text Summarization)이란 긴 길이의 문서(Document) 원문을 핵심 주제만으로 구성된 짧은 요약(Summary) 문장들로 변환하는 것이다.  \n",
    "\n",
    "텍스트 요약은 크게 추출적 요약(extractive summarization)과 추상적 요약(abstractive summarization)으로 나뉜다.  \n",
    "\n",
    "- __추출적 요약(Extractive Summarization)__ : 원문에서 중요한 핵심 문장 또는 단어구를 몇 개 뽑아서 이들로 구성된 요약문을 만드는 방법\n",
    "- __추상적 요약(Abstractive Summarization)__ : 원문에 없던 문장이라도 핵심 문맥을 반영한 새로운 문장을 생성해서 원문을 요약하는 방법\n",
    "\n",
    "\n",
    "영화 매트릭스 시놉시스를 사용하여 추출적(Extractive) 텍스트 요약 모델을 만들어보자.  \n",
    "\n",
    "![image](https://user-images.githubusercontent.com/84179578/129665735-ea26a458-9ecd-48d5-a632-eedce24773fd.png)\n"
   ]
  },
  {
   "cell_type": "markdown",
   "id": "committed-baseball",
   "metadata": {},
   "source": [
    "## 0. 패키지 설치\n",
    "패키지 `Summa`에서는 추출적 요약을 위한 모듈인 summarize를 제공하고 있어 아주 간단하게 구현할 수 있다.\n",
    "```\n",
    "$ pip install summa\n",
    "```"
   ]
  },
  {
   "cell_type": "markdown",
   "id": "corrected-invention",
   "metadata": {},
   "source": [
    "## 1. 데이터 준비"
   ]
  },
  {
   "cell_type": "code",
   "execution_count": 1,
   "id": "radical-deadline",
   "metadata": {},
   "outputs": [],
   "source": [
    "import requests\n",
    "from summa.summarizer import summarize"
   ]
  },
  {
   "cell_type": "code",
   "execution_count": 2,
   "id": "optimum-indianapolis",
   "metadata": {},
   "outputs": [],
   "source": [
    "# 매트릭스 시놉시스 다운\n",
    "text = requests.get('http://rare-technologies.com/the_matrix_synopsis.txt').text"
   ]
  },
  {
   "cell_type": "markdown",
   "id": "superb-agreement",
   "metadata": {},
   "source": [
    "text에는 매트릭스 시놉시스가 문자열로 저장되어있다."
   ]
  },
  {
   "cell_type": "code",
   "execution_count": 3,
   "id": "blessed-lebanon",
   "metadata": {},
   "outputs": [
    {
     "name": "stdout",
     "output_type": "stream",
     "text": [
      "The screen is filled with green, cascading code which gives way to the title, The Matrix.\r\n",
      "\r\n",
      "A phone rings and text appears on the screen: \"Call trans opt: received. 2-19-98 13:24:18 REC: Log>\" As a conversation takes place between Trinity (Carrie-Anne Moss) and Cypher (Joe Pantoliano), two free humans, a table of random green numbers are being scanned and individual numbers selected, creating a series of digits not unlike an ordinary phone number, as if a code is being deciphered or a call is being traced.\r\n",
      "\r\n",
      "Trinity discusses some unknown person. Cypher taunts Trinity, suggesting she enjoys watching him. Trinity counters that \"Morpheus (Laurence Fishburne) says he may be 'the One',\" just as the sound of a number being selected alerts Trinity that someone may be tracing their call. She ends the call.\r\n",
      "\r\n",
      "Armed policemen move down a darkened, decrepit hallway in the Heart O' the City Hotel, their flashlight beam bouncing just ahead of them. They come to room 303, kick down the door and find a woman dressed in black, facing away from them. It's Trinity. She brings her hands up from the laptop she's working on at their command.\r\n",
      "\r\n",
      "Outside the hotel a car drives up and three agents appear in neatly pressed black suits. They are Agent Smith (Hugo Weaving), Agent Brown (Paul Goddard), and Agent Jones (Robert Taylor). Agent Smith and the presiding police lieutenant argue. Agent Smith admonishes the policeman that they were given specific orders to contact the agents first, for their\n"
     ]
    }
   ],
   "source": [
    "# 잘 저장되어있는지 확인\n",
    "print(text[:1500])"
   ]
  },
  {
   "cell_type": "markdown",
   "id": "brilliant-citizenship",
   "metadata": {},
   "source": [
    "## 2. summarize 사용하기\n",
    "\n",
    "Summa의 summarize()의 인자로 사용되는 값들은 아래와 같다.\n",
    "- `text (str)` : 요약할 테스트.\n",
    "- `ratio (float, optional)` : 요약문에서 원본에서 선택되는 문장 비율. 0~1 사이값\n",
    "- `words (int or None, optional)` : 출력에 포함할 단어 수.  만약, ratio와 함께 두 파라미터가 모두 제공되는 경우 ratio는 무시함\n",
    "- `split (bool, optional)` : True면 문장 list / False는 조인(join)된 문자열을 반환"
   ]
  },
  {
   "cell_type": "markdown",
   "id": "floating-british",
   "metadata": {},
   "source": [
    "Summa의 summarize는 문장 토큰화를 별도로 하지 않더라도 내부적으로 문장 토큰화를 수행한다. 그렇기 때문에 문장 구분이 되어있지 않은 원문을 바로 입력으로 넣을 수 있다.  \n",
    "\n",
    "비율을 적게 주어서 요약문으로 선택되는 문장의 개수를 줄이자. 원문의 0.005%만을 출력하도록 설정한다."
   ]
  },
  {
   "cell_type": "code",
   "execution_count": 5,
   "id": "color-money",
   "metadata": {},
   "outputs": [
    {
     "name": "stdout",
     "output_type": "stream",
     "text": [
      "Summary:\n",
      "Morpheus, Trinity, Neo, Apoc, Switch, Mouse and Cypher are jacked into the Matrix.\n",
      "Trinity brings the helicopter down to the floor that Morpheus is on and Neo opens fire on the three Agents.\n"
     ]
    }
   ],
   "source": [
    "print('Summary:')\n",
    "print(summarize(text, ratio=0.005))"
   ]
  },
  {
   "cell_type": "markdown",
   "id": "occasional-swiss",
   "metadata": {},
   "source": [
    "split 인자의 값을 True로 하면 리스트로 출력 결과를 받는다. "
   ]
  },
  {
   "cell_type": "code",
   "execution_count": 6,
   "id": "expected-hands",
   "metadata": {},
   "outputs": [
    {
     "name": "stdout",
     "output_type": "stream",
     "text": [
      "Summary:\n",
      "['Morpheus, Trinity, Neo, Apoc, Switch, Mouse and Cypher are jacked into the Matrix.', 'Trinity brings the helicopter down to the floor that Morpheus is on and Neo opens fire on the three Agents.']\n"
     ]
    }
   ],
   "source": [
    "print('Summary:')\n",
    "print(summarize(text, ratio=0.005, split=True))"
   ]
  },
  {
   "cell_type": "markdown",
   "id": "complete-filter",
   "metadata": {},
   "source": [
    "단어의 수를 50개만 선택하도록 요약문의 크기를 조절한다."
   ]
  },
  {
   "cell_type": "code",
   "execution_count": 7,
   "id": "amended-western",
   "metadata": {},
   "outputs": [
    {
     "name": "stdout",
     "output_type": "stream",
     "text": [
      "Summary:\n",
      "Trinity takes Neo to Morpheus.\n",
      "Morpheus, Trinity, Neo, Apoc, Switch, Mouse and Cypher are jacked into the Matrix.\n",
      "Trinity brings the helicopter down to the floor that Morpheus is on and Neo opens fire on the three Agents.\n"
     ]
    }
   ],
   "source": [
    "print('Summary:')\n",
    "print(summarize(text, words=50))"
   ]
  },
  {
   "cell_type": "code",
   "execution_count": null,
   "id": "alive-partnership",
   "metadata": {},
   "outputs": [],
   "source": []
  }
 ],
 "metadata": {
  "kernelspec": {
   "display_name": "Python 3",
   "language": "python",
   "name": "python3"
  },
  "language_info": {
   "codemirror_mode": {
    "name": "ipython",
    "version": 3
   },
   "file_extension": ".py",
   "mimetype": "text/x-python",
   "name": "python",
   "nbconvert_exporter": "python",
   "pygments_lexer": "ipython3",
   "version": "3.7.9"
  }
 },
 "nbformat": 4,
 "nbformat_minor": 5
}
