{
 "cells": [
  {
   "cell_type": "markdown",
   "id": "educated-robert",
   "metadata": {},
   "source": [
    "# 미니 프로젝트 : Movielens 영화 추천"
   ]
  },
  {
   "cell_type": "markdown",
   "id": "devoted-prediction",
   "metadata": {},
   "source": [
    "MF 모델 학습 방법을 토대로, 내가 좋아할 만한 영화 추천 시스템을 제작해보자.  \n",
    "\n",
    "이번에 활용할 데이터셋은 추천시스템의 MNIST라고 부를만한 Movielens 데이터이다.  \n",
    "\n",
    "- MovieLens 1M Dataset 에는 유저가 영화에 대해 평점을 매긴 데이터가 데이터 크기 별로 있다.\n",
    "- 별점 데이터는 대표적인 explicit 데이터지만 __implicit 데이터로 간주하고 테스트__ 해볼 수 있다.\n",
    "- 별점을 __시청횟수__ 로 해석\n",
    "- 유저가 3점 미만으로 준 데이터는 선호하지 않는다고 가정하고 제외"
   ]
  },
  {
   "cell_type": "markdown",
   "id": "entitled-muscle",
   "metadata": {},
   "source": [
    "![image](https://user-images.githubusercontent.com/84179578/129455368-737ecdb3-dab0-435d-b18c-15cce3973901.png)"
   ]
  },
  {
   "cell_type": "markdown",
   "id": "specified-characteristic",
   "metadata": {},
   "source": [
    "## 0. 필요한 모듈 및 데이터 불러오기"
   ]
  },
  {
   "cell_type": "code",
   "execution_count": 1,
   "id": "endless-delicious",
   "metadata": {},
   "outputs": [],
   "source": [
    "import os\n",
    "import pandas as pd\n",
    "import matplotlib.pyplot as plt\n",
    "import seaborn as sns"
   ]
  },
  {
   "cell_type": "code",
   "execution_count": 2,
   "id": "alpine-sample",
   "metadata": {},
   "outputs": [
    {
     "data": {
      "text/html": [
       "<div>\n",
       "<style scoped>\n",
       "    .dataframe tbody tr th:only-of-type {\n",
       "        vertical-align: middle;\n",
       "    }\n",
       "\n",
       "    .dataframe tbody tr th {\n",
       "        vertical-align: top;\n",
       "    }\n",
       "\n",
       "    .dataframe thead th {\n",
       "        text-align: right;\n",
       "    }\n",
       "</style>\n",
       "<table border=\"1\" class=\"dataframe\">\n",
       "  <thead>\n",
       "    <tr style=\"text-align: right;\">\n",
       "      <th></th>\n",
       "      <th>user_id</th>\n",
       "      <th>movie_id</th>\n",
       "      <th>rating</th>\n",
       "      <th>timestamp</th>\n",
       "    </tr>\n",
       "  </thead>\n",
       "  <tbody>\n",
       "    <tr>\n",
       "      <th>0</th>\n",
       "      <td>1</td>\n",
       "      <td>1193</td>\n",
       "      <td>5</td>\n",
       "      <td>978300760</td>\n",
       "    </tr>\n",
       "    <tr>\n",
       "      <th>1</th>\n",
       "      <td>1</td>\n",
       "      <td>661</td>\n",
       "      <td>3</td>\n",
       "      <td>978302109</td>\n",
       "    </tr>\n",
       "    <tr>\n",
       "      <th>2</th>\n",
       "      <td>1</td>\n",
       "      <td>914</td>\n",
       "      <td>3</td>\n",
       "      <td>978301968</td>\n",
       "    </tr>\n",
       "    <tr>\n",
       "      <th>3</th>\n",
       "      <td>1</td>\n",
       "      <td>3408</td>\n",
       "      <td>4</td>\n",
       "      <td>978300275</td>\n",
       "    </tr>\n",
       "    <tr>\n",
       "      <th>4</th>\n",
       "      <td>1</td>\n",
       "      <td>2355</td>\n",
       "      <td>5</td>\n",
       "      <td>978824291</td>\n",
       "    </tr>\n",
       "  </tbody>\n",
       "</table>\n",
       "</div>"
      ],
      "text/plain": [
       "   user_id  movie_id  rating  timestamp\n",
       "0        1      1193       5  978300760\n",
       "1        1       661       3  978302109\n",
       "2        1       914       3  978301968\n",
       "3        1      3408       4  978300275\n",
       "4        1      2355       5  978824291"
      ]
     },
     "execution_count": 2,
     "metadata": {},
     "output_type": "execute_result"
    }
   ],
   "source": [
    "rating_file_path=os.getenv('HOME') + '/aiffel/recommendata_iu/data/ml-1m/ratings.dat'\n",
    "ratings_cols = ['user_id', 'movie_id', 'rating', 'timestamp']\n",
    "ratings = pd.read_csv(rating_file_path, sep='::', names=ratings_cols, engine='python', encoding = \"ISO-8859-1\")\n",
    "orginal_data_size = len(ratings)\n",
    "ratings.head()"
   ]
  },
  {
   "cell_type": "markdown",
   "id": "egyptian-superior",
   "metadata": {},
   "source": [
    "영화 제목을 보기 위해 메타 데이터를 불러오자."
   ]
  },
  {
   "cell_type": "code",
   "execution_count": 3,
   "id": "structural-substitute",
   "metadata": {},
   "outputs": [
    {
     "data": {
      "text/html": [
       "<div>\n",
       "<style scoped>\n",
       "    .dataframe tbody tr th:only-of-type {\n",
       "        vertical-align: middle;\n",
       "    }\n",
       "\n",
       "    .dataframe tbody tr th {\n",
       "        vertical-align: top;\n",
       "    }\n",
       "\n",
       "    .dataframe thead th {\n",
       "        text-align: right;\n",
       "    }\n",
       "</style>\n",
       "<table border=\"1\" class=\"dataframe\">\n",
       "  <thead>\n",
       "    <tr style=\"text-align: right;\">\n",
       "      <th></th>\n",
       "      <th>movie_id</th>\n",
       "      <th>title</th>\n",
       "      <th>genre</th>\n",
       "    </tr>\n",
       "  </thead>\n",
       "  <tbody>\n",
       "    <tr>\n",
       "      <th>0</th>\n",
       "      <td>1</td>\n",
       "      <td>Toy Story (1995)</td>\n",
       "      <td>Animation|Children's|Comedy</td>\n",
       "    </tr>\n",
       "    <tr>\n",
       "      <th>1</th>\n",
       "      <td>2</td>\n",
       "      <td>Jumanji (1995)</td>\n",
       "      <td>Adventure|Children's|Fantasy</td>\n",
       "    </tr>\n",
       "    <tr>\n",
       "      <th>2</th>\n",
       "      <td>3</td>\n",
       "      <td>Grumpier Old Men (1995)</td>\n",
       "      <td>Comedy|Romance</td>\n",
       "    </tr>\n",
       "    <tr>\n",
       "      <th>3</th>\n",
       "      <td>4</td>\n",
       "      <td>Waiting to Exhale (1995)</td>\n",
       "      <td>Comedy|Drama</td>\n",
       "    </tr>\n",
       "    <tr>\n",
       "      <th>4</th>\n",
       "      <td>5</td>\n",
       "      <td>Father of the Bride Part II (1995)</td>\n",
       "      <td>Comedy</td>\n",
       "    </tr>\n",
       "  </tbody>\n",
       "</table>\n",
       "</div>"
      ],
      "text/plain": [
       "   movie_id                               title                         genre\n",
       "0         1                    Toy Story (1995)   Animation|Children's|Comedy\n",
       "1         2                      Jumanji (1995)  Adventure|Children's|Fantasy\n",
       "2         3             Grumpier Old Men (1995)                Comedy|Romance\n",
       "3         4            Waiting to Exhale (1995)                  Comedy|Drama\n",
       "4         5  Father of the Bride Part II (1995)                        Comedy"
      ]
     },
     "execution_count": 3,
     "metadata": {},
     "output_type": "execute_result"
    }
   ],
   "source": [
    "# 영화 제목을 보기 위해 메타 데이터\n",
    "movie_file_path=os.getenv('HOME') + '/aiffel/recommendata_iu/data/ml-1m/movies.dat'\n",
    "cols = ['movie_id', 'title', 'genre'] \n",
    "movies = pd.read_csv(movie_file_path, sep='::', names=cols, engine='python', encoding='ISO-8859-1')\n",
    "movies.head()"
   ]
  },
  {
   "cell_type": "markdown",
   "id": "cognitive-optimization",
   "metadata": {},
   "source": [
    "----\n",
    "----"
   ]
  },
  {
   "cell_type": "markdown",
   "id": "continent-remedy",
   "metadata": {},
   "source": [
    "## 1. 데이터 준비 및 전처리"
   ]
  },
  {
   "cell_type": "markdown",
   "id": "coordinated-washington",
   "metadata": {},
   "source": [
    "전체 평점(`rating`) 분포를 보자."
   ]
  },
  {
   "cell_type": "code",
   "execution_count": 4,
   "id": "answering-chart",
   "metadata": {},
   "outputs": [
    {
     "data": {
      "image/png": "[encoded data removed]",
      "text/plain": [
       "<Figure size 432x288 with 1 Axes>"
      ]
     },
     "metadata": {
      "needs_background": "light"
     },
     "output_type": "display_data"
    }
   ],
   "source": [
    "sns.histplot(ratings['rating'])\n",
    "\n",
    "plt.show()"
   ]
  },
  {
   "cell_type": "markdown",
   "id": "suburban-passing",
   "metadata": {},
   "source": [
    "유저가 __3점 미만으로 준 데이터는 선호하지 않는다고 가정하고 제외__ 한다."
   ]
  },
  {
   "cell_type": "code",
   "execution_count": 5,
   "id": "appropriate-scotland",
   "metadata": {},
   "outputs": [
    {
     "name": "stdout",
     "output_type": "stream",
     "text": [
      "orginal_data_size: 1000209, filtered_data_size: 836478\n",
      "Ratio of Remaining Data is 83.63%\n"
     ]
    }
   ],
   "source": [
    "# 3점 이상만 남깁니다.\n",
    "ratings = ratings[ratings['rating']>=3]\n",
    "filtered_data_size = len(ratings)\n",
    "\n",
    "print(f'orginal_data_size: {orginal_data_size}, filtered_data_size: {filtered_data_size}')\n",
    "print(f'Ratio of Remaining Data is {filtered_data_size / orginal_data_size:.2%}')"
   ]
  },
  {
   "cell_type": "markdown",
   "id": "biological-protection",
   "metadata": {},
   "source": [
    "별점 데이터는 대표적인 explicit 데이터지만 __implicit 데이터로 간주__ 하고 테스트하기 위해  \n",
    "별점을 __시청횟수__ 로 해석한다."
   ]
  },
  {
   "cell_type": "code",
   "execution_count": 6,
   "id": "humanitarian-heritage",
   "metadata": {},
   "outputs": [],
   "source": [
    "# rating 컬럼의 이름을 count로 바꿈\n",
    "ratings.rename(columns={'rating':'count'}, inplace=True)"
   ]
  },
  {
   "cell_type": "markdown",
   "id": "parallel-removal",
   "metadata": {},
   "source": [
    "`movie_id` 를 기준으로 두 데이터셋을 합친 `total` dataframe 을 생성하자."
   ]
  },
  {
   "cell_type": "code",
   "execution_count": 7,
   "id": "wrapped-sunglasses",
   "metadata": {
    "scrolled": true
   },
   "outputs": [
    {
     "data": {
      "text/html": [
       "<div>\n",
       "<style scoped>\n",
       "    .dataframe tbody tr th:only-of-type {\n",
       "        vertical-align: middle;\n",
       "    }\n",
       "\n",
       "    .dataframe tbody tr th {\n",
       "        vertical-align: top;\n",
       "    }\n",
       "\n",
       "    .dataframe thead th {\n",
       "        text-align: right;\n",
       "    }\n",
       "</style>\n",
       "<table border=\"1\" class=\"dataframe\">\n",
       "  <thead>\n",
       "    <tr style=\"text-align: right;\">\n",
       "      <th></th>\n",
       "      <th>user_id</th>\n",
       "      <th>movie_id</th>\n",
       "      <th>count</th>\n",
       "      <th>timestamp</th>\n",
       "      <th>title</th>\n",
       "      <th>genre</th>\n",
       "    </tr>\n",
       "  </thead>\n",
       "  <tbody>\n",
       "    <tr>\n",
       "      <th>0</th>\n",
       "      <td>1</td>\n",
       "      <td>1193</td>\n",
       "      <td>5</td>\n",
       "      <td>978300760</td>\n",
       "      <td>One Flew Over the Cuckoo's Nest (1975)</td>\n",
       "      <td>Drama</td>\n",
       "    </tr>\n",
       "    <tr>\n",
       "      <th>1</th>\n",
       "      <td>1</td>\n",
       "      <td>661</td>\n",
       "      <td>3</td>\n",
       "      <td>978302109</td>\n",
       "      <td>James and the Giant Peach (1996)</td>\n",
       "      <td>Animation|Children's|Musical</td>\n",
       "    </tr>\n",
       "    <tr>\n",
       "      <th>2</th>\n",
       "      <td>1</td>\n",
       "      <td>914</td>\n",
       "      <td>3</td>\n",
       "      <td>978301968</td>\n",
       "      <td>My Fair Lady (1964)</td>\n",
       "      <td>Musical|Romance</td>\n",
       "    </tr>\n",
       "    <tr>\n",
       "      <th>3</th>\n",
       "      <td>1</td>\n",
       "      <td>3408</td>\n",
       "      <td>4</td>\n",
       "      <td>978300275</td>\n",
       "      <td>Erin Brockovich (2000)</td>\n",
       "      <td>Drama</td>\n",
       "    </tr>\n",
       "    <tr>\n",
       "      <th>4</th>\n",
       "      <td>1</td>\n",
       "      <td>2355</td>\n",
       "      <td>5</td>\n",
       "      <td>978824291</td>\n",
       "      <td>Bug's Life, A (1998)</td>\n",
       "      <td>Animation|Children's|Comedy</td>\n",
       "    </tr>\n",
       "  </tbody>\n",
       "</table>\n",
       "</div>"
      ],
      "text/plain": [
       "   user_id  movie_id  count  timestamp  \\\n",
       "0        1      1193      5  978300760   \n",
       "1        1       661      3  978302109   \n",
       "2        1       914      3  978301968   \n",
       "3        1      3408      4  978300275   \n",
       "4        1      2355      5  978824291   \n",
       "\n",
       "                                    title                         genre  \n",
       "0  One Flew Over the Cuckoo's Nest (1975)                         Drama  \n",
       "1        James and the Giant Peach (1996)  Animation|Children's|Musical  \n",
       "2                     My Fair Lady (1964)               Musical|Romance  \n",
       "3                  Erin Brockovich (2000)                         Drama  \n",
       "4                    Bug's Life, A (1998)   Animation|Children's|Comedy  "
      ]
     },
     "execution_count": 7,
     "metadata": {},
     "output_type": "execute_result"
    }
   ],
   "source": [
    "total = pd.merge(ratings,movies,how='left', on=['movie_id'])\n",
    "total.head()"
   ]
  },
  {
   "cell_type": "markdown",
   "id": "blank-challenge",
   "metadata": {},
   "source": [
    "영화 장르인 `genre` 컬럼은 `Animation|Children's|Comedy` 와 같이 여러 장르가 `|` 로  이어져있으므로 분리해서 새로운 컬럼에 각각 저장한다."
   ]
  },
  {
   "cell_type": "code",
   "execution_count": 8,
   "id": "beneficial-kennedy",
   "metadata": {
    "scrolled": false
   },
   "outputs": [
    {
     "data": {
      "text/html": [
       "<div>\n",
       "<style scoped>\n",
       "    .dataframe tbody tr th:only-of-type {\n",
       "        vertical-align: middle;\n",
       "    }\n",
       "\n",
       "    .dataframe tbody tr th {\n",
       "        vertical-align: top;\n",
       "    }\n",
       "\n",
       "    .dataframe thead th {\n",
       "        text-align: right;\n",
       "    }\n",
       "</style>\n",
       "<table border=\"1\" class=\"dataframe\">\n",
       "  <thead>\n",
       "    <tr style=\"text-align: right;\">\n",
       "      <th></th>\n",
       "      <th>user_id</th>\n",
       "      <th>movie_id</th>\n",
       "      <th>count</th>\n",
       "      <th>timestamp</th>\n",
       "      <th>title</th>\n",
       "      <th>genre</th>\n",
       "      <th>genre_1</th>\n",
       "      <th>genre_2</th>\n",
       "      <th>genre_3</th>\n",
       "      <th>genre_4</th>\n",
       "      <th>genre_5</th>\n",
       "      <th>genre_6</th>\n",
       "    </tr>\n",
       "  </thead>\n",
       "  <tbody>\n",
       "    <tr>\n",
       "      <th>0</th>\n",
       "      <td>1</td>\n",
       "      <td>1193</td>\n",
       "      <td>5</td>\n",
       "      <td>978300760</td>\n",
       "      <td>One Flew Over the Cuckoo's Nest (1975)</td>\n",
       "      <td>Drama</td>\n",
       "      <td>Drama</td>\n",
       "      <td>None</td>\n",
       "      <td>None</td>\n",
       "      <td>None</td>\n",
       "      <td>None</td>\n",
       "      <td>None</td>\n",
       "    </tr>\n",
       "    <tr>\n",
       "      <th>1</th>\n",
       "      <td>1</td>\n",
       "      <td>661</td>\n",
       "      <td>3</td>\n",
       "      <td>978302109</td>\n",
       "      <td>James and the Giant Peach (1996)</td>\n",
       "      <td>Animation|Children's|Musical</td>\n",
       "      <td>Animation</td>\n",
       "      <td>Children's</td>\n",
       "      <td>Musical</td>\n",
       "      <td>None</td>\n",
       "      <td>None</td>\n",
       "      <td>None</td>\n",
       "    </tr>\n",
       "    <tr>\n",
       "      <th>2</th>\n",
       "      <td>1</td>\n",
       "      <td>914</td>\n",
       "      <td>3</td>\n",
       "      <td>978301968</td>\n",
       "      <td>My Fair Lady (1964)</td>\n",
       "      <td>Musical|Romance</td>\n",
       "      <td>Musical</td>\n",
       "      <td>Romance</td>\n",
       "      <td>None</td>\n",
       "      <td>None</td>\n",
       "      <td>None</td>\n",
       "      <td>None</td>\n",
       "    </tr>\n",
       "    <tr>\n",
       "      <th>3</th>\n",
       "      <td>1</td>\n",
       "      <td>3408</td>\n",
       "      <td>4</td>\n",
       "      <td>978300275</td>\n",
       "      <td>Erin Brockovich (2000)</td>\n",
       "      <td>Drama</td>\n",
       "      <td>Drama</td>\n",
       "      <td>None</td>\n",
       "      <td>None</td>\n",
       "      <td>None</td>\n",
       "      <td>None</td>\n",
       "      <td>None</td>\n",
       "    </tr>\n",
       "    <tr>\n",
       "      <th>4</th>\n",
       "      <td>1</td>\n",
       "      <td>2355</td>\n",
       "      <td>5</td>\n",
       "      <td>978824291</td>\n",
       "      <td>Bug's Life, A (1998)</td>\n",
       "      <td>Animation|Children's|Comedy</td>\n",
       "      <td>Animation</td>\n",
       "      <td>Children's</td>\n",
       "      <td>Comedy</td>\n",
       "      <td>None</td>\n",
       "      <td>None</td>\n",
       "      <td>None</td>\n",
       "    </tr>\n",
       "  </tbody>\n",
       "</table>\n",
       "</div>"
      ],
      "text/plain": [
       "   user_id  movie_id  count  timestamp  \\\n",
       "0        1      1193      5  978300760   \n",
       "1        1       661      3  978302109   \n",
       "2        1       914      3  978301968   \n",
       "3        1      3408      4  978300275   \n",
       "4        1      2355      5  978824291   \n",
       "\n",
       "                                    title                         genre  \\\n",
       "0  One Flew Over the Cuckoo's Nest (1975)                         Drama   \n",
       "1        James and the Giant Peach (1996)  Animation|Children's|Musical   \n",
       "2                     My Fair Lady (1964)               Musical|Romance   \n",
       "3                  Erin Brockovich (2000)                         Drama   \n",
       "4                    Bug's Life, A (1998)   Animation|Children's|Comedy   \n",
       "\n",
       "     genre_1     genre_2  genre_3 genre_4 genre_5 genre_6  \n",
       "0      Drama        None     None    None    None    None  \n",
       "1  Animation  Children's  Musical    None    None    None  \n",
       "2    Musical     Romance     None    None    None    None  \n",
       "3      Drama        None     None    None    None    None  \n",
       "4  Animation  Children's   Comedy    None    None    None  "
      ]
     },
     "execution_count": 8,
     "metadata": {},
     "output_type": "execute_result"
    }
   ],
   "source": [
    "total[['genre_1', 'genre_2', 'genre_3','genre_4','genre_5','genre_6']] = total.genre.str.split(\"|\",expand=True)\n",
    "total.head()"
   ]
  },
  {
   "cell_type": "markdown",
   "id": "nonprofit-nightmare",
   "metadata": {},
   "source": [
    "----\n",
    "----\n",
    "## 2. 데이터 탐색 및 분석\n",
    "\n",
    "추천 모델을 만들기 전에 데이터의 다음과 같은 기본적인 정보를 확인한다.\n",
    "- 유저 수, 영화 수, 장르 수\n",
    "- 유저들이 선호하는 영화, 장르\n",
    "- 평균 시청횟수가 높은 영화"
   ]
  },
  {
   "cell_type": "markdown",
   "id": "stock-clause",
   "metadata": {},
   "source": [
    "### 유저 수, 영화 수, 장르 수"
   ]
  },
  {
   "cell_type": "code",
   "execution_count": 9,
   "id": "italic-replica",
   "metadata": {},
   "outputs": [
    {
     "data": {
      "text/plain": [
       "6039"
      ]
     },
     "execution_count": 9,
     "metadata": {},
     "output_type": "execute_result"
    }
   ],
   "source": [
    "# 유저 수\n",
    "ratings['user_id'].nunique()"
   ]
  },
  {
   "cell_type": "code",
   "execution_count": 10,
   "id": "protecting-davis",
   "metadata": {
    "scrolled": true
   },
   "outputs": [
    {
     "data": {
      "text/plain": [
       "3628"
      ]
     },
     "execution_count": 10,
     "metadata": {},
     "output_type": "execute_result"
    }
   ],
   "source": [
    "# 영화 수\n",
    "ratings['movie_id'].nunique()"
   ]
  },
  {
   "cell_type": "code",
   "execution_count": 11,
   "id": "higher-coverage",
   "metadata": {},
   "outputs": [
    {
     "data": {
      "text/plain": [
       "18"
      ]
     },
     "execution_count": 11,
     "metadata": {},
     "output_type": "execute_result"
    }
   ],
   "source": [
    "# 장르 수\n",
    "total['genre_1'].nunique()"
   ]
  },
  {
   "cell_type": "code",
   "execution_count": 12,
   "id": "diagnostic-surgery",
   "metadata": {},
   "outputs": [
    {
     "data": {
      "text/plain": [
       "array(['Drama', 'Animation', 'Musical', 'Action', 'Comedy', 'Adventure',\n",
       "       'Romance', \"Children's\", 'Thriller', 'Crime', 'Western',\n",
       "       'Documentary', 'Mystery', 'Horror', 'Sci-Fi', 'Film-Noir', 'War',\n",
       "       'Fantasy'], dtype=object)"
      ]
     },
     "execution_count": 12,
     "metadata": {},
     "output_type": "execute_result"
    }
   ],
   "source": [
    "# 장르 목록\n",
    "genre_list = total['genre_1'].unique()\n",
    "genre_list"
   ]
  },
  {
   "cell_type": "markdown",
   "id": "pending-pearl",
   "metadata": {},
   "source": [
    "### 유저들이 선호하는 영화, 장르"
   ]
  },
  {
   "cell_type": "code",
   "execution_count": 13,
   "id": "powered-shell",
   "metadata": {
    "scrolled": false
   },
   "outputs": [
    {
     "data": {
      "text/plain": [
       "title\n",
       "American Beauty (1999)                                   3211\n",
       "Star Wars: Episode IV - A New Hope (1977)                2910\n",
       "Star Wars: Episode V - The Empire Strikes Back (1980)    2885\n",
       "Star Wars: Episode VI - Return of the Jedi (1983)        2716\n",
       "Saving Private Ryan (1998)                               2561\n",
       "Terminator 2: Judgment Day (1991)                        2509\n",
       "Silence of the Lambs, The (1991)                         2498\n",
       "Raiders of the Lost Ark (1981)                           2473\n",
       "Back to the Future (1985)                                2460\n",
       "Matrix, The (1999)                                       2434\n",
       "Jurassic Park (1993)                                     2413\n",
       "Sixth Sense, The (1999)                                  2385\n",
       "Fargo (1996)                                             2371\n",
       "Braveheart (1995)                                        2314\n",
       "Men in Black (1997)                                      2297\n",
       "Schindler's List (1993)                                  2257\n",
       "Princess Bride, The (1987)                               2252\n",
       "Shakespeare in Love (1998)                               2213\n",
       "L.A. Confidential (1997)                                 2210\n",
       "Shawshank Redemption, The (1994)                         2194\n",
       "Godfather, The (1972)                                    2167\n",
       "Groundhog Day (1993)                                     2121\n",
       "E.T. the Extra-Terrestrial (1982)                        2102\n",
       "Being John Malkovich (1999)                              2066\n",
       "Ghostbusters (1984)                                      2051\n",
       "Pulp Fiction (1994)                                      2030\n",
       "Forrest Gump (1994)                                      2022\n",
       "Terminator, The (1984)                                   2019\n",
       "Toy Story (1995)                                         2000\n",
       "Fugitive, The (1993)                                     1941\n",
       "Name: user_id, dtype: int64"
      ]
     },
     "execution_count": 13,
     "metadata": {},
     "output_type": "execute_result"
    }
   ],
   "source": [
    "# 인기 많은 영화 Top-30\n",
    "movie_count = total.groupby('title')['user_id'].count()\n",
    "movie_count.sort_values(ascending=False).head(30)"
   ]
  },
  {
   "cell_type": "markdown",
   "id": "continent-surprise",
   "metadata": {},
   "source": [
    "아메리칸 뷰티, 스타워즈 등의 명작들을 많은 유저들이 시청한 것을 알 수 있다."
   ]
  },
  {
   "cell_type": "code",
   "execution_count": 14,
   "id": "wound-dinner",
   "metadata": {},
   "outputs": [],
   "source": [
    "# 인기 많은 장르\n",
    "total_genre = {}    # 장르 수 딕셔너리 생성\n",
    "for i in genre_list:\n",
    "    total_genre[i]=0"
   ]
  },
  {
   "cell_type": "code",
   "execution_count": 15,
   "id": "romantic-concrete",
   "metadata": {},
   "outputs": [],
   "source": [
    " # 각 장르 컬럼에 있는 값의 갯수를 모두 더함\n",
    "for i in range(6):  \n",
    "    genre_count = total.groupby(f'genre_{i+1}')['user_id'].count()\n",
    "    for name in genre_count.index:\n",
    "        total_genre[name] += genre_count[name]"
   ]
  },
  {
   "cell_type": "code",
   "execution_count": 16,
   "id": "champion-comparison",
   "metadata": {
    "scrolled": true
   },
   "outputs": [
    {
     "data": {
      "text/plain": [
       "{'Drama': 313261,\n",
       " 'Comedy': 293891,\n",
       " 'Action': 209494,\n",
       " 'Thriller': 158343,\n",
       " 'Sci-Fi': 126089,\n",
       " 'Romance': 125927,\n",
       " 'Adventure': 108818,\n",
       " 'Crime': 68889,\n",
       " 'War': 61226,\n",
       " \"Children's\": 57674,\n",
       " 'Horror': 55488,\n",
       " 'Animation': 37609,\n",
       " 'Musical': 35661,\n",
       " 'Mystery': 34417,\n",
       " 'Fantasy': 29205,\n",
       " 'Western': 17668,\n",
       " 'Film-Noir': 17166,\n",
       " 'Documentary': 7162}"
      ]
     },
     "execution_count": 16,
     "metadata": {},
     "output_type": "execute_result"
    }
   ],
   "source": [
    "# 내림차순으로 정렬\n",
    "sorted_by_value = dict(sorted(total_genre.items(), key=lambda x: x[1], reverse=True))\n",
    "sorted_by_value"
   ]
  },
  {
   "cell_type": "code",
   "execution_count": 17,
   "id": "wanted-sherman",
   "metadata": {},
   "outputs": [
    {
     "data": {
      "text/plain": [
       "<function dict.keys>"
      ]
     },
     "execution_count": 17,
     "metadata": {},
     "output_type": "execute_result"
    }
   ],
   "source": [
    "total_genre.keys"
   ]
  },
  {
   "cell_type": "code",
   "execution_count": 18,
   "id": "peripheral-sewing",
   "metadata": {},
   "outputs": [
    {
     "data": {
      "image/png": "[encoded data removed]",
      "text/plain": [
       "<Figure size 720x720 with 1 Axes>"
      ]
     },
     "metadata": {},
     "output_type": "display_data"
    }
   ],
   "source": [
    "ratio = list(sorted_by_value.values())\n",
    "labels = list(sorted_by_value.keys())\n",
    "\n",
    "plt.figure(figsize = (10, 10))\n",
    "plt.pie(ratio, labels=labels, autopct='%.1f%%')\n",
    "plt.show()"
   ]
  },
  {
   "cell_type": "markdown",
   "id": "educated-dragon",
   "metadata": {},
   "source": [
    "드라마, 코미디, 액선 순으로 인기가 많은 것을 확인 할 수 있다."
   ]
  },
  {
   "cell_type": "markdown",
   "id": "responsible-manufacturer",
   "metadata": {},
   "source": [
    "### 평균 시청횟수가 높은 영화"
   ]
  },
  {
   "cell_type": "code",
   "execution_count": 19,
   "id": "split-hearts",
   "metadata": {},
   "outputs": [
    {
     "data": {
      "text/html": [
       "<div>\n",
       "<style scoped>\n",
       "    .dataframe tbody tr th:only-of-type {\n",
       "        vertical-align: middle;\n",
       "    }\n",
       "\n",
       "    .dataframe tbody tr th {\n",
       "        vertical-align: top;\n",
       "    }\n",
       "\n",
       "    .dataframe thead th {\n",
       "        text-align: right;\n",
       "    }\n",
       "</style>\n",
       "<table border=\"1\" class=\"dataframe\">\n",
       "  <thead>\n",
       "    <tr style=\"text-align: right;\">\n",
       "      <th></th>\n",
       "      <th>count</th>\n",
       "      <th>user_num</th>\n",
       "    </tr>\n",
       "    <tr>\n",
       "      <th>title</th>\n",
       "      <th></th>\n",
       "      <th></th>\n",
       "    </tr>\n",
       "  </thead>\n",
       "  <tbody>\n",
       "    <tr>\n",
       "      <th>$1,000,000 Duck (1971)</th>\n",
       "      <td>3.576923</td>\n",
       "      <td>26</td>\n",
       "    </tr>\n",
       "    <tr>\n",
       "      <th>'Night Mother (1986)</th>\n",
       "      <td>3.785714</td>\n",
       "      <td>56</td>\n",
       "    </tr>\n",
       "    <tr>\n",
       "      <th>'Til There Was You (1997)</th>\n",
       "      <td>3.518519</td>\n",
       "      <td>27</td>\n",
       "    </tr>\n",
       "    <tr>\n",
       "      <th>'burbs, The (1989)</th>\n",
       "      <td>3.575758</td>\n",
       "      <td>198</td>\n",
       "    </tr>\n",
       "    <tr>\n",
       "      <th>...And Justice for All (1979)</th>\n",
       "      <td>3.854054</td>\n",
       "      <td>185</td>\n",
       "    </tr>\n",
       "  </tbody>\n",
       "</table>\n",
       "</div>"
      ],
      "text/plain": [
       "                                  count  user_num\n",
       "title                                            \n",
       "$1,000,000 Duck (1971)         3.576923        26\n",
       "'Night Mother (1986)           3.785714        56\n",
       "'Til There Was You (1997)      3.518519        27\n",
       "'burbs, The (1989)             3.575758       198\n",
       "...And Justice for All (1979)  3.854054       185"
      ]
     },
     "execution_count": 19,
     "metadata": {},
     "output_type": "execute_result"
    }
   ],
   "source": [
    "movie_counts = pd.DataFrame(total.groupby('title')['count'].mean())\n",
    "movie_counts['user_num'] = total.groupby('title')['count'].count()\n",
    "movie_counts.head()"
   ]
  },
  {
   "cell_type": "code",
   "execution_count": 20,
   "id": "whole-electronics",
   "metadata": {
    "scrolled": false
   },
   "outputs": [
    {
     "data": {
      "text/html": [
       "<div>\n",
       "<style scoped>\n",
       "    .dataframe tbody tr th:only-of-type {\n",
       "        vertical-align: middle;\n",
       "    }\n",
       "\n",
       "    .dataframe tbody tr th {\n",
       "        vertical-align: top;\n",
       "    }\n",
       "\n",
       "    .dataframe thead th {\n",
       "        text-align: right;\n",
       "    }\n",
       "</style>\n",
       "<table border=\"1\" class=\"dataframe\">\n",
       "  <thead>\n",
       "    <tr style=\"text-align: right;\">\n",
       "      <th></th>\n",
       "      <th>count</th>\n",
       "      <th>user_num</th>\n",
       "    </tr>\n",
       "    <tr>\n",
       "      <th>title</th>\n",
       "      <th></th>\n",
       "      <th></th>\n",
       "    </tr>\n",
       "  </thead>\n",
       "  <tbody>\n",
       "    <tr>\n",
       "      <th>Ulysses (Ulisse) (1954)</th>\n",
       "      <td>5.0</td>\n",
       "      <td>1</td>\n",
       "    </tr>\n",
       "    <tr>\n",
       "      <th>Country Life (1994)</th>\n",
       "      <td>5.0</td>\n",
       "      <td>1</td>\n",
       "    </tr>\n",
       "    <tr>\n",
       "      <th>Schlafes Bruder (Brother of Sleep) (1995)</th>\n",
       "      <td>5.0</td>\n",
       "      <td>1</td>\n",
       "    </tr>\n",
       "    <tr>\n",
       "      <th>Foreign Student (1994)</th>\n",
       "      <td>5.0</td>\n",
       "      <td>1</td>\n",
       "    </tr>\n",
       "    <tr>\n",
       "      <th>Follow the Bitch (1998)</th>\n",
       "      <td>5.0</td>\n",
       "      <td>1</td>\n",
       "    </tr>\n",
       "    <tr>\n",
       "      <th>One Little Indian (1973)</th>\n",
       "      <td>5.0</td>\n",
       "      <td>1</td>\n",
       "    </tr>\n",
       "    <tr>\n",
       "      <th>Criminal Lovers (Les Amants Criminels) (1999)</th>\n",
       "      <td>5.0</td>\n",
       "      <td>1</td>\n",
       "    </tr>\n",
       "    <tr>\n",
       "      <th>Message to Love: The Isle of Wight Festival (1996)</th>\n",
       "      <td>5.0</td>\n",
       "      <td>5</td>\n",
       "    </tr>\n",
       "    <tr>\n",
       "      <th>Identification of a Woman (Identificazione di una donna) (1982)</th>\n",
       "      <td>5.0</td>\n",
       "      <td>1</td>\n",
       "    </tr>\n",
       "    <tr>\n",
       "      <th>Late Bloomers (1996)</th>\n",
       "      <td>5.0</td>\n",
       "      <td>1</td>\n",
       "    </tr>\n",
       "  </tbody>\n",
       "</table>\n",
       "</div>"
      ],
      "text/plain": [
       "                                                    count  user_num\n",
       "title                                                              \n",
       "Ulysses (Ulisse) (1954)                               5.0         1\n",
       "Country Life (1994)                                   5.0         1\n",
       "Schlafes Bruder (Brother of Sleep) (1995)             5.0         1\n",
       "Foreign Student (1994)                                5.0         1\n",
       "Follow the Bitch (1998)                               5.0         1\n",
       "One Little Indian (1973)                              5.0         1\n",
       "Criminal Lovers (Les Amants Criminels) (1999)         5.0         1\n",
       "Message to Love: The Isle of Wight Festival (1996)    5.0         5\n",
       "Identification of a Woman (Identificazione di u...    5.0         1\n",
       "Late Bloomers (1996)                                  5.0         1"
      ]
     },
     "execution_count": 20,
     "metadata": {},
     "output_type": "execute_result"
    }
   ],
   "source": [
    "movie_counts.sort_values(by='count',ascending=False).head(10)"
   ]
  },
  {
   "cell_type": "markdown",
   "id": "velvet-profile",
   "metadata": {},
   "source": [
    "위와 같이 평균 시청횟수가 높은 영화들 중 대부분이 소수의 유저들만 시청한 영화가 나온다.  \n",
    "\n",
    "일반적인 정보를 얻기 위하여 100명 이상의 유저가 시청한 영화들만 나오게하자."
   ]
  },
  {
   "cell_type": "code",
   "execution_count": 21,
   "id": "driving-texture",
   "metadata": {},
   "outputs": [
    {
     "data": {
      "text/html": [
       "<div>\n",
       "<style scoped>\n",
       "    .dataframe tbody tr th:only-of-type {\n",
       "        vertical-align: middle;\n",
       "    }\n",
       "\n",
       "    .dataframe tbody tr th {\n",
       "        vertical-align: top;\n",
       "    }\n",
       "\n",
       "    .dataframe thead th {\n",
       "        text-align: right;\n",
       "    }\n",
       "</style>\n",
       "<table border=\"1\" class=\"dataframe\">\n",
       "  <thead>\n",
       "    <tr style=\"text-align: right;\">\n",
       "      <th></th>\n",
       "      <th>count</th>\n",
       "      <th>user_num</th>\n",
       "    </tr>\n",
       "    <tr>\n",
       "      <th>title</th>\n",
       "      <th></th>\n",
       "      <th></th>\n",
       "    </tr>\n",
       "  </thead>\n",
       "  <tbody>\n",
       "    <tr>\n",
       "      <th>Seven Samurai (The Magnificent Seven) (Shichinin no samurai) (1954)</th>\n",
       "      <td>4.629690</td>\n",
       "      <td>613</td>\n",
       "    </tr>\n",
       "    <tr>\n",
       "      <th>Godfather, The (1972)</th>\n",
       "      <td>4.598523</td>\n",
       "      <td>2167</td>\n",
       "    </tr>\n",
       "    <tr>\n",
       "      <th>Shawshank Redemption, The (1994)</th>\n",
       "      <td>4.596627</td>\n",
       "      <td>2194</td>\n",
       "    </tr>\n",
       "    <tr>\n",
       "      <th>Usual Suspects, The (1995)</th>\n",
       "      <td>4.577982</td>\n",
       "      <td>1744</td>\n",
       "    </tr>\n",
       "    <tr>\n",
       "      <th>Schindler's List (1993)</th>\n",
       "      <td>4.571112</td>\n",
       "      <td>2257</td>\n",
       "    </tr>\n",
       "    <tr>\n",
       "      <th>Wrong Trousers, The (1993)</th>\n",
       "      <td>4.558247</td>\n",
       "      <td>867</td>\n",
       "    </tr>\n",
       "    <tr>\n",
       "      <th>Paths of Glory (1957)</th>\n",
       "      <td>4.553571</td>\n",
       "      <td>224</td>\n",
       "    </tr>\n",
       "    <tr>\n",
       "      <th>Close Shave, A (1995)</th>\n",
       "      <td>4.544479</td>\n",
       "      <td>652</td>\n",
       "    </tr>\n",
       "    <tr>\n",
       "      <th>Dr. Strangelove or: How I Learned to Stop Worrying and Love the Bomb (1963)</th>\n",
       "      <td>4.539334</td>\n",
       "      <td>1322</td>\n",
       "    </tr>\n",
       "    <tr>\n",
       "      <th>Sunset Blvd. (a.k.a. Sunset Boulevard) (1950)</th>\n",
       "      <td>4.533477</td>\n",
       "      <td>463</td>\n",
       "    </tr>\n",
       "    <tr>\n",
       "      <th>Star Wars: Episode IV - A New Hope (1977)</th>\n",
       "      <td>4.528522</td>\n",
       "      <td>2910</td>\n",
       "    </tr>\n",
       "    <tr>\n",
       "      <th>Yojimbo (1961)</th>\n",
       "      <td>4.521739</td>\n",
       "      <td>207</td>\n",
       "    </tr>\n",
       "    <tr>\n",
       "      <th>Raiders of the Lost Ark (1981)</th>\n",
       "      <td>4.520421</td>\n",
       "      <td>2473</td>\n",
       "    </tr>\n",
       "    <tr>\n",
       "      <th>Wallace &amp; Gromit: The Best of Aardman Animation (1996)</th>\n",
       "      <td>4.518868</td>\n",
       "      <td>424</td>\n",
       "    </tr>\n",
       "    <tr>\n",
       "      <th>Rear Window (1954)</th>\n",
       "      <td>4.505780</td>\n",
       "      <td>1038</td>\n",
       "    </tr>\n",
       "    <tr>\n",
       "      <th>Third Man, The (1949)</th>\n",
       "      <td>4.503185</td>\n",
       "      <td>471</td>\n",
       "    </tr>\n",
       "    <tr>\n",
       "      <th>American Beauty (1999)</th>\n",
       "      <td>4.499844</td>\n",
       "      <td>3211</td>\n",
       "    </tr>\n",
       "    <tr>\n",
       "      <th>Grand Illusion (Grande illusion, La) (1937)</th>\n",
       "      <td>4.496815</td>\n",
       "      <td>157</td>\n",
       "    </tr>\n",
       "    <tr>\n",
       "      <th>Citizen Kane (1941)</th>\n",
       "      <td>4.493010</td>\n",
       "      <td>1073</td>\n",
       "    </tr>\n",
       "    <tr>\n",
       "      <th>Lawrence of Arabia (1962)</th>\n",
       "      <td>4.491905</td>\n",
       "      <td>803</td>\n",
       "    </tr>\n",
       "    <tr>\n",
       "      <th>To Kill a Mockingbird (1962)</th>\n",
       "      <td>4.491731</td>\n",
       "      <td>907</td>\n",
       "    </tr>\n",
       "    <tr>\n",
       "      <th>Casablanca (1942)</th>\n",
       "      <td>4.489834</td>\n",
       "      <td>1623</td>\n",
       "    </tr>\n",
       "    <tr>\n",
       "      <th>Sixth Sense, The (1999)</th>\n",
       "      <td>4.487631</td>\n",
       "      <td>2385</td>\n",
       "    </tr>\n",
       "    <tr>\n",
       "      <th>General, The (1927)</th>\n",
       "      <td>4.482412</td>\n",
       "      <td>199</td>\n",
       "    </tr>\n",
       "    <tr>\n",
       "      <th>City Lights (1931)</th>\n",
       "      <td>4.480916</td>\n",
       "      <td>262</td>\n",
       "    </tr>\n",
       "    <tr>\n",
       "      <th>Matrix, The (1999)</th>\n",
       "      <td>4.479458</td>\n",
       "      <td>2434</td>\n",
       "    </tr>\n",
       "    <tr>\n",
       "      <th>Life Is Beautiful (La Vita è bella) (1997)</th>\n",
       "      <td>4.477148</td>\n",
       "      <td>1094</td>\n",
       "    </tr>\n",
       "    <tr>\n",
       "      <th>Godfather: Part II, The (1974)</th>\n",
       "      <td>4.468596</td>\n",
       "      <td>1624</td>\n",
       "    </tr>\n",
       "    <tr>\n",
       "      <th>One Flew Over the Cuckoo's Nest (1975)</th>\n",
       "      <td>4.461905</td>\n",
       "      <td>1680</td>\n",
       "    </tr>\n",
       "    <tr>\n",
       "      <th>Double Indemnity (1944)</th>\n",
       "      <td>4.461255</td>\n",
       "      <td>542</td>\n",
       "    </tr>\n",
       "  </tbody>\n",
       "</table>\n",
       "</div>"
      ],
      "text/plain": [
       "                                                       count  user_num\n",
       "title                                                                 \n",
       "Seven Samurai (The Magnificent Seven) (Shichini...  4.629690       613\n",
       "Godfather, The (1972)                               4.598523      2167\n",
       "Shawshank Redemption, The (1994)                    4.596627      2194\n",
       "Usual Suspects, The (1995)                          4.577982      1744\n",
       "Schindler's List (1993)                             4.571112      2257\n",
       "Wrong Trousers, The (1993)                          4.558247       867\n",
       "Paths of Glory (1957)                               4.553571       224\n",
       "Close Shave, A (1995)                               4.544479       652\n",
       "Dr. Strangelove or: How I Learned to Stop Worry...  4.539334      1322\n",
       "Sunset Blvd. (a.k.a. Sunset Boulevard) (1950)       4.533477       463\n",
       "Star Wars: Episode IV - A New Hope (1977)           4.528522      2910\n",
       "Yojimbo (1961)                                      4.521739       207\n",
       "Raiders of the Lost Ark (1981)                      4.520421      2473\n",
       "Wallace & Gromit: The Best of Aardman Animation...  4.518868       424\n",
       "Rear Window (1954)                                  4.505780      1038\n",
       "Third Man, The (1949)                               4.503185       471\n",
       "American Beauty (1999)                              4.499844      3211\n",
       "Grand Illusion (Grande illusion, La) (1937)         4.496815       157\n",
       "Citizen Kane (1941)                                 4.493010      1073\n",
       "Lawrence of Arabia (1962)                           4.491905       803\n",
       "To Kill a Mockingbird (1962)                        4.491731       907\n",
       "Casablanca (1942)                                   4.489834      1623\n",
       "Sixth Sense, The (1999)                             4.487631      2385\n",
       "General, The (1927)                                 4.482412       199\n",
       "City Lights (1931)                                  4.480916       262\n",
       "Matrix, The (1999)                                  4.479458      2434\n",
       "Life Is Beautiful (La Vita è bella) (1997)          4.477148      1094\n",
       "Godfather: Part II, The (1974)                      4.468596      1624\n",
       "One Flew Over the Cuckoo's Nest (1975)              4.461905      1680\n",
       "Double Indemnity (1944)                             4.461255       542"
      ]
     },
     "execution_count": 21,
     "metadata": {},
     "output_type": "execute_result"
    }
   ],
   "source": [
    "movie_counts[movie_counts['user_num']>=100].sort_values(by='count',ascending=False).head(30)"
   ]
  },
  {
   "cell_type": "markdown",
   "id": "liked-cruise",
   "metadata": {},
   "source": [
    "시청한 유저수가 많으면서 높은 평균 시청 횟수를 갖는 영화들 중 대부, 쇼생크 탈출, 유주얼 서스펙트 등등의 명작 들을 다수 확인 할 수 있다.  \n",
    "\n",
    "평균 시청 횟수 분포는 다음과 같다."
   ]
  },
  {
   "cell_type": "code",
   "execution_count": 22,
   "id": "educated-afghanistan",
   "metadata": {},
   "outputs": [
    {
     "name": "stderr",
     "output_type": "stream",
     "text": [
      "/opt/conda/lib/python3.7/site-packages/seaborn/distributions.py:2557: FutureWarning: `distplot` is a deprecated function and will be removed in a future version. Please adapt your code to use either `displot` (a figure-level function with similar flexibility) or `histplot` (an axes-level function for histograms).\n",
      "  warnings.warn(msg, FutureWarning)\n"
     ]
    },
    {
     "data": {
      "image/png": "[encoded data removed]",
      "text/plain": [
       "<Figure size 720x288 with 1 Axes>"
      ]
     },
     "metadata": {
      "needs_background": "light"
     },
     "output_type": "display_data"
    }
   ],
   "source": [
    "plt.figure(figsize = (10, 4))\n",
    "sns.distplot(movie_counts['count'], bins=50)\n",
    "\n",
    "plt.show()"
   ]
  },
  {
   "cell_type": "markdown",
   "id": "efficient-greeting",
   "metadata": {},
   "source": [
    "----\n",
    "----\n",
    "## 3. 모델 검증을 위한 사용자 초기 정보 세팅\n",
    "\n",
    "\n",
    "유튜브 뮤직 등 추천시스템들은 이를 위해서 처음 가입하는 사용자의 취향과 유사한 아티스트 정보를 5개 이상 입력받는 과정을 거치게 하는 경우가 많다. 이와 동일한 과정이 필요하다.\n",
    "\n",
    "만든 추천시스템의 추후 검증 과정을 위해, 내가 선호하는 영화를 5가지 골라서 추가한 새로운 Dataframe `data_df` 를 생성하자."
   ]
  },
  {
   "cell_type": "code",
   "execution_count": 23,
   "id": "future-profit",
   "metadata": {},
   "outputs": [],
   "source": [
    "data_df = total.copy()"
   ]
  },
  {
   "cell_type": "markdown",
   "id": "bronze-diving",
   "metadata": {},
   "source": [
    "필요한 칼럼만 사용한다."
   ]
  },
  {
   "cell_type": "code",
   "execution_count": 24,
   "id": "known-avatar",
   "metadata": {},
   "outputs": [
    {
     "data": {
      "text/html": [
       "<div>\n",
       "<style scoped>\n",
       "    .dataframe tbody tr th:only-of-type {\n",
       "        vertical-align: middle;\n",
       "    }\n",
       "\n",
       "    .dataframe tbody tr th {\n",
       "        vertical-align: top;\n",
       "    }\n",
       "\n",
       "    .dataframe thead th {\n",
       "        text-align: right;\n",
       "    }\n",
       "</style>\n",
       "<table border=\"1\" class=\"dataframe\">\n",
       "  <thead>\n",
       "    <tr style=\"text-align: right;\">\n",
       "      <th></th>\n",
       "      <th>user_id</th>\n",
       "      <th>title</th>\n",
       "      <th>count</th>\n",
       "    </tr>\n",
       "  </thead>\n",
       "  <tbody>\n",
       "    <tr>\n",
       "      <th>836473</th>\n",
       "      <td>6040</td>\n",
       "      <td>Platoon (1986)</td>\n",
       "      <td>3</td>\n",
       "    </tr>\n",
       "    <tr>\n",
       "      <th>836474</th>\n",
       "      <td>6040</td>\n",
       "      <td>Crying Game, The (1992)</td>\n",
       "      <td>5</td>\n",
       "    </tr>\n",
       "    <tr>\n",
       "      <th>836475</th>\n",
       "      <td>6040</td>\n",
       "      <td>Welcome to the Dollhouse (1995)</td>\n",
       "      <td>5</td>\n",
       "    </tr>\n",
       "    <tr>\n",
       "      <th>836476</th>\n",
       "      <td>6040</td>\n",
       "      <td>Sophie's Choice (1982)</td>\n",
       "      <td>4</td>\n",
       "    </tr>\n",
       "    <tr>\n",
       "      <th>836477</th>\n",
       "      <td>6040</td>\n",
       "      <td>E.T. the Extra-Terrestrial (1982)</td>\n",
       "      <td>4</td>\n",
       "    </tr>\n",
       "  </tbody>\n",
       "</table>\n",
       "</div>"
      ],
      "text/plain": [
       "        user_id                              title  count\n",
       "836473     6040                     Platoon (1986)      3\n",
       "836474     6040            Crying Game, The (1992)      5\n",
       "836475     6040    Welcome to the Dollhouse (1995)      5\n",
       "836476     6040             Sophie's Choice (1982)      4\n",
       "836477     6040  E.T. the Extra-Terrestrial (1982)      4"
      ]
     },
     "execution_count": 24,
     "metadata": {},
     "output_type": "execute_result"
    }
   ],
   "source": [
    "data_df = data_df[['user_id','title', 'count']]\n",
    "data_df.tail()"
   ]
  },
  {
   "cell_type": "markdown",
   "id": "mineral-oriental",
   "metadata": {},
   "source": [
    "### 선호하는 영화 검색\n",
    "제목 검색을 위해 모두 소문자로 바꿔서 검색하는 함수 `search_movie`을 정의한다."
   ]
  },
  {
   "cell_type": "code",
   "execution_count": 25,
   "id": "superior-barrel",
   "metadata": {},
   "outputs": [],
   "source": [
    "# 제목 검색을 위해 모두 소문자로 바꿔서 검색하는 함수 생성\n",
    "def search_movie(name):\n",
    "    return movies[movies['title'].str.lower().str.contains(name, regex=False)]"
   ]
  },
  {
   "cell_type": "code",
   "execution_count": 26,
   "id": "numeric-convertible",
   "metadata": {},
   "outputs": [
    {
     "data": {
      "text/html": [
       "<div>\n",
       "<style scoped>\n",
       "    .dataframe tbody tr th:only-of-type {\n",
       "        vertical-align: middle;\n",
       "    }\n",
       "\n",
       "    .dataframe tbody tr th {\n",
       "        vertical-align: top;\n",
       "    }\n",
       "\n",
       "    .dataframe thead th {\n",
       "        text-align: right;\n",
       "    }\n",
       "</style>\n",
       "<table border=\"1\" class=\"dataframe\">\n",
       "  <thead>\n",
       "    <tr style=\"text-align: right;\">\n",
       "      <th></th>\n",
       "      <th>movie_id</th>\n",
       "      <th>title</th>\n",
       "      <th>genre</th>\n",
       "    </tr>\n",
       "  </thead>\n",
       "  <tbody>\n",
       "    <tr>\n",
       "      <th>125</th>\n",
       "      <td>127</td>\n",
       "      <td>Silence of the Palace, The (Saimt el Qusur) (1...</td>\n",
       "      <td>Drama</td>\n",
       "    </tr>\n",
       "    <tr>\n",
       "      <th>589</th>\n",
       "      <td>593</td>\n",
       "      <td>Silence of the Lambs, The (1991)</td>\n",
       "      <td>Drama|Thriller</td>\n",
       "    </tr>\n",
       "    <tr>\n",
       "      <th>1824</th>\n",
       "      <td>1893</td>\n",
       "      <td>Beyond Silence (1996)</td>\n",
       "      <td>Drama</td>\n",
       "    </tr>\n",
       "  </tbody>\n",
       "</table>\n",
       "</div>"
      ],
      "text/plain": [
       "      movie_id                                              title  \\\n",
       "125        127  Silence of the Palace, The (Saimt el Qusur) (1...   \n",
       "589        593                   Silence of the Lambs, The (1991)   \n",
       "1824      1893                              Beyond Silence (1996)   \n",
       "\n",
       "               genre  \n",
       "125            Drama  \n",
       "589   Drama|Thriller  \n",
       "1824           Drama  "
      ]
     },
     "execution_count": 26,
     "metadata": {},
     "output_type": "execute_result"
    }
   ],
   "source": [
    "search_movie('silence')  # 양들의 침묵, 593"
   ]
  },
  {
   "cell_type": "code",
   "execution_count": 27,
   "id": "incorporate-auction",
   "metadata": {},
   "outputs": [
    {
     "data": {
      "text/html": [
       "<div>\n",
       "<style scoped>\n",
       "    .dataframe tbody tr th:only-of-type {\n",
       "        vertical-align: middle;\n",
       "    }\n",
       "\n",
       "    .dataframe tbody tr th {\n",
       "        vertical-align: top;\n",
       "    }\n",
       "\n",
       "    .dataframe thead th {\n",
       "        text-align: right;\n",
       "    }\n",
       "</style>\n",
       "<table border=\"1\" class=\"dataframe\">\n",
       "  <thead>\n",
       "    <tr style=\"text-align: right;\">\n",
       "      <th></th>\n",
       "      <th>movie_id</th>\n",
       "      <th>title</th>\n",
       "      <th>genre</th>\n",
       "    </tr>\n",
       "  </thead>\n",
       "  <tbody>\n",
       "    <tr>\n",
       "      <th>290</th>\n",
       "      <td>293</td>\n",
       "      <td>Professional, The (a.k.a. Leon: The Profession...</td>\n",
       "      <td>Crime|Drama|Romance|Thriller</td>\n",
       "    </tr>\n",
       "    <tr>\n",
       "      <th>2826</th>\n",
       "      <td>2895</td>\n",
       "      <td>Napoleon and Samantha (1972)</td>\n",
       "      <td>Adventure</td>\n",
       "    </tr>\n",
       "  </tbody>\n",
       "</table>\n",
       "</div>"
      ],
      "text/plain": [
       "      movie_id                                              title  \\\n",
       "290        293  Professional, The (a.k.a. Leon: The Profession...   \n",
       "2826      2895                       Napoleon and Samantha (1972)   \n",
       "\n",
       "                             genre  \n",
       "290   Crime|Drama|Romance|Thriller  \n",
       "2826                     Adventure  "
      ]
     },
     "execution_count": 27,
     "metadata": {},
     "output_type": "execute_result"
    }
   ],
   "source": [
    "search_movie('leon') # 레옹, 293"
   ]
  },
  {
   "cell_type": "code",
   "execution_count": 28,
   "id": "another-butterfly",
   "metadata": {},
   "outputs": [
    {
     "data": {
      "text/html": [
       "<div>\n",
       "<style scoped>\n",
       "    .dataframe tbody tr th:only-of-type {\n",
       "        vertical-align: middle;\n",
       "    }\n",
       "\n",
       "    .dataframe tbody tr th {\n",
       "        vertical-align: top;\n",
       "    }\n",
       "\n",
       "    .dataframe thead th {\n",
       "        text-align: right;\n",
       "    }\n",
       "</style>\n",
       "<table border=\"1\" class=\"dataframe\">\n",
       "  <thead>\n",
       "    <tr style=\"text-align: right;\">\n",
       "      <th></th>\n",
       "      <th>movie_id</th>\n",
       "      <th>title</th>\n",
       "      <th>genre</th>\n",
       "    </tr>\n",
       "  </thead>\n",
       "  <tbody>\n",
       "    <tr>\n",
       "      <th>1</th>\n",
       "      <td>2</td>\n",
       "      <td>Jumanji (1995)</td>\n",
       "      <td>Adventure|Children's|Fantasy</td>\n",
       "    </tr>\n",
       "  </tbody>\n",
       "</table>\n",
       "</div>"
      ],
      "text/plain": [
       "   movie_id           title                         genre\n",
       "1         2  Jumanji (1995)  Adventure|Children's|Fantasy"
      ]
     },
     "execution_count": 28,
     "metadata": {},
     "output_type": "execute_result"
    }
   ],
   "source": [
    "search_movie('jumanji') # 쥬만지, 2"
   ]
  },
  {
   "cell_type": "code",
   "execution_count": 29,
   "id": "previous-negotiation",
   "metadata": {},
   "outputs": [
    {
     "data": {
      "text/html": [
       "<div>\n",
       "<style scoped>\n",
       "    .dataframe tbody tr th:only-of-type {\n",
       "        vertical-align: middle;\n",
       "    }\n",
       "\n",
       "    .dataframe tbody tr th {\n",
       "        vertical-align: top;\n",
       "    }\n",
       "\n",
       "    .dataframe thead th {\n",
       "        text-align: right;\n",
       "    }\n",
       "</style>\n",
       "<table border=\"1\" class=\"dataframe\">\n",
       "  <thead>\n",
       "    <tr style=\"text-align: right;\">\n",
       "      <th></th>\n",
       "      <th>movie_id</th>\n",
       "      <th>title</th>\n",
       "      <th>genre</th>\n",
       "    </tr>\n",
       "  </thead>\n",
       "  <tbody>\n",
       "    <tr>\n",
       "      <th>1636</th>\n",
       "      <td>1682</td>\n",
       "      <td>Truman Show, The (1998)</td>\n",
       "      <td>Drama</td>\n",
       "    </tr>\n",
       "  </tbody>\n",
       "</table>\n",
       "</div>"
      ],
      "text/plain": [
       "      movie_id                    title  genre\n",
       "1636      1682  Truman Show, The (1998)  Drama"
      ]
     },
     "execution_count": 29,
     "metadata": {},
     "output_type": "execute_result"
    }
   ],
   "source": [
    "search_movie('truman') # 트루먼 쇼, 1682"
   ]
  },
  {
   "cell_type": "code",
   "execution_count": 30,
   "id": "normal-roberts",
   "metadata": {},
   "outputs": [
    {
     "data": {
      "text/html": [
       "<div>\n",
       "<style scoped>\n",
       "    .dataframe tbody tr th:only-of-type {\n",
       "        vertical-align: middle;\n",
       "    }\n",
       "\n",
       "    .dataframe tbody tr th {\n",
       "        vertical-align: top;\n",
       "    }\n",
       "\n",
       "    .dataframe thead th {\n",
       "        text-align: right;\n",
       "    }\n",
       "</style>\n",
       "<table border=\"1\" class=\"dataframe\">\n",
       "  <thead>\n",
       "    <tr style=\"text-align: right;\">\n",
       "      <th></th>\n",
       "      <th>movie_id</th>\n",
       "      <th>title</th>\n",
       "      <th>genre</th>\n",
       "    </tr>\n",
       "  </thead>\n",
       "  <tbody>\n",
       "    <tr>\n",
       "      <th>1656</th>\n",
       "      <td>1704</td>\n",
       "      <td>Good Will Hunting (1997)</td>\n",
       "      <td>Drama</td>\n",
       "    </tr>\n",
       "  </tbody>\n",
       "</table>\n",
       "</div>"
      ],
      "text/plain": [
       "      movie_id                     title  genre\n",
       "1656      1704  Good Will Hunting (1997)  Drama"
      ]
     },
     "execution_count": 30,
     "metadata": {},
     "output_type": "execute_result"
    }
   ],
   "source": [
    "search_movie('good will') # 굿윌헌팅, 1704"
   ]
  },
  {
   "cell_type": "code",
   "execution_count": 31,
   "id": "grave-motion",
   "metadata": {
    "scrolled": true
   },
   "outputs": [
    {
     "data": {
      "text/html": [
       "<div>\n",
       "<style scoped>\n",
       "    .dataframe tbody tr th:only-of-type {\n",
       "        vertical-align: middle;\n",
       "    }\n",
       "\n",
       "    .dataframe tbody tr th {\n",
       "        vertical-align: top;\n",
       "    }\n",
       "\n",
       "    .dataframe thead th {\n",
       "        text-align: right;\n",
       "    }\n",
       "</style>\n",
       "<table border=\"1\" class=\"dataframe\">\n",
       "  <thead>\n",
       "    <tr style=\"text-align: right;\">\n",
       "      <th></th>\n",
       "      <th>user_id</th>\n",
       "      <th>title</th>\n",
       "      <th>count</th>\n",
       "    </tr>\n",
       "  </thead>\n",
       "  <tbody>\n",
       "    <tr>\n",
       "      <th>836473</th>\n",
       "      <td>6040</td>\n",
       "      <td>Platoon (1986)</td>\n",
       "      <td>3</td>\n",
       "    </tr>\n",
       "    <tr>\n",
       "      <th>836474</th>\n",
       "      <td>6040</td>\n",
       "      <td>Crying Game, The (1992)</td>\n",
       "      <td>5</td>\n",
       "    </tr>\n",
       "    <tr>\n",
       "      <th>836475</th>\n",
       "      <td>6040</td>\n",
       "      <td>Welcome to the Dollhouse (1995)</td>\n",
       "      <td>5</td>\n",
       "    </tr>\n",
       "    <tr>\n",
       "      <th>836476</th>\n",
       "      <td>6040</td>\n",
       "      <td>Sophie's Choice (1982)</td>\n",
       "      <td>4</td>\n",
       "    </tr>\n",
       "    <tr>\n",
       "      <th>836477</th>\n",
       "      <td>6040</td>\n",
       "      <td>E.T. the Extra-Terrestrial (1982)</td>\n",
       "      <td>4</td>\n",
       "    </tr>\n",
       "    <tr>\n",
       "      <th>0</th>\n",
       "      <td>jaejun</td>\n",
       "      <td>Silence of the Lambs, The (1991)</td>\n",
       "      <td>5</td>\n",
       "    </tr>\n",
       "    <tr>\n",
       "      <th>1</th>\n",
       "      <td>jaejun</td>\n",
       "      <td>Professional, The (a.k.a. Leon: The Profession...</td>\n",
       "      <td>5</td>\n",
       "    </tr>\n",
       "    <tr>\n",
       "      <th>2</th>\n",
       "      <td>jaejun</td>\n",
       "      <td>Jumanji (1995)</td>\n",
       "      <td>5</td>\n",
       "    </tr>\n",
       "    <tr>\n",
       "      <th>3</th>\n",
       "      <td>jaejun</td>\n",
       "      <td>Truman Show, The (1998)</td>\n",
       "      <td>5</td>\n",
       "    </tr>\n",
       "    <tr>\n",
       "      <th>4</th>\n",
       "      <td>jaejun</td>\n",
       "      <td>Good Will Hunting (1997)</td>\n",
       "      <td>5</td>\n",
       "    </tr>\n",
       "  </tbody>\n",
       "</table>\n",
       "</div>"
      ],
      "text/plain": [
       "       user_id                                              title  count\n",
       "836473    6040                                     Platoon (1986)      3\n",
       "836474    6040                            Crying Game, The (1992)      5\n",
       "836475    6040                    Welcome to the Dollhouse (1995)      5\n",
       "836476    6040                             Sophie's Choice (1982)      4\n",
       "836477    6040                  E.T. the Extra-Terrestrial (1982)      4\n",
       "0       jaejun                   Silence of the Lambs, The (1991)      5\n",
       "1       jaejun  Professional, The (a.k.a. Leon: The Profession...      5\n",
       "2       jaejun                                     Jumanji (1995)      5\n",
       "3       jaejun                            Truman Show, The (1998)      5\n",
       "4       jaejun                           Good Will Hunting (1997)      5"
      ]
     },
     "execution_count": 31,
     "metadata": {},
     "output_type": "execute_result"
    }
   ],
   "source": [
    "# 내가 선호하는 영화 리스트\n",
    "my_favorite = {'Silence of the Lambs, The (1991)': 593, \n",
    "               'Professional, The (a.k.a. Leon: The Professional) (1994)': 293,\n",
    "               'Jumanji (1995)' : 2,\n",
    "               'Truman Show, The (1998)' : 1682,\n",
    "               'Good Will Hunting (1997)': 1704 }\n",
    "\n",
    "# 'jaejun' 이라는 user_id가 위 영화를 5회 시청했다고 가정\n",
    "my_favorite_df = pd.DataFrame({'user_id': ['jaejun']*5, 'title': list(my_favorite.keys()), 'count':[5]*5})\n",
    "\n",
    "if not data_df.isin({'user_id':['jaejun']})['user_id'].any():  # user_id에 'jaejun' 이라는 데이터가 없다면\n",
    "    data_df = data_df.append(my_favorite_df)                           # 위에 임의로 만든 my_favorite 데이터를 추가 \n",
    "\n",
    "data_df.tail(10)       # 잘 추가되었는지 확인"
   ]
  },
  {
   "cell_type": "markdown",
   "id": "critical-access",
   "metadata": {},
   "source": [
    "----\n",
    "## 4. CSR Matrix 생성\n",
    "### 모델에 활용하기 위한 전처리\n",
    "데이터 관리를 쉽게 하기 위해 __indexing__ 작업을 수행한다."
   ]
  },
  {
   "cell_type": "code",
   "execution_count": 32,
   "id": "dependent-search",
   "metadata": {},
   "outputs": [
    {
     "name": "stdout",
     "output_type": "stream",
     "text": [
      "6039\n"
     ]
    }
   ],
   "source": [
    "# 고유한 유저, 타이틀를 찾아내는 코드\n",
    "user_unique = data_df['user_id'].unique()\n",
    "title_unique = data_df['title'].unique()\n",
    "\n",
    "# 유저,타이틀 indexing 하는 코드 \n",
    "user_to_idx = {v:k for k,v in enumerate(user_unique)}\n",
    "title_to_idx = {v:k for k,v in enumerate(title_unique)}\n",
    "\n",
    "# 인덱싱이 잘 되었는지 확인\n",
    "print(user_to_idx['jaejun'])    # 6040명의 유저 중 마지막으로 추가된 유저이니 6039이 나와야 함"
   ]
  },
  {
   "cell_type": "code",
   "execution_count": 33,
   "id": "concerned-efficiency",
   "metadata": {
    "scrolled": false
   },
   "outputs": [
    {
     "name": "stdout",
     "output_type": "stream",
     "text": [
      "user_id column indexing OK!!\n",
      "title column indexing OK!!\n"
     ]
    },
    {
     "data": {
      "text/html": [
       "<div>\n",
       "<style scoped>\n",
       "    .dataframe tbody tr th:only-of-type {\n",
       "        vertical-align: middle;\n",
       "    }\n",
       "\n",
       "    .dataframe tbody tr th {\n",
       "        vertical-align: top;\n",
       "    }\n",
       "\n",
       "    .dataframe thead th {\n",
       "        text-align: right;\n",
       "    }\n",
       "</style>\n",
       "<table border=\"1\" class=\"dataframe\">\n",
       "  <thead>\n",
       "    <tr style=\"text-align: right;\">\n",
       "      <th></th>\n",
       "      <th>user_id</th>\n",
       "      <th>title</th>\n",
       "      <th>count</th>\n",
       "    </tr>\n",
       "  </thead>\n",
       "  <tbody>\n",
       "    <tr>\n",
       "      <th>0</th>\n",
       "      <td>0</td>\n",
       "      <td>0</td>\n",
       "      <td>5</td>\n",
       "    </tr>\n",
       "    <tr>\n",
       "      <th>1</th>\n",
       "      <td>0</td>\n",
       "      <td>1</td>\n",
       "      <td>3</td>\n",
       "    </tr>\n",
       "    <tr>\n",
       "      <th>2</th>\n",
       "      <td>0</td>\n",
       "      <td>2</td>\n",
       "      <td>3</td>\n",
       "    </tr>\n",
       "    <tr>\n",
       "      <th>3</th>\n",
       "      <td>0</td>\n",
       "      <td>3</td>\n",
       "      <td>4</td>\n",
       "    </tr>\n",
       "    <tr>\n",
       "      <th>4</th>\n",
       "      <td>0</td>\n",
       "      <td>4</td>\n",
       "      <td>5</td>\n",
       "    </tr>\n",
       "    <tr>\n",
       "      <th>...</th>\n",
       "      <td>...</td>\n",
       "      <td>...</td>\n",
       "      <td>...</td>\n",
       "    </tr>\n",
       "    <tr>\n",
       "      <th>0</th>\n",
       "      <td>6039</td>\n",
       "      <td>121</td>\n",
       "      <td>5</td>\n",
       "    </tr>\n",
       "    <tr>\n",
       "      <th>1</th>\n",
       "      <td>6039</td>\n",
       "      <td>890</td>\n",
       "      <td>5</td>\n",
       "    </tr>\n",
       "    <tr>\n",
       "      <th>2</th>\n",
       "      <td>6039</td>\n",
       "      <td>513</td>\n",
       "      <td>5</td>\n",
       "    </tr>\n",
       "    <tr>\n",
       "      <th>3</th>\n",
       "      <td>6039</td>\n",
       "      <td>385</td>\n",
       "      <td>5</td>\n",
       "    </tr>\n",
       "    <tr>\n",
       "      <th>4</th>\n",
       "      <td>6039</td>\n",
       "      <td>248</td>\n",
       "      <td>5</td>\n",
       "    </tr>\n",
       "  </tbody>\n",
       "</table>\n",
       "<p>836483 rows × 3 columns</p>\n",
       "</div>"
      ],
      "text/plain": [
       "    user_id  title  count\n",
       "0         0      0      5\n",
       "1         0      1      3\n",
       "2         0      2      3\n",
       "3         0      3      4\n",
       "4         0      4      5\n",
       "..      ...    ...    ...\n",
       "0      6039    121      5\n",
       "1      6039    890      5\n",
       "2      6039    513      5\n",
       "3      6039    385      5\n",
       "4      6039    248      5\n",
       "\n",
       "[836483 rows x 3 columns]"
      ]
     },
     "execution_count": 33,
     "metadata": {},
     "output_type": "execute_result"
    }
   ],
   "source": [
    "# indexing을 통해 데이터 컬럼 내 값을 바꾸는 코드\n",
    "\n",
    "# user_to_idx.get을 통해 user_id 컬럼의 모든 값을 인덱싱한 Series를 구해 봅시다. \n",
    "# 혹시 정상적으로 인덱싱되지 않은 row가 있다면 인덱스가 NaN이 될 테니 dropna()로 제거합니다. \n",
    "temp_user_data = data_df['user_id'].map(user_to_idx.get).dropna()\n",
    "if len(temp_user_data) == len(data_df):   # 모든 row가 정상적으로 인덱싱되었다면\n",
    "    print('user_id column indexing OK!!')\n",
    "    data_df['user_id'] = temp_user_data   # data['user_id']을 인덱싱된 Series로 교체해 줍니다. \n",
    "else:\n",
    "    print('user_id column indexing Fail!!')\n",
    "    \n",
    "# temp_title_data을 통해 title 컬럼도 동일한 방식으로 인덱싱해 줍니다. \n",
    "temp_title_data = data_df['title'].map(title_to_idx.get).dropna()\n",
    "if len(temp_title_data) == len(data_df):\n",
    "    print('title column indexing OK!!')\n",
    "    data_df['title'] = temp_title_data\n",
    "else:\n",
    "    print('title column indexing Fail!!')\n",
    "\n",
    "\n",
    "data_df"
   ]
  },
  {
   "cell_type": "code",
   "execution_count": 34,
   "id": "monthly-medline",
   "metadata": {},
   "outputs": [
    {
     "data": {
      "text/plain": [
       "<6040x3628 sparse matrix of type '<class 'numpy.longlong'>'\n",
       "\twith 836483 stored elements in Compressed Sparse Row format>"
      ]
     },
     "execution_count": 34,
     "metadata": {},
     "output_type": "execute_result"
    }
   ],
   "source": [
    "from scipy.sparse import csr_matrix\n",
    "\n",
    "num_user = data_df['user_id'].nunique()\n",
    "num_movie = data_df['title'].nunique()\n",
    "\n",
    "csr_data = csr_matrix((data_df['count'], (data_df.user_id, data_df.title)), shape=(num_user, num_movie))\n",
    "csr_data"
   ]
  },
  {
   "cell_type": "markdown",
   "id": "latin-seafood",
   "metadata": {},
   "source": [
    "----\n",
    "## 5.  AlternatingLeastSquares 모델 구성 및 훈련"
   ]
  },
  {
   "cell_type": "markdown",
   "id": "according-luxembourg",
   "metadata": {},
   "source": [
    "### 모델 구성"
   ]
  },
  {
   "cell_type": "code",
   "execution_count": 35,
   "id": "periodic-inventory",
   "metadata": {},
   "outputs": [],
   "source": [
    "from implicit.als import AlternatingLeastSquares\n",
    "import os\n",
    "import numpy as np\n",
    "\n",
    "# implicit 라이브러리에서 권장하고 있는 부분입니다. 학습 내용과는 무관\n",
    "os.environ['OPENBLAS_NUM_THREADS']='1'\n",
    "os.environ['KMP_DUPLICATE_LIB_OK']='True'\n",
    "os.environ['MKL_NUM_THREADS']='1'"
   ]
  },
  {
   "cell_type": "code",
   "execution_count": 36,
   "id": "original-evaluation",
   "metadata": {},
   "outputs": [],
   "source": [
    "# Implicit AlternatingLeastSquares 모델의 선언\n",
    "als_model = AlternatingLeastSquares(factors=100, \n",
    "                                    regularization=0.01, \n",
    "                                    use_gpu=False, \n",
    "                                    iterations=15, \n",
    "                                    dtype=np.float32)"
   ]
  },
  {
   "cell_type": "markdown",
   "id": "strong-overhead",
   "metadata": {},
   "source": [
    "AlternatingLeastSquares 클래스의 init 파라미터  \n",
    "- `factors` : 유저와 아이템의 벡터를 몇 차원으로 할 것인지\n",
    "- `regularization` : 과적합을 방지하기 위해 정규화 값을 얼마나 사용할 것인지\n",
    "- `use_gpu` : GPU를 사용할 것인지\n",
    "- `iterations` : epochs와 같은 의미. 데이터를 몇 번 반복해서 학습할 것인지"
   ]
  },
  {
   "cell_type": "code",
   "execution_count": 37,
   "id": "conventional-teens",
   "metadata": {},
   "outputs": [
    {
     "data": {
      "text/plain": [
       "<3628x6040 sparse matrix of type '<class 'numpy.longlong'>'\n",
       "\twith 836483 stored elements in Compressed Sparse Column format>"
      ]
     },
     "execution_count": 37,
     "metadata": {},
     "output_type": "execute_result"
    }
   ],
   "source": [
    "# als 모델은 input으로 (item X user 꼴의 matrix를 받기 때문에 Transpose해줍니다.)\n",
    "csr_data_transpose = csr_data.T\n",
    "csr_data_transpose"
   ]
  },
  {
   "cell_type": "markdown",
   "id": "sonic-belief",
   "metadata": {},
   "source": [
    "### 모델 훈련"
   ]
  },
  {
   "cell_type": "code",
   "execution_count": 38,
   "id": "minor-apple",
   "metadata": {},
   "outputs": [
    {
     "data": {
      "application/vnd.jupyter.widget-view+json": {
       "model_id": "8246fb13561949abadc14f48385af42e",
       "version_major": 2,
       "version_minor": 0
      },
      "text/plain": [
       "  0%|          | 0/15 [00:00<?, ?it/s]"
      ]
     },
     "metadata": {},
     "output_type": "display_data"
    }
   ],
   "source": [
    "# 모델 훈련\n",
    "als_model.fit(csr_data_transpose)"
   ]
  },
  {
   "cell_type": "markdown",
   "id": "prescription-local",
   "metadata": {},
   "source": [
    "----\n",
    "## 6. 선호도 파악\n",
    "#### 내가 좋아하는 영화 선호도\n",
    "\n",
    "내가 선호하는 5가지 영화 중 하나와 그 외의 영화 하나를 골라 훈련된 모델이 예측한 나의 선호도를 파악해보자."
   ]
  },
  {
   "cell_type": "code",
   "execution_count": 39,
   "id": "placed-cemetery",
   "metadata": {},
   "outputs": [],
   "source": [
    "jaejun, silence = user_to_idx['jaejun'], title_to_idx['Silence of the Lambs, The (1991)']\n",
    "jaejun_vector, silence = als_model.user_factors[jaejun], als_model.item_factors[silence]"
   ]
  },
  {
   "cell_type": "code",
   "execution_count": 40,
   "id": "associate-variety",
   "metadata": {},
   "outputs": [
    {
     "data": {
      "text/plain": [
       "0.5701852"
      ]
     },
     "execution_count": 40,
     "metadata": {},
     "output_type": "execute_result"
    }
   ],
   "source": [
    "np.dot(jaejun_vector, silence)"
   ]
  },
  {
   "cell_type": "markdown",
   "id": "enormous-salad",
   "metadata": {},
   "source": [
    "#### 내가 좋아하는 5개 영화 중 위와 다른것 선호도"
   ]
  },
  {
   "cell_type": "code",
   "execution_count": 41,
   "id": "effective-outside",
   "metadata": {},
   "outputs": [
    {
     "data": {
      "text/plain": [
       "0.5279594"
      ]
     },
     "execution_count": 41,
     "metadata": {},
     "output_type": "execute_result"
    }
   ],
   "source": [
    "good = title_to_idx['Good Will Hunting (1997)']\n",
    "good_vector = als_model.item_factors[good]\n",
    "np.dot(jaejun_vector, good_vector)"
   ]
  },
  {
   "cell_type": "markdown",
   "id": "enhanced-latter",
   "metadata": {},
   "source": [
    "#### 임의의 영화 선호도"
   ]
  },
  {
   "cell_type": "code",
   "execution_count": 42,
   "id": "informal-sailing",
   "metadata": {},
   "outputs": [
    {
     "data": {
      "text/plain": [
       "0.09311393"
      ]
     },
     "execution_count": 42,
     "metadata": {},
     "output_type": "execute_result"
    }
   ],
   "source": [
    "random= title_to_idx[\"Crying Game, The (1992)\"]\n",
    "random_vector = als_model.item_factors[random]\n",
    "np.dot(jaejun_vector, random_vector) "
   ]
  },
  {
   "cell_type": "markdown",
   "id": "beneficial-testing",
   "metadata": {},
   "source": [
    "____\n",
    "____"
   ]
  },
  {
   "cell_type": "markdown",
   "id": "german-compatibility",
   "metadata": {},
   "source": [
    "## 7. 내가 좋아하는 영화와 비슷한 영화 찾기\n",
    "\n",
    "AlternatingLeastSquares 클래스에 구현되어 있는 `similar_items` 메서드를 통하여 내가 좋아하는 영화와 비슷한 영화를 찾아보자.  \n",
    "\n",
    "영화 이름을 입력값으로 받아서 비슷한 영화 5개를 출력해주는 `similar_movie` 함수를 정의한다."
   ]
  },
  {
   "cell_type": "code",
   "execution_count": 43,
   "id": "geological-premiere",
   "metadata": {},
   "outputs": [],
   "source": [
    "#artist_to_idx 를 뒤집어, index로부터 artist 이름을 얻는 dict 생성\n",
    "idx_to_title = {v:k for k,v in title_to_idx.items()}\n",
    "\n",
    "def get_similar_movie(movie_name: str):\n",
    "    movie_id = title_to_idx[movie_name]\n",
    "    similar_movie = als_model.similar_items(movie_id, N=6)\n",
    "    similar_movie = [idx_to_title[i[0]] for i in similar_movie]\n",
    "    return similar_movie"
   ]
  },
  {
   "cell_type": "code",
   "execution_count": 44,
   "id": "mechanical-system",
   "metadata": {},
   "outputs": [
    {
     "data": {
      "text/plain": [
       "['Silence of the Lambs, The (1991)',\n",
       " 'Shawshank Redemption, The (1994)',\n",
       " 'Fargo (1996)',\n",
       " 'Pulp Fiction (1994)',\n",
       " \"Schindler's List (1993)\",\n",
       " 'Good Will Hunting (1997)']"
      ]
     },
     "execution_count": 44,
     "metadata": {},
     "output_type": "execute_result"
    }
   ],
   "source": [
    "get_similar_movie('Silence of the Lambs, The (1991)')"
   ]
  },
  {
   "cell_type": "code",
   "execution_count": 45,
   "id": "inclusive-straight",
   "metadata": {},
   "outputs": [
    {
     "data": {
      "text/plain": [
       "['Professional, The (a.k.a. Leon: The Professional) (1994)',\n",
       " 'Nikita (La Femme Nikita) (1990)',\n",
       " 'Reservoir Dogs (1992)',\n",
       " 'Seven (Se7en) (1995)',\n",
       " 'Lock, Stock & Two Smoking Barrels (1998)',\n",
       " 'Bound (1996)']"
      ]
     },
     "execution_count": 45,
     "metadata": {},
     "output_type": "execute_result"
    }
   ],
   "source": [
    "get_similar_movie('Professional, The (a.k.a. Leon: The Professional) (1994)')"
   ]
  },
  {
   "cell_type": "code",
   "execution_count": 46,
   "id": "unauthorized-address",
   "metadata": {},
   "outputs": [
    {
     "data": {
      "text/plain": [
       "['Jumanji (1995)',\n",
       " 'Hook (1991)',\n",
       " 'Indian in the Cupboard, The (1995)',\n",
       " 'Dragonheart (1996)',\n",
       " 'Flubber (1997)',\n",
       " 'Santa Clause, The (1994)']"
      ]
     },
     "execution_count": 46,
     "metadata": {},
     "output_type": "execute_result"
    }
   ],
   "source": [
    "get_similar_movie('Jumanji (1995)')"
   ]
  },
  {
   "cell_type": "code",
   "execution_count": 47,
   "id": "wrong-yorkshire",
   "metadata": {},
   "outputs": [
    {
     "data": {
      "text/plain": [
       "['Truman Show, The (1998)',\n",
       " 'Quiz Show (1994)',\n",
       " 'Apollo 13 (1995)',\n",
       " \"Mr. Holland's Opus (1995)\",\n",
       " 'Philadelphia (1993)',\n",
       " 'People vs. Larry Flynt, The (1996)']"
      ]
     },
     "execution_count": 47,
     "metadata": {},
     "output_type": "execute_result"
    }
   ],
   "source": [
    "get_similar_movie('Truman Show, The (1998)')"
   ]
  },
  {
   "cell_type": "code",
   "execution_count": 48,
   "id": "african-trance",
   "metadata": {},
   "outputs": [
    {
     "data": {
      "text/plain": [
       "['Good Will Hunting (1997)',\n",
       " 'Shawshank Redemption, The (1994)',\n",
       " 'Apollo 13 (1995)',\n",
       " 'Truman Show, The (1998)',\n",
       " 'Dead Man Walking (1995)',\n",
       " 'Awakenings (1990)']"
      ]
     },
     "execution_count": 48,
     "metadata": {},
     "output_type": "execute_result"
    }
   ],
   "source": [
    "get_similar_movie('Good Will Hunting (1997)')"
   ]
  },
  {
   "cell_type": "markdown",
   "id": "threaded-diary",
   "metadata": {},
   "source": [
    "----"
   ]
  },
  {
   "cell_type": "markdown",
   "id": "brazilian-accordance",
   "metadata": {},
   "source": [
    "## 8. 유저가 좋아하는 영화 추천\n",
    "AlternatingLeastSquares 클래스에 구현되어 있는 `recommend` 메서드를 통하여 좋아할 만한 아티스트를 추천받을 수 있다.\n"
   ]
  },
  {
   "cell_type": "code",
   "execution_count": 49,
   "id": "mounted-faith",
   "metadata": {},
   "outputs": [
    {
     "data": {
      "text/plain": [
       "['Shawshank Redemption, The (1994)',\n",
       " 'Fargo (1996)',\n",
       " 'Pulp Fiction (1994)',\n",
       " 'Apollo 13 (1995)',\n",
       " 'Jerry Maguire (1996)',\n",
       " 'Sixth Sense, The (1999)',\n",
       " 'Usual Suspects, The (1995)',\n",
       " \"Schindler's List (1993)\",\n",
       " 'Fight Club (1999)',\n",
       " 'GoodFellas (1990)',\n",
       " 'Edward Scissorhands (1990)',\n",
       " 'Twelve Monkeys (1995)',\n",
       " 'Trainspotting (1996)',\n",
       " 'Nikita (La Femme Nikita) (1990)',\n",
       " 'Rain Man (1988)',\n",
       " 'Awakenings (1990)',\n",
       " 'Dead Man Walking (1995)',\n",
       " 'Reservoir Dogs (1992)',\n",
       " 'Mask, The (1994)',\n",
       " \"What's Eating Gilbert Grape (1993)\"]"
      ]
     },
     "execution_count": 49,
     "metadata": {},
     "output_type": "execute_result"
    }
   ],
   "source": [
    "user = user_to_idx['jaejun']\n",
    "\n",
    "# recommend에서는 user*item CSR Matrix를 받습니다.\n",
    "movie_recommended = als_model.recommend(user, csr_data, N=20, filter_already_liked_items=True)\n",
    "# filter_already_liked_items 는 유저가 이미 평가한 아이템은 제외하는 Argument이다.\n",
    "\n",
    "# 인덱스를 영화 이름으로 mapping\n",
    "[idx_to_title[i[0]] for i in movie_recommended]"
   ]
  },
  {
   "cell_type": "markdown",
   "id": "confidential-brain",
   "metadata": {},
   "source": [
    "추천해준 영화들 중 이미 내가 재미있게 본 영화도 있고, 보고싶었던 명작들도 존재한다.  처음에 지정한 좋아하는 영화와 비슷한 장르의 영화들이 많이 추천된 것을 보아 모델이 어느정도 잘 학습 되었음을 알 수 있다."
   ]
  },
  {
   "cell_type": "markdown",
   "id": "organic-johnston",
   "metadata": {},
   "source": [
    "AlternatingLeastSquares 클래스에 구현된 `explain` 메소드를 사용하면  기록을 남긴 데이터 중 이 __추천에 기여한 정도__를 확인할 수 있다."
   ]
  },
  {
   "cell_type": "code",
   "execution_count": 50,
   "id": "dirty-template",
   "metadata": {},
   "outputs": [
    {
     "data": {
      "text/plain": [
       "[('Silence of the Lambs, The (1991)', 0.2924966497044066),\n",
       " ('Good Will Hunting (1997)', 0.17603979286222868),\n",
       " ('Professional, The (a.k.a. Leon: The Professional) (1994)',\n",
       "  0.015772424235094416),\n",
       " ('Truman Show, The (1998)', -0.005277651546851463),\n",
       " ('Jumanji (1995)', -0.012884973921571386)]"
      ]
     },
     "execution_count": 50,
     "metadata": {},
     "output_type": "execute_result"
    }
   ],
   "source": [
    "shawshank = title_to_idx['Shawshank Redemption, The (1994)']\n",
    "explain = als_model.explain(user, csr_data, itemid=shawshank)\n",
    "\n",
    "[(idx_to_title[i[0]], i[1]) for i in explain[1]]"
   ]
  },
  {
   "cell_type": "markdown",
   "id": "generic-singapore",
   "metadata": {},
   "source": [
    "----\n",
    "----"
   ]
  },
  {
   "cell_type": "markdown",
   "id": "alike-intensity",
   "metadata": {},
   "source": [
    "## 프로젝트 정리"
   ]
  },
  {
   "cell_type": "markdown",
   "id": "warming-messenger",
   "metadata": {},
   "source": [
    "Movielens 데이터를 이용하여 영화 추천시스템을 만들어보았다. 각 과정의 핵심 내용은 아래에 정리하였다.\n",
    "- MovieLens 1M Dataset 에는 유저가 영화에 대해 평점을 매긴 데이터가 데이터 크기 별로 있다.\n",
    "- 별점 데이터는 대표적인 explicit 데이터지만 implicit 데이터로 간주하고 테스트 해볼 수 있다.\n",
    "- 별점을 시청횟수 로 해석\n",
    "\n",
    "#### 데이터 준비\n",
    "- 영화 시청횟수 데이터와 영화 제목을 보기 위해 메타 데이터를 불러와 `movie_id` 컬럼을 기준으로 합침\n",
    "\n",
    "#### 데이터 전처리\n",
    "- 유저가 3점 미만으로 준 데이터는 선호하지 않는다고 가정하고 제외\n",
    "- 영화 장르인 genre 컬럼은 `Animation|Children's|Comedy `와 같이 여러 장르가 `|` 로 이어져있으므로 분리해서 새로운 컬럼에 각각 저장\n",
    "\n",
    "#### 데이터 탐색 및 분석\n",
    "- 유저 수, 영화 수, 장르 수 등의 기본 정보 확인\n",
    "- 유저들이 선호하는 영화 Top 30 확인\n",
    "- 유저들이 선호하는 장르 확인 및 장르 점유율을 pie chart 로 시각화\n",
    "- 평균 시청횟수가 높은 영화 확인 -> 일반적인 정보를 얻기위해 시청한 유저수가 많으면서 높은 평균 시청 횟수를 갖는 영화 확인\n",
    "- 평균 시청 횟수 분포 확인\n",
    "\n",
    "#### 모델 검증을 위한 사용자 초기 정보 세팅\n",
    "- 만든 추천시스템의 추후 검증 과정을 위해, 내가 선호하는 영화를 5가지 골라서 추가한 새로운 Dataframe `data_df` 를 생성\n",
    "\n",
    "#### 모델 구성 및 훈련\n",
    "- 데이터 관리를 쉽게 하기 위한 indexing 작업\n",
    "- CSR Matrix 생성\n",
    "- AlternatingLeastSquares 모델 구성 및 훈련\n",
    "\n",
    "\n",
    "#### 추천시스템\n",
    "- 선호도 파악\n",
    ">이때, 내가 선정한 영화와의 내적 값을 1와 가깝게 만들기 위해 `facotrs`를 1000으로 바꾼 결과 0.98의 거리가 나왔으나, 다른 영화들과의 내적 값이 너무 작아지는 문제가 있음  \n",
    "  -> 1에 가깝게 나왔다고 이 모델이 잘 학습되었다고만은 보기 어려움\n",
    "- 내가 좋아하는 영화와 비슷한 영화 찾기\n",
    "- 유저가 좋아하는 영화 추천\n",
    ">추천해준 영화들 중 이미 내가 재미있게 본 영화도 있고, 보고싶었던 명작들도 존재함  \n",
    "  처음에 지정한 좋아하는 영화와 비슷한 장르의 영화들이 많이 추천된 것을 보아 모델이 어느정도 잘 학습 되었음을 확인함"
   ]
  },
  {
   "cell_type": "code",
   "execution_count": null,
   "id": "refined-thanksgiving",
   "metadata": {},
   "outputs": [],
   "source": []
  }
 ],
 "metadata": {
  "kernelspec": {
   "display_name": "Python 3",
   "language": "python",
   "name": "python3"
  },
  "language_info": {
   "codemirror_mode": {
    "name": "ipython",
    "version": 3
   },
   "file_extension": ".py",
   "mimetype": "text/x-python",
   "name": "python",
   "nbconvert_exporter": "python",
   "pygments_lexer": "ipython3",
   "version": "3.7.9"
  }
 },
 "nbformat": 4,
 "nbformat_minor": 5
}
