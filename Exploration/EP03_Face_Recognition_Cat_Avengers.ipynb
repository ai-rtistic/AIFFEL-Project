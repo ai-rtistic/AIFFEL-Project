{
 "cells": [
  {
   "cell_type": "markdown",
   "id": "5f61720c",
   "metadata": {},
   "source": [
    "# 미니프로젝트 : 얼굴인식 스티커를 이용한 캣벤져스\n",
    "\n",
    "이전에는 얼굴인식을 이용하여 이미지에서 얼굴을 찾고 왕관 스티커를 적용하였다.  \n",
    "그것을 응용하여 이번에는 다양한 인물, 다양한 각도의 이미지들에 얼굴인식을 진행하겠다.\n"
   ]
  },
  {
   "cell_type": "markdown",
   "id": "df2f2f31",
   "metadata": {},
   "source": [
    "영화를 좋아하는 사람이라면 누구나 알만한 마블의 __어벤져스__ !  \n",
    "어벤져스는 지구를 지키는 최강 영웅들에 대한 내용이다.  \n",
    "\n",
    "지구를 지켜야하는 의무를 가진 영웅인 만큼, 진지하고 근엄한 표정을 짓고있다. \n",
    "\n",
    "___why so serious?___\n",
    "\n",
    "항상 진지.근엄한 우리 어벤져스 영웅들의 귀여운 모습을 찾아주자.\n",
    "\n",
    "얼굴인식 스티커를 이용해 마블의 어벤져스에 등장하는 영웅들에게 귀여운 고양이 수염을 달아서 __캣벤져스__ 로 만들어보겠다."
   ]
  },
  {
   "cell_type": "markdown",
   "id": "3ad20e5d",
   "metadata": {},
   "source": [
    "![image](https://user-images.githubusercontent.com/84179578/126270287-5550751a-27d7-446e-87e4-61ccf2e37f72.png)"
   ]
  },
  {
   "cell_type": "markdown",
   "id": "1c543039",
   "metadata": {},
   "source": [
    "----"
   ]
  },
  {
   "cell_type": "markdown",
   "id": "3ac579ca",
   "metadata": {},
   "source": [
    "## 사진 불러오기\n",
    "\n",
    "먼저 어벤져스 영웅 6명 (아이언맨, 캡틴아메리카, 토르, 헐크, 블랙위도우, 호크아이) 의 증명사진을 불러오자."
   ]
  },
  {
   "cell_type": "code",
   "execution_count": 1,
   "id": "e8838230",
   "metadata": {},
   "outputs": [],
   "source": [
    "import cv2\n",
    "import matplotlib.pyplot as plt\n",
    "import numpy as np\n",
    "import dlib"
   ]
  },
  {
   "cell_type": "code",
   "execution_count": null,
   "id": "f1ec8dc8",
   "metadata": {},
   "outputs": [],
   "source": []
  }
 ],
 "metadata": {
  "kernelspec": {
   "display_name": "aiffel",
   "language": "python",
   "name": "aiffel"
  },
  "language_info": {
   "codemirror_mode": {
    "name": "ipython",
    "version": 3
   },
   "file_extension": ".py",
   "mimetype": "text/x-python",
   "name": "python",
   "nbconvert_exporter": "python",
   "pygments_lexer": "ipython3",
   "version": "3.9.5"
  }
 },
 "nbformat": 4,
 "nbformat_minor": 5
}
