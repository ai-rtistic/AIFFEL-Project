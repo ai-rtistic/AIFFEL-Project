{
 "cells": [
  {
   "cell_type": "markdown",
   "id": "northern-collector",
   "metadata": {},
   "source": [
    "# Fundamental 27. SQL "
   ]
  },
  {
   "cell_type": "markdown",
   "id": "behavioral-administrator",
   "metadata": {},
   "source": [
    "## Python DB API\n",
    "파이썬에서 DB 연결을 위한 전화선인 sqlite3 모듈을 사용한다."
   ]
  },
  {
   "cell_type": "code",
   "execution_count": 2,
   "id": "convinced-andorra",
   "metadata": {},
   "outputs": [
    {
     "name": "stdout",
     "output_type": "stream",
     "text": [
      "<sqlite3.Connection object at 0x7ff1ad8b4730>\n"
     ]
    }
   ],
   "source": [
    "import sqlite3\n",
    "import os\n",
    "db_path = os.getenv('HOME')+'/mydb.db'\n",
    "conn = sqlite3.connect(db_path)  # mydb.db에 연결합니다.\n",
    "print(conn)"
   ]
  },
  {
   "cell_type": "markdown",
   "id": "funny-boring",
   "metadata": {},
   "source": [
    "sqlite3 모듈은 파이썬 표준 라이브러리로 SQLite에 대한 인터페이스를 기본적으로 제공한다."
   ]
  },
  {
   "cell_type": "markdown",
   "id": "pretty-waste",
   "metadata": {},
   "source": [
    "`conn` 객체에는 SQL 연결과 관련된 셋팅이 포함되어 있다. 이번에는 `Connect()` 함수의 연결을 사용하는 새로운 Cursor 객체를 만들자."
   ]
  },
  {
   "cell_type": "code",
   "execution_count": 3,
   "id": "stuffed-voluntary",
   "metadata": {},
   "outputs": [
    {
     "name": "stdout",
     "output_type": "stream",
     "text": [
      "<sqlite3.Cursor object at 0x7ff1ac57ac70>\n"
     ]
    }
   ],
   "source": [
    "c = conn.cursor()\n",
    "print(c)"
   ]
  },
  {
   "cell_type": "markdown",
   "id": "diverse-analysis",
   "metadata": {},
   "source": [
    "Cursor는 SQL 질의(Query)를 수행하고 결과를 얻는데 사용하는 객체이다. `INSERT`처럼 DB에만 적용되는 명령어를 사용한다면 Cursor를 안 사용할 수 있지만 SELECT와 같이 데이터를 불러올 때는 SQL 질의 수행 결과에 접근하기 위한 Cursor가 반드시 필요하다."
   ]
  },
  {
   "cell_type": "code",
   "execution_count": 4,
   "id": "ignored-darwin",
   "metadata": {},
   "outputs": [
    {
     "name": "stdout",
     "output_type": "stream",
     "text": [
      "('20200701', 'TEST', 'AIFFEL', 1.0, 10000.0)\n"
     ]
    }
   ],
   "source": [
    "# stocks이라는 이름의 테이블을 하나 생성합니다. 혹시 이미 생성되었다면 생략합니다. \n",
    "c.execute(\"CREATE TABLE  IF NOT EXISTS  stocks (date text, trans text, symbol text, qty real, price real)\")\n",
    "\n",
    "# stocks 테이블에 데이터를 하나 인서트합니다. \n",
    "c.execute(\"INSERT INTO stocks VALUES ('20200701', 'TEST', 'AIFFEL', 1, 10000)\")\n",
    "\n",
    "# 방금 인서트한 데이터를 조회해 봅니다.\n",
    "c.execute(\"SELECT * FROM stocks\")\n",
    "\n",
    "# 조회된 내역을 커서를 통해 가져와 출력해 봅니다.\n",
    "print(c.fetchone())"
   ]
  },
  {
   "cell_type": "markdown",
   "id": "equivalent-creek",
   "metadata": {},
   "source": [
    "### commit\n",
    "\n",
    "삽입, 갱신, 삭제 등의 SQL 질의가 끝났다면 `conn.commit()`를 호출해야 DB가 실제로 업데이트 된다."
   ]
  },
  {
   "cell_type": "code",
   "execution_count": 5,
   "id": "moral-parts",
   "metadata": {},
   "outputs": [],
   "source": [
    "conn.commit()   # commit()은 cursor의 메소드가 아니라 connection의 메소드"
   ]
  },
  {
   "cell_type": "markdown",
   "id": "specific-watts",
   "metadata": {},
   "source": [
    "commit()을 통해 데이터베이스에 데이터 변경이 실제적으로 반영되었다.  \n",
    "이런 것을 데이터베이스에서는 __트랜잭션(transaction) 관리__라고 한다."
   ]
  },
  {
   "cell_type": "markdown",
   "id": "aquatic-halloween",
   "metadata": {},
   "source": [
    "### close"
   ]
  },
  {
   "cell_type": "markdown",
   "id": "pretty-virus",
   "metadata": {},
   "source": [
    "commit()을 완료했다면 DB와 대화하는 것을 마무리 지어야한다.  \n",
    "`close()` 를 이용 대화의 마무리는 DB와의 연결을 끊는 것으로 이루어진다. "
   ]
  },
  {
   "cell_type": "code",
   "execution_count": 6,
   "id": "approved-potter",
   "metadata": {},
   "outputs": [],
   "source": [
    "c.close()      # 먼저 커서를 닫은 후\n",
    "conn.close()    # DB 연결을 닫아 줍니다."
   ]
  },
  {
   "cell_type": "markdown",
   "id": "entire-differential",
   "metadata": {},
   "source": [
    "### DDL 문으로 테이블 생성"
   ]
  },
  {
   "cell_type": "code",
   "execution_count": 7,
   "id": "retained-rubber",
   "metadata": {},
   "outputs": [],
   "source": [
    "import sqlite3\n",
    "import os\n",
    "db_path = os.getenv('HOME')+'/mydb.db'\n",
    "\n",
    "conn = sqlite3.connect(db_path)\n",
    "c = conn.cursor()\n",
    "\n",
    "#- ! 재실행 시 테이블이 존재할 수 있으므로 아래처럼 해당 테이블들을 모두 지워줍니다.\n",
    "c.execute(\"DROP TABLE IF EXISTS 도서대출내역\")\n",
    "c.execute(\"DROP TABLE IF EXISTS 도서대출내역2\")\n",
    "c.execute(\"DROP TABLE IF EXISTS 대출내역\")\n",
    "c.execute(\"DROP TABLE IF EXISTS 도서명\")\n",
    "\n",
    "\n",
    "#----- 1st table : 도서대출내역 -----#\n",
    "c.execute(\"CREATE TABLE IF NOT EXISTS 도서대출내역 (ID varchar, 이름 varchar, 도서ID varchar, 대출일 varchar, 반납일 varchar)\")\n",
    "#- 생성(create)문 : 테이블명, 변수명, 변수타입을 지정\n",
    "\n",
    "data = [('101','문강태','aaa','2020-06-01','2020-06-05'),\n",
    "             ('101','문강태','ccc','2020-06-20','2020-06-25'),\n",
    "             ('102','고문영','bbb','2020-06-01',None),\n",
    "             ('102','고문영','ddd','2020-06-08',None),\n",
    "             ('103','문상태','ccc','2020-06-01','2020-06-05'),\n",
    "             ('104','강기둥',None,None,None)]\n",
    "#- 입력할 데이터를 그대로 입력 (변수명 순서 기준대로)\n",
    "\n",
    "c.executemany('INSERT INTO 도서대출내역 VALUES (?,?,?,?,?)', data)\n",
    "#- 입력할 데이터를 실제 테이블에 insert하기\n",
    "#-----------------------------------------------#\n",
    "\n",
    "\n",
    "#----- 2nd table : 도서대출내역2 -----#\n",
    "c.execute(\"CREATE TABLE IF NOT EXISTS 도서대출내역2 (ID varchar, 이름 varchar, 대출년월 varchar, 대출일수 varchar)\")\n",
    "\n",
    "data = [('101','문강태','2020-06','20일'),\n",
    "             ('102','고문영','2020-06','10일'),\n",
    "             ('103','문상태','2020-06','8일'),\n",
    "             ('104','강기둥','2020-06','3일')]\n",
    "c.executemany('INSERT INTO 도서대출내역2 VALUES (?,?,?,?)', data)\n",
    "#--------------------------------------------------#\n",
    "\n",
    "\n",
    "#----- 3rd table : 대출내역 -----#\n",
    "c.execute(\"CREATE TABLE IF NOT EXISTS 대출내역 (ID varchar, 이름 varchar, 도서ID varchar)\")\n",
    "\n",
    "data = [('101','문강태','aaa'),\n",
    "             ('102','고문영','bbb'),\n",
    "             ('102','고문영','fff'),\n",
    "             ('103','문상태','ccc'),\n",
    "             ('104','강기둥',None)]\n",
    "c.executemany('INSERT INTO 대출내역 VALUES (?,?,?)', data)\n",
    "#-----------------------------------------#\n",
    "\n",
    "\n",
    "#----- 4th table : 도서명 -----#\n",
    "c.execute(\"CREATE TABLE IF NOT EXISTS 도서명 (도서ID varchar, 도서명 varchar)\")\n",
    "\n",
    "data = [('aaa','악몽을 먹고 자란 소년'),\n",
    "             ('bbb','좀비아이'),\n",
    "             ('ccc','공룡백과사전'),\n",
    "             ('ddd','빨간구두'),\n",
    "             ('eee','잠자는 숲속의 미녀')]\n",
    "\n",
    "c.executemany('INSERT INTO 도서명 VALUES (?,?)', data)\n",
    "#--------------------------------------#\n",
    "\n",
    "conn.commit()\n",
    "conn.close()"
   ]
  },
  {
   "cell_type": "markdown",
   "id": "dental-baghdad",
   "metadata": {},
   "source": [
    "데이터의 생성/삭제/갱신 등을 처리할 때 필요한 DML문의 호출 방법에 대해 바로 위에서 다루었던 코드를 통해 이해해보자.  \n",
    "```python\n",
    "#----- 4th table : 도서명 -----#\n",
    "\n",
    "# [1]\n",
    "c.execute(\"CREATE TABLE IF NOT EXISTS 도서명 (도서ID varchar, 도서명 varchar)\")\n",
    "\n",
    "# [2]\n",
    "data = [('aaa','악몽을 먹고 자란 소년'),\n",
    "             ('bbb','좀비아이'),\n",
    "             ('ccc','공룡백과사전'),\n",
    "             ('ddd','빨간구두'),\n",
    "             ('eee','잠자는 숲속의 미녀')]\n",
    "\n",
    "# [3]\n",
    "c.executemany('INSERT INTO 도서명 VALUES (?,?)', data)\n",
    "#--------------------------------------#\n",
    "```\n",
    "\n",
    "\n",
    "- [1] `CREATE TABLE IF NOT EXISTS 도서명 (도서ID varchar, 도서명 varchar)`\n",
    "  - 만약 테이블이 존재하지 않으면 테이블을 생성해 주세요. 그리고 변수명과 각 변수의 타입은 다음과 같이 설정해 주세요!\"라는 의미\n",
    "  \n",
    "\n",
    "- [2] 각 변수명에 맞게 데이터를 실제로 생성\n",
    "  \n",
    "\n",
    "- [3] `INSERT INTO 도서명 VALES (?, ?)`\n",
    "  - 각 테이블의 변수(도서ID, 도서명)에 2번에서 입력한 데이터(data)를 넣겠다는 뜻\n",
    "  - `?`를 사용해서 데이터를 쿼리에 바인딩하는 기법을 매우 흔히 사용\n",
    "  - `c.executemany()` 는 한꺼번에 여러 개의 데이터 처리를 가능하게 해줌. 입력해야 할 데이터를 위와 같이 list로 관리하고 있는 경우 매우 유용"
   ]
  },
  {
   "cell_type": "code",
   "execution_count": 9,
   "id": "otherwise-trick",
   "metadata": {},
   "outputs": [
    {
     "name": "stdout",
     "output_type": "stream",
     "text": [
      "('aaa', '악몽을 먹고 자란 소년')\n",
      "('bbb', '좀비아이')\n",
      "('ccc', '공룡백과사전')\n",
      "('ddd', '빨간구두')\n",
      "('eee', '잠자는 숲속의 미녀')\n"
     ]
    }
   ],
   "source": [
    "conn = sqlite3.connect(db_path)\n",
    "c = conn.cursor()\n",
    "\n",
    "for row in c.execute('SELECT * FROM 도서명'):\n",
    "  print(row)"
   ]
  },
  {
   "cell_type": "markdown",
   "id": "personal-sector",
   "metadata": {},
   "source": [
    "-----\n",
    "# SQL 기본"
   ]
  },
  {
   "cell_type": "markdown",
   "id": "alike-isaac",
   "metadata": {},
   "source": [
    "![image](https://user-images.githubusercontent.com/84179578/132537235-d55e8a99-36cc-459f-b381-92f3052f816a.png)"
   ]
  },
  {
   "cell_type": "code",
   "execution_count": 10,
   "id": "informed-absence",
   "metadata": {},
   "outputs": [
    {
     "name": "stdout",
     "output_type": "stream",
     "text": [
      "('101', '문강태', 'aaa', '2020-06-01', '2020-06-05')\n",
      "('101', '문강태', 'ccc', '2020-06-20', '2020-06-25')\n",
      "('102', '고문영', 'bbb', '2020-06-01', None)\n",
      "('102', '고문영', 'ddd', '2020-06-08', None)\n",
      "('103', '문상태', 'ccc', '2020-06-01', '2020-06-05')\n",
      "('104', '강기둥', None, None, None)\n"
     ]
    }
   ],
   "source": [
    "#- 참고 : 실제 조회를 해보시려면 아래처럼 쓰시면 됩니다.\n",
    "#- c.execute() 괄호 안에 SQL문을 넣으시면 됩니다.\n",
    "\n",
    "import os\n",
    "db_path = os.getenv('HOME')+'/mydb.db'\n",
    "conn = sqlite3.connect(db_path)  # mydb.db에 연결합니다.\n",
    "c = conn.cursor()\n",
    "\n",
    "for row in c.execute('SELECT * FROM 도서대출내역'):\n",
    "  print(row)\n",
    "\n",
    "#- ! 출력 시 'NULL' 대신 'None'으로 출력될 수 있으나 동일하게 이해하시면 됩니다."
   ]
  },
  {
   "cell_type": "markdown",
   "id": "heard-remains",
   "metadata": {},
   "source": [
    "### 전체 조회"
   ]
  },
  {
   "cell_type": "code",
   "execution_count": 11,
   "id": "noble-pathology",
   "metadata": {},
   "outputs": [
    {
     "name": "stdout",
     "output_type": "stream",
     "text": [
      "('101', '문강태', 'aaa', '2020-06-01', '2020-06-05')\n",
      "('101', '문강태', 'ccc', '2020-06-20', '2020-06-25')\n",
      "('102', '고문영', 'bbb', '2020-06-01', None)\n",
      "('102', '고문영', 'ddd', '2020-06-08', None)\n",
      "('103', '문상태', 'ccc', '2020-06-01', '2020-06-05')\n",
      "('104', '강기둥', None, None, None)\n"
     ]
    }
   ],
   "source": [
    "for row in c.execute('SELECT * FROM 도서대출내역'):\n",
    "  print(row)"
   ]
  },
  {
   "cell_type": "markdown",
   "id": "cultural-property",
   "metadata": {},
   "source": [
    "### 특정 컬럼을 지정"
   ]
  },
  {
   "cell_type": "code",
   "execution_count": 12,
   "id": "combined-sheriff",
   "metadata": {},
   "outputs": [
    {
     "name": "stdout",
     "output_type": "stream",
     "text": [
      "('101',)\n",
      "('101',)\n",
      "('102',)\n",
      "('102',)\n",
      "('103',)\n",
      "('104',)\n"
     ]
    }
   ],
   "source": [
    "for row in c.execute('SELECT ID FROM 도서대출내역'):\n",
    "  print(row)"
   ]
  },
  {
   "cell_type": "markdown",
   "id": "violent-surfing",
   "metadata": {},
   "source": [
    "### 조건을 입력"
   ]
  },
  {
   "cell_type": "code",
   "execution_count": 13,
   "id": "hollywood-nation",
   "metadata": {},
   "outputs": [
    {
     "name": "stdout",
     "output_type": "stream",
     "text": [
      "('101', '문강태', 'aaa', '2020-06-01', '2020-06-05')\n",
      "('101', '문강태', 'ccc', '2020-06-20', '2020-06-25')\n"
     ]
    }
   ],
   "source": [
    "for row in c.execute('SELECT * FROM 도서대출내역 WHERE 이름 = \"문강태\";'):\n",
    "  print(row)"
   ]
  },
  {
   "cell_type": "markdown",
   "id": "international-chicago",
   "metadata": {},
   "source": [
    "### GROUP BY로 중복을 제거"
   ]
  },
  {
   "cell_type": "code",
   "execution_count": 14,
   "id": "later-vatican",
   "metadata": {},
   "outputs": [
    {
     "name": "stdout",
     "output_type": "stream",
     "text": [
      "('강기둥',)\n",
      "('고문영',)\n",
      "('문강태',)\n",
      "('문상태',)\n"
     ]
    }
   ],
   "source": [
    "for row in c.execute('SELECT 이름 FROM 도서대출내역 GROUP BY 이름;'):\n",
    "  print(row)"
   ]
  },
  {
   "cell_type": "markdown",
   "id": "other-trace",
   "metadata": {},
   "source": [
    "### DISTINCT로 중복을 제거"
   ]
  },
  {
   "cell_type": "code",
   "execution_count": 15,
   "id": "analyzed-joining",
   "metadata": {},
   "outputs": [
    {
     "name": "stdout",
     "output_type": "stream",
     "text": [
      "('문강태',)\n",
      "('고문영',)\n",
      "('문상태',)\n",
      "('강기둥',)\n"
     ]
    }
   ],
   "source": [
    "for row in c.execute('SELECT DISTINCT 이름 FROM 도서대출내역;'):\n",
    "  print(row)"
   ]
  },
  {
   "cell_type": "markdown",
   "id": "confused-configuration",
   "metadata": {},
   "source": [
    "### ORDER BY로 정렬"
   ]
  },
  {
   "cell_type": "markdown",
   "id": "answering-belarus",
   "metadata": {},
   "source": [
    "오름차순"
   ]
  },
  {
   "cell_type": "code",
   "execution_count": 16,
   "id": "informative-alcohol",
   "metadata": {},
   "outputs": [
    {
     "name": "stdout",
     "output_type": "stream",
     "text": [
      "('101', '문강태', 'aaa', '2020-06-01', '2020-06-05')\n",
      "('101', '문강태', 'ccc', '2020-06-20', '2020-06-25')\n",
      "('102', '고문영', 'bbb', '2020-06-01', None)\n",
      "('102', '고문영', 'ddd', '2020-06-08', None)\n",
      "('103', '문상태', 'ccc', '2020-06-01', '2020-06-05')\n",
      "('104', '강기둥', None, None, None)\n"
     ]
    }
   ],
   "source": [
    "for row in c.execute('SELECT * FROM 도서대출내역 ORDER BY ID ;'):\n",
    "  print(row)"
   ]
  },
  {
   "cell_type": "markdown",
   "id": "asian-implementation",
   "metadata": {},
   "source": [
    "내림차순"
   ]
  },
  {
   "cell_type": "code",
   "execution_count": 17,
   "id": "recovered-cisco",
   "metadata": {},
   "outputs": [
    {
     "name": "stdout",
     "output_type": "stream",
     "text": [
      "('104', '강기둥', None, None, None)\n",
      "('103', '문상태', 'ccc', '2020-06-01', '2020-06-05')\n",
      "('102', '고문영', 'bbb', '2020-06-01', None)\n",
      "('102', '고문영', 'ddd', '2020-06-08', None)\n",
      "('101', '문강태', 'aaa', '2020-06-01', '2020-06-05')\n",
      "('101', '문강태', 'ccc', '2020-06-20', '2020-06-25')\n"
     ]
    }
   ],
   "source": [
    "for row in c.execute('SELECT * FROM 도서대출내역 ORDER BY ID DESC ;'):\n",
    "  print(row)"
   ]
  },
  {
   "cell_type": "markdown",
   "id": "agreed-sport",
   "metadata": {},
   "source": [
    "### 몇개의 row만 조회"
   ]
  },
  {
   "cell_type": "code",
   "execution_count": 18,
   "id": "fuzzy-louisiana",
   "metadata": {},
   "outputs": [
    {
     "name": "stdout",
     "output_type": "stream",
     "text": [
      "('101', '문강태', 'aaa', '2020-06-01', '2020-06-05')\n",
      "('101', '문강태', 'ccc', '2020-06-20', '2020-06-25')\n",
      "('102', '고문영', 'bbb', '2020-06-01', None)\n",
      "('102', '고문영', 'ddd', '2020-06-08', None)\n",
      "('103', '문상태', 'ccc', '2020-06-01', '2020-06-05')\n"
     ]
    }
   ],
   "source": [
    "for row in c.execute('SELECT * FROM 도서대출내역 LIMIT 5 ;'):\n",
    "  print(row)"
   ]
  },
  {
   "cell_type": "code",
   "execution_count": 19,
   "id": "loved-relative",
   "metadata": {},
   "outputs": [
    {
     "name": "stdout",
     "output_type": "stream",
     "text": [
      "('문강태', '2020-06-20', '2020-06-25')\n"
     ]
    }
   ],
   "source": [
    "for row in c.execute('SELECT 이름, 대출일, 반납일 FROM 도서대출내역 ORDER BY 대출일 DESC LIMIT 1;'):\n",
    "  print(row)"
   ]
  },
  {
   "cell_type": "markdown",
   "id": "floral-satisfaction",
   "metadata": {},
   "source": [
    "## 데이터 타입\n",
    "데이터의 타입(형)을 바꾸는 실습을 해보자."
   ]
  },
  {
   "cell_type": "code",
   "execution_count": 20,
   "id": "other-johns",
   "metadata": {},
   "outputs": [
    {
     "name": "stdout",
     "output_type": "stream",
     "text": [
      "('101', '문강태', '2020-06', '20일')\n",
      "('102', '고문영', '2020-06', '10일')\n",
      "('103', '문상태', '2020-06', '8일')\n",
      "('104', '강기둥', '2020-06', '3일')\n"
     ]
    }
   ],
   "source": [
    "for row in c.execute('SELECT * FROM 도서대출내역2;'):\n",
    "  print(row)"
   ]
  },
  {
   "cell_type": "code",
   "execution_count": 21,
   "id": "downtown-structure",
   "metadata": {},
   "outputs": [
    {
     "name": "stdout",
     "output_type": "stream",
     "text": [
      "(0, 'ID', 'varchar', 0, None, 0)\n",
      "(1, '이름', 'varchar', 0, None, 0)\n",
      "(2, '도서ID', 'varchar', 0, None, 0)\n",
      "(3, '대출일', 'varchar', 0, None, 0)\n",
      "(4, '반납일', 'varchar', 0, None, 0)\n"
     ]
    }
   ],
   "source": [
    "import os\n",
    "db_path = os.getenv('HOME')+'/mydb.db'\n",
    "conn = sqlite3.connect(db_path)  # mydb.db에 연결합니다.\n",
    "c = conn.cursor()\n",
    "\n",
    "for row in c.execute('pragma table_info(도서대출내역)'):\n",
    "  print(row)"
   ]
  },
  {
   "cell_type": "markdown",
   "id": "geographic-wesley",
   "metadata": {},
   "source": [
    "데이터 타입을 보니 모두 `VARCHAR` , 문자형 이다."
   ]
  },
  {
   "cell_type": "markdown",
   "id": "understanding-skirt",
   "metadata": {},
   "source": [
    "문자형의 특정 부분을 떼어 내는 함수는 `LEFT`, `RIGHT`, `SUBSTRING`를 사용"
   ]
  },
  {
   "cell_type": "code",
   "execution_count": 23,
   "id": "standard-encounter",
   "metadata": {
    "scrolled": true
   },
   "outputs": [
    {
     "name": "stdout",
     "output_type": "stream",
     "text": [
      "('101', '문강태', '2020-06', '20일', '20')\n",
      "('102', '고문영', '2020-06', '10일', '10')\n",
      "('103', '문상태', '2020-06', '8일', '8')\n",
      "('104', '강기둥', '2020-06', '3일', '3')\n"
     ]
    }
   ],
   "source": [
    "for row in c.execute('SELECT *, SUBSTR(대출일수, 1, (length(대출일수)-1)) AS 대출일수_수정 FROM 도서대출내역2;'):\n",
    "  print(row)"
   ]
  },
  {
   "cell_type": "markdown",
   "id": "informative-pantyhose",
   "metadata": {},
   "source": [
    "`CAST` 함수를 이용하여, 잘라낸 부분에 더하여 숫자로 변환"
   ]
  },
  {
   "cell_type": "code",
   "execution_count": 24,
   "id": "flush-tournament",
   "metadata": {},
   "outputs": [
    {
     "name": "stdout",
     "output_type": "stream",
     "text": [
      "('101', '문강태', '2020-06', '20일', 20)\n",
      "('102', '고문영', '2020-06', '10일', 10)\n",
      "('103', '문상태', '2020-06', '8일', 8)\n",
      "('104', '강기둥', '2020-06', '3일', 3)\n"
     ]
    }
   ],
   "source": [
    "for row in c.execute('SELECT *, CAST(SUBSTR(대출일수, 1, (length(대출일수)-1)) AS INT) AS 대출일수_수정 FROM 도서대출내역2 ;'):\n",
    "  print(row)"
   ]
  },
  {
   "cell_type": "markdown",
   "id": "under-racing",
   "metadata": {},
   "source": [
    "집계함수와 `GROUP BY` 를 사용하여 평균 구하기"
   ]
  },
  {
   "cell_type": "code",
   "execution_count": 25,
   "id": "acknowledged-athens",
   "metadata": {
    "scrolled": true
   },
   "outputs": [
    {
     "name": "stdout",
     "output_type": "stream",
     "text": [
      "('101', '문강태', '2020-06', 20.0)\n",
      "('102', '고문영', '2020-06', 10.0)\n",
      "('103', '문상태', '2020-06', 8.0)\n",
      "('104', '강기둥', '2020-06', 3.0)\n"
     ]
    }
   ],
   "source": [
    "for row in c.execute('SELECT ID, 이름, 대출년월, AVG(CAST(SUBSTR(대출일수, 1, (length(대출일수)-1)) AS INT)) AS 대출일수_평균 FROM 도서대출내역2 GROUP BY 1,2,3;'):\n",
    "  print(row)"
   ]
  },
  {
   "cell_type": "markdown",
   "id": "quarterly-mongolia",
   "metadata": {},
   "source": [
    "## 다양한 조건으로 조회\n",
    "\n",
    "### WHERE 조건에 다양한 조건 입력\n",
    "#### 1. 특정 문자를 포함하는 row를 가져오고 싶을 때"
   ]
  },
  {
   "cell_type": "code",
   "execution_count": 26,
   "id": "appointed-acoustic",
   "metadata": {},
   "outputs": [
    {
     "name": "stdout",
     "output_type": "stream",
     "text": [
      "('101', '문강태', '2020-06', '20일')\n",
      "('103', '문상태', '2020-06', '8일')\n"
     ]
    }
   ],
   "source": [
    "for row in c.execute('SELECT * FROM 도서대출내역2 WHERE 이름 LIKE \"문%\" ;'):\n",
    "  print(row)"
   ]
  },
  {
   "cell_type": "markdown",
   "id": "planned-duplicate",
   "metadata": {},
   "source": [
    "#### 2. 특정 기간 혹은 특정 날짜의 이전 또는 이후의 row를 가져오고 싶을 때"
   ]
  },
  {
   "cell_type": "code",
   "execution_count": 27,
   "id": "superb-discount",
   "metadata": {},
   "outputs": [
    {
     "name": "stdout",
     "output_type": "stream",
     "text": [
      "('101', '문강태', 'aaa', '2020-06-01', '2020-06-05')\n",
      "('102', '고문영', 'bbb', '2020-06-01', None)\n",
      "('103', '문상태', 'ccc', '2020-06-01', '2020-06-05')\n"
     ]
    }
   ],
   "source": [
    "for row in c.execute('SELECT * FROM 도서대출내역 WHERE 대출일 >= \"2020-06-01\" AND 대출일 <= \"2020-06-07\" ;'):\n",
    "  print(row)"
   ]
  },
  {
   "cell_type": "markdown",
   "id": "intellectual-baseline",
   "metadata": {},
   "source": [
    "위 코드처럼 간단히 부등호를 사용해 결과를 조회할 수도 있고, BETWEEN이라는 함수를 활용할 수도 있다."
   ]
  },
  {
   "cell_type": "code",
   "execution_count": 28,
   "id": "funky-caution",
   "metadata": {},
   "outputs": [
    {
     "name": "stdout",
     "output_type": "stream",
     "text": [
      "('101', '문강태', 'aaa', '2020-06-01', '2020-06-05')\n",
      "('102', '고문영', 'bbb', '2020-06-01', None)\n",
      "('103', '문상태', 'ccc', '2020-06-01', '2020-06-05')\n"
     ]
    }
   ],
   "source": [
    "for row in c.execute('SELECT * FROM 도서대출내역 WHERE 대출일 BETWEEN \"2020-06-01\" AND \"2020-06-07\" ;'):\n",
    "  print(row)"
   ]
  },
  {
   "cell_type": "markdown",
   "id": "occupied-grade",
   "metadata": {},
   "source": [
    "BETWEEN의 경우에는 BETWEEN(시작일 AND 종료일)로 범위를 정해 사용할 수 있다."
   ]
  },
  {
   "cell_type": "markdown",
   "id": "amateur-steal",
   "metadata": {},
   "source": [
    "#### 3.특정 숫자 이상 또는 이하의 row를 조회하고 싶을 때"
   ]
  },
  {
   "cell_type": "code",
   "execution_count": 29,
   "id": "basic-gamma",
   "metadata": {},
   "outputs": [
    {
     "name": "stdout",
     "output_type": "stream",
     "text": [
      "('101', '문강태', '2020-06', '20일', 20)\n",
      "('102', '고문영', '2020-06', '10일', 10)\n",
      "('103', '문상태', '2020-06', '8일', 8)\n"
     ]
    }
   ],
   "source": [
    "for row in c.execute('SELECT *, CAST(SUBSTR(대출일수, 1, (length(대출일수)-1)) AS INT) AS 대출일수_수정 FROM 도서대출내역2 WHERE 대출일수_수정 > 5 '):\n",
    "  print(row)"
   ]
  },
  {
   "cell_type": "markdown",
   "id": "maritime-spiritual",
   "metadata": {},
   "source": [
    "#### 4.NULL 조건을 다루는 방법"
   ]
  },
  {
   "cell_type": "code",
   "execution_count": 30,
   "id": "cathedral-ceramic",
   "metadata": {},
   "outputs": [
    {
     "name": "stdout",
     "output_type": "stream",
     "text": [
      "('101', '문강태', 'aaa', '2020-06-01', '2020-06-05')\n",
      "('101', '문강태', 'ccc', '2020-06-20', '2020-06-25')\n",
      "('103', '문상태', 'ccc', '2020-06-01', '2020-06-05')\n"
     ]
    }
   ],
   "source": [
    "for row in c.execute('SELECT * FROM 도서대출내역 WHERE 반납일 IS NOT NULL;'):\n",
    "  print(row)"
   ]
  },
  {
   "cell_type": "code",
   "execution_count": 31,
   "id": "perceived-imagination",
   "metadata": {},
   "outputs": [
    {
     "name": "stdout",
     "output_type": "stream",
     "text": [
      "('102', '고문영', 'bbb', '2020-06-01', None)\n",
      "('102', '고문영', 'ddd', '2020-06-08', None)\n",
      "('104', '강기둥', None, None, None)\n"
     ]
    }
   ],
   "source": [
    "for row in c.execute('SELECT * FROM 도서대출내역 WHERE 반납일 IS NULL;'):\n",
    "  print(row)"
   ]
  },
  {
   "cell_type": "markdown",
   "id": "crazy-engineer",
   "metadata": {},
   "source": [
    "----\n",
    "## JOIN"
   ]
  },
  {
   "cell_type": "code",
   "execution_count": 32,
   "id": "sorted-simulation",
   "metadata": {},
   "outputs": [],
   "source": [
    "import os\n",
    "db_path = os.getenv('HOME')+'/mydb.db'\n",
    "conn = sqlite3.connect(db_path)  # mydb.db에 연결합니다.\n",
    "c = conn.cursor()"
   ]
  },
  {
   "cell_type": "code",
   "execution_count": 33,
   "id": "changed-kitchen",
   "metadata": {},
   "outputs": [
    {
     "name": "stdout",
     "output_type": "stream",
     "text": [
      "대출내역 테이블\n",
      "('101', '문강태', 'aaa')\n",
      "('102', '고문영', 'bbb')\n",
      "('102', '고문영', 'fff')\n",
      "('103', '문상태', 'ccc')\n",
      "('104', '강기둥', None)\n",
      "\n",
      "도서명 테이블\n",
      "('aaa', '악몽을 먹고 자란 소년')\n",
      "('bbb', '좀비아이')\n",
      "('ccc', '공룡백과사전')\n",
      "('ddd', '빨간구두')\n",
      "('eee', '잠자는 숲속의 미녀')\n"
     ]
    }
   ],
   "source": [
    "print('대출내역 테이블')\n",
    "for row in c.execute('SELECT * FROM 대출내역;'):\n",
    "  print(row)\n",
    "print('')\n",
    "print('도서명 테이블')\n",
    "for row in c.execute('SELECT * FROM 도서명;'):\n",
    "  print(row)"
   ]
  },
  {
   "cell_type": "markdown",
   "id": "wired-pipeline",
   "metadata": {},
   "source": [
    "### INNER JOIN"
   ]
  },
  {
   "cell_type": "code",
   "execution_count": 34,
   "id": "fifteen-texture",
   "metadata": {},
   "outputs": [
    {
     "name": "stdout",
     "output_type": "stream",
     "text": [
      "('101', '문강태', 'aaa', '악몽을 먹고 자란 소년')\n",
      "('102', '고문영', 'bbb', '좀비아이')\n",
      "('103', '문상태', 'ccc', '공룡백과사전')\n"
     ]
    }
   ],
   "source": [
    "query = '''\n",
    "SELECT A.*, B.도서명 \n",
    "FROM 대출내역 AS A \n",
    "INNER JOIN 도서명 AS B\n",
    "ON A.도서ID = B.도서ID;\n",
    "'''\n",
    "for row in c.execute(query):\n",
    "  print(row)"
   ]
  },
  {
   "cell_type": "markdown",
   "id": "connected-design",
   "metadata": {},
   "source": [
    "### LEFT JOIN"
   ]
  },
  {
   "cell_type": "code",
   "execution_count": 35,
   "id": "specialized-device",
   "metadata": {},
   "outputs": [
    {
     "name": "stdout",
     "output_type": "stream",
     "text": [
      "('101', '문강태', 'aaa', '악몽을 먹고 자란 소년')\n",
      "('102', '고문영', 'bbb', '좀비아이')\n",
      "('102', '고문영', 'fff', None)\n",
      "('103', '문상태', 'ccc', '공룡백과사전')\n",
      "('104', '강기둥', None, None)\n"
     ]
    }
   ],
   "source": [
    "query = '''\n",
    "SELECT A.*, B.도서명 \n",
    "FROM 대출내역 AS A \n",
    "LEFT JOIN 도서명 AS B\n",
    "ON A.도서ID = B.도서ID;\n",
    "'''\n",
    "for row in c.execute(query):\n",
    "  print(row)"
   ]
  },
  {
   "cell_type": "markdown",
   "id": "disabled-prime",
   "metadata": {},
   "source": [
    "### RIGHT JOIN"
   ]
  },
  {
   "cell_type": "code",
   "execution_count": 36,
   "id": "returning-paragraph",
   "metadata": {},
   "outputs": [
    {
     "ename": "OperationalError",
     "evalue": "RIGHT and FULL OUTER JOINs are not currently supported",
     "output_type": "error",
     "traceback": [
      "\u001b[0;31m---------------------------------------------------------------------------\u001b[0m",
      "\u001b[0;31mOperationalError\u001b[0m                          Traceback (most recent call last)",
      "\u001b[0;32m<ipython-input-36-7b17822614fe>\u001b[0m in \u001b[0;36m<module>\u001b[0;34m\u001b[0m\n\u001b[1;32m      5\u001b[0m \u001b[0mON\u001b[0m \u001b[0mA\u001b[0m\u001b[0;34m.\u001b[0m\u001b[0m도서ID\u001b[0m \u001b[0;34m=\u001b[0m \u001b[0mB\u001b[0m\u001b[0;34m.\u001b[0m\u001b[0m도서ID\u001b[0m\u001b[0;34m;\u001b[0m\u001b[0;34m\u001b[0m\u001b[0;34m\u001b[0m\u001b[0m\n\u001b[1;32m      6\u001b[0m '''\n\u001b[0;32m----> 7\u001b[0;31m \u001b[0;32mfor\u001b[0m \u001b[0mrow\u001b[0m \u001b[0;32min\u001b[0m \u001b[0mc\u001b[0m\u001b[0;34m.\u001b[0m\u001b[0mexecute\u001b[0m\u001b[0;34m(\u001b[0m\u001b[0mquery\u001b[0m\u001b[0;34m)\u001b[0m\u001b[0;34m:\u001b[0m\u001b[0;34m\u001b[0m\u001b[0;34m\u001b[0m\u001b[0m\n\u001b[0m\u001b[1;32m      8\u001b[0m   \u001b[0mprint\u001b[0m\u001b[0;34m(\u001b[0m\u001b[0mrow\u001b[0m\u001b[0;34m)\u001b[0m\u001b[0;34m\u001b[0m\u001b[0;34m\u001b[0m\u001b[0m\n",
      "\u001b[0;31mOperationalError\u001b[0m: RIGHT and FULL OUTER JOINs are not currently supported"
     ]
    }
   ],
   "source": [
    "query = '''\n",
    "SELECT B.*, A.ID, A.이름 \n",
    "FROM 대출내역 AS A \n",
    "RIGHT JOIN 도서명 AS B\n",
    "ON A.도서ID = B.도서ID;\n",
    "'''\n",
    "for row in c.execute(query):\n",
    "  print(row)"
   ]
  },
  {
   "cell_type": "markdown",
   "id": "fabulous-removal",
   "metadata": {},
   "source": [
    "지금은 에러가 나지만 만약 다른 RDBMS 프로그램을 사용한다면 오른쪽 테이블을 기준으로 해서 왼쪽 테이블 중 공통인 것만 붙고 나머지는 전부 NULL처리가 되었을것이다."
   ]
  },
  {
   "cell_type": "markdown",
   "id": "suited-swedish",
   "metadata": {},
   "source": [
    "### FULL OUTER JOIN"
   ]
  },
  {
   "cell_type": "code",
   "execution_count": 37,
   "id": "russian-large",
   "metadata": {},
   "outputs": [
    {
     "ename": "OperationalError",
     "evalue": "RIGHT and FULL OUTER JOINs are not currently supported",
     "output_type": "error",
     "traceback": [
      "\u001b[0;31m---------------------------------------------------------------------------\u001b[0m",
      "\u001b[0;31mOperationalError\u001b[0m                          Traceback (most recent call last)",
      "\u001b[0;32m<ipython-input-37-bd20360ed5b4>\u001b[0m in \u001b[0;36m<module>\u001b[0;34m\u001b[0m\n\u001b[1;32m      6\u001b[0m \u001b[0mORDER\u001b[0m \u001b[0mBY\u001b[0m \u001b[0m도서ID\u001b[0m\u001b[0;34m;\u001b[0m\u001b[0;34m\u001b[0m\u001b[0;34m\u001b[0m\u001b[0m\n\u001b[1;32m      7\u001b[0m '''\n\u001b[0;32m----> 8\u001b[0;31m \u001b[0;32mfor\u001b[0m \u001b[0mrow\u001b[0m \u001b[0;32min\u001b[0m \u001b[0mc\u001b[0m\u001b[0;34m.\u001b[0m\u001b[0mexecute\u001b[0m\u001b[0;34m(\u001b[0m\u001b[0mquery\u001b[0m\u001b[0;34m)\u001b[0m\u001b[0;34m:\u001b[0m\u001b[0;34m\u001b[0m\u001b[0;34m\u001b[0m\u001b[0m\n\u001b[0m\u001b[1;32m      9\u001b[0m   \u001b[0mprint\u001b[0m\u001b[0;34m(\u001b[0m\u001b[0mrow\u001b[0m\u001b[0;34m)\u001b[0m\u001b[0;34m\u001b[0m\u001b[0;34m\u001b[0m\u001b[0m\n",
      "\u001b[0;31mOperationalError\u001b[0m: RIGHT and FULL OUTER JOINs are not currently supported"
     ]
    }
   ],
   "source": [
    "query = '''\n",
    "SELECT A.*, B.도서명 \n",
    "FROM 대출내역 AS A \n",
    "FULL OUTER JOIN 도서명 AS B\n",
    "ON A.도서ID = B.도서ID\n",
    "ORDER BY 도서ID;\n",
    "'''\n",
    "for row in c.execute(query):\n",
    "  print(row)"
   ]
  },
  {
   "cell_type": "markdown",
   "id": "loose-enhancement",
   "metadata": {},
   "source": [
    "지금은 에러가 나지만 만약 다른 RDBMS 프로그램을 사용한다면 도서ID를 기준으로 붙을 수 있는 것은 모두 붙고 나머지는 NULL 값이 좌우로 붙은 것을 확인할 수 있다."
   ]
  },
  {
   "cell_type": "markdown",
   "id": "greek-marking",
   "metadata": {},
   "source": [
    "### 중첩 질의(Nested Query)"
   ]
  },
  {
   "cell_type": "code",
   "execution_count": 38,
   "id": "vocational-costume",
   "metadata": {},
   "outputs": [
    {
     "name": "stdout",
     "output_type": "stream",
     "text": [
      "('강기둥', 1)\n",
      "('고문영', 2)\n",
      "('문강태', 1)\n",
      "('문상태', 1)\n"
     ]
    }
   ],
   "source": [
    "query = '''\n",
    "SELECT C.이름, COUNT(*) 대출건수\n",
    "FROM (\n",
    "\tSELECT A.*, B.도서명 \n",
    "\tFROM 대출내역 AS A \n",
    "\tLEFT JOIN 도서명 AS B\n",
    "\tON A.도서ID = B.도서ID ) C\n",
    "GROUP BY C.이름;\n",
    "'''\n",
    "for row in c.execute(query):\n",
    "  print(row)"
   ]
  },
  {
   "cell_type": "markdown",
   "id": "hungarian-twenty",
   "metadata": {},
   "source": [
    "### 쿼리의 조건절(1) IFNULL"
   ]
  },
  {
   "cell_type": "code",
   "execution_count": 39,
   "id": "continuous-insert",
   "metadata": {},
   "outputs": [
    {
     "name": "stdout",
     "output_type": "stream",
     "text": [
      "('101', '문강태', 'aaa', '악몽을 먹고 자란 소년')\n",
      "('102', '고문영', 'bbb', '좀비아이')\n",
      "('102', '고문영', 'fff', '도서명미상')\n",
      "('103', '문상태', 'ccc', '공룡백과사전')\n",
      "('104', '강기둥', None, '도서명미상')\n"
     ]
    }
   ],
   "source": [
    "query = '''\n",
    "SELECT A.*, IFNULL(B.도서명, '도서명미상') AS 도서명\n",
    "\tFROM 대출내역 AS A \n",
    "\tLEFT JOIN 도서명 AS B\n",
    "\tON A.도서ID = B.도서ID;\n",
    "'''\n",
    "for row in c.execute(query):\n",
    "  print(row)"
   ]
  },
  {
   "cell_type": "markdown",
   "id": "quality-haiti",
   "metadata": {},
   "source": [
    " NULL 대신 다른 값으로 바꾸어 출력하고 싶을때 사용되는 것이 `IFNULL(값1, 값2)` 함수 이다."
   ]
  },
  {
   "cell_type": "markdown",
   "id": "everyday-emergency",
   "metadata": {},
   "source": [
    "### 쿼리의 조건절(2) CASE"
   ]
  },
  {
   "cell_type": "code",
   "execution_count": 40,
   "id": "metallic-thanks",
   "metadata": {},
   "outputs": [
    {
     "name": "stdout",
     "output_type": "stream",
     "text": [
      "('문강태', '기간초과')\n",
      "('고문영', '기간초과')\n",
      "('문상태', '기간초과')\n",
      "('강기둥', '기간내')\n"
     ]
    }
   ],
   "source": [
    "query = '''\n",
    "SELECT 이름, \n",
    "CASE WHEN 대출일수_수정 > 5 \n",
    "    THEN '기간초과' \n",
    "    ELSE '기간내' \n",
    "END AS 대출기간\n",
    "FROM (\n",
    "    SELECT *, CAST(SUBSTR(대출일수, 1, (length(대출일수)-1)) AS INT) AS 대출일수_수정 \n",
    "    FROM 도서대출내역2\n",
    ");\n",
    "'''\n",
    "for row in c.execute(query):\n",
    "  print(row)"
   ]
  },
  {
   "cell_type": "markdown",
   "id": "moral-blood",
   "metadata": {},
   "source": [
    "CASE문은 마치 프로그래밍에서의 IF문처럼 조건에 따라 다양한 출력이 가능하도록 해주는 매우 강력하고 유용한 함수이다."
   ]
  },
  {
   "cell_type": "code",
   "execution_count": null,
   "id": "municipal-anthony",
   "metadata": {},
   "outputs": [],
   "source": []
  }
 ],
 "metadata": {
  "kernelspec": {
   "display_name": "Python 3",
   "language": "python",
   "name": "python3"
  },
  "language_info": {
   "codemirror_mode": {
    "name": "ipython",
    "version": 3
   },
   "file_extension": ".py",
   "mimetype": "text/x-python",
   "name": "python",
   "nbconvert_exporter": "python",
   "pygments_lexer": "ipython3",
   "version": "3.7.9"
  }
 },
 "nbformat": 4,
 "nbformat_minor": 5
}
