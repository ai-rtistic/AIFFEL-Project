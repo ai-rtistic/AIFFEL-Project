{
 "cells": [
  {
   "cell_type": "markdown",
   "metadata": {},
   "source": [
    "# Class 를 이용하여 n 면체 주사위 구현하기"
   ]
  },
  {
   "cell_type": "markdown",
   "metadata": {},
   "source": [
    "n면체 주사위를 파이썬 Class 를 이용해 속성과 메소드를 만들어 프로그래밍 해보자."
   ]
  },
  {
   "cell_type": "markdown",
   "metadata": {},
   "source": [
    "__`main()` 함수 설계__\n",
    "\n",
    "- `n` 이라는 변수에 주사위 면 수를 입력 받음 -> `get_inputs` 함수를 이용\n",
    "- `DicePractice` 클래스를 통해 주사위 객체 만들기 (인스턴스 객체명은 `dice` 라고 함)"
   ]
  },
  {
   "cell_type": "code",
   "execution_count": 1,
   "metadata": {},
   "outputs": [],
   "source": [
    "from random import randrange\n",
    "\n",
    "class DicePractice:\n",
    "    def throw(self):\n",
    "        self.index = randrange(0, self.n)\n",
    "        self.val = self.numbers[self.index]\n",
    "    \n",
    "    def getval(self):\n",
    "        return self.val\n",
    "    \n",
    "    def setval(self, val):\n",
    "        if val <= self.n:\n",
    "            self.val = val\n",
    "        else:\n",
    "            msg = f\"주사위에 없는 숫자입니다. 주사위는 1 ~ {self.n}까지 있습니다. \"\n",
    "            raise ValueError(msg)"
   ]
  },
  {
   "cell_type": "markdown",
   "metadata": {},
   "source": [
    "- `throw` : 주사위를 던져서 1~n 사이의 값 무작위로 나옴\n",
    "- `getval` : 주사위 눈 변수 `val`을 반환함  (getval 메소드를 호출하면 주사위 눈의 값을 얻음)  \n",
    "_주사위 눈 속성에 바로 접근할 수도 있지만 일반적으로 이렇게 속성에 접근하는 메소드를 구현하여 제공한다 . 파이썬 클린코드, Design Pattern 관련된 내용이니 참고_\n",
    "\n",
    "- `setval` : 치트키 같은 건데 사용자가 주사위 눈을 세팅수 있게끔 하는 메소드. 만약 범위 밖의 숫자를 세팅하려고 하면 에러를 발생시키는 로직을 조건문을 이용해 구현\n",
    "\n"
   ]
  },
  {
   "cell_type": "code",
   "execution_count": 2,
   "metadata": {},
   "outputs": [
    {
     "name": "stdout",
     "output_type": "stream",
     "text": [
      "주사위 면의 개수를 입력하세요: 77\n",
      "행운의 숫자는? 62\n"
     ]
    }
   ],
   "source": [
    "from random import randrange\n",
    "\n",
    "class DicePractice:\n",
    "    def __init__(self, n=6):\n",
    "        self.n = n\n",
    "        self.options = list(range(1, n+1))\n",
    "        self.index = randrange(0, self.n)\n",
    "        self.val = self.options[self.index]\n",
    "    \n",
    "    def throw(self):\n",
    "        self.index = randrange(0, self.n)\n",
    "        self.val = self.options[self.index]\n",
    "    \n",
    "    def getval(self):\n",
    "        return self.val\n",
    "    \n",
    "    def setval(self, val):\n",
    "        if val <= self.n:\n",
    "            self.val = val\n",
    "        else:\n",
    "            msg = \"주사위에 없는 숫자입니다. 주사위는 1 ~ {0}까지 있습니다. \".format(self.n)\n",
    "            raise ValueError(msg)\n",
    "\n",
    "def get_inputs():\n",
    "    n = int(input(\"주사위 면의 개수를 입력하세요: \"))\n",
    "    return n\n",
    "\n",
    "def main():\n",
    "    n = get_inputs()\n",
    "    dice = DicePractice(n)\n",
    "    dice.throw()\n",
    "    print(f\"행운의 숫자는? {dice.getval()}\")\n",
    "\n",
    "if __name__ == '__main__':\n",
    "    main()"
   ]
  },
  {
   "cell_type": "code",
   "execution_count": null,
   "metadata": {},
   "outputs": [],
   "source": []
  }
 ],
 "metadata": {
  "kernelspec": {
   "display_name": "Python 3",
   "language": "python",
   "name": "python3"
  },
  "language_info": {
   "codemirror_mode": {
    "name": "ipython",
    "version": 3
   },
   "file_extension": ".py",
   "mimetype": "text/x-python",
   "name": "python",
   "nbconvert_exporter": "python",
   "pygments_lexer": "ipython3",
   "version": "3.8.5"
  }
 },
 "nbformat": 4,
 "nbformat_minor": 4
}
