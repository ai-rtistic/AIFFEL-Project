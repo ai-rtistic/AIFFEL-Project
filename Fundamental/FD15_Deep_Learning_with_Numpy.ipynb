{
 "cells": [
  {
   "cell_type": "markdown",
   "id": "dimensional-seattle",
   "metadata": {},
   "source": [
    "# Funadamental 15. Deep Learning with Numpy"
   ]
  },
  {
   "cell_type": "markdown",
   "id": "metropolitan-installation",
   "metadata": {},
   "source": [
    "딥러닝 프레임워크를 이용하면 몇 줄 안되는 코드만으로 MNIST 데이터셋을 99% 이상의 정확도로 분류할 수 있는 이미지 분류기를 만들 수 있으며, 이를 활용해서 다양한 카테고리의 이미지 분류기로 확장할 수 있다."
   ]
  },
  {
   "cell_type": "markdown",
   "id": "criminal-nomination",
   "metadata": {},
   "source": [
    "`Tensorflow`를 사용해 아래와 같이 MNIST 이미지 분류 모델을 구현 할 수 있다."
   ]
  },
  {
   "cell_type": "code",
   "execution_count": 1,
   "id": "demanding-native",
   "metadata": {},
   "outputs": [
    {
     "name": "stdout",
     "output_type": "stream",
     "text": [
      "Model: \"sequential\"\n",
      "_________________________________________________________________\n",
      "Layer (type)                 Output Shape              Param #   \n",
      "=================================================================\n",
      "dense (Dense)                (None, 50)                39250     \n",
      "_________________________________________________________________\n",
      "dense_1 (Dense)              (None, 10)                510       \n",
      "=================================================================\n",
      "Total params: 39,760\n",
      "Trainable params: 39,760\n",
      "Non-trainable params: 0\n",
      "_________________________________________________________________\n",
      "Epoch 1/10\n",
      "1875/1875 [==============================] - 3s 1ms/step - loss: 0.8290 - accuracy: 0.8108\n",
      "Epoch 2/10\n",
      "1875/1875 [==============================] - 3s 1ms/step - loss: 0.2441 - accuracy: 0.9322\n",
      "Epoch 3/10\n",
      "1875/1875 [==============================] - 3s 1ms/step - loss: 0.1850 - accuracy: 0.9471\n",
      "Epoch 4/10\n",
      "1875/1875 [==============================] - 3s 1ms/step - loss: 0.1528 - accuracy: 0.9566\n",
      "Epoch 5/10\n",
      "1875/1875 [==============================] - 3s 1ms/step - loss: 0.1285 - accuracy: 0.9640\n",
      "Epoch 6/10\n",
      "1875/1875 [==============================] - 3s 1ms/step - loss: 0.1130 - accuracy: 0.9682\n",
      "Epoch 7/10\n",
      "1875/1875 [==============================] - 3s 1ms/step - loss: 0.1001 - accuracy: 0.9716\n",
      "Epoch 8/10\n",
      "1875/1875 [==============================] - 3s 1ms/step - loss: 0.0887 - accuracy: 0.9754\n",
      "Epoch 9/10\n",
      "1875/1875 [==============================] - 3s 1ms/step - loss: 0.0805 - accuracy: 0.9770\n",
      "Epoch 10/10\n",
      "1875/1875 [==============================] - 3s 1ms/step - loss: 0.0713 - accuracy: 0.9806\n",
      "313/313 - 0s - loss: 0.0996 - accuracy: 0.9698\n",
      "test_loss: 0.09957778453826904 \n",
      "test_accuracy: 0.9697999954223633\n"
     ]
    }
   ],
   "source": [
    "import tensorflow as tf\n",
    "from tensorflow import keras\n",
    "import numpy as np\n",
    "import matplotlib.pyplot as plt\n",
    "\n",
    "# MNIST 데이터를 로드. 다운로드하지 않았다면 다운로드까지 자동으로 진행됩니다. \n",
    "mnist = keras.datasets.mnist\n",
    "(x_train, y_train), (x_test, y_test) = mnist.load_data()   \n",
    "\n",
    "# 모델에 맞게 데이터 가공\n",
    "x_train_norm, x_test_norm = x_train / 255.0, x_test / 255.0\n",
    "x_train_reshaped = x_train_norm.reshape(-1, x_train_norm.shape[1]*x_train_norm.shape[2])\n",
    "x_test_reshaped = x_test_norm.reshape(-1, x_test_norm.shape[1]*x_test_norm.shape[2])\n",
    "\n",
    "# 딥러닝 모델 구성 - 2 Layer Perceptron\n",
    "model=keras.models.Sequential()\n",
    "model.add(keras.layers.Dense(50, activation='sigmoid', input_shape=(784,)))  # 입력층 d=784, 은닉층 레이어 H=50\n",
    "model.add(keras.layers.Dense(10, activation='softmax'))   # 출력층 레이어 K=10\n",
    "model.summary()\n",
    "\n",
    "# 모델 구성과 학습\n",
    "model.compile(optimizer='adam',\n",
    "             loss='sparse_categorical_crossentropy',\n",
    "             metrics=['accuracy'])\n",
    "model.fit(x_train_reshaped, y_train, epochs=10)\n",
    "\n",
    "# 모델 테스트 결과\n",
    "test_loss, test_accuracy = model.evaluate(x_test_reshaped,y_test, verbose=2)\n",
    "print(\"test_loss: {} \".format(test_loss))\n",
    "print(\"test_accuracy: {}\".format(test_accuracy))"
   ]
  },
  {
   "cell_type": "markdown",
   "id": "gothic-albania",
   "metadata": {},
   "source": [
    "인공신경망의 실제 구현 원리를 보다 명확하게 이해하기 위해, 그동안 들춰보지 않았던 프레임워크 내부에서 일어나는 일을 Numpy를 활용해 직접 구현해보자."
   ]
  },
  {
   "cell_type": "markdown",
   "id": "changed-plenty",
   "metadata": {},
   "source": [
    "## Parameters, Weights"
   ]
  },
  {
   "cell_type": "code",
   "execution_count": 2,
   "id": "greenhouse-movie",
   "metadata": {},
   "outputs": [
    {
     "name": "stdout",
     "output_type": "stream",
     "text": [
      "(60000, 784)\n",
      "(5, 784)\n"
     ]
    }
   ],
   "source": [
    "# 입력층 데이터의 모양(shape)\n",
    "print(x_train_reshaped.shape)\n",
    "\n",
    "# 테스트를 위해 x_train_reshaped의 앞 5개의 데이터를 가져온다.\n",
    "X = x_train_reshaped[:5]\n",
    "print(X.shape)"
   ]
  },
  {
   "cell_type": "code",
   "execution_count": 3,
   "id": "serious-clock",
   "metadata": {},
   "outputs": [
    {
     "name": "stdout",
     "output_type": "stream",
     "text": [
      "(784, 50)\n",
      "(50,)\n",
      "(5, 50)\n"
     ]
    }
   ],
   "source": [
    "weight_init_std = 0.1\n",
    "input_size = 784\n",
    "hidden_size=50\n",
    "\n",
    "# 인접 레이어간 관계를 나타내는 파라미터 W를 생성하고 random 초기화\n",
    "W1 = weight_init_std * np.random.randn(input_size, hidden_size)  \n",
    "# 바이어스 파라미터 b를 생성하고 Zero로 초기화\n",
    "b1 = np.zeros(hidden_size)\n",
    "\n",
    "a1 = np.dot(X, W1) + b1   # 은닉층 출력\n",
    "\n",
    "print(W1.shape)\n",
    "print(b1.shape)\n",
    "print(a1.shape)"
   ]
  },
  {
   "cell_type": "code",
   "execution_count": 4,
   "id": "lesser-ancient",
   "metadata": {},
   "outputs": [],
   "source": [
    "# 단일 레이어 구현 함수\n",
    "def affine_layer_forward(X, W, b):\n",
    "    y = np.dot(X, W) + b\n",
    "    cache = (X, W, b)\n",
    "    return y, cache"
   ]
  },
  {
   "cell_type": "markdown",
   "id": "living-channel",
   "metadata": {},
   "source": [
    "## Activation Functions"
   ]
  },
  {
   "cell_type": "code",
   "execution_count": 5,
   "id": "unique-object",
   "metadata": {},
   "outputs": [
    {
     "name": "stdout",
     "output_type": "stream",
     "text": [
      "[0.26390524 0.63106056 0.60116598 0.31773646 0.36543719 0.12229437\n",
      " 0.60021896 0.74428202 0.59876258 0.76574893 0.26534045 0.55134929\n",
      " 0.03749032 0.73699956 0.5926007  0.46339302 0.88153112 0.35851286\n",
      " 0.7225068  0.27788059 0.3754259  0.45128955 0.31703203 0.369361\n",
      " 0.4846993  0.26576593 0.73994846 0.7061886  0.80311133 0.34625307\n",
      " 0.7099918  0.67509669 0.40164588 0.55323731 0.44801892 0.62871617\n",
      " 0.56347226 0.45351599 0.64622419 0.52546016 0.37645857 0.34870831\n",
      " 0.35513843 0.66196719 0.33195126 0.78948553 0.09831935 0.32469885\n",
      " 0.77631985 0.31254014]\n"
     ]
    }
   ],
   "source": [
    "# 위 수식의 sigmoid 함수를 구현해 봅니다.\n",
    "def sigmoid(x):\n",
    "    return 1 / (1 + np.exp(-x))  \n",
    "\n",
    "\n",
    "z1 = sigmoid(a1)\n",
    "print(z1[0])  # sigmoid의 출력은 모든 element가 0에서 1사이"
   ]
  },
  {
   "cell_type": "markdown",
   "id": "unusual-travel",
   "metadata": {},
   "source": [
    "sigmoid 다음에 다시 Dense 레이어가 출현한다. 출력 노드 개수만 다를 뿐 동일한 구조입니다. 그렇다면 MLP 레이어를 아래와 같이 함수로 구현할 수 있다."
   ]
  },
  {
   "cell_type": "code",
   "execution_count": 6,
   "id": "sharp-inflation",
   "metadata": {},
   "outputs": [],
   "source": [
    "# 단일 레이어 구현 함수\n",
    "def affine_layer_forward(X, W, b):\n",
    "    y = np.dot(X, W) + b\n",
    "    cache = (X, W, b)\n",
    "    return y, cache"
   ]
  },
  {
   "cell_type": "code",
   "execution_count": 7,
   "id": "regional-salem",
   "metadata": {},
   "outputs": [
    {
     "name": "stdout",
     "output_type": "stream",
     "text": [
      "[ 0.04744956  0.31375866  0.05320329 -0.04925392 -0.46085205 -0.25914571\n",
      " -0.48645869 -0.54343351  0.34504656  0.18312109]\n"
     ]
    }
   ],
   "source": [
    "input_size = 784\n",
    "hidden_size = 50\n",
    "output_size = 10\n",
    "\n",
    "W1 = weight_init_std * np.random.randn(input_size, hidden_size)\n",
    "b1 = np.zeros(hidden_size)\n",
    "W2 = weight_init_std * np.random.randn(hidden_size, output_size)\n",
    "b2 = np.zeros(output_size)\n",
    "\n",
    "a1, cache1 = affine_layer_forward(X, W1, b1)\n",
    "z1 = sigmoid(a1)\n",
    "a2, cache2 = affine_layer_forward(z1, W2, b2)    # z1이 다시 두번째 레이어의 입력이 됩니다. \n",
    "\n",
    "print(a2[0])  # 최종 출력이 output_size만큼의 벡터가 되었습니다."
   ]
  },
  {
   "cell_type": "markdown",
   "id": "institutional-movement",
   "metadata": {},
   "source": [
    "최종 출력인 `a2`에 softmax 함수를 적용하면 모델의 출력은 입력 X가 10가지 숫자 중 하나일 확률의 형태로 가공된다."
   ]
  },
  {
   "cell_type": "code",
   "execution_count": 8,
   "id": "advance-wrestling",
   "metadata": {},
   "outputs": [],
   "source": [
    "def softmax(x):\n",
    "    if x.ndim == 2:\n",
    "        x = x.T\n",
    "        x = x - np.max(x, axis=0)\n",
    "        y = np.exp(x) / np.sum(np.exp(x), axis=0)\n",
    "        return y.T \n",
    "\n",
    "    x = x - np.max(x) # 오버플로 대책\n",
    "    return np.exp(x) / np.sum(np.exp(x))"
   ]
  },
  {
   "cell_type": "code",
   "execution_count": 9,
   "id": "unlimited-discipline",
   "metadata": {},
   "outputs": [
    {
     "data": {
      "text/plain": [
       "array([0.10883441, 0.14204397, 0.10946242, 0.09880262, 0.06546568,\n",
       "       0.08009651, 0.0638106 , 0.06027663, 0.14655849, 0.12464867])"
      ]
     },
     "execution_count": 9,
     "metadata": {},
     "output_type": "execute_result"
    }
   ],
   "source": [
    "y_hat = softmax(a2)\n",
    "y_hat[0]  "
   ]
  },
  {
   "cell_type": "code",
   "execution_count": 10,
   "id": "median-company",
   "metadata": {},
   "outputs": [
    {
     "data": {
      "text/plain": [
       "array([[0., 0., 0., 0., 0., 1., 0., 0., 0., 0.],\n",
       "       [1., 0., 0., 0., 0., 0., 0., 0., 0., 0.],\n",
       "       [0., 0., 0., 0., 1., 0., 0., 0., 0., 0.],\n",
       "       [0., 1., 0., 0., 0., 0., 0., 0., 0., 0.],\n",
       "       [0., 0., 0., 0., 0., 0., 0., 0., 0., 1.]])"
      ]
     },
     "execution_count": 10,
     "metadata": {},
     "output_type": "execute_result"
    }
   ],
   "source": [
    "# 정답 라벨을 One-hot 인코딩하는 함수\n",
    "def _change_one_hot_label(X, num_category):\n",
    "    T = np.zeros((X.size, num_category))\n",
    "    for idx, row in enumerate(T):\n",
    "        row[X[idx]] = 1\n",
    "        \n",
    "    return T\n",
    "\n",
    "Y_digit = y_train[:5]\n",
    "t = _change_one_hot_label(Y_digit, 10)\n",
    "t     # 정답 라벨의 One-hot 인코딩"
   ]
  },
  {
   "cell_type": "code",
   "execution_count": 11,
   "id": "historical-possession",
   "metadata": {},
   "outputs": [
    {
     "name": "stdout",
     "output_type": "stream",
     "text": [
      "[0.10883441 0.14204397 0.10946242 0.09880262 0.06546568 0.08009651\n",
      " 0.0638106  0.06027663 0.14655849 0.12464867]\n",
      "[0. 0. 0. 0. 0. 1. 0. 0. 0. 0.]\n"
     ]
    }
   ],
   "source": [
    "print(y_hat[0])\n",
    "print(t[0])"
   ]
  },
  {
   "cell_type": "code",
   "execution_count": 12,
   "id": "authorized-buffer",
   "metadata": {},
   "outputs": [
    {
     "data": {
      "text/plain": [
       "array([[ 0.02176688,  0.02840879,  0.02189248,  0.01976052,  0.01309314,\n",
       "        -0.1839807 ,  0.01276212,  0.01205533,  0.0293117 ,  0.02492973],\n",
       "       [-0.17975727,  0.03017864,  0.02021959,  0.01941245,  0.01126083,\n",
       "         0.01689275,  0.01393851,  0.01154803,  0.03422212,  0.02208435],\n",
       "       [ 0.0237011 ,  0.02948237,  0.02540966,  0.01641073, -0.18978735,\n",
       "         0.01561649,  0.01479889,  0.0109042 ,  0.0320069 ,  0.02145702],\n",
       "       [ 0.01908193, -0.16993201,  0.02120276,  0.01889285,  0.01338442,\n",
       "         0.02220483,  0.01405607,  0.01181776,  0.02741587,  0.02187552],\n",
       "       [ 0.01956621,  0.02604181,  0.02092848,  0.01933141,  0.01356868,\n",
       "         0.01772103,  0.01344586,  0.01103534,  0.03741053, -0.17904935]])"
      ]
     },
     "execution_count": 12,
     "metadata": {},
     "output_type": "execute_result"
    }
   ],
   "source": [
    "batch_num = y_hat.shape[0]\n",
    "dy = (y_hat - t) / batch_num\n",
    "dy    # softmax값의 출력으로 Loss를 미분한 값"
   ]
  },
  {
   "cell_type": "markdown",
   "id": "broadband-consideration",
   "metadata": {},
   "source": [
    "## Loss Functions"
   ]
  },
  {
   "cell_type": "code",
   "execution_count": 13,
   "id": "polyphonic-terrain",
   "metadata": {
    "scrolled": true
   },
   "outputs": [
    {
     "data": {
      "text/plain": [
       "array([[0., 0., 0., 0., 0., 1., 0., 0., 0., 0.],\n",
       "       [1., 0., 0., 0., 0., 0., 0., 0., 0., 0.],\n",
       "       [0., 0., 0., 0., 1., 0., 0., 0., 0., 0.],\n",
       "       [0., 1., 0., 0., 0., 0., 0., 0., 0., 0.],\n",
       "       [0., 0., 0., 0., 0., 0., 0., 0., 0., 1.]])"
      ]
     },
     "execution_count": 13,
     "metadata": {},
     "output_type": "execute_result"
    }
   ],
   "source": [
    "# 정답 라벨을 One-hot 인코딩하는 함수\n",
    "def _change_ont_hot_label(X, num_category):\n",
    "    T = np.zeros((X.size, num_category))\n",
    "    for idx, row in enumerate(T):\n",
    "        row[X[idx]] = 1\n",
    "        \n",
    "    return T\n",
    "\n",
    "Y_digit = y_train[:5]\n",
    "t = _change_ont_hot_label(Y_digit, 10)\n",
    "t     # 정답 라벨의 One-hot 인코딩"
   ]
  },
  {
   "cell_type": "code",
   "execution_count": 14,
   "id": "historical-student",
   "metadata": {},
   "outputs": [
    {
     "data": {
      "text/plain": [
       "2.3881477175652597"
      ]
     },
     "execution_count": 14,
     "metadata": {},
     "output_type": "execute_result"
    }
   ],
   "source": [
    "def cross_entropy_error(y, t):\n",
    "    if y.ndim == 1:\n",
    "        t = t.reshape(1, t.size)\n",
    "        y = y.reshape(1, y.size)\n",
    "        \n",
    "    # 훈련 데이터가 원-핫 벡터라면 정답 레이블의 인덱스로 반환\n",
    "    if t.size == y.size:\n",
    "        t = t.argmax(axis=1)\n",
    "             \n",
    "    batch_size = y.shape[0]\n",
    "    return -np.sum(np.log(y[np.arange(batch_size), t])) / batch_size\n",
    "\n",
    "Loss = cross_entropy_error(y_hat, t)\n",
    "Loss"
   ]
  },
  {
   "cell_type": "markdown",
   "id": "consistent-bronze",
   "metadata": {},
   "source": [
    "## Gradient Descent"
   ]
  },
  {
   "cell_type": "code",
   "execution_count": 15,
   "id": "acquired-pursuit",
   "metadata": {},
   "outputs": [
    {
     "data": {
      "text/plain": [
       "array([[ 0.02176688,  0.02840879,  0.02189248,  0.01976052,  0.01309314,\n",
       "        -0.1839807 ,  0.01276212,  0.01205533,  0.0293117 ,  0.02492973],\n",
       "       [-0.17975727,  0.03017864,  0.02021959,  0.01941245,  0.01126083,\n",
       "         0.01689275,  0.01393851,  0.01154803,  0.03422212,  0.02208435],\n",
       "       [ 0.0237011 ,  0.02948237,  0.02540966,  0.01641073, -0.18978735,\n",
       "         0.01561649,  0.01479889,  0.0109042 ,  0.0320069 ,  0.02145702],\n",
       "       [ 0.01908193, -0.16993201,  0.02120276,  0.01889285,  0.01338442,\n",
       "         0.02220483,  0.01405607,  0.01181776,  0.02741587,  0.02187552],\n",
       "       [ 0.01956621,  0.02604181,  0.02092848,  0.01933141,  0.01356868,\n",
       "         0.01772103,  0.01344586,  0.01103534,  0.03741053, -0.17904935]])"
      ]
     },
     "execution_count": 15,
     "metadata": {},
     "output_type": "execute_result"
    }
   ],
   "source": [
    "batch_num = y_hat.shape[0]\n",
    "dy = (y_hat - t) / batch_num\n",
    "dy    # softmax값의 출력으로 Loss를 미분한 값"
   ]
  },
  {
   "cell_type": "markdown",
   "id": "romance-guest",
   "metadata": {},
   "source": [
    "dy가 구해지면 다른 기울기들은 chain-rule로 쉽게 구할 수 있다."
   ]
  },
  {
   "cell_type": "code",
   "execution_count": 16,
   "id": "robust-republic",
   "metadata": {},
   "outputs": [],
   "source": [
    "dW2 = np.dot(z1.T, dy)    \n",
    "db2 = np.sum(dy, axis=0)"
   ]
  },
  {
   "cell_type": "markdown",
   "id": "african-balance",
   "metadata": {},
   "source": [
    "중간에 sigmoid가 한번 사용되었으므로, 활성화함수에 대한 gradient도 고려한다."
   ]
  },
  {
   "cell_type": "code",
   "execution_count": 17,
   "id": "shared-leeds",
   "metadata": {},
   "outputs": [],
   "source": [
    "def sigmoid_grad(x):\n",
    "    return (1.0 - sigmoid(x)) * sigmoid(x)"
   ]
  },
  {
   "cell_type": "code",
   "execution_count": 18,
   "id": "another-mistress",
   "metadata": {},
   "outputs": [],
   "source": [
    "dz1 = np.dot(dy, W2.T)\n",
    "da1 = sigmoid_grad(a1) * dz1\n",
    "dW1 = np.dot(X.T, da1)\n",
    "db1 = np.sum(dz1, axis=0)"
   ]
  },
  {
   "cell_type": "markdown",
   "id": "vital-klein",
   "metadata": {},
   "source": [
    "learning_rate도 고려를 하여 파라미터를 업데이트하는 함수를 정의하자."
   ]
  },
  {
   "cell_type": "code",
   "execution_count": 19,
   "id": "seeing-single",
   "metadata": {},
   "outputs": [],
   "source": [
    "learning_rate = 0.1\n",
    "\n",
    "def update_params(W1, b1, W2, b2, dW1, db1, dW2, db2, learning_rate):\n",
    "    W1 = W1 - learning_rate*dW1\n",
    "    b1 = b1 - learning_rate*db1\n",
    "    W2 = W2 - learning_rate*dW2\n",
    "    b2 = b2 - learning_rate*db2\n",
    "    return W1, b1, W2, b2"
   ]
  },
  {
   "cell_type": "markdown",
   "id": "honest-slovak",
   "metadata": {},
   "source": [
    "## Backpropagation\n",
    "\n",
    "affine_layer_forward(X, W, b)에 대응하여 생각해 보면 해당 레이어의 backpropagation 함수를 만들 수 있다."
   ]
  },
  {
   "cell_type": "code",
   "execution_count": 20,
   "id": "valid-newton",
   "metadata": {},
   "outputs": [],
   "source": [
    "def affine_layer_backward(dy, cache):\n",
    "    X, W, b = cache\n",
    "    dX = np.dot(dy, W.T)\n",
    "    dW = np.dot(X.T, dy)\n",
    "    db = np.sum(dy, axis=0)\n",
    "    return dX, dW, db"
   ]
  },
  {
   "cell_type": "markdown",
   "id": "unlikely-problem",
   "metadata": {},
   "source": [
    "위 과정을 통해 Forward Propagation과 Backward Propagation이 이루어지는 한 사이클을 아래와 같이 엮어 볼 수 있다."
   ]
  },
  {
   "cell_type": "code",
   "execution_count": 21,
   "id": "gentle-brave",
   "metadata": {},
   "outputs": [
    {
     "name": "stdout",
     "output_type": "stream",
     "text": [
      "[[0.1629072  0.10205027 0.0871849  0.03690095 0.08553424 0.08402313\n",
      "  0.0927562  0.0880999  0.11439626 0.14614694]\n",
      " [0.14234871 0.10913804 0.09185538 0.03962454 0.08535264 0.07115312\n",
      "  0.07451097 0.10169734 0.15213993 0.13217931]\n",
      " [0.14277873 0.112599   0.08454152 0.04227599 0.11104016 0.08981326\n",
      "  0.08687212 0.10079157 0.10318525 0.1261024 ]\n",
      " [0.16795617 0.10213342 0.08682348 0.04440486 0.08285717 0.08799251\n",
      "  0.08743328 0.099039   0.12290014 0.11845996]\n",
      " [0.12808293 0.09871113 0.09247266 0.03432466 0.10572351 0.07935199\n",
      "  0.08716148 0.09672532 0.11346556 0.16398076]]\n",
      "[[0. 0. 0. 0. 0. 1. 0. 0. 0. 0.]\n",
      " [1. 0. 0. 0. 0. 0. 0. 0. 0. 0.]\n",
      " [0. 0. 0. 0. 1. 0. 0. 0. 0. 0.]\n",
      " [0. 1. 0. 0. 0. 0. 0. 0. 0. 0.]\n",
      " [0. 0. 0. 0. 0. 0. 0. 0. 0. 1.]]\n",
      "Loss:  2.1426966709941766\n"
     ]
    }
   ],
   "source": [
    "# 파라미터 초기화\n",
    "W1 = weight_init_std * np.random.randn(input_size, hidden_size)\n",
    "b1 = np.zeros(hidden_size)\n",
    "W2 = weight_init_std * np.random.randn(hidden_size, output_size)\n",
    "b2 = np.zeros(output_size)\n",
    "\n",
    "# Forward Propagation\n",
    "a1, cache1 = affine_layer_forward(X, W1, b1)\n",
    "z1 = sigmoid(a1)\n",
    "a2, cache2 = affine_layer_forward(z1, W2, b2)\n",
    "\n",
    "# 추론과 오차(Loss) 계산\n",
    "y_hat = softmax(a2)\n",
    "t = _change_ont_hot_label(Y_digit, 10)   # 정답 One-hot 인코딩\n",
    "Loss = cross_entropy_error(y_hat, t)\n",
    "\n",
    "print(y_hat)\n",
    "print(t)\n",
    "print('Loss: ', Loss)\n",
    "        \n",
    "dy = (y_hat - t) / X.shape[0]\n",
    "dz1, dW2, db2 = affine_layer_backward(dy, cache2)\n",
    "da1 = sigmoid_grad(a1) * dz1\n",
    "dX, dW1, db1 = affine_layer_backward(da1, cache1)\n",
    "\n",
    "# 경사하강법을 통한 파라미터 업데이트    \n",
    "learning_rate = 0.1\n",
    "W1, b1, W2, b2 = update_params(W1, b1, W2, b2, dW1, db1, dW2, db2, learning_rate)"
   ]
  },
  {
   "cell_type": "markdown",
   "id": "elder-screen",
   "metadata": {},
   "source": [
    "## 모델 학습"
   ]
  },
  {
   "cell_type": "code",
   "execution_count": 22,
   "id": "minute-combination",
   "metadata": {},
   "outputs": [],
   "source": [
    "W1 = weight_init_std * np.random.randn(input_size, hidden_size)\n",
    "b1 = np.zeros(hidden_size)\n",
    "W2 = weight_init_std * np.random.randn(hidden_size, output_size)\n",
    "b2 = np.zeros(output_size)\n",
    "\n",
    "def train_step(X, Y, W1, b1, W2, b2, learning_rate=0.1, verbose=False):\n",
    "    a1, cache1 = affine_layer_forward(X, W1, b1)\n",
    "    z1 = sigmoid(a1)\n",
    "    a2, cache2 = affine_layer_forward(z1, W2, b2)\n",
    "    y_hat = softmax(a2)\n",
    "    t = _change_ont_hot_label(Y, 10)\n",
    "    Loss = cross_entropy_error(y_hat, t)\n",
    "\n",
    "    if verbose:\n",
    "        print('---------')\n",
    "        print(y_hat)\n",
    "        print(t)\n",
    "        print('Loss: ', Loss)\n",
    "        \n",
    "    dy = (y_hat - t) / X.shape[0]\n",
    "    dz1, dW2, db2 = affine_layer_backward(dy, cache2)\n",
    "    da1 = sigmoid_grad(a1) * dz1\n",
    "    dX, dW1, db1 = affine_layer_backward(da1, cache1)\n",
    "    \n",
    "    W1, b1, W2, b2 = update_params(W1, b1, W2, b2, dW1, db1, dW2, db2, learning_rate)\n",
    "    \n",
    "    return W1, b1, W2, b2, Loss"
   ]
  },
  {
   "cell_type": "code",
   "execution_count": 23,
   "id": "directed-medicaid",
   "metadata": {},
   "outputs": [
    {
     "name": "stdout",
     "output_type": "stream",
     "text": [
      "---------\n",
      "[[0.09339471 0.04248273 0.13503946 0.05860919 0.10154272 0.09879126\n",
      "  0.15725866 0.13264596 0.060242   0.11999331]\n",
      " [0.107262   0.04177426 0.1504036  0.05435546 0.10287041 0.09420832\n",
      "  0.16218741 0.11927546 0.05864536 0.10901772]\n",
      " [0.07589836 0.04888933 0.14085082 0.0679027  0.08760608 0.09782427\n",
      "  0.15231145 0.14710828 0.05290995 0.12869877]\n",
      " [0.10513945 0.04426112 0.1335127  0.05699658 0.10501071 0.11064156\n",
      "  0.15242733 0.12766821 0.05383744 0.1105049 ]\n",
      " [0.10161571 0.05052207 0.14674969 0.05740623 0.08914823 0.10745151\n",
      "  0.12455904 0.1491024  0.04683708 0.12660804]]\n",
      "[[0. 0. 0. 0. 0. 1. 0. 0. 0. 0.]\n",
      " [1. 0. 0. 0. 0. 0. 0. 0. 0. 0.]\n",
      " [0. 0. 0. 0. 1. 0. 0. 0. 0. 0.]\n",
      " [0. 1. 0. 0. 0. 0. 0. 0. 0. 0.]\n",
      " [0. 0. 0. 0. 0. 0. 0. 0. 0. 1.]]\n",
      "Loss:  2.4332879479315768\n",
      "---------\n",
      "[[0.11408139 0.05386074 0.11090332 0.0544783  0.11628996 0.12132735\n",
      "  0.12674071 0.11028678 0.05626164 0.1357698 ]\n",
      " [0.13899437 0.05418291 0.1202756  0.05001611 0.11896932 0.11299411\n",
      "  0.12790571 0.09655432 0.05449945 0.12560811]\n",
      " [0.09068349 0.06121915 0.11750566 0.06316305 0.10723258 0.11291484\n",
      "  0.12592669 0.12386058 0.04978363 0.14771032]\n",
      " [0.12650762 0.05748698 0.10919399 0.05287922 0.12016238 0.12833348\n",
      "  0.12318766 0.10574486 0.05041565 0.12608817]\n",
      " [0.12250981 0.06405061 0.11830678 0.05278358 0.10286085 0.12405282\n",
      "  0.09888305 0.12226717 0.0434306  0.15085473]]\n",
      "[[0. 0. 0. 0. 0. 1. 0. 0. 0. 0.]\n",
      " [1. 0. 0. 0. 0. 0. 0. 0. 0. 0.]\n",
      " [0. 0. 0. 0. 1. 0. 0. 0. 0. 0.]\n",
      " [0. 1. 0. 0. 0. 0. 0. 0. 0. 0.]\n",
      " [0. 0. 0. 0. 0. 0. 0. 0. 0. 1.]]\n",
      "Loss:  2.212594947975531\n",
      "---------\n",
      "[[0.1311258  0.06506062 0.09245586 0.04963071 0.12666953 0.14111932\n",
      "  0.10423441 0.09256313 0.05135482 0.1457858 ]\n",
      " [0.16762798 0.06638012 0.09754222 0.04487373 0.12962817 0.1271408\n",
      "  0.10283591 0.07873207 0.04922793 0.13601107]\n",
      " [0.10234856 0.07331521 0.09936996 0.05767448 0.12512186 0.1238678\n",
      "  0.10599416 0.10525027 0.04587439 0.1611833 ]\n",
      " [0.14360435 0.07127726 0.09087589 0.04822507 0.13109864 0.1413415\n",
      "  0.10181439 0.08867898 0.0463128  0.13677112]\n",
      " [0.13875383 0.07729575 0.09699073 0.04758761 0.11270637 0.13549414\n",
      "  0.08020789 0.1014024  0.03938308 0.1701782 ]]\n",
      "[[0. 0. 0. 0. 0. 1. 0. 0. 0. 0.]\n",
      " [1. 0. 0. 0. 0. 0. 0. 0. 0. 0.]\n",
      " [0. 0. 0. 0. 1. 0. 0. 0. 0. 0.]\n",
      " [0. 1. 0. 0. 0. 0. 0. 0. 0. 0.]\n",
      " [0. 0. 0. 0. 0. 0. 0. 0. 0. 1.]]\n",
      "Loss:  2.0469423654661485\n",
      "---------\n",
      "[[0.14452635 0.07596225 0.07829797 0.04489725 0.1336852  0.15848702\n",
      "  0.08735442 0.07868513 0.04646052 0.15164388]\n",
      " [0.19257316 0.07819572 0.08045394 0.03990795 0.13615613 0.13740483\n",
      "  0.08433339 0.06505412 0.04398975 0.14193102]\n",
      " [0.1109764  0.08500251 0.08523534 0.05229598 0.14153925 0.13141956\n",
      "  0.09070436 0.09051292 0.04190764 0.17040605]\n",
      " [0.15664069 0.08551667 0.07699509 0.04376501 0.13885653 0.15063326\n",
      "  0.08590521 0.07550531 0.04227281 0.14390943]\n",
      " [0.1506302  0.09013829 0.0809677  0.04265523 0.11963126 0.14292652\n",
      "  0.06641264 0.08539064 0.03543687 0.18581065]]\n",
      "[[0. 0. 0. 0. 0. 1. 0. 0. 0. 0.]\n",
      " [1. 0. 0. 0. 0. 0. 0. 0. 0. 0.]\n",
      " [0. 0. 0. 0. 1. 0. 0. 0. 0. 0.]\n",
      " [0. 1. 0. 0. 0. 0. 0. 0. 0. 0.]\n",
      " [0. 0. 0. 0. 0. 0. 0. 0. 0. 1.]]\n",
      "Loss:  1.9173222169189692\n",
      "---------\n",
      "[[0.1546822  0.08640515 0.06727869 0.04058998 0.13824329 0.17394356\n",
      "  0.07443096 0.06775696 0.0419562  0.15471301]\n",
      " [0.21399038 0.08944635 0.06747124 0.03547026 0.13977333 0.14472348\n",
      "  0.07044167 0.05453947 0.03923652 0.14490731]\n",
      " [0.11694842 0.09607385 0.07407529 0.04736077 0.1568631  0.13636326\n",
      "  0.07875121 0.07877117 0.038192   0.17660094]\n",
      " [0.16618609 0.10001879 0.06629773 0.03974732 0.14432919 0.15716192\n",
      "  0.07378741 0.06523595 0.03857396 0.14866164]\n",
      " [0.15881035 0.10239667 0.06874227 0.03826398 0.12447163 0.14745563\n",
      "  0.05600375 0.07301686 0.03186523 0.19897363]]\n",
      "[[0. 0. 0. 0. 0. 1. 0. 0. 0. 0.]\n",
      " [1. 0. 0. 0. 0. 0. 0. 0. 0. 0.]\n",
      " [0. 0. 0. 0. 1. 0. 0. 0. 0. 0.]\n",
      " [0. 1. 0. 0. 0. 0. 0. 0. 0. 0.]\n",
      " [0. 0. 0. 0. 0. 0. 0. 0. 0. 1.]]\n",
      "Loss:  1.8120421340079826\n"
     ]
    }
   ],
   "source": [
    "X = x_train_reshaped[:5]\n",
    "Y = y_train[:5]\n",
    "\n",
    "# train_step을 다섯 번 반복 돌립니다.\n",
    "for i in range(5):\n",
    "    W1, b1, W2, b2, _ = train_step(X, Y, W1, b1, W2, b2, learning_rate=0.1, verbose=True)"
   ]
  },
  {
   "cell_type": "markdown",
   "id": "boring-linux",
   "metadata": {},
   "source": [
    "## 추론 과정 구현과 정확도(Accuracy) 계산"
   ]
  },
  {
   "cell_type": "code",
   "execution_count": 25,
   "id": "elegant-alarm",
   "metadata": {},
   "outputs": [],
   "source": [
    "def predict(W1, b1, W2, b2, X):\n",
    "    a1 = np.dot(X, W1) + b1\n",
    "    z1 = sigmoid(a1)\n",
    "    a2 = np.dot(z1, W2) + b2\n",
    "    y = softmax(a2)\n",
    "\n",
    "    return y"
   ]
  },
  {
   "cell_type": "code",
   "execution_count": 26,
   "id": "accurate-cylinder",
   "metadata": {},
   "outputs": [
    {
     "data": {
      "text/plain": [
       "array([0.16214698, 0.09619185, 0.05855763, 0.03678507, 0.14103227,\n",
       "       0.18798574, 0.06433169, 0.05904789, 0.03795225, 0.15596862])"
      ]
     },
     "execution_count": 26,
     "metadata": {},
     "output_type": "execute_result"
    }
   ],
   "source": [
    "# X = x_train[:100] 에 대해 모델 추론을 시도합니다. \n",
    "\n",
    "X = x_train_reshaped[:100]\n",
    "Y = y_test[:100]\n",
    "result = predict(W1, b1, W2, b2, X)\n",
    "result[0]"
   ]
  },
  {
   "cell_type": "code",
   "execution_count": 27,
   "id": "dress-comparison",
   "metadata": {},
   "outputs": [],
   "source": [
    "def accuracy(W1, b1, W2, b2, x, y):\n",
    "    y_hat = predict(W1, b1, W2, b2, x)\n",
    "    y_hat = np.argmax(y_hat, axis=1)\n",
    "   # t = np.argmax(t, axis=1)\n",
    "\n",
    "    accuracy = np.sum(y_hat == y) / float(x.shape[0])\n",
    "    return accuracy"
   ]
  },
  {
   "cell_type": "code",
   "execution_count": 28,
   "id": "christian-fishing",
   "metadata": {},
   "outputs": [
    {
     "name": "stdout",
     "output_type": "stream",
     "text": [
      "[0.16214698 0.09619185 0.05855763 0.03678507 0.14103227 0.18798574\n",
      " 0.06433169 0.05904789 0.03795225 0.15596862]\n",
      "[0. 0. 0. 0. 0. 0. 0. 1. 0. 0.]\n",
      "0.08\n"
     ]
    }
   ],
   "source": [
    "acc = accuracy(W1, b1, W2, b2, X, Y)\n",
    "\n",
    "t = _change_ont_hot_label(Y, 10)\n",
    "print(result[0])\n",
    "print(t[0])\n",
    "print(acc)"
   ]
  },
  {
   "cell_type": "markdown",
   "id": "purple-subcommittee",
   "metadata": {},
   "source": [
    "## 전체 학습 사이클 수행"
   ]
  },
  {
   "cell_type": "code",
   "execution_count": 29,
   "id": "interracial-lunch",
   "metadata": {},
   "outputs": [],
   "source": [
    "# 학습시킬 파라미터를 초기화하는 함수\n",
    "def init_params(input_size, hidden_size, output_size, weight_init_std=0.01):\n",
    "\n",
    "    W1 = weight_init_std * np.random.randn(input_size, hidden_size)\n",
    "    b1 = np.zeros(hidden_size)\n",
    "    W2 = weight_init_std * np.random.randn(hidden_size, output_size)\n",
    "    b2 = np.zeros(output_size)\n",
    "\n",
    "    print(W1.shape)\n",
    "    print(b1.shape)\n",
    "    print(W2.shape)\n",
    "    print(b2.shape)\n",
    "    \n",
    "    return W1, b1, W2, b2"
   ]
  },
  {
   "cell_type": "code",
   "execution_count": 30,
   "id": "distinguished-value",
   "metadata": {},
   "outputs": [
    {
     "name": "stdout",
     "output_type": "stream",
     "text": [
      "(784, 50)\n",
      "(50,)\n",
      "(50, 10)\n",
      "(10,)\n",
      "Loss:  2.3009319579526983\n",
      "train acc, test acc | 0.09736666666666667, 0.0982\n",
      "Loss:  0.8077654284030023\n",
      "train acc, test acc | 0.7883333333333333, 0.7899\n",
      "Loss:  0.47335996359950483\n",
      "train acc, test acc | 0.8769833333333333, 0.8796\n",
      "Loss:  0.3167373073186053\n",
      "train acc, test acc | 0.8975666666666666, 0.9021\n",
      "Loss:  0.25351652962297655\n",
      "train acc, test acc | 0.907, 0.9108\n",
      "Loss:  0.25546877562962844\n",
      "train acc, test acc | 0.91445, 0.9159\n",
      "Loss:  0.2819074148213252\n",
      "train acc, test acc | 0.9189166666666667, 0.9203\n",
      "Loss:  0.29942099028680275\n",
      "train acc, test acc | 0.9239333333333334, 0.9255\n",
      "Loss:  0.43182325953006734\n",
      "train acc, test acc | 0.9262, 0.9259\n",
      "Loss:  0.2597094177390444\n",
      "train acc, test acc | 0.9301166666666667, 0.9325\n",
      "Loss:  0.17218113237991736\n",
      "train acc, test acc | 0.9332166666666667, 0.934\n",
      "Loss:  0.3431769194420081\n",
      "train acc, test acc | 0.9366166666666667, 0.9355\n",
      "Loss:  0.16956513399939585\n",
      "train acc, test acc | 0.9388666666666666, 0.9393\n",
      "Loss:  0.15327199012966353\n",
      "train acc, test acc | 0.94185, 0.9406\n",
      "Loss:  0.18164351390992448\n",
      "train acc, test acc | 0.9432333333333334, 0.9425\n",
      "Loss:  0.27178817151674867\n",
      "train acc, test acc | 0.9458833333333333, 0.9439\n",
      "Loss:  0.2213440093747469\n",
      "train acc, test acc | 0.94765, 0.9449\n",
      "Loss:  0.15362143376789683\n",
      "train acc, test acc | 0.9487666666666666, 0.9466\n",
      "Loss:  0.1422255415432678\n",
      "train acc, test acc | 0.9508, 0.9475\n",
      "Loss:  0.1418272936685984\n",
      "train acc, test acc | 0.9524666666666667, 0.9496\n",
      "Loss:  0.1116679631649264\n",
      "train acc, test acc | 0.9535166666666667, 0.9502\n",
      "Loss:  0.05636654339454937\n",
      "train acc, test acc | 0.9542, 0.9516\n",
      "Loss:  0.12907707621623385\n",
      "train acc, test acc | 0.95575, 0.9526\n",
      "Loss:  0.14507758288410247\n",
      "train acc, test acc | 0.9565166666666667, 0.9532\n",
      "Loss:  0.16777418274345057\n",
      "train acc, test acc | 0.9578, 0.9533\n",
      "Loss:  0.21505512334027457\n",
      "train acc, test acc | 0.9588166666666667, 0.9541\n",
      "Loss:  0.2588460414763287\n",
      "train acc, test acc | 0.9593166666666667, 0.9548\n",
      "Loss:  0.059472174782253556\n",
      "train acc, test acc | 0.96035, 0.9559\n",
      "Loss:  0.22795536861571655\n",
      "train acc, test acc | 0.9613, 0.9559\n",
      "Loss:  0.18210149177293922\n",
      "train acc, test acc | 0.9621166666666666, 0.9576\n",
      "Loss:  0.1256384264378138\n",
      "train acc, test acc | 0.96285, 0.959\n",
      "Loss:  0.19448350331407507\n",
      "train acc, test acc | 0.9637, 0.9593\n",
      "Loss:  0.09519557593453389\n",
      "train acc, test acc | 0.9638666666666666, 0.9598\n",
      "Loss:  0.0546340109876207\n",
      "train acc, test acc | 0.96425, 0.959\n",
      "Loss:  0.08477185723259291\n",
      "train acc, test acc | 0.9652833333333334, 0.9606\n",
      "Loss:  0.14617086902330848\n",
      "train acc, test acc | 0.9658833333333333, 0.9601\n",
      "Loss:  0.07650992479873431\n",
      "train acc, test acc | 0.9666833333333333, 0.9611\n",
      "Loss:  0.16710473059259812\n",
      "train acc, test acc | 0.9672833333333334, 0.9609\n",
      "Loss:  0.07967884294299392\n",
      "train acc, test acc | 0.9673666666666667, 0.9611\n",
      "Loss:  0.11568744812039337\n",
      "train acc, test acc | 0.96845, 0.9621\n",
      "Loss:  0.0773823104908842\n",
      "train acc, test acc | 0.96935, 0.962\n",
      "Loss:  0.04469053683512997\n",
      "train acc, test acc | 0.9695666666666667, 0.9621\n",
      "Loss:  0.14528136127280022\n",
      "train acc, test acc | 0.9699833333333333, 0.9623\n",
      "Loss:  0.11942864859822286\n",
      "train acc, test acc | 0.9707666666666667, 0.9628\n",
      "Loss:  0.11018631527234499\n",
      "train acc, test acc | 0.9714333333333334, 0.9633\n",
      "Loss:  0.11111480435186656\n",
      "train acc, test acc | 0.97135, 0.9635\n",
      "Loss:  0.09601110530832775\n",
      "train acc, test acc | 0.9720166666666666, 0.9642\n",
      "Loss:  0.10172944318637869\n",
      "train acc, test acc | 0.9724166666666667, 0.9643\n",
      "Loss:  0.10334840748255605\n",
      "train acc, test acc | 0.9727, 0.9654\n",
      "Loss:  0.05932213957894247\n",
      "train acc, test acc | 0.9733166666666667, 0.9652\n",
      "Loss:  0.1951764624702907\n",
      "train acc, test acc | 0.9738166666666667, 0.9652\n",
      "Loss:  0.04326894150381157\n",
      "train acc, test acc | 0.97415, 0.9651\n",
      "Loss:  0.06405892036366995\n",
      "train acc, test acc | 0.97475, 0.9663\n",
      "Loss:  0.05132440303559735\n",
      "train acc, test acc | 0.9746, 0.9661\n",
      "Loss:  0.15481198379011193\n",
      "train acc, test acc | 0.9751, 0.966\n",
      "Loss:  0.1222524826811018\n",
      "train acc, test acc | 0.9758666666666667, 0.967\n",
      "Loss:  0.09252945889419119\n",
      "train acc, test acc | 0.9761, 0.9662\n",
      "Loss:  0.09002232891771067\n",
      "train acc, test acc | 0.9755833333333334, 0.9672\n",
      "Loss:  0.05277360584406535\n",
      "train acc, test acc | 0.9763833333333334, 0.9668\n",
      "Loss:  0.12737305495723883\n",
      "train acc, test acc | 0.9768, 0.9674\n",
      "Loss:  0.07656922010798667\n",
      "train acc, test acc | 0.9769666666666666, 0.9675\n",
      "Loss:  0.06941185648542589\n",
      "train acc, test acc | 0.97745, 0.9678\n",
      "Loss:  0.035124375524051406\n",
      "train acc, test acc | 0.9775666666666667, 0.9682\n",
      "Loss:  0.09117297155699611\n",
      "train acc, test acc | 0.9780833333333333, 0.9683\n",
      "Loss:  0.05753001639855393\n",
      "train acc, test acc | 0.9781166666666666, 0.9687\n",
      "Loss:  0.030689737473294988\n",
      "train acc, test acc | 0.9786333333333334, 0.9691\n",
      "Loss:  0.051255644549864\n",
      "train acc, test acc | 0.9784833333333334, 0.9681\n",
      "Loss:  0.10674334323458144\n",
      "train acc, test acc | 0.9790333333333333, 0.9686\n",
      "Loss:  0.07015914211619352\n",
      "train acc, test acc | 0.9791833333333333, 0.9687\n",
      "Loss:  0.0386869350725874\n",
      "train acc, test acc | 0.9790833333333333, 0.9685\n",
      "Loss:  0.04120287863352818\n",
      "train acc, test acc | 0.98, 0.9694\n",
      "Loss:  0.0409957914136476\n",
      "train acc, test acc | 0.9804166666666667, 0.9689\n",
      "Loss:  0.12320199445456495\n",
      "train acc, test acc | 0.9801666666666666, 0.9699\n",
      "Loss:  0.04749643757405532\n",
      "train acc, test acc | 0.9805166666666667, 0.9689\n",
      "Loss:  0.06868078531649967\n",
      "train acc, test acc | 0.9805833333333334, 0.9703\n",
      "Loss:  0.04083480031103731\n",
      "train acc, test acc | 0.9807, 0.9704\n",
      "Loss:  0.07719137424985881\n",
      "train acc, test acc | 0.9811833333333333, 0.9705\n",
      "Loss:  0.046746757305481355\n",
      "train acc, test acc | 0.98135, 0.9702\n",
      "Loss:  0.07546942722483603\n",
      "train acc, test acc | 0.9816666666666667, 0.9697\n",
      "Loss:  0.021872740703788796\n",
      "train acc, test acc | 0.98155, 0.9706\n",
      "Loss:  0.08076051883853194\n",
      "train acc, test acc | 0.9821166666666666, 0.9702\n",
      "Loss:  0.0272304203970166\n",
      "train acc, test acc | 0.9819666666666667, 0.9701\n",
      "Loss:  0.051606518318308085\n",
      "train acc, test acc | 0.98215, 0.9702\n",
      "Loss:  0.0374373865881017\n",
      "train acc, test acc | 0.9823333333333333, 0.9702\n"
     ]
    }
   ],
   "source": [
    "# 하이퍼파라미터\n",
    "iters_num = 50000  # 반복 횟수를 적절히 설정한다.\n",
    "train_size = x_train.shape[0]\n",
    "batch_size = 100   # 미니배치 크기\n",
    "learning_rate = 0.1\n",
    "\n",
    "train_loss_list = []\n",
    "train_acc_list = []\n",
    "test_acc_list = []\n",
    "\n",
    "# 1에폭당 반복 수\n",
    "iter_per_epoch = max(train_size / batch_size, 1)\n",
    "\n",
    "W1, b1, W2, b2 = init_params(784, 50, 10)\n",
    "\n",
    "for i in range(iters_num):\n",
    "    # 미니배치 획득\n",
    "    batch_mask = np.random.choice(train_size, batch_size)\n",
    "    x_batch = x_train_reshaped[batch_mask]\n",
    "    y_batch = y_train[batch_mask]\n",
    "    \n",
    "    W1, b1, W2, b2, Loss = train_step(x_batch, y_batch, W1, b1, W2, b2, learning_rate=0.1, verbose=False)\n",
    "\n",
    "    # 학습 경과 기록\n",
    "    train_loss_list.append(Loss)\n",
    "    \n",
    "    # 1에폭당 정확도 계산\n",
    "    if i % iter_per_epoch == 0:\n",
    "        print('Loss: ', Loss)\n",
    "        train_acc = accuracy(W1, b1, W2, b2, x_train_reshaped, y_train)\n",
    "        test_acc = accuracy(W1, b1, W2, b2, x_test_reshaped, y_test)\n",
    "        train_acc_list.append(train_acc)\n",
    "        test_acc_list.append(test_acc)\n",
    "        print(\"train acc, test acc | \" + str(train_acc) + \", \" + str(test_acc))"
   ]
  },
  {
   "cell_type": "code",
   "execution_count": 31,
   "id": "extraordinary-ending",
   "metadata": {},
   "outputs": [
    {
     "data": {
      "image/png": "[encoded data removed]",
      "text/plain": [
       "<Figure size 864x432 with 1 Axes>"
      ]
     },
     "metadata": {
      "needs_background": "light"
     },
     "output_type": "display_data"
    }
   ],
   "source": [
    "from matplotlib.pylab import rcParams\n",
    "rcParams['figure.figsize'] = 12, 6 \n",
    "\n",
    "# Accuracy 그래프 그리기\n",
    "markers = {'train': 'o', 'test': 's'}\n",
    "x = np.arange(len(train_acc_list))\n",
    "plt.plot(x, train_acc_list, label='train acc')\n",
    "plt.plot(x, test_acc_list, label='test acc', linestyle='--')\n",
    "plt.xlabel(\"epochs\")\n",
    "plt.ylabel(\"accuracy\")\n",
    "plt.ylim(0, 1.0)\n",
    "plt.legend(loc='lower right')\n",
    "plt.show()"
   ]
  },
  {
   "cell_type": "code",
   "execution_count": 32,
   "id": "religious-venice",
   "metadata": {},
   "outputs": [
    {
     "data": {
      "image/png": "[encoded data removed]",
      "text/plain": [
       "<Figure size 864x432 with 1 Axes>"
      ]
     },
     "metadata": {
      "needs_background": "light"
     },
     "output_type": "display_data"
    }
   ],
   "source": [
    "# Loss 그래프 그리기\n",
    "x = np.arange(len(train_loss_list))\n",
    "plt.plot(x, train_loss_list, label='train acc')\n",
    "plt.xlabel(\"epochs\")\n",
    "plt.ylabel(\"Loss\")\n",
    "plt.ylim(0, 3.0)\n",
    "plt.legend(loc='best')\n",
    "plt.show()"
   ]
  },
  {
   "cell_type": "code",
   "execution_count": null,
   "id": "armed-brazilian",
   "metadata": {},
   "outputs": [],
   "source": []
  }
 ],
 "metadata": {
  "kernelspec": {
   "display_name": "Python 3",
   "language": "python",
   "name": "python3"
  },
  "language_info": {
   "codemirror_mode": {
    "name": "ipython",
    "version": 3
   },
   "file_extension": ".py",
   "mimetype": "text/x-python",
   "name": "python",
   "nbconvert_exporter": "python",
   "pygments_lexer": "ipython3",
   "version": "3.7.9"
  }
 },
 "nbformat": 4,
 "nbformat_minor": 5
}
