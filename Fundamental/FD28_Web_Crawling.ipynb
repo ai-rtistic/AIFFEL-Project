{
 "cells": [
  {
   "cell_type": "markdown",
   "id": "accredited-tissue",
   "metadata": {},
   "source": [
    "# Fundamental 28. 웹 크롤링"
   ]
  },
  {
   "cell_type": "markdown",
   "id": "about-liverpool",
   "metadata": {},
   "source": [
    "## 파이썬 크롤링 라이브러리\n",
    "웹을 크롤링하는 가장 기본 작업입니다. 우선 2가지 작업에 대해 자주 사용되는 파이썬 라이브러리 기능을 살펴보자.  \n",
    "- 1단계: 웹페이지 다운로드하기\n",
    "- 2단계: 웹페이지 분석하기"
   ]
  },
  {
   "cell_type": "markdown",
   "id": "still-diploma",
   "metadata": {},
   "source": [
    "## 파이썬 표준 라이브러리 urllib 사용하기"
   ]
  },
  {
   "cell_type": "markdown",
   "id": "diverse-sacramento",
   "metadata": {},
   "source": [
    "### 1. 웹페이지 다운로드"
   ]
  },
  {
   "cell_type": "code",
   "execution_count": 1,
   "id": "rental-strike",
   "metadata": {},
   "outputs": [],
   "source": [
    "import urllib\n",
    "def download(url):\n",
    "    return urllib.request.urlopen(url)"
   ]
  },
  {
   "cell_type": "code",
   "execution_count": 2,
   "id": "handmade-income",
   "metadata": {},
   "outputs": [
    {
     "data": {
      "text/plain": [
       "<http.client.HTTPResponse at 0x7f5df0c8aa10>"
      ]
     },
     "execution_count": 2,
     "metadata": {},
     "output_type": "execute_result"
    }
   ],
   "source": [
    "from urllib.error import URLError, HTTPError, ContentTooShortError\n",
    "\n",
    "def download(url):\n",
    "    try:\n",
    "        html = urllib.request.urlopen(url)\n",
    "    except (URLError, HTTPError, ContentTooShortError) as e:\n",
    "        print('Download error', e.reason)\n",
    "        html = None\n",
    "    return html\n",
    "\n",
    "download('https://www.google.com')"
   ]
  },
  {
   "cell_type": "markdown",
   "id": "tight-minimum",
   "metadata": {},
   "source": [
    "### 2. 웹페이지 분석하기"
   ]
  },
  {
   "cell_type": "code",
   "execution_count": 3,
   "id": "considered-platinum",
   "metadata": {},
   "outputs": [],
   "source": [
    "def download(url):\n",
    "    try:\n",
    "        html = urllib.request.urlopen(url).read()\n",
    "    except (URLError, HTTPError, ContentTooShortError) as e:\n",
    "        print('Download error', e.reason)\n",
    "        html = None\n",
    "    return html"
   ]
  },
  {
   "cell_type": "code",
   "execution_count": 4,
   "id": "weighted-statement",
   "metadata": {},
   "outputs": [
    {
     "data": {
      "text/plain": [
       "b'<!doctype html><html itemscope=\"\" itemtype=\"http://schema.org/WebPage\" lang=\"en\"><head><meta content=\"Search the world\\'s information, including webpages, images, videos and more. Google has many special features to help you find exactly what you\\'re looking for.\" name=\"description\"><meta content=\"noodp\" name=\"robots\"><meta content=\"text/html; charset=UTF-8\" http-equiv=\"Content-Type\"><meta content=\"/images/branding/googleg/1x/googleg_standard_color_128dp.png\" itemprop=\"image\"><title>Google</title><script nonce=\"ltDUVnFdVudtJ834889sdA==\">(function(){window.google={kEI:\\'S5I6YbbbOanfz7sPw9OywA8\\',kEXPI:\\'0,772215,1,530320,56873,954,5104,207,4804,2316,383,246,5,1354,4936,314,1122516,1197788,495,118,328866,51224,16114,17444,1953,9285,1114,16460,4858,1362,9291,3022,17586,4020,978,13228,3847,10622,1142,6290,7331,4281,2778,919,5081,1593,1279,2212,241,289,149,1103,840,1983,214,4100,108,3406,606,2024,2296,6343,8327,3227,1989,856,7,12354,5096,7539,6857,1924,908,2,941,2614,3784,8926,432,3,1590,1,5444,149,11323,991,1661,4,1528,2304,1236,5803,74,1983,2627,2014,11501,2110,1714,1011,2039,2658,4164,3193,30,3878,9750,2305,638,37,7043,3772,5993,1435,5800,2557,992,3102,3138,8,906,3,3541,1,5349,9361,1,1813,283,912,5992,14678,769,8,1,1272,1715,2,3057,6155,627,4,32,4,5387,4,89,594,442,342,255,55,4,2813,121,1557,744,5852,2050,2930,2,5481,1160,1364,4664,380,291,2381,2718,3709,2,835,3,120,3859,749,745,4148,487,1213,2363,28,1,8,985,6769,1932,191,2444,383,1213,982,3120,561,2070,1962,1,2,2,537,793,1265,697,1,200,2248,719,3,1464,930,1369,1260,333,355,2159,28,26,87,116,199,35,1577,1484,439,18,277,1050,769,549,138,190,4,72,858,818,433,583,60,196,1629,39,84,1246,2,845,2,145,590,531,32,145,340,495,7,166,182,1757,1230,5578912,99,3,344,73,10,68,9,121,5996587,206,2800491,882,444,1,2,80,1,1796,1,9,2553,1,748,141,795,563,1,4265,1,1,2,1331,4142,2609,155,17,13,72,139,4,2,20,2,169,13,19,46,5,39,96,548,29,2,2,1,2,1,2,2,7,4,1,2,2,2,2,2,2,353,513,186,1,1,158,3,2,2,2,2,2,4,2,3,3,269,364,113,24,9,4,6,24,3,7,23654303,299865,4041352,338,3,2414,448,2,88,375,172,406,9,3358,559,858\\',kBL:\\'luCR\\'};google.sn=\\'webhp\\';google.kHL=\\'en\\';})();(function(){\\nvar f=this||self;var h,k=[];function l(a){for(var b;a&&(!a.getAttribute||!(b=a.getAttribute(\"eid\")));)a=a.parentNode;return b||h}function m(a){for(var b=null;a&&(!a.getAttribute||!(b=a.getAttribute(\"leid\")));)a=a.parentNode;return b}\\nfunction n(a,b,c,d,g){var e=\"\";c||-1!==b.search(\"&ei=\")||(e=\"&ei=\"+l(d),-1===b.search(\"&lei=\")&&(d=m(d))&&(e+=\"&lei=\"+d));d=\"\";!c&&f._cshid&&-1===b.search(\"&cshid=\")&&\"slh\"!==a&&(d=\"&cshid=\"+f._cshid);c=c||\"/\"+(g||\"gen_204\")+\"?atyp=i&ct=\"+a+\"&cad=\"+b+e+\"&zx=\"+Date.now()+d;/^http:/i.test(c)&&\"https:\"===window.location.protocol&&(google.ml&&google.ml(Error(\"a\"),!1,{src:c,glmm:1}),c=\"\");return c};h=google.kEI;google.getEI=l;google.getLEI=m;google.ml=function(){return null};google.log=function(a,b,c,d,g){if(c=n(a,b,c,d,g)){a=new Image;var e=k.length;k[e]=a;a.onerror=a.onload=a.onabort=function(){delete k[e]};a.src=c}};google.logUrl=n;}).call(this);(function(){\\ngoogle.y={};google.sy=[];google.x=function(a,b){if(a)var c=a.id;else{do c=Math.random();while(google.y[c])}google.y[c]=[a,b];return!1};google.sx=function(a){google.sy.push(a)};google.lm=[];google.plm=function(a){google.lm.push.apply(google.lm,a)};google.lq=[];google.load=function(a,b,c){google.lq.push([[a],b,c])};google.loadAll=function(a,b){google.lq.push([a,b])};google.bx=!1;google.lx=function(){};}).call(this);google.f={};(function(){\\ndocument.documentElement.addEventListener(\"submit\",function(b){var a;if(a=b.target){var c=a.getAttribute(\"data-submitfalse\");a=\"1\"===c||\"q\"===c&&!a.elements.q.value?!0:!1}else a=!1;a&&(b.preventDefault(),b.stopPropagation())},!0);document.documentElement.addEventListener(\"click\",function(b){var a;a:{for(a=b.target;a&&a!==document.documentElement;a=a.parentElement)if(\"A\"===a.tagName){a=\"1\"===a.getAttribute(\"data-nohref\");break a}a=!1}a&&b.preventDefault()},!0);}).call(this);</script><style>#gbar,#guser{font-size:13px;padding-top:1px !important;}#gbar{height:22px}#guser{padding-bottom:7px !important;text-align:right}.gbh,.gbd{border-top:1px solid #c9d7f1;font-size:1px}.gbh{height:0;position:absolute;top:24px;width:100%}@media all{.gb1{height:22px;margin-right:.5em;vertical-align:top}#gbar{float:left}}a.gb1,a.gb4{text-decoration:underline !important}a.gb1,a.gb4{color:#00c !important}.gbi .gb4{color:#dd8e27 !important}.gbf .gb4{color:#900 !important}\\n</style><style>body,td,a,p,.h{font-family:arial,sans-serif}body{margin:0;overflow-y:scroll}#gog{padding:3px 8px 0}td{line-height:.8em}.gac_m td{line-height:17px}form{margin-bottom:20px}.h{color:#1558d6}em{font-weight:bold;font-style:normal}.lst{height:25px;width:496px}.gsfi,.lst{font:18px arial,sans-serif}.gsfs{font:17px arial,sans-serif}.ds{display:inline-box;display:inline-block;margin:3px 0 4px;margin-left:4px}input{font-family:inherit}body{background:#fff;color:#000}a{color:#4b11a8;text-decoration:none}a:hover,a:active{text-decoration:underline}.fl a{color:#1558d6}a:visited{color:#4b11a8}.sblc{padding-top:5px}.sblc a{display:block;margin:2px 0;margin-left:13px;font-size:11px}.lsbb{background:#f8f9fa;border:solid 1px;border-color:#dadce0 #70757a #70757a #dadce0;height:30px}.lsbb{display:block}#WqQANb a{display:inline-block;margin:0 12px}.lsb{background:url(/images/nav_logo229.png) 0 -261px repeat-x;border:none;color:#000;cursor:pointer;height:30px;margin:0;outline:0;font:15px arial,sans-serif;vertical-align:top}.lsb:active{background:#dadce0}.lst:focus{outline:none}</style><script nonce=\"ltDUVnFdVudtJ834889sdA==\">(function(){window.google.erd={sp:\\'hp\\',jsr:0,bv:106};\\nvar f=this||self;var g,h,k=null!==(g=f.mei)&&void 0!==g?g:1,l=null!==(h=f.sdo)&&void 0!==h?h:!0,n=0,p,q=google.erd,t=q.jsr;google.ml=function(a,b,e,m,d){d=void 0===d?2:d;b&&(p=a&&a.message);if(google.dl)return google.dl(a,d,e),null;if(0>t){window.console&&console.error(a,e);if(-2===t)throw a;b=!1}else b=!a||!a.message||\"Error loading script\"===a.message||n>=k&&!m?!1:!0;if(!b)return null;n++;e=e||{};b=encodeURIComponent;var c=\"/gen_204?atyp=i&ei=\"+b(google.kEI);google.kEXPI&&(c+=\"&jexpid=\"+b(google.kEXPI));c+=\"&srcpg=\"+b(q.sp)+\"&jsr=\"+b(q.jsr)+\"&bver=\"+b(q.bv)+(\"&jsel=\"+d);c+=\"&sn=\"+b(google.sn);for(var r in e)c+=\"&\",c+=b(r),c+=\"=\",c+=b(e[r]);c=c+\"&emsg=\"+b(a.name+\": \"+a.message);c=c+\"&jsst=\"+b(a.stack||\"N/A\");12288<=c.length&&(c=c.substr(0,12288));a=c;m||google.log(0,\"\",a);return a};window.onerror=function(a,b,e,m,d){p!==a&&google.ml(d instanceof Error?d:Error(a),!1,void 0,!1,google.dl?0:2);p=null;l&&n>=k&&(window.onerror=null)};})();</script></head><body bgcolor=\"#fff\"><script nonce=\"ltDUVnFdVudtJ834889sdA==\">(function(){var src=\\'/images/nav_logo229.png\\';var iesg=false;document.body.onload = function(){window.n && window.n();if (document.images){new Image().src=src;}\\nif (!iesg){document.f&&document.f.q.focus();document.gbqf&&document.gbqf.q.focus();}\\n}\\n})();</script><div id=\"mngb\"><div id=gbar><nobr><b class=gb1>Search</b> <a class=gb1 href=\"https://www.google.com/imghp?hl=en&tab=wi\">Images</a> <a class=gb1 href=\"https://maps.google.com/maps?hl=en&tab=wl\">Maps</a> <a class=gb1 href=\"https://play.google.com/?hl=en&tab=w8\">Play</a> <a class=gb1 href=\"https://www.youtube.com/?gl=US&tab=w1\">YouTube</a> <a class=gb1 href=\"https://news.google.com/?tab=wn\">News</a> <a class=gb1 href=\"https://mail.google.com/mail/?tab=wm\">Gmail</a> <a class=gb1 href=\"https://drive.google.com/?tab=wo\">Drive</a> <a class=gb1 style=\"text-decoration:none\" href=\"https://www.google.com/intl/en/about/products?tab=wh\"><u>More</u> &raquo;</a></nobr></div><div id=guser width=100%><nobr><span id=gbn class=gbi></span><span id=gbf class=gbf></span><span id=gbe></span><a href=\"http://www.google.com/history/optout?hl=en\" class=gb4>Web History</a> | <a  href=\"/preferences?hl=en\" class=gb4>Settings</a> | <a target=_top id=gb_70 href=\"https://accounts.google.com/ServiceLogin?hl=en&passive=true&continue=https://www.google.com/&ec=GAZAAQ\" class=gb4>Sign in</a></nobr></div><div class=gbh style=left:0></div><div class=gbh style=right:0></div></div><center><br clear=\"all\" id=\"lgpd\"><div id=\"lga\"><img alt=\"Google\" height=\"92\" src=\"/images/branding/googlelogo/1x/googlelogo_white_background_color_272x92dp.png\" style=\"padding:28px 0 14px\" width=\"272\" id=\"hplogo\"><br><br></div><form action=\"/search\" name=\"f\"><table cellpadding=\"0\" cellspacing=\"0\"><tr valign=\"top\"><td width=\"25%\">&nbsp;</td><td align=\"center\" nowrap=\"\"><input name=\"ie\" value=\"ISO-8859-1\" type=\"hidden\"><input value=\"en\" name=\"hl\" type=\"hidden\"><input name=\"source\" type=\"hidden\" value=\"hp\"><input name=\"biw\" type=\"hidden\"><input name=\"bih\" type=\"hidden\"><div class=\"ds\" style=\"height:32px;margin:4px 0\"><input class=\"lst\" style=\"margin:0;padding:5px 8px 0 6px;vertical-align:top;color:#000\" autocomplete=\"off\" value=\"\" title=\"Google Search\" maxlength=\"2048\" name=\"q\" size=\"57\"></div><br style=\"line-height:0\"><span class=\"ds\"><span class=\"lsbb\"><input class=\"lsb\" value=\"Google Search\" name=\"btnG\" type=\"submit\"></span></span><span class=\"ds\"><span class=\"lsbb\"><input class=\"lsb\" id=\"tsuid1\" value=\"I\\'m Feeling Lucky\" name=\"btnI\" type=\"submit\"><script nonce=\"ltDUVnFdVudtJ834889sdA==\">(function(){var id=\\'tsuid1\\';document.getElementById(id).onclick = function(){if (this.form.q.value){this.checked = 1;if (this.form.iflsig)this.form.iflsig.disabled = false;}\\nelse top.location=\\'/doodles/\\';};})();</script><input value=\"ALs-wAMAAAAAYTqgWxmSe_f8lzelNiBSU3tysvKxoylM\" name=\"iflsig\" type=\"hidden\"></span></span></td><td class=\"fl sblc\" align=\"left\" nowrap=\"\" width=\"25%\"><a href=\"/advanced_search?hl=en&amp;authuser=0\">Advanced search</a></td></tr></table><input id=\"gbv\" name=\"gbv\" type=\"hidden\" value=\"1\"><script nonce=\"ltDUVnFdVudtJ834889sdA==\">(function(){\\nvar a,b=\"1\";if(document&&document.getElementById)if(\"undefined\"!=typeof XMLHttpRequest)b=\"2\";else if(\"undefined\"!=typeof ActiveXObject){var c,d,e=[\"MSXML2.XMLHTTP.6.0\",\"MSXML2.XMLHTTP.3.0\",\"MSXML2.XMLHTTP\",\"Microsoft.XMLHTTP\"];for(c=0;d=e[c++];)try{new ActiveXObject(d),b=\"2\"}catch(h){}}a=b;if(\"2\"==a&&-1==location.search.indexOf(\"&gbv=2\")){var f=google.gbvu,g=document.getElementById(\"gbv\");g&&(g.value=a);f&&window.setTimeout(function(){location.href=f},0)};}).call(this);</script></form><div id=\"gac_scont\"></div><div style=\"font-size:83%;min-height:3.5em\"><br></div><span id=\"footer\"><div style=\"font-size:10pt\"><div style=\"margin:19px auto;text-align:center\" id=\"WqQANb\"><a href=\"/intl/en/ads/\">Advertising\\xa0Programs</a><a href=\"/services/\">Business Solutions</a><a href=\"/intl/en/about.html\">About Google</a></div></div><p style=\"font-size:8pt;color:#70757a\">&copy; 2021 - <a href=\"/intl/en/policies/privacy/\">Privacy</a> - <a href=\"/intl/en/policies/terms/\">Terms</a></p></span></center><script nonce=\"ltDUVnFdVudtJ834889sdA==\">(function(){window.google.cdo={height:757,width:1440};(function(){\\nvar a=window.innerWidth,b=window.innerHeight;if(!a||!b){var c=window.document,d=\"CSS1Compat\"==c.compatMode?c.documentElement:c.body;a=d.clientWidth;b=d.clientHeight}a&&b&&(a!=google.cdo.width||b!=google.cdo.height)&&google.log(\"\",\"\",\"/client_204?&atyp=i&biw=\"+a+\"&bih=\"+b+\"&ei=\"+google.kEI);}).call(this);})();</script> <script nonce=\"ltDUVnFdVudtJ834889sdA==\">(function(){google.xjs={ck:\\'\\',cs:\\'\\',excm:[]};})();</script>  <script nonce=\"ltDUVnFdVudtJ834889sdA==\">(function(){var u=\\'/xjs/_/js/k\\\\x3dxjs.hp.en_US.OTBwwT-0FTo.O/am\\\\x3dAPgEWA/d\\\\x3d1/ed\\\\x3d1/rs\\\\x3dACT90oHl0G2Dtg0AbgDUNmwGHktJROdAZQ/m\\\\x3dsb_he,d\\';\\nvar e=this||self,f=function(a){return a};var g;var l=function(a,b){this.g=b===h?a:\"\"};l.prototype.toString=function(){return this.g+\"\"};var h={};function m(){var a=u;google.lx=function(){n(a);google.lx=function(){}};google.bx||google.lx()}\\nfunction n(a){google.timers&&google.timers.load&&google.tick&&google.tick(\"load\",\"xjsls\");var b=document;var c=\"SCRIPT\";\"application/xhtml+xml\"===b.contentType&&(c=c.toLowerCase());c=b.createElement(c);if(void 0===g){b=null;var k=e.trustedTypes;if(k&&k.createPolicy){try{b=k.createPolicy(\"goog#html\",{createHTML:f,createScript:f,createScriptURL:f})}catch(p){e.console&&e.console.error(p.message)}g=b}else g=b}a=(b=g)?b.createScriptURL(a):a;a=new l(a,h);c.src=a instanceof l&&a.constructor===l?a.g:\"type_error:TrustedResourceUrl\";var d;a=(c.ownerDocument&&c.ownerDocument.defaultView||window).document;(d=(b=null===(d=a.querySelector)||void 0===d?void 0:d.call(a,\"script[nonce]\"))?b.nonce||b.getAttribute(\"nonce\")||\"\":\"\")&&c.setAttribute(\"nonce\",d);document.body.appendChild(c);google.psa=!0};setTimeout(function(){m()},0);})();(function(){window.google.xjsu=\\'/xjs/_/js/k\\\\x3dxjs.hp.en_US.OTBwwT-0FTo.O/am\\\\x3dAPgEWA/d\\\\x3d1/ed\\\\x3d1/rs\\\\x3dACT90oHl0G2Dtg0AbgDUNmwGHktJROdAZQ/m\\\\x3dsb_he,d\\';})();function _DumpException(e){throw e;}\\nfunction _F_installCss(c){}\\n(function(){google.jl={attn:false,blt:\\'none\\',chnk:0,dw:false,emtn:0,end:0,ine:false,lls:\\'default\\',pdt:0,rep:0,sif:true,snet:true,strt:0,ubm:false,uwp:true};})();(function(){var pmc=\\'{\\\\x22d\\\\x22:{},\\\\x22sb_he\\\\x22:{\\\\x22agen\\\\x22:true,\\\\x22cgen\\\\x22:true,\\\\x22client\\\\x22:\\\\x22heirloom-hp\\\\x22,\\\\x22dh\\\\x22:true,\\\\x22dhqt\\\\x22:true,\\\\x22ds\\\\x22:\\\\x22\\\\x22,\\\\x22ffql\\\\x22:\\\\x22en\\\\x22,\\\\x22fl\\\\x22:true,\\\\x22host\\\\x22:\\\\x22google.com\\\\x22,\\\\x22isbh\\\\x22:28,\\\\x22jsonp\\\\x22:true,\\\\x22msgs\\\\x22:{\\\\x22cibl\\\\x22:\\\\x22Clear Search\\\\x22,\\\\x22dym\\\\x22:\\\\x22Did you mean:\\\\x22,\\\\x22lcky\\\\x22:\\\\x22I\\\\\\\\u0026#39;m Feeling Lucky\\\\x22,\\\\x22lml\\\\x22:\\\\x22Learn more\\\\x22,\\\\x22oskt\\\\x22:\\\\x22Input tools\\\\x22,\\\\x22psrc\\\\x22:\\\\x22This search was removed from your \\\\\\\\u003Ca href\\\\x3d\\\\\\\\\\\\x22/history\\\\\\\\\\\\x22\\\\\\\\u003EWeb History\\\\\\\\u003C/a\\\\\\\\u003E\\\\x22,\\\\x22psrl\\\\x22:\\\\x22Remove\\\\x22,\\\\x22sbit\\\\x22:\\\\x22Search by image\\\\x22,\\\\x22srch\\\\x22:\\\\x22Google Search\\\\x22},\\\\x22ovr\\\\x22:{},\\\\x22pq\\\\x22:\\\\x22\\\\x22,\\\\x22refpd\\\\x22:true,\\\\x22rfs\\\\x22:[],\\\\x22sbas\\\\x22:\\\\x220 3px 8px 0 rgba(0,0,0,0.2),0 0 0 1px rgba(0,0,0,0.08)\\\\x22,\\\\x22sbpl\\\\x22:16,\\\\x22sbpr\\\\x22:16,\\\\x22scd\\\\x22:10,\\\\x22stok\\\\x22:\\\\x226tIN7YU3XVwDuZGvXFNeGi2Mvow\\\\x22,\\\\x22uhde\\\\x22:false}}\\';google.pmc=JSON.parse(pmc);})();</script>        </body></html>'"
      ]
     },
     "execution_count": 4,
     "metadata": {},
     "output_type": "execute_result"
    }
   ],
   "source": [
    "download('https://www.google.com')"
   ]
  },
  {
   "cell_type": "markdown",
   "id": "signal-ethernet",
   "metadata": {},
   "source": [
    "## 파이썬 라이브러리 BeautifulSoup, Requests 사용하기"
   ]
  },
  {
   "cell_type": "markdown",
   "id": "wanted-saskatchewan",
   "metadata": {},
   "source": [
    "### 1. 웹페이지 다운로드"
   ]
  },
  {
   "cell_type": "code",
   "execution_count": 5,
   "id": "female-primary",
   "metadata": {},
   "outputs": [
    {
     "data": {
      "text/plain": [
       "<Response [200]>"
      ]
     },
     "execution_count": 5,
     "metadata": {},
     "output_type": "execute_result"
    }
   ],
   "source": [
    "import requests\n",
    "url = 'http://www.google.com'\n",
    "response = requests.get(url)\n",
    "response"
   ]
  },
  {
   "cell_type": "code",
   "execution_count": 7,
   "id": "constitutional-theater",
   "metadata": {},
   "outputs": [
    {
     "data": {
      "text/plain": [
       "'<!doctype html><html itemscope=\"\" itemtype=\"http://schema.org/WebPage\" lang=\"en\"><head><meta content=\"Search the world\\'s information, including webpages, images, videos and more. Google has many special features to help you find exactly what you\\'re looking for.\" name=\"description\"><meta content=\"noodp\" name=\"robots\"><meta content=\"text/html; charset=UTF-8\" http-equiv=\"Content-Type\"><meta content=\"/images/branding/googleg/1x/googleg_standard_color_128dp.png\" itemprop=\"image\"><title>Google</title><script nonce=\"m+8CTAgoFPj+Mc6DnpK++Q==\">(function(){window.google={kEI:\\'hZI6YZ7OG_eW4-EPvKK6mAY\\',kEXPI:\\'0,772215,1,530320,56873,954,5105,206,4804,2316,383,246,5,1354,4936,315,1122515,1197719,563,119,328866,51224,16114,28684,17572,4859,1361,9290,3030,2814,14765,4020,978,13228,3847,4192,6434,1138,17903,2777,919,5966,708,1279,2212,530,149,1943,1983,4314,3514,606,2025,1775,520,14670,604,2623,2845,7,12354,5096,14396,1924,908,2,3555,12710,432,3,346,1244,1,5445,148,11323,2652,4,1528,2304,1236,5803,74,1983,2626,2015,11501,3824,1011,2039,2658,4242,3115,30,5663,7965,2305,638,37,1457,5586,3772,5993,1435,5797,2560,992,3102,20,3118,6,908,3,3541,1,5349,8912,449,1,1813,283,912,5992,14678,769,8,1,1272,1715,2,3057,6155,627,4,32,4,5387,4,683,442,342,255,75,4,2914,1557,127,617,5852,2050,8413,1160,1267,2,5140,291,298,144,1936,165,2556,3708,2,835,3,123,24,5326,5388,461,2390,1,8,191,2,7561,1932,191,2444,1596,982,78,3054,549,2468,2106,793,1265,85,1,810,2250,719,3,2390,4,2629,324,355,480,1113,1,287,287,28,427,36,691,1,1268,1101,439,22,2092,23,2,524,88,4,45,270,855,573,246,432,643,196,882,1,8,738,39,84,574,675,2,741,52,49,2,146,259,16,2,3,403,3,434,177,111,160,69,495,7,166,72,2659,5579350,189,257,73,77,11,45,73,5996070,519,206,2800491,882,444,1,2,80,1,1796,1,9,2553,1,748,141,795,563,1,4265,1,1,2,1331,4142,2609,155,17,13,72,139,4,2,20,2,169,13,19,46,5,39,96,548,29,2,2,1,2,1,2,2,7,4,1,2,2,2,2,2,2,353,513,186,1,1,158,3,2,2,2,2,2,4,2,3,3,269,364,106,6,25,9,4,6,24,3,7,23954169,4041351,338,3,2414,448,2,88,375,172,406,9,4775,1396\\',kBL:\\'luCR\\'};google.sn=\\'webhp\\';google.kHL=\\'en\\';})();(function(){\\nvar f=this||self;var h,k=[];function l(a){for(var b;a&&(!a.getAttribute||!(b=a.getAttribute(\"eid\")));)a=a.parentNode;return b||h}function m(a){for(var b=null;a&&(!a.getAttribute||!(b=a.getAttribute(\"leid\")));)a=a.parentNode;return b}\\nfunction n(a,b,c,d,g){var e=\"\";c||-1!==b.search(\"&ei=\")||(e=\"&ei=\"+l(d),-1===b.search(\"&lei=\")&&(d=m(d))&&(e+=\"&lei=\"+d));d=\"\";!c&&f._cshid&&-1===b.search(\"&cshid=\")&&\"slh\"!==a&&(d=\"&cshid=\"+f._cshid);c=c||\"/\"+(g||\"gen_204\")+\"?atyp=i&ct=\"+a+\"&cad=\"+b+e+\"&zx=\"+Date.now()+d;/^http:/i.test(c)&&\"https:\"===window.location.protocol&&(google.ml&&google.ml(Error(\"a\"),!1,{src:c,glmm:1}),c=\"\");return c};h=google.kEI;google.getEI=l;google.getLEI=m;google.ml=function(){return null};google.log=function(a,b,c,d,g){if(c=n(a,b,c,d,g)){a=new Image;var e=k.length;k[e]=a;a.onerror=a.onload=a.onabort=function(){delete k[e]};a.src=c}};google.logUrl=n;}).call(this);(function(){\\ngoogle.y={};google.sy=[];google.x=function(a,b){if(a)var c=a.id;else{do c=Math.random();while(google.y[c])}google.y[c]=[a,b];return!1};google.sx=function(a){google.sy.push(a)};google.lm=[];google.plm=function(a){google.lm.push.apply(google.lm,a)};google.lq=[];google.load=function(a,b,c){google.lq.push([[a],b,c])};google.loadAll=function(a,b){google.lq.push([a,b])};google.bx=!1;google.lx=function(){};}).call(this);google.f={};(function(){\\ndocument.documentElement.addEventListener(\"submit\",function(b){var a;if(a=b.target){var c=a.getAttribute(\"data-submitfalse\");a=\"1\"===c||\"q\"===c&&!a.elements.q.value?!0:!1}else a=!1;a&&(b.preventDefault(),b.stopPropagation())},!0);document.documentElement.addEventListener(\"click\",function(b){var a;a:{for(a=b.target;a&&a!==document.documentElement;a=a.parentElement)if(\"A\"===a.tagName){a=\"1\"===a.getAttribute(\"data-nohref\");break a}a=!1}a&&b.preventDefault()},!0);}).call(this);</script><style>#gbar,#guser{font-size:13px;padding-top:1px !important;}#gbar{height:22px}#guser{padding-bottom:7px !important;text-align:right}.gbh,.gbd{border-top:1px solid #c9d7f1;font-size:1px}.gbh{height:0;position:absolute;top:24px;width:100%}@media all{.gb1{height:22px;margin-right:.5em;vertical-align:top}#gbar{float:left}}a.gb1,a.gb4{text-decoration:underline !important}a.gb1,a.gb4{color:#00c !important}.gbi .gb4{color:#dd8e27 !important}.gbf .gb4{color:#900 !important}\\n</style><style>body,td,a,p,.h{font-family:arial,sans-serif}body{margin:0;overflow-y:scroll}#gog{padding:3px 8px 0}td{line-height:.8em}.gac_m td{line-height:17px}form{margin-bottom:20px}.h{color:#1558d6}em{font-weight:bold;font-style:normal}.lst{height:25px;width:496px}.gsfi,.lst{font:18px arial,sans-serif}.gsfs{font:17px arial,sans-serif}.ds{display:inline-box;display:inline-block;margin:3px 0 4px;margin-left:4px}input{font-family:inherit}body{background:#fff;color:#000}a{color:#4b11a8;text-decoration:none}a:hover,a:active{text-decoration:underline}.fl a{color:#1558d6}a:visited{color:#4b11a8}.sblc{padding-top:5px}.sblc a{display:block;margin:2px 0;margin-left:13px;font-size:11px}.lsbb{background:#f8f9fa;border:solid 1px;border-color:#dadce0 #70757a #70757a #dadce0;height:30px}.lsbb{display:block}#WqQANb a{display:inline-block;margin:0 12px}.lsb{background:url(/images/nav_logo229.png) 0 -261px repeat-x;border:none;color:#000;cursor:pointer;height:30px;margin:0;outline:0;font:15px arial,sans-serif;vertical-align:top}.lsb:active{background:#dadce0}.lst:focus{outline:none}</style><script nonce=\"m+8CTAgoFPj+Mc6DnpK++Q==\">(function(){window.google.erd={sp:\\'hp\\',jsr:0,bv:106};\\nvar f=this||self;var g,h,k=null!==(g=f.mei)&&void 0!==g?g:1,l=null!==(h=f.sdo)&&void 0!==h?h:!0,n=0,p,q=google.erd,t=q.jsr;google.ml=function(a,b,e,m,d){d=void 0===d?2:d;b&&(p=a&&a.message);if(google.dl)return google.dl(a,d,e),null;if(0>t){window.console&&console.error(a,e);if(-2===t)throw a;b=!1}else b=!a||!a.message||\"Error loading script\"===a.message||n>=k&&!m?!1:!0;if(!b)return null;n++;e=e||{};b=encodeURIComponent;var c=\"/gen_204?atyp=i&ei=\"+b(google.kEI);google.kEXPI&&(c+=\"&jexpid=\"+b(google.kEXPI));c+=\"&srcpg=\"+b(q.sp)+\"&jsr=\"+b(q.jsr)+\"&bver=\"+b(q.bv)+(\"&jsel=\"+d);c+=\"&sn=\"+b(google.sn);for(var r in e)c+=\"&\",c+=b(r),c+=\"=\",c+=b(e[r]);c=c+\"&emsg=\"+b(a.name+\": \"+a.message);c=c+\"&jsst=\"+b(a.stack||\"N/A\");12288<=c.length&&(c=c.substr(0,12288));a=c;m||google.log(0,\"\",a);return a};window.onerror=function(a,b,e,m,d){p!==a&&google.ml(d instanceof Error?d:Error(a),!1,void 0,!1,google.dl?0:2);p=null;l&&n>=k&&(window.onerror=null)};})();</script></head><body bgcolor=\"#fff\"><script nonce=\"m+8CTAgoFPj+Mc6DnpK++Q==\">(function(){var src=\\'/images/nav_logo229.png\\';var iesg=false;document.body.onload = function(){window.n && window.n();if (document.images){new Image().src=src;}\\nif (!iesg){document.f&&document.f.q.focus();document.gbqf&&document.gbqf.q.focus();}\\n}\\n})();</script><div id=\"mngb\"><div id=gbar><nobr><b class=gb1>Search</b> <a class=gb1 href=\"https://www.google.com/imghp?hl=en&tab=wi\">Images</a> <a class=gb1 href=\"https://maps.google.com/maps?hl=en&tab=wl\">Maps</a> <a class=gb1 href=\"https://play.google.com/?hl=en&tab=w8\">Play</a> <a class=gb1 href=\"https://www.youtube.com/?gl=US&tab=w1\">YouTube</a> <a class=gb1 href=\"https://news.google.com/?tab=wn\">News</a> <a class=gb1 href=\"https://mail.google.com/mail/?tab=wm\">Gmail</a> <a class=gb1 href=\"https://drive.google.com/?tab=wo\">Drive</a> <a class=gb1 style=\"text-decoration:none\" href=\"https://www.google.com/intl/en/about/products?tab=wh\"><u>More</u> &raquo;</a></nobr></div><div id=guser width=100%><nobr><span id=gbn class=gbi></span><span id=gbf class=gbf></span><span id=gbe></span><a href=\"http://www.google.com/history/optout?hl=en\" class=gb4>Web History</a> | <a  href=\"/preferences?hl=en\" class=gb4>Settings</a> | <a target=_top id=gb_70 href=\"https://accounts.google.com/ServiceLogin?hl=en&passive=true&continue=https://www.google.com/&ec=GAZAAQ\" class=gb4>Sign in</a></nobr></div><div class=gbh style=left:0></div><div class=gbh style=right:0></div></div><center><br clear=\"all\" id=\"lgpd\"><div id=\"lga\"><img alt=\"Google\" height=\"92\" src=\"/images/branding/googlelogo/1x/googlelogo_white_background_color_272x92dp.png\" style=\"padding:28px 0 14px\" width=\"272\" id=\"hplogo\"><br><br></div><form action=\"/search\" name=\"f\"><table cellpadding=\"0\" cellspacing=\"0\"><tr valign=\"top\"><td width=\"25%\">&nbsp;</td><td align=\"center\" nowrap=\"\"><input name=\"ie\" value=\"ISO-8859-1\" type=\"hidden\"><input value=\"en\" name=\"hl\" type=\"hidden\"><input name=\"source\" type=\"hidden\" value=\"hp\"><input name=\"biw\" type=\"hidden\"><input name=\"bih\" type=\"hidden\"><div class=\"ds\" style=\"height:32px;margin:4px 0\"><input class=\"lst\" style=\"margin:0;padding:5px 8px 0 6px;vertical-align:top;color:#000\" autocomplete=\"off\" value=\"\" title=\"Google Search\" maxlength=\"2048\" name=\"q\" size=\"57\"></div><br style=\"line-height:0\"><span class=\"ds\"><span class=\"lsbb\"><input class=\"lsb\" value=\"Google Search\" name=\"btnG\" type=\"submit\"></span></span><span class=\"ds\"><span class=\"lsbb\"><input class=\"lsb\" id=\"tsuid1\" value=\"I\\'m Feeling Lucky\" name=\"btnI\" type=\"submit\"><script nonce=\"m+8CTAgoFPj+Mc6DnpK++Q==\">(function(){var id=\\'tsuid1\\';document.getElementById(id).onclick = function(){if (this.form.q.value){this.checked = 1;if (this.form.iflsig)this.form.iflsig.disabled = false;}\\nelse top.location=\\'/doodles/\\';};})();</script><input value=\"ALs-wAMAAAAAYTqglanMRhlVFpcYDde1dWoIA2zuCZPS\" name=\"iflsig\" type=\"hidden\"></span></span></td><td class=\"fl sblc\" align=\"left\" nowrap=\"\" width=\"25%\"><a href=\"/advanced_search?hl=en&amp;authuser=0\">Advanced search</a></td></tr></table><input id=\"gbv\" name=\"gbv\" type=\"hidden\" value=\"1\"><script nonce=\"m+8CTAgoFPj+Mc6DnpK++Q==\">(function(){\\nvar a,b=\"1\";if(document&&document.getElementById)if(\"undefined\"!=typeof XMLHttpRequest)b=\"2\";else if(\"undefined\"!=typeof ActiveXObject){var c,d,e=[\"MSXML2.XMLHTTP.6.0\",\"MSXML2.XMLHTTP.3.0\",\"MSXML2.XMLHTTP\",\"Microsoft.XMLHTTP\"];for(c=0;d=e[c++];)try{new ActiveXObject(d),b=\"2\"}catch(h){}}a=b;if(\"2\"==a&&-1==location.search.indexOf(\"&gbv=2\")){var f=google.gbvu,g=document.getElementById(\"gbv\");g&&(g.value=a);f&&window.setTimeout(function(){location.href=f},0)};}).call(this);</script></form><div id=\"gac_scont\"></div><div style=\"font-size:83%;min-height:3.5em\"><br></div><span id=\"footer\"><div style=\"font-size:10pt\"><div style=\"margin:19px auto;text-align:center\" id=\"WqQANb\"><a href=\"/intl/en/ads/\">Advertising\\xa0Programs</a><a href=\"/services/\">Business Solutions</a><a href=\"/intl/en/about.html\">About Google</a></div></div><p style=\"font-size:8pt;color:#70757a\">&copy; 2021 - <a href=\"/intl/en/policies/privacy/\">Privacy</a> - <a href=\"/intl/en/policies/terms/\">Terms</a></p></span></center><script nonce=\"m+8CTAgoFPj+Mc6DnpK++Q==\">(function(){window.google.cdo={height:757,width:1440};(function(){\\nvar a=window.innerWidth,b=window.innerHeight;if(!a||!b){var c=window.document,d=\"CSS1Compat\"==c.compatMode?c.documentElement:c.body;a=d.clientWidth;b=d.clientHeight}a&&b&&(a!=google.cdo.width||b!=google.cdo.height)&&google.log(\"\",\"\",\"/client_204?&atyp=i&biw=\"+a+\"&bih=\"+b+\"&ei=\"+google.kEI);}).call(this);})();</script> <script nonce=\"m+8CTAgoFPj+Mc6DnpK++Q==\">(function(){google.xjs={ck:\\'\\',cs:\\'\\',excm:[]};})();</script>  <script nonce=\"m+8CTAgoFPj+Mc6DnpK++Q==\">(function(){var u=\\'/xjs/_/js/k\\\\x3dxjs.hp.en_US.OTBwwT-0FTo.O/am\\\\x3dAPgEWA/d\\\\x3d1/ed\\\\x3d1/rs\\\\x3dACT90oHl0G2Dtg0AbgDUNmwGHktJROdAZQ/m\\\\x3dsb_he,d\\';\\nvar e=this||self,f=function(a){return a};var g;var l=function(a,b){this.g=b===h?a:\"\"};l.prototype.toString=function(){return this.g+\"\"};var h={};function m(){var a=u;google.lx=function(){n(a);google.lx=function(){}};google.bx||google.lx()}\\nfunction n(a){google.timers&&google.timers.load&&google.tick&&google.tick(\"load\",\"xjsls\");var b=document;var c=\"SCRIPT\";\"application/xhtml+xml\"===b.contentType&&(c=c.toLowerCase());c=b.createElement(c);if(void 0===g){b=null;var k=e.trustedTypes;if(k&&k.createPolicy){try{b=k.createPolicy(\"goog#html\",{createHTML:f,createScript:f,createScriptURL:f})}catch(p){e.console&&e.console.error(p.message)}g=b}else g=b}a=(b=g)?b.createScriptURL(a):a;a=new l(a,h);c.src=a instanceof l&&a.constructor===l?a.g:\"type_error:TrustedResourceUrl\";var d;a=(c.ownerDocument&&c.ownerDocument.defaultView||window).document;(d=(b=null===(d=a.querySelector)||void 0===d?void 0:d.call(a,\"script[nonce]\"))?b.nonce||b.getAttribute(\"nonce\")||\"\":\"\")&&c.setAttribute(\"nonce\",d);document.body.appendChild(c);google.psa=!0};setTimeout(function(){m()},0);})();(function(){window.google.xjsu=\\'/xjs/_/js/k\\\\x3dxjs.hp.en_US.OTBwwT-0FTo.O/am\\\\x3dAPgEWA/d\\\\x3d1/ed\\\\x3d1/rs\\\\x3dACT90oHl0G2Dtg0AbgDUNmwGHktJROdAZQ/m\\\\x3dsb_he,d\\';})();function _DumpException(e){throw e;}\\nfunction _F_installCss(c){}\\n(function(){google.jl={attn:false,blt:\\'none\\',chnk:0,dw:false,emtn:0,end:0,ine:false,lls:\\'default\\',pdt:0,rep:0,sif:true,snet:true,strt:0,ubm:false,uwp:true};})();(function(){var pmc=\\'{\\\\x22d\\\\x22:{},\\\\x22sb_he\\\\x22:{\\\\x22agen\\\\x22:true,\\\\x22cgen\\\\x22:true,\\\\x22client\\\\x22:\\\\x22heirloom-hp\\\\x22,\\\\x22dh\\\\x22:true,\\\\x22dhqt\\\\x22:true,\\\\x22ds\\\\x22:\\\\x22\\\\x22,\\\\x22ffql\\\\x22:\\\\x22en\\\\x22,\\\\x22fl\\\\x22:true,\\\\x22host\\\\x22:\\\\x22google.com\\\\x22,\\\\x22isbh\\\\x22:28,\\\\x22jsonp\\\\x22:true,\\\\x22msgs\\\\x22:{\\\\x22cibl\\\\x22:\\\\x22Clear Search\\\\x22,\\\\x22dym\\\\x22:\\\\x22Did you mean:\\\\x22,\\\\x22lcky\\\\x22:\\\\x22I\\\\\\\\u0026#39;m Feeling Lucky\\\\x22,\\\\x22lml\\\\x22:\\\\x22Learn more\\\\x22,\\\\x22oskt\\\\x22:\\\\x22Input tools\\\\x22,\\\\x22psrc\\\\x22:\\\\x22This search was removed from your \\\\\\\\u003Ca href\\\\x3d\\\\\\\\\\\\x22/history\\\\\\\\\\\\x22\\\\\\\\u003EWeb History\\\\\\\\u003C/a\\\\\\\\u003E\\\\x22,\\\\x22psrl\\\\x22:\\\\x22Remove\\\\x22,\\\\x22sbit\\\\x22:\\\\x22Search by image\\\\x22,\\\\x22srch\\\\x22:\\\\x22Google Search\\\\x22},\\\\x22ovr\\\\x22:{},\\\\x22pq\\\\x22:\\\\x22\\\\x22,\\\\x22refpd\\\\x22:true,\\\\x22rfs\\\\x22:[],\\\\x22sbas\\\\x22:\\\\x220 3px 8px 0 rgba(0,0,0,0.2),0 0 0 1px rgba(0,0,0,0.08)\\\\x22,\\\\x22sbpl\\\\x22:16,\\\\x22sbpr\\\\x22:16,\\\\x22scd\\\\x22:10,\\\\x22stok\\\\x22:\\\\x22OVYjAfWKABPthBSv_zkuMr8gVb0\\\\x22,\\\\x22uhde\\\\x22:false}}\\';google.pmc=JSON.parse(pmc);})();</script>        </body></html>'"
      ]
     },
     "execution_count": 7,
     "metadata": {},
     "output_type": "execute_result"
    }
   ],
   "source": [
    "def download2(url):\n",
    "    try:\n",
    "        response = requests.get(url)\n",
    "        html = response.text\n",
    "    except requests.ConnectionError:\n",
    "        print('Connection error')\n",
    "        html = None\n",
    "    return html\n",
    "\n",
    "download2('https://www.google.com')"
   ]
  },
  {
   "cell_type": "markdown",
   "id": "cubic-hebrew",
   "metadata": {},
   "source": [
    "### 2. 웹페이지 분석하기"
   ]
  },
  {
   "cell_type": "markdown",
   "id": "informed-crystal",
   "metadata": {},
   "source": [
    "#### 태그에 쉽게 접근"
   ]
  },
  {
   "cell_type": "code",
   "execution_count": 8,
   "id": "dependent-index",
   "metadata": {},
   "outputs": [],
   "source": [
    "import requests\n",
    "from bs4 import BeautifulSoup\n",
    "html = requests.get('http://www.google.com')\n",
    "soup = BeautifulSoup(html.text, 'html.parser')"
   ]
  },
  {
   "cell_type": "code",
   "execution_count": 9,
   "id": "spanish-lying",
   "metadata": {},
   "outputs": [
    {
     "data": {
      "text/plain": [
       "<body bgcolor=\"#fff\"><script nonce=\"ykp4iZQkePjWC+NmVKyz9A==\">(function(){var src='/images/nav_logo229.png';var iesg=false;document.body.onload = function(){window.n && window.n();if (document.images){new Image().src=src;}\n",
       "if (!iesg){document.f&&document.f.q.focus();document.gbqf&&document.gbqf.q.focus();}\n",
       "}\n",
       "})();</script><div id=\"mngb\"><div id=\"gbar\"><nobr><b class=\"gb1\">Search</b> <a class=\"gb1\" href=\"http://www.google.com/imghp?hl=en&amp;tab=wi\">Images</a> <a class=\"gb1\" href=\"http://maps.google.com/maps?hl=en&amp;tab=wl\">Maps</a> <a class=\"gb1\" href=\"https://play.google.com/?hl=en&amp;tab=w8\">Play</a> <a class=\"gb1\" href=\"http://www.youtube.com/?gl=US&amp;tab=w1\">YouTube</a> <a class=\"gb1\" href=\"https://news.google.com/?tab=wn\">News</a> <a class=\"gb1\" href=\"https://mail.google.com/mail/?tab=wm\">Gmail</a> <a class=\"gb1\" href=\"https://drive.google.com/?tab=wo\">Drive</a> <a class=\"gb1\" href=\"https://www.google.com/intl/en/about/products?tab=wh\" style=\"text-decoration:none\"><u>More</u> »</a></nobr></div><div id=\"guser\" width=\"100%\"><nobr><span class=\"gbi\" id=\"gbn\"></span><span class=\"gbf\" id=\"gbf\"></span><span id=\"gbe\"></span><a class=\"gb4\" href=\"http://www.google.com/history/optout?hl=en\">Web History</a> | <a class=\"gb4\" href=\"/preferences?hl=en\">Settings</a> | <a class=\"gb4\" href=\"https://accounts.google.com/ServiceLogin?hl=en&amp;passive=true&amp;continue=http://www.google.com/&amp;ec=GAZAAQ\" id=\"gb_70\" target=\"_top\">Sign in</a></nobr></div><div class=\"gbh\" style=\"left:0\"></div><div class=\"gbh\" style=\"right:0\"></div></div><center><br clear=\"all\" id=\"lgpd\"/><div id=\"lga\"><img alt=\"Google\" height=\"92\" id=\"hplogo\" src=\"/images/branding/googlelogo/1x/googlelogo_white_background_color_272x92dp.png\" style=\"padding:28px 0 14px\" width=\"272\"/><br/><br/></div><form action=\"/search\" name=\"f\"><table cellpadding=\"0\" cellspacing=\"0\"><tr valign=\"top\"><td width=\"25%\"> </td><td align=\"center\" nowrap=\"\"><input name=\"ie\" type=\"hidden\" value=\"ISO-8859-1\"/><input name=\"hl\" type=\"hidden\" value=\"en\"/><input name=\"source\" type=\"hidden\" value=\"hp\"/><input name=\"biw\" type=\"hidden\"/><input name=\"bih\" type=\"hidden\"/><div class=\"ds\" style=\"height:32px;margin:4px 0\"><input autocomplete=\"off\" class=\"lst\" maxlength=\"2048\" name=\"q\" size=\"57\" style=\"margin:0;padding:5px 8px 0 6px;vertical-align:top;color:#000\" title=\"Google Search\" value=\"\"/></div><br style=\"line-height:0\"/><span class=\"ds\"><span class=\"lsbb\"><input class=\"lsb\" name=\"btnG\" type=\"submit\" value=\"Google Search\"/></span></span><span class=\"ds\"><span class=\"lsbb\"><input class=\"lsb\" id=\"tsuid1\" name=\"btnI\" type=\"submit\" value=\"I'm Feeling Lucky\"/><script nonce=\"ykp4iZQkePjWC+NmVKyz9A==\">(function(){var id='tsuid1';document.getElementById(id).onclick = function(){if (this.form.q.value){this.checked = 1;if (this.form.iflsig)this.form.iflsig.disabled = false;}\n",
       "else top.location='/doodles/';};})();</script><input name=\"iflsig\" type=\"hidden\" value=\"ALs-wAMAAAAAYTqgx7jBxJrkYg2pFCmzFIz4hoa7B7WW\"/></span></span></td><td align=\"left\" class=\"fl sblc\" nowrap=\"\" width=\"25%\"><a href=\"/advanced_search?hl=en&amp;authuser=0\">Advanced search</a></td></tr></table><input id=\"gbv\" name=\"gbv\" type=\"hidden\" value=\"1\"/><script nonce=\"ykp4iZQkePjWC+NmVKyz9A==\">(function(){\n",
       "var a,b=\"1\";if(document&&document.getElementById)if(\"undefined\"!=typeof XMLHttpRequest)b=\"2\";else if(\"undefined\"!=typeof ActiveXObject){var c,d,e=[\"MSXML2.XMLHTTP.6.0\",\"MSXML2.XMLHTTP.3.0\",\"MSXML2.XMLHTTP\",\"Microsoft.XMLHTTP\"];for(c=0;d=e[c++];)try{new ActiveXObject(d),b=\"2\"}catch(h){}}a=b;if(\"2\"==a&&-1==location.search.indexOf(\"&gbv=2\")){var f=google.gbvu,g=document.getElementById(\"gbv\");g&&(g.value=a);f&&window.setTimeout(function(){location.href=f},0)};}).call(this);</script></form><div id=\"gac_scont\"></div><div style=\"font-size:83%;min-height:3.5em\"><br/></div><span id=\"footer\"><div style=\"font-size:10pt\"><div id=\"WqQANb\" style=\"margin:19px auto;text-align:center\"><a href=\"/intl/en/ads/\">Advertising Programs</a><a href=\"/services/\">Business Solutions</a><a href=\"/intl/en/about.html\">About Google</a></div></div><p style=\"font-size:8pt;color:#70757a\">© 2021 - <a href=\"/intl/en/policies/privacy/\">Privacy</a> - <a href=\"/intl/en/policies/terms/\">Terms</a></p></span></center><script nonce=\"ykp4iZQkePjWC+NmVKyz9A==\">(function(){window.google.cdo={height:757,width:1440};(function(){\n",
       "var a=window.innerWidth,b=window.innerHeight;if(!a||!b){var c=window.document,d=\"CSS1Compat\"==c.compatMode?c.documentElement:c.body;a=d.clientWidth;b=d.clientHeight}a&&b&&(a!=google.cdo.width||b!=google.cdo.height)&&google.log(\"\",\"\",\"/client_204?&atyp=i&biw=\"+a+\"&bih=\"+b+\"&ei=\"+google.kEI);}).call(this);})();</script> <script nonce=\"ykp4iZQkePjWC+NmVKyz9A==\">(function(){google.xjs={ck:'',cs:'',excm:[]};})();</script> <script nonce=\"ykp4iZQkePjWC+NmVKyz9A==\">(function(){var u='/xjs/_/js/k\\x3dxjs.hp.en_US.OTBwwT-0FTo.O/am\\x3dAPgEWA/d\\x3d1/ed\\x3d1/rs\\x3dACT90oHl0G2Dtg0AbgDUNmwGHktJROdAZQ/m\\x3dsb_he,d';\n",
       "var e=this||self,f=function(a){return a};var g;var l=function(a,b){this.g=b===h?a:\"\"};l.prototype.toString=function(){return this.g+\"\"};var h={};function m(){var a=u;google.lx=function(){n(a);google.lx=function(){}};google.bx||google.lx()}\n",
       "function n(a){google.timers&&google.timers.load&&google.tick&&google.tick(\"load\",\"xjsls\");var b=document;var c=\"SCRIPT\";\"application/xhtml+xml\"===b.contentType&&(c=c.toLowerCase());c=b.createElement(c);if(void 0===g){b=null;var k=e.trustedTypes;if(k&&k.createPolicy){try{b=k.createPolicy(\"goog#html\",{createHTML:f,createScript:f,createScriptURL:f})}catch(p){e.console&&e.console.error(p.message)}g=b}else g=b}a=(b=g)?b.createScriptURL(a):a;a=new l(a,h);c.src=a instanceof l&&a.constructor===l?a.g:\"type_error:TrustedResourceUrl\";var d;a=(c.ownerDocument&&c.ownerDocument.defaultView||window).document;(d=(b=null===(d=a.querySelector)||void 0===d?void 0:d.call(a,\"script[nonce]\"))?b.nonce||b.getAttribute(\"nonce\")||\"\":\"\")&&c.setAttribute(\"nonce\",d);document.body.appendChild(c);google.psa=!0};setTimeout(function(){m()},0);})();(function(){window.google.xjsu='/xjs/_/js/k\\x3dxjs.hp.en_US.OTBwwT-0FTo.O/am\\x3dAPgEWA/d\\x3d1/ed\\x3d1/rs\\x3dACT90oHl0G2Dtg0AbgDUNmwGHktJROdAZQ/m\\x3dsb_he,d';})();function _DumpException(e){throw e;}\n",
       "function _F_installCss(c){}\n",
       "(function(){google.jl={attn:false,blt:'none',chnk:0,dw:false,emtn:0,end:0,ine:false,lls:'default',pdt:0,rep:0,sif:true,snet:true,strt:0,ubm:false,uwp:true};})();(function(){var pmc='{\\x22d\\x22:{},\\x22sb_he\\x22:{\\x22agen\\x22:false,\\x22cgen\\x22:false,\\x22client\\x22:\\x22heirloom-hp\\x22,\\x22dh\\x22:true,\\x22dhqt\\x22:true,\\x22ds\\x22:\\x22\\x22,\\x22ffql\\x22:\\x22en\\x22,\\x22fl\\x22:true,\\x22host\\x22:\\x22google.com\\x22,\\x22isbh\\x22:28,\\x22jsonp\\x22:true,\\x22msgs\\x22:{\\x22cibl\\x22:\\x22Clear Search\\x22,\\x22dym\\x22:\\x22Did you mean:\\x22,\\x22lcky\\x22:\\x22I\\\\u0026#39;m Feeling Lucky\\x22,\\x22lml\\x22:\\x22Learn more\\x22,\\x22oskt\\x22:\\x22Input tools\\x22,\\x22psrc\\x22:\\x22This search was removed from your \\\\u003Ca href\\x3d\\\\\\x22/history\\\\\\x22\\\\u003EWeb History\\\\u003C/a\\\\u003E\\x22,\\x22psrl\\x22:\\x22Remove\\x22,\\x22sbit\\x22:\\x22Search by image\\x22,\\x22srch\\x22:\\x22Google Search\\x22},\\x22ovr\\x22:{},\\x22pq\\x22:\\x22\\x22,\\x22refpd\\x22:true,\\x22rfs\\x22:[],\\x22sbas\\x22:\\x220 3px 8px 0 rgba(0,0,0,0.2),0 0 0 1px rgba(0,0,0,0.08)\\x22,\\x22sbpl\\x22:16,\\x22sbpr\\x22:16,\\x22scd\\x22:10,\\x22stok\\x22:\\x22GjerxP9PVa6X2mnDlpM-tYNbM1A\\x22,\\x22uhde\\x22:false}}';google.pmc=JSON.parse(pmc);})();</script> </body>"
      ]
     },
     "execution_count": 9,
     "metadata": {},
     "output_type": "execute_result"
    }
   ],
   "source": [
    "soup.html.body"
   ]
  },
  {
   "cell_type": "markdown",
   "id": "coated-helena",
   "metadata": {},
   "source": [
    "html이 태그 내용이 다음과 같다고 하자.\n",
    "```html\n",
    "<span>Wow it's so good!!</span>\n",
    "```"
   ]
  },
  {
   "cell_type": "code",
   "execution_count": 10,
   "id": "familiar-armenia",
   "metadata": {},
   "outputs": [
    {
     "data": {
      "text/plain": [
       "<span>Wow it's so good!!</span>"
      ]
     },
     "execution_count": 10,
     "metadata": {},
     "output_type": "execute_result"
    }
   ],
   "source": [
    "soup = BeautifulSoup(\"<span>Wow it's so good!!</span>\", 'html.parser')\n",
    "soup.span"
   ]
  },
  {
   "cell_type": "markdown",
   "id": "respiratory-handling",
   "metadata": {},
   "source": [
    "#### find(), findAll()"
   ]
  },
  {
   "cell_type": "markdown",
   "id": "moral-grade",
   "metadata": {},
   "source": [
    "아래 와 같은 html이 있다고 하자.\n",
    "```html\n",
    "<title>Fundamental</title> \n",
    "        <body>\n",
    "          <p id='programming'>python</p>\n",
    "          <p id='programming'>java</p>\n",
    "          <p id='algorithm'>algorithm</p>\n",
    "          <p id='fundamental'>math</p>\n",
    "          <p id='programming'>C++</p>     \n",
    "         </body>\n",
    "```\n",
    "\n",
    "BeautifulSoup객체로 만든 뒤 \\<p> 태그 항목을 찾는 코드는 다음과 같다."
   ]
  },
  {
   "cell_type": "code",
   "execution_count": 11,
   "id": "lasting-swimming",
   "metadata": {},
   "outputs": [
    {
     "data": {
      "text/plain": [
       "[<p id=\"programming\">python</p>,\n",
       " <p id=\"programming\">java</p>,\n",
       " <p id=\"algorithm\">algorithm</p>,\n",
       " <p id=\"fundamental\">math</p>,\n",
       " <p id=\"programming\">C++</p>]"
      ]
     },
     "execution_count": 11,
     "metadata": {},
     "output_type": "execute_result"
    }
   ],
   "source": [
    "# ''', \"\"\" 는 여러줄의 문자열을 입력할 때 사용\n",
    "html='''<title>Fundamental</title> \n",
    "         <body>\n",
    "          <p id='programming'>python</p> \n",
    "          <p id='programming'>java</p> \n",
    "          <p id='algorithm'>algorithm</p> \n",
    "          <p id='fundamental'>math</p> \n",
    "          <p id='programming'>C++</p> \n",
    "          </body>'''\n",
    "soup = BeautifulSoup(html, 'html.parser')\n",
    "soup.findAll({'p'})"
   ]
  },
  {
   "cell_type": "markdown",
   "id": "varied-humanitarian",
   "metadata": {},
   "source": [
    "\\<p> 태그에서 속성값이 programming인 태그를 찾고 싶을때는 다음과 같이 해주면 된다."
   ]
  },
  {
   "cell_type": "code",
   "execution_count": 12,
   "id": "norman-stand",
   "metadata": {},
   "outputs": [
    {
     "data": {
      "text/plain": [
       "[<p id=\"programming\">python</p>,\n",
       " <p id=\"programming\">java</p>,\n",
       " <p id=\"programming\">C++</p>]"
      ]
     },
     "execution_count": 12,
     "metadata": {},
     "output_type": "execute_result"
    }
   ],
   "source": [
    "soup.findAll('p', id='programming')"
   ]
  },
  {
   "cell_type": "markdown",
   "id": "detected-bankruptcy",
   "metadata": {},
   "source": [
    "----\n",
    "## 네이버 환율 정보 크롤링\n",
    "- 크롤링 사이트: https://m.stock.naver.com/marketindex/index.nhn\n",
    "- 국가와 환율 데이터를 크롤링\n",
    "- 크롤링한 데이터를 pandas의 Series객체로 저장"
   ]
  },
  {
   "cell_type": "code",
   "execution_count": 13,
   "id": "swiss-priest",
   "metadata": {},
   "outputs": [
    {
     "data": {
      "text/plain": [
       "남아프리카 ZAR        82.70\n",
       "노르웨이 NOK        134.67\n",
       "뉴질랜드 NZD        831.99\n",
       "대만 TWD           42.27\n",
       "덴마크 DKK         186.13\n",
       "러시아 RUB          16.02\n",
       "말레이시아 MYR       282.06\n",
       "멕시코 MXN          58.78\n",
       "몽골 MNT            0.41\n",
       "미국 USD        1,170.00\n",
       "바레인 BHD       3,104.02\n",
       "방글라데시 BDT        13.73\n",
       "베트남 VND           5.14\n",
       "브라질 BRL         219.83\n",
       "브루나이 BND        870.57\n",
       "사우디 SAR         311.95\n",
       "스웨덴 SEK         135.89\n",
       "스위스 CHF       1,272.36\n",
       "싱가포르 SGD        870.57\n",
       "아랍에미리트 AED      318.53\n",
       "영국 GBP        1,615.89\n",
       "오만 OMR        3,038.96\n",
       "요르단 JOD       1,650.21\n",
       "유럽 EUR        1,384.11\n",
       "이스라엘 ILS        365.29\n",
       "이집트 EGP          74.34\n",
       "인도 INR           15.91\n",
       "인도네시아 IDR         8.23\n",
       "일본 JPY        1,064.41\n",
       "중국 CNY          181.31\n",
       "체코 CZK           54.49\n",
       "칠레 CLP            1.49\n",
       "카자흐스탄 KZT         2.74\n",
       "카타르 QAR         321.25\n",
       "캐나다 CAD         921.77\n",
       "쿠웨이트 KWD      3,890.79\n",
       "태국 THB           35.79\n",
       "터키 TRY          138.21\n",
       "파키스탄 PKR          6.96\n",
       "폴란드 PLN         305.37\n",
       "필리핀 PHP          23.44\n",
       "헝가리 HUF           3.94\n",
       "호주 AUD          862.00\n",
       "홍콩 HKD          150.44\n",
       "dtype: object"
      ]
     },
     "execution_count": 13,
     "metadata": {},
     "output_type": "execute_result"
    }
   ],
   "source": [
    "from bs4 import BeautifulSoup\n",
    "import requests\n",
    "import pandas as pd\n",
    "\n",
    "#URL 가져오기\n",
    "url = 'https://m.stock.naver.com/marketindex/index.nhn'\n",
    "response = requests.get(url)\n",
    "\n",
    "#Soup 객체 생성\n",
    "soup = BeautifulSoup(response.text, 'html.parser')\n",
    "\n",
    "#원하는 데이터 추출 - 국가\n",
    "country = []\n",
    "stock_items = soup.findAll('span', {'class':'stock_item'})\n",
    "for s in stock_items:\n",
    "    country.append(s.text)\n",
    "\n",
    "# print(country)\n",
    "\n",
    "country.remove('달러인덱스')\n",
    "\n",
    "#원하는 데이터 추출 - 환율정보\n",
    "price = []\n",
    "price_0 = soup.findAll('span', {\"class\":\"stock_price\"})\n",
    "for p in price_0:\n",
    "    price.append(p.text)\n",
    "\n",
    "#데이터 정렬, (pandas)\n",
    "data = {}\n",
    "for i in range(len(country)):\n",
    "    data[country[i]] = price[i+7]\n",
    "\n",
    "pd.Series(data)"
   ]
  },
  {
   "cell_type": "markdown",
   "id": "original-detection",
   "metadata": {},
   "source": [
    "URL을 이용해 웹페이지를 Soup객체를 생성하면 손쉽게 HTML을 파싱할 수 있다. 파싱한 데이터를 리스트나 딕셔너리 형태로 저장하고 마지막엔 pandas의 Series를 이용해 나타내니 깔끔하게 정리할 수 있다."
   ]
  },
  {
   "cell_type": "markdown",
   "id": "annual-processing",
   "metadata": {},
   "source": [
    "## 로그인하기"
   ]
  },
  {
   "cell_type": "code",
   "execution_count": 14,
   "id": "excited-force",
   "metadata": {},
   "outputs": [
    {
     "data": {
      "text/plain": [
       "<span class=\"menu_text\"><span class=\"text\">ID 로그인</span></span>"
      ]
     },
     "execution_count": 14,
     "metadata": {},
     "output_type": "execute_result"
    }
   ],
   "source": [
    "#세션 생성하기\n",
    "session = requests.session()\n",
    "\n",
    "#로그인하기\n",
    "log_info = {'id':'', #여러분의 ID와 PW를 입력해 주세요\n",
    "            'pw':''}\n",
    "url = 'https://nid.naver.com/nidlogin.login'\n",
    "response = session.post(url, data=log_info)\n",
    "\n",
    "#마이페이지 접근하기\n",
    "url_mypage = 'https://nid.naver.com/user2/help/myInfo.nhn?lang=ko_KR'\n",
    "response = session.get(url_mypage)\n",
    "\n",
    "#Soup객체 생성\n",
    "soup = BeautifulSoup(response.text, 'html.parser')\n",
    "\n",
    "#마이페이지에 별명 가져 오기\n",
    "soup.find('span')"
   ]
  },
  {
   "cell_type": "markdown",
   "id": "occupational-ending",
   "metadata": {},
   "source": [
    "로그인은 개인정보인데 이렇게 크롤링으로 로그인 할 수 있다면 보안에 매우 취약할 것이다.  \n",
    "\n",
    "사실 위 크롤링은 PHP 서버로 로그인을 할 때 사용할 수 있는 코드이다. 로그인 요청 메소드로 Request URL을 보낼 때 \"xxxxxx.php\"형식으로 된 웹 페이지에서만 가능한 방식이다.\n",
    "\n",
    "요즘 대부분의 사이트들은 보안상의 이유로 이렇게 로그인 관리를 하지 않는다. 로그인 하기 위해선 직접 브라우저를 제어하고 인증에 대한 개념도 필요하다."
   ]
  },
  {
   "cell_type": "markdown",
   "id": "processed-product",
   "metadata": {},
   "source": [
    "## 브라우저 제어를 통한 크롤링\n",
    "### Selenium\n",
    "셀레니움은 웹앱을 테스트하는 웹 프레임워크이다. webdriver의 API를 통해 브라우저를 제어하기 때문에 자바스크립트에 의해 동적으로 생성되는 사이트 데이터도 크롤링 할 수 있다."
   ]
  },
  {
   "cell_type": "markdown",
   "id": "random-hunter",
   "metadata": {},
   "source": [
    "### 공공데이터 크롤링 - 셀레니움 이용"
   ]
  },
  {
   "cell_type": "markdown",
   "id": "designed-server",
   "metadata": {},
   "source": [
    "#### 1. URL 다운로드"
   ]
  },
  {
   "cell_type": "code",
   "execution_count": 15,
   "id": "illegal-stamp",
   "metadata": {},
   "outputs": [],
   "source": [
    "crawling_urls = {\n",
    "\"산과공원\": \"https://data.seoul.go.kr/dataList/OA-12962/S/1/datasetView.do\",\n",
    "}"
   ]
  },
  {
   "cell_type": "code",
   "execution_count": 16,
   "id": "electronic-mobile",
   "metadata": {},
   "outputs": [],
   "source": [
    "import requests\n",
    "from selenium import webdriver\n",
    "import time\n",
    "import pandas as pd\n",
    "import os\n",
    "import os.path\n",
    "import glob"
   ]
  },
  {
   "cell_type": "markdown",
   "id": "powered-replication",
   "metadata": {},
   "source": [
    "#### 2. 셀레니움을 이용하여 브라우저 제어"
   ]
  },
  {
   "cell_type": "code",
   "execution_count": 17,
   "id": "associate-reporter",
   "metadata": {},
   "outputs": [
    {
     "ename": "WebDriverException",
     "evalue": "Message: 'chromedriver' executable needs to be in PATH. Please see https://sites.google.com/a/chromium.org/chromedriver/home\n",
     "output_type": "error",
     "traceback": [
      "\u001b[0;31m---------------------------------------------------------------------------\u001b[0m",
      "\u001b[0;31mFileNotFoundError\u001b[0m                         Traceback (most recent call last)",
      "\u001b[0;32m/opt/conda/lib/python3.7/site-packages/selenium/webdriver/common/service.py\u001b[0m in \u001b[0;36mstart\u001b[0;34m(self)\u001b[0m\n\u001b[1;32m     75\u001b[0m                                             \u001b[0mstderr\u001b[0m\u001b[0;34m=\u001b[0m\u001b[0mself\u001b[0m\u001b[0;34m.\u001b[0m\u001b[0mlog_file\u001b[0m\u001b[0;34m,\u001b[0m\u001b[0;34m\u001b[0m\u001b[0;34m\u001b[0m\u001b[0m\n\u001b[0;32m---> 76\u001b[0;31m                                             stdin=PIPE)\n\u001b[0m\u001b[1;32m     77\u001b[0m         \u001b[0;32mexcept\u001b[0m \u001b[0mTypeError\u001b[0m\u001b[0;34m:\u001b[0m\u001b[0;34m\u001b[0m\u001b[0;34m\u001b[0m\u001b[0m\n",
      "\u001b[0;32m/opt/conda/lib/python3.7/subprocess.py\u001b[0m in \u001b[0;36m__init__\u001b[0;34m(self, args, bufsize, executable, stdin, stdout, stderr, preexec_fn, close_fds, shell, cwd, env, universal_newlines, startupinfo, creationflags, restore_signals, start_new_session, pass_fds, encoding, errors, text)\u001b[0m\n\u001b[1;32m    799\u001b[0m                                 \u001b[0merrread\u001b[0m\u001b[0;34m,\u001b[0m \u001b[0merrwrite\u001b[0m\u001b[0;34m,\u001b[0m\u001b[0;34m\u001b[0m\u001b[0;34m\u001b[0m\u001b[0m\n\u001b[0;32m--> 800\u001b[0;31m                                 restore_signals, start_new_session)\n\u001b[0m\u001b[1;32m    801\u001b[0m         \u001b[0;32mexcept\u001b[0m\u001b[0;34m:\u001b[0m\u001b[0;34m\u001b[0m\u001b[0;34m\u001b[0m\u001b[0m\n",
      "\u001b[0;32m/opt/conda/lib/python3.7/subprocess.py\u001b[0m in \u001b[0;36m_execute_child\u001b[0;34m(self, args, executable, preexec_fn, close_fds, pass_fds, cwd, env, startupinfo, creationflags, shell, p2cread, p2cwrite, c2pread, c2pwrite, errread, errwrite, restore_signals, start_new_session)\u001b[0m\n\u001b[1;32m   1550\u001b[0m                             \u001b[0merr_msg\u001b[0m \u001b[0;34m+=\u001b[0m \u001b[0;34m': '\u001b[0m \u001b[0;34m+\u001b[0m \u001b[0mrepr\u001b[0m\u001b[0;34m(\u001b[0m\u001b[0merr_filename\u001b[0m\u001b[0;34m)\u001b[0m\u001b[0;34m\u001b[0m\u001b[0;34m\u001b[0m\u001b[0m\n\u001b[0;32m-> 1551\u001b[0;31m                     \u001b[0;32mraise\u001b[0m \u001b[0mchild_exception_type\u001b[0m\u001b[0;34m(\u001b[0m\u001b[0merrno_num\u001b[0m\u001b[0;34m,\u001b[0m \u001b[0merr_msg\u001b[0m\u001b[0;34m,\u001b[0m \u001b[0merr_filename\u001b[0m\u001b[0;34m)\u001b[0m\u001b[0;34m\u001b[0m\u001b[0;34m\u001b[0m\u001b[0m\n\u001b[0m\u001b[1;32m   1552\u001b[0m                 \u001b[0;32mraise\u001b[0m \u001b[0mchild_exception_type\u001b[0m\u001b[0;34m(\u001b[0m\u001b[0merr_msg\u001b[0m\u001b[0;34m)\u001b[0m\u001b[0;34m\u001b[0m\u001b[0;34m\u001b[0m\u001b[0m\n",
      "\u001b[0;31mFileNotFoundError\u001b[0m: [Errno 2] No such file or directory: 'chromedriver': 'chromedriver'",
      "\nDuring handling of the above exception, another exception occurred:\n",
      "\u001b[0;31mWebDriverException\u001b[0m                        Traceback (most recent call last)",
      "\u001b[0;32m<ipython-input-17-b82a6bb4addb>\u001b[0m in \u001b[0;36m<module>\u001b[0;34m\u001b[0m\n\u001b[1;32m      5\u001b[0m \u001b[0mchrome_options\u001b[0m\u001b[0;34m.\u001b[0m\u001b[0madd_argument\u001b[0m\u001b[0;34m(\u001b[0m\u001b[0;34m'--no-sandbox'\u001b[0m\u001b[0;34m)\u001b[0m\u001b[0;34m\u001b[0m\u001b[0;34m\u001b[0m\u001b[0m\n\u001b[1;32m      6\u001b[0m \u001b[0mchrome_options\u001b[0m\u001b[0;34m.\u001b[0m\u001b[0madd_argument\u001b[0m\u001b[0;34m(\u001b[0m\u001b[0;34m'--disable-dev-shm-usage'\u001b[0m\u001b[0;34m)\u001b[0m\u001b[0;34m\u001b[0m\u001b[0;34m\u001b[0m\u001b[0m\n\u001b[0;32m----> 7\u001b[0;31m \u001b[0mdriver\u001b[0m \u001b[0;34m=\u001b[0m \u001b[0mwebdriver\u001b[0m\u001b[0;34m.\u001b[0m\u001b[0mChrome\u001b[0m\u001b[0;34m(\u001b[0m\u001b[0;34m'chromedriver'\u001b[0m\u001b[0;34m,\u001b[0m \u001b[0moptions\u001b[0m\u001b[0;34m=\u001b[0m\u001b[0mchrome_options\u001b[0m\u001b[0;34m)\u001b[0m\u001b[0;34m\u001b[0m\u001b[0;34m\u001b[0m\u001b[0m\n\u001b[0m\u001b[1;32m      8\u001b[0m \u001b[0;34m\u001b[0m\u001b[0m\n\u001b[1;32m      9\u001b[0m \u001b[0;31m# 웹드라이버 실행 및 페이지 이동\u001b[0m\u001b[0;34m\u001b[0m\u001b[0;34m\u001b[0m\u001b[0;34m\u001b[0m\u001b[0m\n",
      "\u001b[0;32m/opt/conda/lib/python3.7/site-packages/selenium/webdriver/chrome/webdriver.py\u001b[0m in \u001b[0;36m__init__\u001b[0;34m(self, executable_path, port, options, service_args, desired_capabilities, service_log_path, chrome_options, keep_alive)\u001b[0m\n\u001b[1;32m     71\u001b[0m             \u001b[0mservice_args\u001b[0m\u001b[0;34m=\u001b[0m\u001b[0mservice_args\u001b[0m\u001b[0;34m,\u001b[0m\u001b[0;34m\u001b[0m\u001b[0;34m\u001b[0m\u001b[0m\n\u001b[1;32m     72\u001b[0m             log_path=service_log_path)\n\u001b[0;32m---> 73\u001b[0;31m         \u001b[0mself\u001b[0m\u001b[0;34m.\u001b[0m\u001b[0mservice\u001b[0m\u001b[0;34m.\u001b[0m\u001b[0mstart\u001b[0m\u001b[0;34m(\u001b[0m\u001b[0;34m)\u001b[0m\u001b[0;34m\u001b[0m\u001b[0;34m\u001b[0m\u001b[0m\n\u001b[0m\u001b[1;32m     74\u001b[0m \u001b[0;34m\u001b[0m\u001b[0m\n\u001b[1;32m     75\u001b[0m         \u001b[0;32mtry\u001b[0m\u001b[0;34m:\u001b[0m\u001b[0;34m\u001b[0m\u001b[0;34m\u001b[0m\u001b[0m\n",
      "\u001b[0;32m/opt/conda/lib/python3.7/site-packages/selenium/webdriver/common/service.py\u001b[0m in \u001b[0;36mstart\u001b[0;34m(self)\u001b[0m\n\u001b[1;32m     81\u001b[0m                 raise WebDriverException(\n\u001b[1;32m     82\u001b[0m                     \"'%s' executable needs to be in PATH. %s\" % (\n\u001b[0;32m---> 83\u001b[0;31m                         os.path.basename(self.path), self.start_error_message)\n\u001b[0m\u001b[1;32m     84\u001b[0m                 )\n\u001b[1;32m     85\u001b[0m             \u001b[0;32melif\u001b[0m \u001b[0merr\u001b[0m\u001b[0;34m.\u001b[0m\u001b[0merrno\u001b[0m \u001b[0;34m==\u001b[0m \u001b[0merrno\u001b[0m\u001b[0;34m.\u001b[0m\u001b[0mEACCES\u001b[0m\u001b[0;34m:\u001b[0m\u001b[0;34m\u001b[0m\u001b[0;34m\u001b[0m\u001b[0m\n",
      "\u001b[0;31mWebDriverException\u001b[0m: Message: 'chromedriver' executable needs to be in PATH. Please see https://sites.google.com/a/chromium.org/chromedriver/home\n"
     ]
    }
   ],
   "source": [
    "import os\n",
    "\n",
    "chrome_options = webdriver.ChromeOptions()\n",
    "chrome_options.add_argument('--headless')\n",
    "chrome_options.add_argument('--no-sandbox')\n",
    "chrome_options.add_argument('--disable-dev-shm-usage')\n",
    "driver = webdriver.Chrome('chromedriver', options=chrome_options)\n",
    "\n",
    "# 웹드라이버 실행 및 페이지 이동\n",
    "driver.get(crawling_urls['산과공원'])      # 우리가 원하는 URL로 이동합니다.\n",
    "time.sleep(5)       # 해당 화면이 다 로딩할 때까지 5초간 충분히 기다려 줍니다. \n",
    "    \n",
    "#csv파일 다운로드 버튼 클릭하기\n",
    "driver.find_element_by_css_selector(\"#btnCsv\").click()   # 사람이 누른 것처럼 다운로드 버튼을 클릭한 후\n",
    "time.sleep(3)     # 다운로드가 완료될 때까지 3초간 기다려 줍니다. \n",
    "\n",
    "driver.quit()      # 브라우저를 닫습니다."
   ]
  },
  {
   "cell_type": "markdown",
   "id": "collective-wholesale",
   "metadata": {},
   "source": [
    "#### 3. 다운받은 csv파일 확인"
   ]
  },
  {
   "cell_type": "code",
   "execution_count": 18,
   "id": "artificial-volume",
   "metadata": {},
   "outputs": [
    {
     "name": "stdout",
     "output_type": "stream",
     "text": [
      "[]\n"
     ]
    }
   ],
   "source": [
    "_dir = os.getenv('HOME')\n",
    "\n",
    "# 로컬, 클라우드 모두에게 해당되는 코드입니다\n",
    "files = glob.glob('{}/서울시*.csv'.format(_dir))\n",
    "print(files)"
   ]
  },
  {
   "cell_type": "markdown",
   "id": "soviet-moderator",
   "metadata": {},
   "source": [
    "#### 4. csv파일 dataframe으로 변환"
   ]
  },
  {
   "cell_type": "code",
   "execution_count": 19,
   "id": "civic-factor",
   "metadata": {},
   "outputs": [
    {
     "ename": "IndexError",
     "evalue": "list index out of range",
     "output_type": "error",
     "traceback": [
      "\u001b[0;31m---------------------------------------------------------------------------\u001b[0m",
      "\u001b[0;31mIndexError\u001b[0m                                Traceback (most recent call last)",
      "\u001b[0;32m<ipython-input-19-c4cfe7e1f89c>\u001b[0m in \u001b[0;36m<module>\u001b[0;34m\u001b[0m\n\u001b[1;32m      1\u001b[0m \u001b[0;31m#csv파일을 dataframe으로 변환하기\u001b[0m\u001b[0;34m\u001b[0m\u001b[0;34m\u001b[0m\u001b[0;34m\u001b[0m\u001b[0m\n\u001b[1;32m      2\u001b[0m \u001b[0;31m#인코딩 에러 발생시에 encoding옵션 추가\u001b[0m\u001b[0;34m\u001b[0m\u001b[0;34m\u001b[0m\u001b[0;34m\u001b[0m\u001b[0m\n\u001b[0;32m----> 3\u001b[0;31m \u001b[0mf_M_park\u001b[0m \u001b[0;34m=\u001b[0m \u001b[0mpd\u001b[0m\u001b[0;34m.\u001b[0m\u001b[0mread_csv\u001b[0m\u001b[0;34m(\u001b[0m\u001b[0mfiles\u001b[0m\u001b[0;34m[\u001b[0m\u001b[0;36m0\u001b[0m\u001b[0;34m]\u001b[0m\u001b[0;34m,\u001b[0m \u001b[0mencoding\u001b[0m\u001b[0;34m=\u001b[0m\u001b[0;34m'CP949'\u001b[0m\u001b[0;34m)\u001b[0m   \u001b[0;31m#CP949: windows에서 사용하는 인코딩 방식\u001b[0m\u001b[0;34m\u001b[0m\u001b[0;34m\u001b[0m\u001b[0m\n\u001b[0m\u001b[1;32m      4\u001b[0m \u001b[0mf_M_park\u001b[0m\u001b[0;34m.\u001b[0m\u001b[0mhead\u001b[0m\u001b[0;34m(\u001b[0m\u001b[0;36m3\u001b[0m\u001b[0;34m)\u001b[0m\u001b[0;34m\u001b[0m\u001b[0;34m\u001b[0m\u001b[0m\n",
      "\u001b[0;31mIndexError\u001b[0m: list index out of range"
     ]
    }
   ],
   "source": [
    "#csv파일을 dataframe으로 변환하기\n",
    "#인코딩 에러 발생시에 encoding옵션 추가\n",
    "f_M_park = pd.read_csv(files[0], encoding='CP949')   #CP949: windows에서 사용하는 인코딩 방식\n",
    "f_M_park.head(3)"
   ]
  },
  {
   "cell_type": "markdown",
   "id": "civic-proposition",
   "metadata": {},
   "source": [
    "셀레니움을 이용하니 브라우저를 직접 조작이 가능하고 브라우저 조작을 통해 버튼을 눌러 다운로드를 쉽게 받을 수 있다.  \n",
    " \n",
    "브라우저를 직접 제어한다는 것은 버튼을 클릭하고 로그인을 위해 ID/PW 등을 입력하는 등 JavaScript로 구현된 동적인 웹 페이지도 크롤링 할 수 있다는 것을 의미 한다."
   ]
  },
  {
   "cell_type": "code",
   "execution_count": null,
   "id": "surprised-voice",
   "metadata": {},
   "outputs": [],
   "source": []
  }
 ],
 "metadata": {
  "kernelspec": {
   "display_name": "Python 3",
   "language": "python",
   "name": "python3"
  },
  "language_info": {
   "codemirror_mode": {
    "name": "ipython",
    "version": 3
   },
   "file_extension": ".py",
   "mimetype": "text/x-python",
   "name": "python",
   "nbconvert_exporter": "python",
   "pygments_lexer": "ipython3",
   "version": "3.7.9"
  }
 },
 "nbformat": 4,
 "nbformat_minor": 5
}
