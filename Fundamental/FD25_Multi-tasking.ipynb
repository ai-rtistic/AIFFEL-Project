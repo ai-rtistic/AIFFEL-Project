{
 "cells": [
  {
   "cell_type": "markdown",
   "id": "oriental-interim",
   "metadata": {},
   "source": [
    "# Fundamental 25. 컴퓨팅 파워\n",
    "\n",
    "## 프로세스\n",
    "파이썬에서는 os 라는 모듈에서 프로세스 관련 정보를 얻을 수 있다."
   ]
  },
  {
   "cell_type": "code",
   "execution_count": 1,
   "id": "paperback-testimony",
   "metadata": {},
   "outputs": [
    {
     "name": "stdout",
     "output_type": "stream",
     "text": [
      "29\n",
      "0\n",
      "0\n",
      "/aiffel/aiffel/AIFFEL-Fundamental\n"
     ]
    }
   ],
   "source": [
    "import os\n",
    "\n",
    "# process ID\n",
    "print(os.getpid())\n",
    "\n",
    "# user ID\n",
    "print(os.getuid())\n",
    "\n",
    "# group ID\n",
    "print(os.getgid())\n",
    "\n",
    "# 현재 작업중인 디렉토리\n",
    "print(os.getcwd())"
   ]
  },
  {
   "cell_type": "markdown",
   "id": "sized-indicator",
   "metadata": {},
   "source": [
    "## 프로파일링"
   ]
  },
  {
   "cell_type": "code",
   "execution_count": 2,
   "id": "severe-subsection",
   "metadata": {},
   "outputs": [
    {
     "name": "stdout",
     "output_type": "stream",
     "text": [
      "set               : 1.973096914589405 [ms]\n",
      "list              : 0.9451897097751498 [ms]\n",
      "tuple             : 0.8603362422436476 [ms]\n",
      "string            : 0.5417465148493648 [ms]\n",
      "set_add           : 6.453046699985862 [ms]\n",
      "list_append       : 5.596351670101285 [ms]\n",
      "set_comprehension : 6.369101023301482 [ms]\n",
      "list_comprehension: 5.71142060495913 [ms]\n"
     ]
    }
   ],
   "source": [
    "import timeit\n",
    "        \n",
    "def f1():\n",
    "    s = set(range(100))\n",
    "\n",
    "    \n",
    "def f2():\n",
    "    l = list(range(100))\n",
    "\n",
    "    \n",
    "def f3():\n",
    "    t = tuple(range(100))\n",
    "\n",
    "\n",
    "def f4():\n",
    "    s = str(range(100))\n",
    "\n",
    "    \n",
    "def f5():\n",
    "    s = set()\n",
    "    for i in range(100):\n",
    "        s.add(i)\n",
    "\n",
    "def f6():\n",
    "    l = []\n",
    "    for i in range(100):\n",
    "        l.append(i)\n",
    "    \n",
    "def f7():\n",
    "    s_comp = {i for i in range(100)}\n",
    "\n",
    "    \n",
    "def f8():\n",
    "    l_comp = [i for i in range(100)]\n",
    "    \n",
    "\n",
    "if __name__ == \"__main__\":\n",
    "    t1 = timeit.Timer(\"f1()\", \"from __main__ import f1\")\n",
    "    t2 = timeit.Timer(\"f2()\", \"from __main__ import f2\")\n",
    "    t3 = timeit.Timer(\"f3()\", \"from __main__ import f3\")\n",
    "    t4 = timeit.Timer(\"f4()\", \"from __main__ import f4\")\n",
    "    t5 = timeit.Timer(\"f5()\", \"from __main__ import f5\")\n",
    "    t6 = timeit.Timer(\"f6()\", \"from __main__ import f6\")\n",
    "    t7 = timeit.Timer(\"f7()\", \"from __main__ import f7\")\n",
    "    t8 = timeit.Timer(\"f8()\", \"from __main__ import f8\")\n",
    "    print(\"set               :\", t1.timeit(), '[ms]')\n",
    "    print(\"list              :\", t2.timeit(), '[ms]')\n",
    "    print(\"tuple             :\", t3.timeit(), '[ms]')\n",
    "    print(\"string            :\", t4.timeit(), '[ms]')\n",
    "    print(\"set_add           :\", t5.timeit(), '[ms]')\n",
    "    print(\"list_append       :\", t6.timeit(), '[ms]')\n",
    "    print(\"set_comprehension :\", t5.timeit(), '[ms]')\n",
    "    print(\"list_comprehension:\", t6.timeit(), '[ms]')"
   ]
  },
  {
   "cell_type": "markdown",
   "id": "verified-fleece",
   "metadata": {},
   "source": [
    "이런 식으로 함수의 성능을 측정할 수 있다."
   ]
  },
  {
   "cell_type": "markdown",
   "id": "entertaining-pizza",
   "metadata": {},
   "source": [
    "----\n",
    "## 멀티 스레드\n",
    "\n",
    "### 스레드 생성\n",
    "파이썬에서 멀티스레드의 구현은 `threading` 모듈을 이용한다.  \n",
    "\n",
    "아래 코드는 음식 배달과 그릇 찾기 2가지 작업을 순차적으로 수행하는 코드이다."
   ]
  },
  {
   "cell_type": "code",
   "execution_count": 3,
   "id": "native-prescription",
   "metadata": {},
   "outputs": [
    {
     "name": "stdout",
     "output_type": "stream",
     "text": [
      "delivery\n",
      "Retriving Dish\n"
     ]
    }
   ],
   "source": [
    "class Delivery:\n",
    "\tdef run(self):\n",
    "\t\tprint(\"delivery\")\n",
    "\n",
    "class RetriveDish:\n",
    "\tdef run(self):\n",
    "\t\tprint(\"Retriving Dish\")\n",
    "\n",
    "work1 = Delivery()\n",
    "work2 = RetriveDish()\n",
    "\n",
    "def main():\n",
    "\twork1.run()\n",
    "\twork2.run()\n",
    "\n",
    "if __name__ == '__main__':\n",
    "    main()"
   ]
  },
  {
   "cell_type": "markdown",
   "id": "careful-costa",
   "metadata": {},
   "source": [
    "### 멀티 스레드\n",
    "- `threading` 모듈을 import하고\n",
    "- 클래스에 `Thread`를 상속받음"
   ]
  },
  {
   "cell_type": "code",
   "execution_count": 4,
   "id": "private-progressive",
   "metadata": {},
   "outputs": [
    {
     "name": "stdout",
     "output_type": "stream",
     "text": [
      "delivery\n",
      "Retriving Dish\n"
     ]
    }
   ],
   "source": [
    "from threading import *\n",
    "\n",
    "class Delivery(Thread):\n",
    "\tdef run(self):\n",
    "\t\tprint(\"delivery\")\n",
    "\n",
    "class RetriveDish(Thread):\n",
    "\tdef run(self):\n",
    "\t\tprint(\"Retriving Dish\")\n",
    "\n",
    "work1 = Delivery()\n",
    "work2 = RetriveDish()\n",
    "\n",
    "def main():\n",
    "\twork1.run()\n",
    "\twork2.run()\n",
    "\n",
    "if __name__ == '__main__':\n",
    "    main()"
   ]
  },
  {
   "cell_type": "markdown",
   "id": "modular-shaft",
   "metadata": {},
   "source": [
    "### 스레드 생성 확인"
   ]
  },
  {
   "cell_type": "code",
   "execution_count": 5,
   "id": "distributed-spoke",
   "metadata": {},
   "outputs": [
    {
     "name": "stdout",
     "output_type": "stream",
     "text": [
      "<bound method Delivery.run of <__main__.Delivery object at 0x7f1d249b7050>>\n",
      "<bound method Delivery.run of <Delivery(Thread-6, initial)>>\n"
     ]
    }
   ],
   "source": [
    "from threading import *\n",
    "\n",
    "class Delivery:\n",
    "    def run(self):\n",
    "        print(\"delivering\")\n",
    "\n",
    "work1 = Delivery()\n",
    "print(work1.run)\n",
    "\n",
    "class Delivery(Thread):\n",
    "    def run(self):\n",
    "        print(\"delivering\")\n",
    "\n",
    "work2 = Delivery()\n",
    "print(work2.run)"
   ]
  },
  {
   "cell_type": "markdown",
   "id": "found-channels",
   "metadata": {},
   "source": [
    "위 코드를 실행해 확인해 보면, work2 는 다른 스레드(Thread-6)에 할당되었다."
   ]
  },
  {
   "cell_type": "markdown",
   "id": "consistent-threshold",
   "metadata": {},
   "source": [
    "### 스레드 생성\n",
    "\n",
    "`threading` 모듈의 `Thread` 클래스를 상속받아서 구현할 수도 있지만 그대로 인스턴스화하여 스레드를 생성할 수도 있다.  \n",
    "\n",
    "인스턴스화 하려면 `Thread` 클래스에 인자로 target과 args 값을 넣어준다. `args`에 넣어 준 파라미터는 스레드 함수의 인자로 넘어간다.  \n",
    "\n",
    "```python\n",
    "t = Thread(target=함수이름, args=())\n",
    "```\n",
    "\n",
    "`Thread`로 실행할 함수를 정의한 후 `start()` 를 통해 스레드를 실행한다."
   ]
  },
  {
   "cell_type": "code",
   "execution_count": 6,
   "id": "faced-drive",
   "metadata": {},
   "outputs": [
    {
     "name": "stdout",
     "output_type": "stream",
     "text": [
      "do  Overwork\n",
      "do  Overwork\n"
     ]
    }
   ],
   "source": [
    "from threading import *\n",
    "from time import sleep\n",
    "\n",
    "Stopped = False\n",
    "\n",
    "def worker(work, sleep_sec):    # 일꾼 스레드입니다.\n",
    "    while not Stopped:          # 그만 하라고 할때까지\n",
    "        print('do ', work)      # 시키는 일을 하고\n",
    "        sleep(sleep_sec)        # 잠깐 쉽니다.\n",
    "    print('retired..')          # 언젠가 이 굴레를 벗어나면, 은퇴할 때가 오겠지요?\n",
    "        \n",
    "t = Thread(target=worker, args=('Overwork', 3))    # 일꾼 스레드를 하나 생성합니다. 열심히 일하고 3초간 쉽니다.\n",
    "t.start()"
   ]
  },
  {
   "cell_type": "markdown",
   "id": "visible-antenna",
   "metadata": {},
   "source": [
    "스레드를 멈추기위해서는 스레드 함수가 루프를 돌 때는 꼭 멈춰야 할지를 체크하는 `flag`(여기서는 `Stopped`)를 체크하도록 설계해야한다."
   ]
  },
  {
   "cell_type": "code",
   "execution_count": 7,
   "id": "instructional-above",
   "metadata": {},
   "outputs": [
    {
     "name": "stdout",
     "output_type": "stream",
     "text": [
      "retired..\n",
      "worker is gone.\n"
     ]
    }
   ],
   "source": [
    "# 이 코드 블럭을 실행하기 전까지는 일꾼 스레드는 종료하지 않습니다. \n",
    "Stopped = True    # 일꾼 일 그만하라고 세팅해 줍시다. \n",
    "t.join()          # 일꾼 스레드가 종료할때까지 기다립니다. \n",
    "print('worker is gone.')"
   ]
  },
  {
   "cell_type": "markdown",
   "id": "removed-dylan",
   "metadata": {},
   "source": [
    "----\n",
    "## 멀티프로세스\n",
    "### 프로세스 생성\n",
    "\n",
    "`Process` 인스턴스를 만든 뒤, `target` 과 `args` 파라미터에 각각 함수 이름과 함수 인자를 전달한다."
   ]
  },
  {
   "cell_type": "code",
   "execution_count": 8,
   "id": "interpreted-quantum",
   "metadata": {},
   "outputs": [
    {
     "name": "stdout",
     "output_type": "stream",
     "text": [
      "delivering...\n"
     ]
    }
   ],
   "source": [
    "import multiprocessing as mp\n",
    "\n",
    "def delivery():\n",
    "    print('delivering...')\n",
    "\n",
    "p = mp.Process(target=delivery, args=())\n",
    "p.start()"
   ]
  },
  {
   "cell_type": "markdown",
   "id": "royal-municipality",
   "metadata": {},
   "source": [
    "### 프로세스 사용\n",
    "`Process` 클래스는 `start()`, `join()`, `terminate()` 같은 프로세스 동작 관련 메소드가 있다."
   ]
  },
  {
   "cell_type": "code",
   "execution_count": 9,
   "id": "explicit-width",
   "metadata": {},
   "outputs": [
    {
     "name": "stdout",
     "output_type": "stream",
     "text": [
      "delivering...\n"
     ]
    }
   ],
   "source": [
    "p = mp.Process(target=delivery, args=())\n",
    "p.start() # 프로세스 시작\n",
    "p.join() # 실제 종료까지 기다림 (필요시에만 사용)\n",
    "p.terminate() # 프로세스 종료"
   ]
  },
  {
   "cell_type": "markdown",
   "id": "developed-leader",
   "metadata": {},
   "source": [
    "----\n",
    "## 스레드/프로세스 풀 사용\n",
    "\n",
    "사실 멀티스레드/프로세스 작업을 할 때 가장 많은 연산이 필요한 작업은 바로 이런 __스레드나 프로세스를 생성하고 종료__ 하는 일이다.  \n",
    "스레드 풀을 만들면 각각의 태스크들에 대해 자동으로 스레드들을 할당하고 종료한다.  \n",
    "\n",
    "풀을 만드는 방법은 크게 두가지가 있다.\n",
    "- Queue를 사용해서 직접 만드는 방법\n",
    "- `concurrent.futures` 라이브러리의 `ThreadPoolExecutor` , `ProcessPoolExecutor` 클래스를 이용하는 방법"
   ]
  },
  {
   "cell_type": "markdown",
   "id": "extra-aerospace",
   "metadata": {},
   "source": [
    "### concurrent.futures 모듈\n",
    "\n",
    "Java 언어의 ThreadPoolExecutor 를 파이썬에서 구현한 형태라고 생각하시면 편하다.  \n",
    "\n",
    "크게 4가지 기능이 있다.\n",
    "- `Executor` 객체\n",
    "- `ThreadPoolExecutor` 객체\n",
    "- `ProcessPoolExecutor` 객체\n",
    "- `Future` 객체"
   ]
  },
  {
   "cell_type": "markdown",
   "id": "tutorial-doctor",
   "metadata": {},
   "source": [
    "#### `ThreadPoolExecutor`\n",
    "\n",
    "`Executor` 객체를 이용하면 스레드 생성, 시작, 조인 같은 작업을 할 때, with 컨텍스트 관리자와 같은 방법으로 가독성 높은 코드를 구현할 수 있다.\n",
    "\n",
    "```python\n",
    "with ThreadPoolExecutor() as executor:\n",
    "    future = executor.submit(함수이름, 인자)\n",
    "```\n",
    "\n",
    "앞서 한 Delivery 클래스를 예시로 들면 다음과 같다."
   ]
  },
  {
   "cell_type": "code",
   "execution_count": 10,
   "id": "catholic-amendment",
   "metadata": {},
   "outputs": [
    {
     "name": "stdout",
     "output_type": "stream",
     "text": [
      "delivering\n"
     ]
    }
   ],
   "source": [
    "from concurrent.futures import ThreadPoolExecutor\n",
    "\n",
    "class Delivery:\n",
    "    def run(self):\n",
    "        print(\"delivering\")\n",
    "w = Delivery()\n",
    "\n",
    "with ThreadPoolExecutor() as executor:\n",
    "    future = executor.submit(w.run)"
   ]
  },
  {
   "cell_type": "markdown",
   "id": "dying-worcester",
   "metadata": {},
   "source": [
    "#### `multiprocessing.Pool`\n",
    "\n",
    "`multiprocessing.Pool.map` 을 통해 여러 개의 프로세스에 특정 함수를 매핑해서 병렬처리하도록 구현하는 방법이 널리 사용된다.  "
   ]
  },
  {
   "cell_type": "code",
   "execution_count": 11,
   "id": "perfect-found",
   "metadata": {},
   "outputs": [
    {
     "name": "stdout",
     "output_type": "stream",
     "text": [
      "I'm processing I'm processing I'm processing I'm processing I'm processing      777978\n",
      "\n",
      "80\n",
      "76\n",
      "\n",
      "[2, 4, 6, 8, 10]\n"
     ]
    }
   ],
   "source": [
    "from multiprocessing import Pool\n",
    "from os import getpid\n",
    "\n",
    "def double(i):\n",
    "    print(\"I'm processing \", getpid())    # pool 안에서 이 메소드가 실행될 때 pid를 확인해 봅시다.\n",
    "    return i * 2\n",
    "\n",
    "with Pool() as pool:\n",
    "      result = pool.map(double, [1, 2, 3, 4, 5])\n",
    "      print(result)"
   ]
  },
  {
   "cell_type": "markdown",
   "id": "turkish-outline",
   "metadata": {},
   "source": [
    "`double(i)` 이라는 메소드가 pool을 통해 각각 다른 pid를 가진 프로세스들 위에서 multiprocess로 실행되었다는 것을 확인할 수 있다."
   ]
  },
  {
   "cell_type": "markdown",
   "id": "funny-springfield",
   "metadata": {},
   "source": [
    "----\n",
    "## concurrent.futures 모듈의 ProcessPoolExecutor 를 이용해 병렬 프로그래밍 연습"
   ]
  },
  {
   "cell_type": "markdown",
   "id": "explicit-saturday",
   "metadata": {},
   "source": [
    "소수(prime) 판별 문제로 PRIMES 변수에 선언된 숫자들이 소수인지 아닌지를 판별하는 문제"
   ]
  },
  {
   "cell_type": "code",
   "execution_count": 14,
   "id": "allied-behavior",
   "metadata": {},
   "outputs": [],
   "source": [
    "import math\n",
    "import concurrent\n",
    "\n",
    "PRIMES = [\n",
    "    112272535095293,\n",
    "    112582705942171,\n",
    "    112272535095293,\n",
    "    115280095190773,\n",
    "    115797848077099,\n",
    "    1099726899285419]\n"
   ]
  },
  {
   "cell_type": "markdown",
   "id": "alleged-currency",
   "metadata": {},
   "source": [
    "소수판별 함수 `is_prime`"
   ]
  },
  {
   "cell_type": "code",
   "execution_count": 15,
   "id": "painful-assumption",
   "metadata": {},
   "outputs": [],
   "source": [
    "def is_prime(n):\n",
    "    if n < 2:\n",
    "        return False\n",
    "    if n == 2:\n",
    "        return True\n",
    "    if n % 2 == 0:\n",
    "        return False\n",
    "\n",
    "    sqrt_n = int(math.floor(math.sqrt(n)))\n",
    "    for i in range(3, sqrt_n + 1, 2):\n",
    "        if n % i == 0:\n",
    "            return False\n",
    "    return True"
   ]
  },
  {
   "cell_type": "markdown",
   "id": "psychological-proof",
   "metadata": {},
   "source": [
    "소수 판별 함수 호출\n",
    "- `main()` 함수를 따로 작성하여 소수 판별 함수(`is_prime`)를 호출\n",
    "- 맵-리듀스(map-reduce)스타일로 코드를 작성하고 `map()` 함수를 `ProcessPoolExecutor()` 인스턴스에서 생성된 executor 에서 실행\n",
    "- `concurrent.futures` 라이브러리의 프로세스 풀에서 동작하게 하기 위해 `with` 문을 써서 구현"
   ]
  },
  {
   "cell_type": "code",
   "execution_count": 16,
   "id": "relative-charger",
   "metadata": {},
   "outputs": [],
   "source": [
    "def main():\n",
    "    with concurrent.futures.ProcessPoolExecutor() as executor:\n",
    "        for number, prime in zip(PRIMES, executor.map(is_prime, PRIMES)):\n",
    "            print('%d is prime: %s' % (number, prime))"
   ]
  },
  {
   "cell_type": "markdown",
   "id": "hollywood-palestinian",
   "metadata": {},
   "source": [
    "병렬처리와 단일처리의 비교를 위해 코드를 아래와 같이 수정\n",
    "\n",
    "- 프로파일링을 위한 시간 계산 코드를 추가\n",
    "- 단일처리로 수행했을 때의 코드를 추가, 단일처리 프로파일링을 위한 시간 계산 코드를 추가"
   ]
  },
  {
   "cell_type": "code",
   "execution_count": 17,
   "id": "associate-amendment",
   "metadata": {},
   "outputs": [],
   "source": [
    "import time\n",
    "\n",
    "def main():\n",
    "    print(\"병렬처리 시작\")\n",
    "    start = time.time()\n",
    "    with concurrent.futures.ProcessPoolExecutor() as executor:\n",
    "        for number, prime in zip(PRIMES, executor.map(is_prime, PRIMES)):\n",
    "            print('%d is prime: %s' % (number, prime))\n",
    "    end = time.time()\n",
    "    print(\"병렬처리 수행 시각\", end-start, 's')\n",
    "\n",
    "    start = time.time()\n",
    "    for number, prime in zip(PRIMES, map(is_prime, PRIMES)):\n",
    "        print('%d is prime: %s' % (number, prime))\n",
    "    end = time.time()\n",
    "    print(\"단일처리 수행 시각\", end-start, 's')"
   ]
  },
  {
   "cell_type": "markdown",
   "id": "generic-religious",
   "metadata": {},
   "source": [
    "### 전체 코드"
   ]
  },
  {
   "cell_type": "code",
   "execution_count": 18,
   "id": "arctic-element",
   "metadata": {},
   "outputs": [
    {
     "name": "stdout",
     "output_type": "stream",
     "text": [
      "병렬처리 시작\n",
      "112272535095293 is prime: True\n",
      "112582705942171 is prime: True\n",
      "112272535095293 is prime: True\n",
      "115280095190773 is prime: True\n",
      "115797848077099 is prime: True\n",
      "1099726899285419 is prime: False\n",
      "병렬처리 수행 시각 0.7540721893310547 s\n",
      "112272535095293 is prime: True\n",
      "112582705942171 is prime: True\n",
      "112272535095293 is prime: True\n",
      "115280095190773 is prime: True\n",
      "115797848077099 is prime: True\n",
      "1099726899285419 is prime: False\n",
      "단일처리 수행 시각 2.807243585586548 s\n"
     ]
    }
   ],
   "source": [
    "main()"
   ]
  },
  {
   "cell_type": "code",
   "execution_count": null,
   "id": "hybrid-aluminum",
   "metadata": {},
   "outputs": [],
   "source": []
  }
 ],
 "metadata": {
  "kernelspec": {
   "display_name": "Python 3",
   "language": "python",
   "name": "python3"
  },
  "language_info": {
   "codemirror_mode": {
    "name": "ipython",
    "version": 3
   },
   "file_extension": ".py",
   "mimetype": "text/x-python",
   "name": "python",
   "nbconvert_exporter": "python",
   "pygments_lexer": "ipython3",
   "version": "3.7.9"
  }
 },
 "nbformat": 4,
 "nbformat_minor": 5
}
