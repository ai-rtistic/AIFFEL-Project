{
 "cells": [
  {
   "cell_type": "markdown",
   "id": "departmental-inventory",
   "metadata": {},
   "source": [
    "# Fundamental 22. Regularization과 Normalization"
   ]
  },
  {
   "cell_type": "markdown",
   "id": "married-conditions",
   "metadata": {},
   "source": [
    "#### Regularization : 정칙화\n",
    "- __과적합(overfitting) 을 해결__하기 위한 방법 중의 하나\n",
    "-  train loss는 약간 증가하지만 결과적으로, validation loss나 최종적인 test loss를 감소시키려는 목적\n",
    "- L1, L2 Regularization, Dropout, Batch normalization 등이 있음\n",
    "\n",
    "#### Normalization : 정규화\n",
    "- 데이터의 형태를 좀 더 의미 있게, 혹은 training 에 적합하게 전처리하는 과정\n",
    "- 데이터를 z-score로 바꾸거나 minmax scaler를 사용하여 0과 1사이의 값으로 분포를 조정하는 등의 방법 존재\n",
    "- __모든 피처의 범위 분포를 동일__하게 하여 모델이 풀어야 하는 문제를 좀 더 간단하게 바꾸어줌\n",
    "- ex. 금액과 같은 큰 범위의 값(10,000 ~ 10,000,000)과 시간(0 ~ 24) 의 값이 들어가는 경우, 학습에 방해를 받을 수 있음 --> 모두 0~1 사이 값으로 변환"
   ]
  },
  {
   "cell_type": "markdown",
   "id": "unnecessary-newcastle",
   "metadata": {},
   "source": [
    "## Regularization와 Normalization의 간단한 예제\n",
    "\n",
    " Iris dataset의 회귀 문제를 풀면서 Regularization와 Normalization의 간단한 예제를 살펴보자."
   ]
  },
  {
   "cell_type": "code",
   "execution_count": 1,
   "id": "educated-purchase",
   "metadata": {
    "scrolled": true
   },
   "outputs": [
    {
     "data": {
      "text/html": [
       "<div>\n",
       "<style scoped>\n",
       "    .dataframe tbody tr th:only-of-type {\n",
       "        vertical-align: middle;\n",
       "    }\n",
       "\n",
       "    .dataframe tbody tr th {\n",
       "        vertical-align: top;\n",
       "    }\n",
       "\n",
       "    .dataframe thead th {\n",
       "        text-align: right;\n",
       "    }\n",
       "</style>\n",
       "<table border=\"1\" class=\"dataframe\">\n",
       "  <thead>\n",
       "    <tr style=\"text-align: right;\">\n",
       "      <th></th>\n",
       "      <th>sepal length (cm)</th>\n",
       "      <th>sepal width (cm)</th>\n",
       "      <th>petal length (cm)</th>\n",
       "      <th>petal width (cm)</th>\n",
       "      <th>species</th>\n",
       "    </tr>\n",
       "  </thead>\n",
       "  <tbody>\n",
       "    <tr>\n",
       "      <th>0</th>\n",
       "      <td>5.1</td>\n",
       "      <td>3.5</td>\n",
       "      <td>1.4</td>\n",
       "      <td>0.2</td>\n",
       "      <td>setosa</td>\n",
       "    </tr>\n",
       "    <tr>\n",
       "      <th>1</th>\n",
       "      <td>4.9</td>\n",
       "      <td>3.0</td>\n",
       "      <td>1.4</td>\n",
       "      <td>0.2</td>\n",
       "      <td>setosa</td>\n",
       "    </tr>\n",
       "    <tr>\n",
       "      <th>2</th>\n",
       "      <td>4.7</td>\n",
       "      <td>3.2</td>\n",
       "      <td>1.3</td>\n",
       "      <td>0.2</td>\n",
       "      <td>setosa</td>\n",
       "    </tr>\n",
       "    <tr>\n",
       "      <th>3</th>\n",
       "      <td>4.6</td>\n",
       "      <td>3.1</td>\n",
       "      <td>1.5</td>\n",
       "      <td>0.2</td>\n",
       "      <td>setosa</td>\n",
       "    </tr>\n",
       "    <tr>\n",
       "      <th>4</th>\n",
       "      <td>5.0</td>\n",
       "      <td>3.6</td>\n",
       "      <td>1.4</td>\n",
       "      <td>0.2</td>\n",
       "      <td>setosa</td>\n",
       "    </tr>\n",
       "  </tbody>\n",
       "</table>\n",
       "</div>"
      ],
      "text/plain": [
       "   sepal length (cm)  sepal width (cm)  petal length (cm)  petal width (cm)  \\\n",
       "0                5.1               3.5                1.4               0.2   \n",
       "1                4.9               3.0                1.4               0.2   \n",
       "2                4.7               3.2                1.3               0.2   \n",
       "3                4.6               3.1                1.5               0.2   \n",
       "4                5.0               3.6                1.4               0.2   \n",
       "\n",
       "  species  \n",
       "0  setosa  \n",
       "1  setosa  \n",
       "2  setosa  \n",
       "3  setosa  \n",
       "4  setosa  "
      ]
     },
     "execution_count": 1,
     "metadata": {},
     "output_type": "execute_result"
    }
   ],
   "source": [
    "from sklearn.datasets import load_iris\n",
    "import pandas as pd \n",
    "import matplotlib.pyplot as plt\n",
    "\n",
    "iris = load_iris()\n",
    "iris_df = pd.DataFrame(data=iris.data, columns=iris.feature_names)\n",
    "target_df = pd.DataFrame(data=iris.target, columns=['species'])\n",
    "\n",
    "# 0, 1, 2로 되어있는 target 데이터를 \n",
    "# 알아보기 쉽게 'setosa', 'versicolor', 'virginica'로 바꿉니다 \n",
    "def converter(species):\n",
    "    if species == 0:\n",
    "        return 'setosa'\n",
    "    elif species == 1:\n",
    "        return 'versicolor'\n",
    "    else:\n",
    "        return 'virginica'\n",
    "\n",
    "target_df['species'] = target_df['species'].apply(converter)\n",
    "\n",
    "iris_df = pd.concat([iris_df, target_df], axis=1)\n",
    "iris_df.head()"
   ]
  },
  {
   "cell_type": "markdown",
   "id": "random-think",
   "metadata": {},
   "source": [
    "### Normalization"
   ]
  },
  {
   "cell_type": "markdown",
   "id": "legal-shepherd",
   "metadata": {},
   "source": [
    "Iris data 중 `virginica` 라는 종의` petal length`(꽃잎 길이)를 `X`, `sepal length`(꽃받침의 길이)를 `Y`로 두고 분포를 시각화해보자."
   ]
  },
  {
   "cell_type": "code",
   "execution_count": 4,
   "id": "encouraging-europe",
   "metadata": {},
   "outputs": [],
   "source": [
    "X = [iris_df['petal length (cm)'][a] for a in iris_df.index if iris_df['species'][a]=='virginica']\n",
    "Y = [iris_df['sepal length (cm)'][a] for a in iris_df.index if iris_df['species'][a]=='virginica']\n"
   ]
  },
  {
   "cell_type": "code",
   "execution_count": 5,
   "id": "fatal-graphics",
   "metadata": {},
   "outputs": [
    {
     "data": {
      "image/png": "[encoded data removed]",
      "text/plain": [
       "<Figure size 360x360 with 1 Axes>"
      ]
     },
     "metadata": {
      "needs_background": "light"
     },
     "output_type": "display_data"
    }
   ],
   "source": [
    "plt.figure(figsize=(5,5))\n",
    "plt.scatter(X,Y)\n",
    "plt.title('petal-sepal scatter before normalization') \n",
    "plt.xlabel('petal length (cm)')\n",
    "plt.ylabel('sepal length (cm)')\n",
    "plt.grid()\n",
    "plt.show()"
   ]
  },
  {
   "cell_type": "markdown",
   "id": "assigned-combine",
   "metadata": {},
   "source": [
    "아직 Normalization을 하지 않았기 때문에 x축과 y축은 각각의 최솟값과 최댓값의 범위로 나타난다."
   ]
  },
  {
   "cell_type": "markdown",
   "id": "central-remains",
   "metadata": {},
   "source": [
    "이제 0-1로 normlization을 해주는 `minmax_scale`를 이용해 Normalization을 한 후 산점도를 비교해보자."
   ]
  },
  {
   "cell_type": "code",
   "execution_count": 6,
   "id": "welcome-composite",
   "metadata": {},
   "outputs": [
    {
     "data": {
      "image/png": "[encoded data removed]",
      "text/plain": [
       "<Figure size 360x360 with 1 Axes>"
      ]
     },
     "metadata": {
      "needs_background": "light"
     },
     "output_type": "display_data"
    }
   ],
   "source": [
    "from sklearn.preprocessing import minmax_scale\n",
    "\n",
    "X_scale = minmax_scale(X)\n",
    "Y_scale = minmax_scale(Y)\n",
    "\n",
    "plt.figure(figsize=(5,5))\n",
    "plt.scatter(X_scale,Y_scale)\n",
    "plt.title('petal-sepal scatter after normalization') \n",
    "plt.xlabel('petal length (cm)')\n",
    "plt.ylabel('sepal length (cm)')\n",
    "plt.grid()\n",
    "plt.show()"
   ]
  },
  {
   "cell_type": "markdown",
   "id": "central-writing",
   "metadata": {},
   "source": [
    "결과를 비교해보면, 가장 큰 값을 1, 가장 작은 값을 0으로 하여 축 범위가 바뀜을 확인할 수 있다."
   ]
  },
  {
   "cell_type": "markdown",
   "id": "confirmed-thanks",
   "metadata": {},
   "source": [
    "### Regularization\n",
    "\n",
    "`sklearn.linear_model`에 포함된 `LinearRegression` 모델을 사용하여 X-Y 관계를 선형으로 모델링 해보겠다.   \n",
    "\n",
    "이 `sklearn.linear_model`에는 L1, L2 Regression인 Lasso와 Ridge 모델도 함께 포함되어 있으므로, 이들의 차이점을 먼저 직관적으로 이해할 수 있다."
   ]
  },
  {
   "cell_type": "code",
   "execution_count": 7,
   "id": "executive-aging",
   "metadata": {},
   "outputs": [
    {
     "name": "stdout",
     "output_type": "stream",
     "text": [
      "기울기 : 1.00, 절편 : 1.06\n"
     ]
    }
   ],
   "source": [
    "from sklearn.linear_model import LinearRegression\n",
    "import numpy as np \n",
    "\n",
    "X = np.array(X)\n",
    "Y = np.array(Y)\n",
    "\n",
    "# Iris Dataset을 Linear Regression으로 학습합니다. \n",
    "linear= LinearRegression()\n",
    "linear.fit(X.reshape(-1,1), Y)\n",
    "\n",
    "# Linear Regression의 기울기와 절편을 확인합니다. \n",
    "a, b=linear.coef_, linear.intercept_\n",
    "print(\"기울기 : %0.2f, 절편 : %0.2f\" %(a,b))"
   ]
  },
  {
   "cell_type": "code",
   "execution_count": 8,
   "id": "contrary-silly",
   "metadata": {},
   "outputs": [
    {
     "data": {
      "image/png": "[encoded data removed]",
      "text/plain": [
       "<Figure size 360x360 with 1 Axes>"
      ]
     },
     "metadata": {
      "needs_background": "light"
     },
     "output_type": "display_data"
    }
   ],
   "source": [
    "plt.figure(figsize=(5,5))\n",
    "plt.scatter(X,Y)\n",
    "plt.plot(X,linear.predict(X.reshape(-1,1)),'-b')\n",
    "plt.title('petal-sepal scatter with linear regression') \n",
    "plt.xlabel('petal length (cm)')\n",
    "plt.ylabel('sepal length (cm)')\n",
    "plt.grid()\n",
    "plt.show()"
   ]
  },
  {
   "cell_type": "markdown",
   "id": "collective-resolution",
   "metadata": {},
   "source": [
    "이번에는 __L1 regularization인 Lasso__ 로 Regression 해보자."
   ]
  },
  {
   "cell_type": "code",
   "execution_count": 9,
   "id": "wicked-equality",
   "metadata": {},
   "outputs": [
    {
     "name": "stdout",
     "output_type": "stream",
     "text": [
      "기울기 : 0.00, 절편 : 6.59\n"
     ]
    },
    {
     "data": {
      "image/png": "[encoded data removed]",
      "text/plain": [
       "<Figure size 360x360 with 1 Axes>"
      ]
     },
     "metadata": {
      "needs_background": "light"
     },
     "output_type": "display_data"
    }
   ],
   "source": [
    "#L1 regularization은 Lasso로 import 합니다.\n",
    "from sklearn.linear_model import Lasso\n",
    "\n",
    "L1 = Lasso()\n",
    "L1.fit(X.reshape(-1,1), Y)\n",
    "a, b=L1.coef_, L1.intercept_\n",
    "print(\"기울기 : %0.2f, 절편 : %0.2f\" %(a,b))\n",
    "\n",
    "plt.figure(figsize=(5,5))\n",
    "plt.scatter(X,Y)\n",
    "plt.plot(X,L1.predict(X.reshape(-1,1)),'-b')\n",
    "plt.title('petal-sepal scatter with L1 regularization(Lasso)') \n",
    "plt.xlabel('petal length (cm)')\n",
    "plt.ylabel('sepal length (cm)')\n",
    "plt.grid()\n",
    "plt.show()"
   ]
  },
  {
   "cell_type": "markdown",
   "id": "iraqi-contents",
   "metadata": {},
   "source": [
    "기울기가 0으로 나오는 것을 확인 할 수 있다.  Lasso 방법은 제대로 문제를 풀어내지 못하는 것 같다. 그 이유는 블로그에 정리하였다.  \n",
    "\n",
    ">"
   ]
  },
  {
   "cell_type": "markdown",
   "id": "korean-fashion",
   "metadata": {},
   "source": [
    "이번에는 __L2 regularization인 Ridge__ 로 Regression 해보자."
   ]
  },
  {
   "cell_type": "code",
   "execution_count": 10,
   "id": "aboriginal-citation",
   "metadata": {},
   "outputs": [
    {
     "name": "stdout",
     "output_type": "stream",
     "text": [
      "기울기 : 0.93, 절편 : 1.41\n"
     ]
    },
    {
     "data": {
      "image/png": "[encoded data removed]",
      "text/plain": [
       "<Figure size 360x360 with 1 Axes>"
      ]
     },
     "metadata": {
      "needs_background": "light"
     },
     "output_type": "display_data"
    }
   ],
   "source": [
    "#L2 regularization은 Ridge로 import 합니다. \n",
    "from sklearn.linear_model import Ridge\n",
    "\n",
    "L2 = Ridge()\n",
    "L2.fit(X.reshape(-1,1), Y)\n",
    "a, b = L2.coef_, L2.intercept_\n",
    "print(\"기울기 : %0.2f, 절편 : %0.2f\" %(a,b))\n",
    "\n",
    "plt.figure(figsize=(5,5))\n",
    "plt.scatter(X,Y)\n",
    "plt.plot(X,L2.predict(X.reshape(-1,1)),'-b')\n",
    "plt.title('petal-sepal scatter with L2 regularization(Ridge)') \n",
    "plt.xlabel('petal length (cm)')\n",
    "plt.ylabel('sepal length (cm)')\n",
    "plt.grid()\n",
    "plt.show()"
   ]
  },
  {
   "cell_type": "markdown",
   "id": "greater-synthetic",
   "metadata": {},
   "source": [
    "----\n",
    "## L1 Regularization\n",
    "L1 Regularization을 사용할 때는 X가 2차원 이상인 여러 컬럼 값이 있는 데이터일 때 실제 효과를 볼 수 있다.\n",
    "\n",
    "컬럼 수가 많은 데이터에서의 L1 regularization 비교하자. wine dataset 을 이용하겠다."
   ]
  },
  {
   "cell_type": "code",
   "execution_count": 11,
   "id": "advised-nirvana",
   "metadata": {},
   "outputs": [],
   "source": [
    "from sklearn.datasets import load_wine\n",
    "\n",
    "wine = load_wine()\n",
    "wine_df = pd.DataFrame(data=wine.data, columns=wine.feature_names)\n",
    "target_df = pd.DataFrame(data=wine.target, columns=['Y'])"
   ]
  },
  {
   "cell_type": "code",
   "execution_count": 12,
   "id": "unusual-poster",
   "metadata": {},
   "outputs": [
    {
     "data": {
      "text/html": [
       "<div>\n",
       "<style scoped>\n",
       "    .dataframe tbody tr th:only-of-type {\n",
       "        vertical-align: middle;\n",
       "    }\n",
       "\n",
       "    .dataframe tbody tr th {\n",
       "        vertical-align: top;\n",
       "    }\n",
       "\n",
       "    .dataframe thead th {\n",
       "        text-align: right;\n",
       "    }\n",
       "</style>\n",
       "<table border=\"1\" class=\"dataframe\">\n",
       "  <thead>\n",
       "    <tr style=\"text-align: right;\">\n",
       "      <th></th>\n",
       "      <th>alcohol</th>\n",
       "      <th>malic_acid</th>\n",
       "      <th>ash</th>\n",
       "      <th>alcalinity_of_ash</th>\n",
       "      <th>magnesium</th>\n",
       "      <th>total_phenols</th>\n",
       "      <th>flavanoids</th>\n",
       "      <th>nonflavanoid_phenols</th>\n",
       "      <th>proanthocyanins</th>\n",
       "      <th>color_intensity</th>\n",
       "      <th>hue</th>\n",
       "      <th>od280/od315_of_diluted_wines</th>\n",
       "      <th>proline</th>\n",
       "    </tr>\n",
       "  </thead>\n",
       "  <tbody>\n",
       "    <tr>\n",
       "      <th>0</th>\n",
       "      <td>14.23</td>\n",
       "      <td>1.71</td>\n",
       "      <td>2.43</td>\n",
       "      <td>15.6</td>\n",
       "      <td>127.0</td>\n",
       "      <td>2.80</td>\n",
       "      <td>3.06</td>\n",
       "      <td>0.28</td>\n",
       "      <td>2.29</td>\n",
       "      <td>5.64</td>\n",
       "      <td>1.04</td>\n",
       "      <td>3.92</td>\n",
       "      <td>1065.0</td>\n",
       "    </tr>\n",
       "    <tr>\n",
       "      <th>1</th>\n",
       "      <td>13.20</td>\n",
       "      <td>1.78</td>\n",
       "      <td>2.14</td>\n",
       "      <td>11.2</td>\n",
       "      <td>100.0</td>\n",
       "      <td>2.65</td>\n",
       "      <td>2.76</td>\n",
       "      <td>0.26</td>\n",
       "      <td>1.28</td>\n",
       "      <td>4.38</td>\n",
       "      <td>1.05</td>\n",
       "      <td>3.40</td>\n",
       "      <td>1050.0</td>\n",
       "    </tr>\n",
       "    <tr>\n",
       "      <th>2</th>\n",
       "      <td>13.16</td>\n",
       "      <td>2.36</td>\n",
       "      <td>2.67</td>\n",
       "      <td>18.6</td>\n",
       "      <td>101.0</td>\n",
       "      <td>2.80</td>\n",
       "      <td>3.24</td>\n",
       "      <td>0.30</td>\n",
       "      <td>2.81</td>\n",
       "      <td>5.68</td>\n",
       "      <td>1.03</td>\n",
       "      <td>3.17</td>\n",
       "      <td>1185.0</td>\n",
       "    </tr>\n",
       "    <tr>\n",
       "      <th>3</th>\n",
       "      <td>14.37</td>\n",
       "      <td>1.95</td>\n",
       "      <td>2.50</td>\n",
       "      <td>16.8</td>\n",
       "      <td>113.0</td>\n",
       "      <td>3.85</td>\n",
       "      <td>3.49</td>\n",
       "      <td>0.24</td>\n",
       "      <td>2.18</td>\n",
       "      <td>7.80</td>\n",
       "      <td>0.86</td>\n",
       "      <td>3.45</td>\n",
       "      <td>1480.0</td>\n",
       "    </tr>\n",
       "    <tr>\n",
       "      <th>4</th>\n",
       "      <td>13.24</td>\n",
       "      <td>2.59</td>\n",
       "      <td>2.87</td>\n",
       "      <td>21.0</td>\n",
       "      <td>118.0</td>\n",
       "      <td>2.80</td>\n",
       "      <td>2.69</td>\n",
       "      <td>0.39</td>\n",
       "      <td>1.82</td>\n",
       "      <td>4.32</td>\n",
       "      <td>1.04</td>\n",
       "      <td>2.93</td>\n",
       "      <td>735.0</td>\n",
       "    </tr>\n",
       "  </tbody>\n",
       "</table>\n",
       "</div>"
      ],
      "text/plain": [
       "   alcohol  malic_acid   ash  alcalinity_of_ash  magnesium  total_phenols  \\\n",
       "0    14.23        1.71  2.43               15.6      127.0           2.80   \n",
       "1    13.20        1.78  2.14               11.2      100.0           2.65   \n",
       "2    13.16        2.36  2.67               18.6      101.0           2.80   \n",
       "3    14.37        1.95  2.50               16.8      113.0           3.85   \n",
       "4    13.24        2.59  2.87               21.0      118.0           2.80   \n",
       "\n",
       "   flavanoids  nonflavanoid_phenols  proanthocyanins  color_intensity   hue  \\\n",
       "0        3.06                  0.28             2.29             5.64  1.04   \n",
       "1        2.76                  0.26             1.28             4.38  1.05   \n",
       "2        3.24                  0.30             2.81             5.68  1.03   \n",
       "3        3.49                  0.24             2.18             7.80  0.86   \n",
       "4        2.69                  0.39             1.82             4.32  1.04   \n",
       "\n",
       "   od280/od315_of_diluted_wines  proline  \n",
       "0                          3.92   1065.0  \n",
       "1                          3.40   1050.0  \n",
       "2                          3.17   1185.0  \n",
       "3                          3.45   1480.0  \n",
       "4                          2.93    735.0  "
      ]
     },
     "execution_count": 12,
     "metadata": {},
     "output_type": "execute_result"
    }
   ],
   "source": [
    "wine_df.head(5)"
   ]
  },
  {
   "cell_type": "code",
   "execution_count": 13,
   "id": "advanced-class",
   "metadata": {},
   "outputs": [
    {
     "data": {
      "text/html": [
       "<div>\n",
       "<style scoped>\n",
       "    .dataframe tbody tr th:only-of-type {\n",
       "        vertical-align: middle;\n",
       "    }\n",
       "\n",
       "    .dataframe tbody tr th {\n",
       "        vertical-align: top;\n",
       "    }\n",
       "\n",
       "    .dataframe thead th {\n",
       "        text-align: right;\n",
       "    }\n",
       "</style>\n",
       "<table border=\"1\" class=\"dataframe\">\n",
       "  <thead>\n",
       "    <tr style=\"text-align: right;\">\n",
       "      <th></th>\n",
       "      <th>Y</th>\n",
       "    </tr>\n",
       "  </thead>\n",
       "  <tbody>\n",
       "    <tr>\n",
       "      <th>0</th>\n",
       "      <td>0</td>\n",
       "    </tr>\n",
       "    <tr>\n",
       "      <th>1</th>\n",
       "      <td>0</td>\n",
       "    </tr>\n",
       "    <tr>\n",
       "      <th>2</th>\n",
       "      <td>0</td>\n",
       "    </tr>\n",
       "    <tr>\n",
       "      <th>3</th>\n",
       "      <td>0</td>\n",
       "    </tr>\n",
       "    <tr>\n",
       "      <th>4</th>\n",
       "      <td>0</td>\n",
       "    </tr>\n",
       "  </tbody>\n",
       "</table>\n",
       "</div>"
      ],
      "text/plain": [
       "   Y\n",
       "0  0\n",
       "1  0\n",
       "2  0\n",
       "3  0\n",
       "4  0"
      ]
     },
     "execution_count": 13,
     "metadata": {},
     "output_type": "execute_result"
    }
   ],
   "source": [
    "target_df.head(5)"
   ]
  },
  {
   "cell_type": "markdown",
   "id": "enhanced-cross",
   "metadata": {},
   "source": [
    "먼저 Linear regression 으로 문제를 풀고, 그 계수(coefficient)와 절대 오차(mean absolute error), 제곱 오차(mean squared error), 평균 제곱값 오차(root mean squared error)를 출력해보자."
   ]
  },
  {
   "cell_type": "code",
   "execution_count": 14,
   "id": "southwest-fleece",
   "metadata": {},
   "outputs": [
    {
     "name": "stdout",
     "output_type": "stream",
     "text": [
      "result of linear regression\n",
      "Mean Absolute Error: 0.25128973939722626\n",
      "Mean Squared Error: 0.1062458740952556\n",
      "Mean Root Squared Error: 0.32595379134971814\n",
      "\n",
      "\n",
      " coefficient linear regression\n",
      "[[-8.09017190e-02  4.34817880e-02 -1.18857931e-01  3.65705449e-02\n",
      "  -4.68014203e-04  1.41423581e-01 -4.54107854e-01 -5.13172664e-01\n",
      "   9.69318443e-02  5.34311136e-02 -1.27626604e-01 -2.91381844e-01\n",
      "  -5.72238959e-04]]\n"
     ]
    }
   ],
   "source": [
    "from sklearn.model_selection import train_test_split\n",
    "from sklearn.linear_model import LinearRegression\n",
    "from sklearn.metrics import mean_absolute_error, mean_squared_error\n",
    "\n",
    "# 데이터를 준비하고\n",
    "X_train, X_test, y_train, y_test = train_test_split(wine_df, target_df, test_size=0.3, random_state=101)\n",
    "\n",
    "# 모델을 훈련시킵니다.\n",
    "model = LinearRegression()\n",
    "model.fit(X_train, y_train)\n",
    "\n",
    "# 테스트\n",
    "model.predict(X_test)\n",
    "pred = model.predict(X_test)\n",
    "\n",
    "# 테스트 결과\n",
    "print(\"result of linear regression\")\n",
    "print('Mean Absolute Error:', mean_absolute_error(y_test, pred))\n",
    "print('Mean Squared Error:', mean_squared_error(y_test, pred))\n",
    "print('Mean Root Squared Error:', np.sqrt(mean_squared_error(y_test, pred)))\n",
    "\n",
    "print(\"\\n\\n coefficient linear regression\")\n",
    "print(model.coef_)"
   ]
  },
  {
   "cell_type": "markdown",
   "id": "critical-studio",
   "metadata": {},
   "source": [
    "이번에는 L1 regularization으로 문제를 풀고 비교해보겠다."
   ]
  },
  {
   "cell_type": "code",
   "execution_count": 16,
   "id": "sunset-might",
   "metadata": {},
   "outputs": [
    {
     "name": "stdout",
     "output_type": "stream",
     "text": [
      "result of Lasso\n",
      "Mean Absolute Error: 0.24233731936122138\n",
      "Mean Squared Error: 0.0955956894578189\n",
      "Mean Root Squared Error: 0.3091855259513597\n",
      "\n",
      "\n",
      " coefficient of Lasso\n",
      "[-0.          0.01373795 -0.          0.03065716  0.00154719 -0.\n",
      " -0.34143614 -0.          0.          0.06755943 -0.         -0.14558153\n",
      " -0.00089635]\n"
     ]
    }
   ],
   "source": [
    "from sklearn.linear_model import Lasso\n",
    "from sklearn.metrics import mean_absolute_error, mean_squared_error\n",
    "\n",
    "# 모델을 준비하고 훈련시킵니다.\n",
    "L1 = Lasso(alpha=0.05)\n",
    "L1.fit(X_train, y_train)\n",
    "\n",
    "# 테스트\n",
    "pred = L1.predict(X_test)\n",
    "\n",
    "# 모델 성능\n",
    "print(\"result of Lasso\")\n",
    "print('Mean Absolute Error:', mean_absolute_error(y_test, pred))\n",
    "print('Mean Squared Error:', mean_squared_error(y_test, pred))\n",
    "print('Mean Root Squared Error:', np.sqrt(mean_squared_error(y_test, pred)))\n",
    "\n",
    "print(\"\\n\\n coefficient of Lasso\")\n",
    "print(L1.coef_)"
   ]
  },
  {
   "cell_type": "markdown",
   "id": "fallen-saturn",
   "metadata": {},
   "source": [
    "#### 결과 분석\n",
    "- coefficient 부분을 보시면 Linear Regression과 L1 Regularization의 차이가 두드러짐\n",
    "- Linear Regression에서는 모든 컬럼의 가중치를 탐색하여 구함\n",
    "- L1 Regularization에서는 총 13개 중 7개를 제외한 나머지의 값들이 모두 0임\n",
    "- Error 부분에서는 큰 차이가 없었지만, 우리가 어떤 컬럼이 결과에 영향을 더 크게 미치는지 확실히 확인할 수 있음\n",
    "- 차원 축소와 비슷한 개념으로 변수의 값을 7개만 남겨도 충분히 결과를 예측함을 알 수 있음"
   ]
  },
  {
   "cell_type": "markdown",
   "id": "pointed-livestock",
   "metadata": {},
   "source": [
    "----\n",
    "## Dropout\n",
    "fashion mnist 라는 데이터 셋을 불러와서 dropout 기법을 구현한다."
   ]
  },
  {
   "cell_type": "markdown",
   "id": "amino-nylon",
   "metadata": {},
   "source": [
    "### not overfitting 상황"
   ]
  },
  {
   "cell_type": "code",
   "execution_count": 17,
   "id": "active-creator",
   "metadata": {},
   "outputs": [],
   "source": [
    "import tensorflow as tf\n",
    "from tensorflow import keras\n",
    "import numpy as np\n",
    "import matplotlib.pyplot as plt\n",
    "from sklearn.model_selection import train_test_split\n",
    "\n",
    "fashion_mnist = keras.datasets.fashion_mnist"
   ]
  },
  {
   "cell_type": "code",
   "execution_count": 18,
   "id": "aerial-broadway",
   "metadata": {},
   "outputs": [
    {
     "name": "stdout",
     "output_type": "stream",
     "text": [
      "Downloading data from https://storage.googleapis.com/tensorflow/tf-keras-datasets/train-labels-idx1-ubyte.gz\n",
      "32768/29515 [=================================] - 0s 0us/step\n",
      "Downloading data from https://storage.googleapis.com/tensorflow/tf-keras-datasets/train-images-idx3-ubyte.gz\n",
      "26427392/26421880 [==============================] - 0s 0us/step\n",
      "Downloading data from https://storage.googleapis.com/tensorflow/tf-keras-datasets/t10k-labels-idx1-ubyte.gz\n",
      "8192/5148 [===============================================] - 0s 0us/step\n",
      "Downloading data from https://storage.googleapis.com/tensorflow/tf-keras-datasets/t10k-images-idx3-ubyte.gz\n",
      "4423680/4422102 [==============================] - 0s 0us/step\n"
     ]
    }
   ],
   "source": [
    "(train_images, train_labels), (test_images, test_labels) = fashion_mnist.load_data()\n",
    "class_names = ['T-shirt/top', 'Trouser', 'Pullover', 'Dress', 'Coat',\n",
    "               'Sandal', 'Shirt', 'Sneaker', 'Bag', 'Ankle boot']\n",
    "\n",
    "train_images = train_images / 255.0\n",
    "test_images = test_images / 255.0"
   ]
  },
  {
   "cell_type": "markdown",
   "id": "regional-impression",
   "metadata": {},
   "source": [
    "dropout의 확률을 0.9로 주었을 때의 결과를 살펴보자."
   ]
  },
  {
   "cell_type": "code",
   "execution_count": 19,
   "id": "catholic-intellectual",
   "metadata": {},
   "outputs": [
    {
     "name": "stdout",
     "output_type": "stream",
     "text": [
      "Epoch 1/5\n",
      "1875/1875 [==============================] - 3s 1ms/step - loss: 1.6425 - accuracy: 0.3848\n",
      "Epoch 2/5\n",
      "1875/1875 [==============================] - 3s 1ms/step - loss: 1.1869 - accuracy: 0.5230\n",
      "Epoch 3/5\n",
      "1875/1875 [==============================] - 3s 1ms/step - loss: 1.0981 - accuracy: 0.5603\n",
      "Epoch 4/5\n",
      "1875/1875 [==============================] - 3s 1ms/step - loss: 1.0586 - accuracy: 0.5689\n",
      "Epoch 5/5\n",
      "1875/1875 [==============================] - 3s 1ms/step - loss: 1.0440 - accuracy: 0.5742\n"
     ]
    }
   ],
   "source": [
    "model = keras.Sequential([\n",
    "    keras.layers.Flatten(input_shape=(28, 28)),\n",
    "    keras.layers.Dense(128, activation='relu'),\n",
    "    # 여기에 dropout layer를 추가해보았습니다. 나머지 layer는 아래의 실습과 같습니다.\n",
    "    keras.layers.Dropout(0.9),\n",
    "    keras.layers.Dense(10, activation='softmax')\n",
    "])\n",
    "\n",
    "model.compile(optimizer='adam',loss='sparse_categorical_crossentropy',\n",
    "              metrics=['accuracy'])\n",
    "\n",
    "history= model.fit(train_images, train_labels, epochs=5)"
   ]
  },
  {
   "cell_type": "markdown",
   "id": "interior-passage",
   "metadata": {},
   "source": [
    "Dropout layer를 추가하여 0.9의 확률 값을 주니 학습이 안 됨을 확인할 수 있다."
   ]
  },
  {
   "cell_type": "code",
   "execution_count": 20,
   "id": "proper-metadata",
   "metadata": {},
   "outputs": [
    {
     "name": "stdout",
     "output_type": "stream",
     "text": [
      "Epoch 1/5\n",
      "1875/1875 [==============================] - 3s 1ms/step - loss: 0.6307 - accuracy: 0.7829\n",
      "Epoch 2/5\n",
      "1875/1875 [==============================] - 3s 1ms/step - loss: 0.3745 - accuracy: 0.8678\n",
      "Epoch 3/5\n",
      "1875/1875 [==============================] - 3s 1ms/step - loss: 0.3346 - accuracy: 0.8786\n",
      "Epoch 4/5\n",
      "1875/1875 [==============================] - 3s 1ms/step - loss: 0.3076 - accuracy: 0.8842\n",
      "Epoch 5/5\n",
      "1875/1875 [==============================] - 3s 1ms/step - loss: 0.2915 - accuracy: 0.8934\n"
     ]
    }
   ],
   "source": [
    "model = keras.Sequential([\n",
    "    keras.layers.Flatten(input_shape=(28, 28)),\n",
    "    # 이번에는 dropout layer가 없습니다. \n",
    "    keras.layers.Dense(128, activation='relu'),\n",
    "    keras.layers.Dense(10, activation='softmax')\n",
    "])\n",
    "\n",
    "model.compile(optimizer='adam',loss='sparse_categorical_crossentropy',\n",
    "              metrics=['accuracy'])\n",
    "\n",
    "history = model.fit(train_images, train_labels, epochs=5)"
   ]
  },
  {
   "cell_type": "markdown",
   "id": "dirty-affair",
   "metadata": {},
   "source": [
    "현재 이 데이터 셋은 학습이 잘 되는 데이터 셋으로, fully connected layer에서도 결과가 잘 나옴을 확인할 수 있다."
   ]
  },
  {
   "cell_type": "markdown",
   "id": "protective-programming",
   "metadata": {},
   "source": [
    "### overfitting 상황\n",
    "위의 데이터를 이제 train:valid=99:1로 split 한 뒤에 loss function의 값을 그려보고, overfitting 이 나는 fully connected layer를 만들어보자."
   ]
  },
  {
   "cell_type": "code",
   "execution_count": 21,
   "id": "killing-anthropology",
   "metadata": {
    "scrolled": false
   },
   "outputs": [
    {
     "name": "stdout",
     "output_type": "stream",
     "text": [
      "Epoch 1/200\n",
      "117/117 [==============================] - 1s 6ms/step - loss: 2.2063 - accuracy: 0.4311 - val_loss: 1.6545 - val_accuracy: 0.6033\n",
      "Epoch 2/200\n",
      "117/117 [==============================] - 0s 3ms/step - loss: 1.5340 - accuracy: 0.5940 - val_loss: 1.1889 - val_accuracy: 0.6683\n",
      "Epoch 3/200\n",
      "117/117 [==============================] - 0s 3ms/step - loss: 1.1446 - accuracy: 0.6569 - val_loss: 0.9663 - val_accuracy: 0.7067\n",
      "Epoch 4/200\n",
      "117/117 [==============================] - 0s 3ms/step - loss: 0.9358 - accuracy: 0.7093 - val_loss: 0.8223 - val_accuracy: 0.7567\n",
      "Epoch 5/200\n",
      "117/117 [==============================] - 0s 3ms/step - loss: 0.8109 - accuracy: 0.7304 - val_loss: 0.7368 - val_accuracy: 0.7567\n",
      "Epoch 6/200\n",
      "117/117 [==============================] - 0s 3ms/step - loss: 0.7392 - accuracy: 0.7429 - val_loss: 0.6902 - val_accuracy: 0.7700\n",
      "Epoch 7/200\n",
      "117/117 [==============================] - 0s 3ms/step - loss: 0.6893 - accuracy: 0.7581 - val_loss: 0.6585 - val_accuracy: 0.7833\n",
      "Epoch 8/200\n",
      "117/117 [==============================] - 0s 3ms/step - loss: 0.6558 - accuracy: 0.7687 - val_loss: 0.6298 - val_accuracy: 0.7800\n",
      "Epoch 9/200\n",
      "117/117 [==============================] - 0s 3ms/step - loss: 0.6372 - accuracy: 0.7693 - val_loss: 0.6094 - val_accuracy: 0.7883\n",
      "Epoch 10/200\n",
      "117/117 [==============================] - 0s 3ms/step - loss: 0.6096 - accuracy: 0.7799 - val_loss: 0.5924 - val_accuracy: 0.7883\n",
      "Epoch 11/200\n",
      "117/117 [==============================] - 0s 3ms/step - loss: 0.5898 - accuracy: 0.7887 - val_loss: 0.5756 - val_accuracy: 0.7967\n",
      "Epoch 12/200\n",
      "117/117 [==============================] - 0s 3ms/step - loss: 0.5751 - accuracy: 0.7947 - val_loss: 0.5645 - val_accuracy: 0.7900\n",
      "Epoch 13/200\n",
      "117/117 [==============================] - 0s 3ms/step - loss: 0.5613 - accuracy: 0.8019 - val_loss: 0.5495 - val_accuracy: 0.8000\n",
      "Epoch 14/200\n",
      "117/117 [==============================] - 0s 3ms/step - loss: 0.5510 - accuracy: 0.8045 - val_loss: 0.5401 - val_accuracy: 0.8017\n",
      "Epoch 15/200\n",
      "117/117 [==============================] - 0s 3ms/step - loss: 0.5352 - accuracy: 0.8112 - val_loss: 0.5293 - val_accuracy: 0.8117\n",
      "Epoch 16/200\n",
      "117/117 [==============================] - 0s 3ms/step - loss: 0.5325 - accuracy: 0.8111 - val_loss: 0.5258 - val_accuracy: 0.8133\n",
      "Epoch 17/200\n",
      "117/117 [==============================] - 0s 3ms/step - loss: 0.5199 - accuracy: 0.8155 - val_loss: 0.5178 - val_accuracy: 0.8017\n",
      "Epoch 18/200\n",
      "117/117 [==============================] - 0s 3ms/step - loss: 0.5155 - accuracy: 0.8192 - val_loss: 0.5074 - val_accuracy: 0.8117\n",
      "Epoch 19/200\n",
      "117/117 [==============================] - 0s 3ms/step - loss: 0.4988 - accuracy: 0.8245 - val_loss: 0.4983 - val_accuracy: 0.8150\n",
      "Epoch 20/200\n",
      "117/117 [==============================] - 0s 3ms/step - loss: 0.4907 - accuracy: 0.8284 - val_loss: 0.4954 - val_accuracy: 0.8283\n",
      "Epoch 21/200\n",
      "117/117 [==============================] - 0s 3ms/step - loss: 0.4880 - accuracy: 0.8299 - val_loss: 0.4863 - val_accuracy: 0.8233\n",
      "Epoch 22/200\n",
      "117/117 [==============================] - 0s 3ms/step - loss: 0.4780 - accuracy: 0.8336 - val_loss: 0.4823 - val_accuracy: 0.8183\n",
      "Epoch 23/200\n",
      "117/117 [==============================] - 0s 3ms/step - loss: 0.4844 - accuracy: 0.8316 - val_loss: 0.4805 - val_accuracy: 0.8283\n",
      "Epoch 24/200\n",
      "117/117 [==============================] - 0s 3ms/step - loss: 0.4693 - accuracy: 0.8377 - val_loss: 0.4727 - val_accuracy: 0.8283\n",
      "Epoch 25/200\n",
      "117/117 [==============================] - 0s 3ms/step - loss: 0.4684 - accuracy: 0.8368 - val_loss: 0.4673 - val_accuracy: 0.8317\n",
      "Epoch 26/200\n",
      "117/117 [==============================] - 0s 3ms/step - loss: 0.4656 - accuracy: 0.8376 - val_loss: 0.4675 - val_accuracy: 0.8267\n",
      "Epoch 27/200\n",
      "117/117 [==============================] - 0s 3ms/step - loss: 0.4616 - accuracy: 0.8400 - val_loss: 0.4596 - val_accuracy: 0.8267\n",
      "Epoch 28/200\n",
      "117/117 [==============================] - 0s 3ms/step - loss: 0.4548 - accuracy: 0.8417 - val_loss: 0.4559 - val_accuracy: 0.8333\n",
      "Epoch 29/200\n",
      "117/117 [==============================] - 0s 3ms/step - loss: 0.4485 - accuracy: 0.8422 - val_loss: 0.4558 - val_accuracy: 0.8350\n",
      "Epoch 30/200\n",
      "117/117 [==============================] - 0s 3ms/step - loss: 0.4469 - accuracy: 0.8429 - val_loss: 0.4503 - val_accuracy: 0.8350\n",
      "Epoch 31/200\n",
      "117/117 [==============================] - 0s 3ms/step - loss: 0.4429 - accuracy: 0.8432 - val_loss: 0.4457 - val_accuracy: 0.8350\n",
      "Epoch 32/200\n",
      "117/117 [==============================] - 0s 3ms/step - loss: 0.4418 - accuracy: 0.8442 - val_loss: 0.4440 - val_accuracy: 0.8367\n",
      "Epoch 33/200\n",
      "117/117 [==============================] - 0s 3ms/step - loss: 0.4333 - accuracy: 0.8470 - val_loss: 0.4421 - val_accuracy: 0.8350\n",
      "Epoch 34/200\n",
      "117/117 [==============================] - 0s 3ms/step - loss: 0.4387 - accuracy: 0.8474 - val_loss: 0.4363 - val_accuracy: 0.8383\n",
      "Epoch 35/200\n",
      "117/117 [==============================] - 0s 3ms/step - loss: 0.4301 - accuracy: 0.8487 - val_loss: 0.4372 - val_accuracy: 0.8383\n",
      "Epoch 36/200\n",
      "117/117 [==============================] - 0s 3ms/step - loss: 0.4362 - accuracy: 0.8465 - val_loss: 0.4338 - val_accuracy: 0.8383\n",
      "Epoch 37/200\n",
      "117/117 [==============================] - 0s 3ms/step - loss: 0.4302 - accuracy: 0.8491 - val_loss: 0.4284 - val_accuracy: 0.8400\n",
      "Epoch 38/200\n",
      "117/117 [==============================] - 0s 3ms/step - loss: 0.4214 - accuracy: 0.8534 - val_loss: 0.4317 - val_accuracy: 0.8417\n",
      "Epoch 39/200\n",
      "117/117 [==============================] - 0s 3ms/step - loss: 0.4264 - accuracy: 0.8508 - val_loss: 0.4234 - val_accuracy: 0.8400\n",
      "Epoch 40/200\n",
      "117/117 [==============================] - 0s 3ms/step - loss: 0.4289 - accuracy: 0.8504 - val_loss: 0.4250 - val_accuracy: 0.8400\n",
      "Epoch 41/200\n",
      "117/117 [==============================] - 0s 3ms/step - loss: 0.4185 - accuracy: 0.8542 - val_loss: 0.4243 - val_accuracy: 0.8400\n",
      "Epoch 42/200\n",
      "117/117 [==============================] - 0s 3ms/step - loss: 0.4263 - accuracy: 0.8490 - val_loss: 0.4235 - val_accuracy: 0.8417\n",
      "Epoch 43/200\n",
      "117/117 [==============================] - 0s 3ms/step - loss: 0.4125 - accuracy: 0.8565 - val_loss: 0.4207 - val_accuracy: 0.8317\n",
      "Epoch 44/200\n",
      "117/117 [==============================] - 0s 3ms/step - loss: 0.4113 - accuracy: 0.8544 - val_loss: 0.4175 - val_accuracy: 0.8283\n",
      "Epoch 45/200\n",
      "117/117 [==============================] - 0s 3ms/step - loss: 0.4103 - accuracy: 0.8559 - val_loss: 0.4161 - val_accuracy: 0.8367\n",
      "Epoch 46/200\n",
      "117/117 [==============================] - 0s 3ms/step - loss: 0.4097 - accuracy: 0.8555 - val_loss: 0.4190 - val_accuracy: 0.8350\n",
      "Epoch 47/200\n",
      "117/117 [==============================] - 0s 3ms/step - loss: 0.4148 - accuracy: 0.8540 - val_loss: 0.4146 - val_accuracy: 0.8317\n",
      "Epoch 48/200\n",
      "117/117 [==============================] - 0s 3ms/step - loss: 0.4030 - accuracy: 0.8592 - val_loss: 0.4113 - val_accuracy: 0.8417\n",
      "Epoch 49/200\n",
      "117/117 [==============================] - 0s 3ms/step - loss: 0.4053 - accuracy: 0.8567 - val_loss: 0.4085 - val_accuracy: 0.8350\n",
      "Epoch 50/200\n",
      "117/117 [==============================] - 0s 3ms/step - loss: 0.4029 - accuracy: 0.8587 - val_loss: 0.4085 - val_accuracy: 0.8333\n",
      "Epoch 51/200\n",
      "117/117 [==============================] - 0s 3ms/step - loss: 0.4023 - accuracy: 0.8590 - val_loss: 0.4078 - val_accuracy: 0.8250\n",
      "Epoch 52/200\n",
      "117/117 [==============================] - 0s 3ms/step - loss: 0.4042 - accuracy: 0.8582 - val_loss: 0.4078 - val_accuracy: 0.8317\n",
      "Epoch 53/200\n",
      "117/117 [==============================] - 0s 3ms/step - loss: 0.3955 - accuracy: 0.8619 - val_loss: 0.4053 - val_accuracy: 0.8367\n",
      "Epoch 54/200\n",
      "117/117 [==============================] - 0s 3ms/step - loss: 0.3917 - accuracy: 0.8628 - val_loss: 0.4050 - val_accuracy: 0.8333\n",
      "Epoch 55/200\n",
      "117/117 [==============================] - 0s 3ms/step - loss: 0.3886 - accuracy: 0.8641 - val_loss: 0.4011 - val_accuracy: 0.8267\n",
      "Epoch 56/200\n",
      "117/117 [==============================] - 0s 3ms/step - loss: 0.3913 - accuracy: 0.8634 - val_loss: 0.4029 - val_accuracy: 0.8350\n",
      "Epoch 57/200\n",
      "117/117 [==============================] - 0s 3ms/step - loss: 0.3920 - accuracy: 0.8632 - val_loss: 0.3972 - val_accuracy: 0.8333\n"
     ]
    },
    {
     "name": "stdout",
     "output_type": "stream",
     "text": [
      "Epoch 58/200\n",
      "117/117 [==============================] - 0s 3ms/step - loss: 0.3967 - accuracy: 0.8593 - val_loss: 0.3976 - val_accuracy: 0.8367\n",
      "Epoch 59/200\n",
      "117/117 [==============================] - 0s 3ms/step - loss: 0.3860 - accuracy: 0.8640 - val_loss: 0.3930 - val_accuracy: 0.8333\n",
      "Epoch 60/200\n",
      "117/117 [==============================] - 0s 3ms/step - loss: 0.3881 - accuracy: 0.8642 - val_loss: 0.3912 - val_accuracy: 0.8350\n",
      "Epoch 61/200\n",
      "117/117 [==============================] - 0s 3ms/step - loss: 0.3851 - accuracy: 0.8662 - val_loss: 0.3904 - val_accuracy: 0.8383\n",
      "Epoch 62/200\n",
      "117/117 [==============================] - 0s 3ms/step - loss: 0.3802 - accuracy: 0.8659 - val_loss: 0.3927 - val_accuracy: 0.8350\n",
      "Epoch 63/200\n",
      "117/117 [==============================] - 0s 3ms/step - loss: 0.3858 - accuracy: 0.8664 - val_loss: 0.3919 - val_accuracy: 0.8400\n",
      "Epoch 64/200\n",
      "117/117 [==============================] - 0s 3ms/step - loss: 0.3797 - accuracy: 0.8670 - val_loss: 0.3889 - val_accuracy: 0.8317\n",
      "Epoch 65/200\n",
      "117/117 [==============================] - 0s 3ms/step - loss: 0.3818 - accuracy: 0.8635 - val_loss: 0.3902 - val_accuracy: 0.8317\n",
      "Epoch 66/200\n",
      "117/117 [==============================] - 0s 3ms/step - loss: 0.3753 - accuracy: 0.8679 - val_loss: 0.3874 - val_accuracy: 0.8433\n",
      "Epoch 67/200\n",
      "117/117 [==============================] - 0s 3ms/step - loss: 0.3772 - accuracy: 0.8683 - val_loss: 0.3847 - val_accuracy: 0.8350\n",
      "Epoch 68/200\n",
      "117/117 [==============================] - 0s 3ms/step - loss: 0.3757 - accuracy: 0.8677 - val_loss: 0.3852 - val_accuracy: 0.8333\n",
      "Epoch 69/200\n",
      "117/117 [==============================] - 0s 3ms/step - loss: 0.3742 - accuracy: 0.8696 - val_loss: 0.3893 - val_accuracy: 0.8367\n",
      "Epoch 70/200\n",
      "117/117 [==============================] - 0s 3ms/step - loss: 0.3790 - accuracy: 0.8660 - val_loss: 0.3816 - val_accuracy: 0.8400\n",
      "Epoch 71/200\n",
      "117/117 [==============================] - 0s 3ms/step - loss: 0.3646 - accuracy: 0.8715 - val_loss: 0.3816 - val_accuracy: 0.8383\n",
      "Epoch 72/200\n",
      "117/117 [==============================] - 0s 3ms/step - loss: 0.3705 - accuracy: 0.8712 - val_loss: 0.3803 - val_accuracy: 0.8400\n",
      "Epoch 73/200\n",
      "117/117 [==============================] - 0s 3ms/step - loss: 0.3673 - accuracy: 0.8711 - val_loss: 0.3772 - val_accuracy: 0.8467\n",
      "Epoch 74/200\n",
      "117/117 [==============================] - 0s 3ms/step - loss: 0.3730 - accuracy: 0.8703 - val_loss: 0.3770 - val_accuracy: 0.8400\n",
      "Epoch 75/200\n",
      "117/117 [==============================] - 0s 3ms/step - loss: 0.3705 - accuracy: 0.8704 - val_loss: 0.3773 - val_accuracy: 0.8450\n",
      "Epoch 76/200\n",
      "117/117 [==============================] - 0s 3ms/step - loss: 0.3666 - accuracy: 0.8707 - val_loss: 0.3803 - val_accuracy: 0.8500\n",
      "Epoch 77/200\n",
      "117/117 [==============================] - 0s 3ms/step - loss: 0.3643 - accuracy: 0.8735 - val_loss: 0.3770 - val_accuracy: 0.8483\n",
      "Epoch 78/200\n",
      "117/117 [==============================] - 0s 3ms/step - loss: 0.3692 - accuracy: 0.8700 - val_loss: 0.3723 - val_accuracy: 0.8467\n",
      "Epoch 79/200\n",
      "117/117 [==============================] - 0s 3ms/step - loss: 0.3636 - accuracy: 0.8727 - val_loss: 0.3778 - val_accuracy: 0.8467\n",
      "Epoch 80/200\n",
      "117/117 [==============================] - 0s 3ms/step - loss: 0.3647 - accuracy: 0.8711 - val_loss: 0.3754 - val_accuracy: 0.8467\n",
      "Epoch 81/200\n",
      "117/117 [==============================] - 0s 3ms/step - loss: 0.3654 - accuracy: 0.8722 - val_loss: 0.3711 - val_accuracy: 0.8467\n",
      "Epoch 82/200\n",
      "117/117 [==============================] - 0s 3ms/step - loss: 0.3630 - accuracy: 0.8738 - val_loss: 0.3742 - val_accuracy: 0.8467\n",
      "Epoch 83/200\n",
      "117/117 [==============================] - 0s 3ms/step - loss: 0.3663 - accuracy: 0.8711 - val_loss: 0.3687 - val_accuracy: 0.8350\n",
      "Epoch 84/200\n",
      "117/117 [==============================] - 0s 3ms/step - loss: 0.3570 - accuracy: 0.8735 - val_loss: 0.3701 - val_accuracy: 0.8350\n",
      "Epoch 85/200\n",
      "117/117 [==============================] - 0s 3ms/step - loss: 0.3580 - accuracy: 0.8749 - val_loss: 0.3661 - val_accuracy: 0.8450\n",
      "Epoch 86/200\n",
      "117/117 [==============================] - 0s 3ms/step - loss: 0.3630 - accuracy: 0.8726 - val_loss: 0.3666 - val_accuracy: 0.8433\n",
      "Epoch 87/200\n",
      "117/117 [==============================] - 0s 3ms/step - loss: 0.3559 - accuracy: 0.8740 - val_loss: 0.3688 - val_accuracy: 0.8467\n",
      "Epoch 88/200\n",
      "117/117 [==============================] - 0s 3ms/step - loss: 0.3598 - accuracy: 0.8733 - val_loss: 0.3681 - val_accuracy: 0.8500\n",
      "Epoch 89/200\n",
      "117/117 [==============================] - 0s 3ms/step - loss: 0.3513 - accuracy: 0.8757 - val_loss: 0.3708 - val_accuracy: 0.8433\n",
      "Epoch 90/200\n",
      "117/117 [==============================] - 0s 3ms/step - loss: 0.3564 - accuracy: 0.8729 - val_loss: 0.3666 - val_accuracy: 0.8483\n",
      "Epoch 91/200\n",
      "117/117 [==============================] - 0s 3ms/step - loss: 0.3532 - accuracy: 0.8769 - val_loss: 0.3660 - val_accuracy: 0.8483\n",
      "Epoch 92/200\n",
      "117/117 [==============================] - 0s 3ms/step - loss: 0.3509 - accuracy: 0.8764 - val_loss: 0.3646 - val_accuracy: 0.8483\n",
      "Epoch 93/200\n",
      "117/117 [==============================] - 0s 3ms/step - loss: 0.3532 - accuracy: 0.8751 - val_loss: 0.3619 - val_accuracy: 0.8417\n",
      "Epoch 94/200\n",
      "117/117 [==============================] - 0s 3ms/step - loss: 0.3527 - accuracy: 0.8748 - val_loss: 0.3621 - val_accuracy: 0.8450\n",
      "Epoch 95/200\n",
      "117/117 [==============================] - 0s 3ms/step - loss: 0.3463 - accuracy: 0.8787 - val_loss: 0.3613 - val_accuracy: 0.8500\n",
      "Epoch 96/200\n",
      "117/117 [==============================] - 0s 3ms/step - loss: 0.3462 - accuracy: 0.8773 - val_loss: 0.3611 - val_accuracy: 0.8550\n",
      "Epoch 97/200\n",
      "117/117 [==============================] - 0s 3ms/step - loss: 0.3507 - accuracy: 0.8748 - val_loss: 0.3592 - val_accuracy: 0.8517\n",
      "Epoch 98/200\n",
      "117/117 [==============================] - 0s 3ms/step - loss: 0.3465 - accuracy: 0.8793 - val_loss: 0.3574 - val_accuracy: 0.8483\n",
      "Epoch 99/200\n",
      "117/117 [==============================] - 0s 3ms/step - loss: 0.3488 - accuracy: 0.8770 - val_loss: 0.3610 - val_accuracy: 0.8517\n",
      "Epoch 100/200\n",
      "117/117 [==============================] - 0s 3ms/step - loss: 0.3430 - accuracy: 0.8781 - val_loss: 0.3608 - val_accuracy: 0.8533\n",
      "Epoch 101/200\n",
      "117/117 [==============================] - 0s 3ms/step - loss: 0.3502 - accuracy: 0.8758 - val_loss: 0.3546 - val_accuracy: 0.8483\n",
      "Epoch 102/200\n",
      "117/117 [==============================] - 0s 3ms/step - loss: 0.3450 - accuracy: 0.8781 - val_loss: 0.3577 - val_accuracy: 0.8517\n",
      "Epoch 103/200\n",
      "117/117 [==============================] - 0s 3ms/step - loss: 0.3475 - accuracy: 0.8765 - val_loss: 0.3593 - val_accuracy: 0.8517\n",
      "Epoch 104/200\n",
      "117/117 [==============================] - 0s 3ms/step - loss: 0.3453 - accuracy: 0.8790 - val_loss: 0.3558 - val_accuracy: 0.8500\n",
      "Epoch 105/200\n",
      "117/117 [==============================] - 0s 3ms/step - loss: 0.3404 - accuracy: 0.8794 - val_loss: 0.3575 - val_accuracy: 0.8517\n",
      "Epoch 106/200\n",
      "117/117 [==============================] - 0s 3ms/step - loss: 0.3397 - accuracy: 0.8806 - val_loss: 0.3539 - val_accuracy: 0.8500\n",
      "Epoch 107/200\n",
      "117/117 [==============================] - 0s 3ms/step - loss: 0.3411 - accuracy: 0.8796 - val_loss: 0.3578 - val_accuracy: 0.8517\n",
      "Epoch 108/200\n",
      "117/117 [==============================] - 0s 3ms/step - loss: 0.3395 - accuracy: 0.8798 - val_loss: 0.3588 - val_accuracy: 0.8500\n",
      "Epoch 109/200\n",
      "117/117 [==============================] - 0s 3ms/step - loss: 0.3463 - accuracy: 0.8789 - val_loss: 0.3542 - val_accuracy: 0.8517\n",
      "Epoch 110/200\n",
      "117/117 [==============================] - 0s 3ms/step - loss: 0.3389 - accuracy: 0.8788 - val_loss: 0.3597 - val_accuracy: 0.8583\n",
      "Epoch 111/200\n",
      "117/117 [==============================] - 0s 3ms/step - loss: 0.3397 - accuracy: 0.8799 - val_loss: 0.3536 - val_accuracy: 0.8533\n",
      "Epoch 112/200\n",
      "117/117 [==============================] - 0s 3ms/step - loss: 0.3336 - accuracy: 0.8814 - val_loss: 0.3483 - val_accuracy: 0.8483\n",
      "Epoch 113/200\n",
      "117/117 [==============================] - 0s 3ms/step - loss: 0.3347 - accuracy: 0.8825 - val_loss: 0.3535 - val_accuracy: 0.8550\n",
      "Epoch 114/200\n",
      "117/117 [==============================] - 0s 3ms/step - loss: 0.3297 - accuracy: 0.8827 - val_loss: 0.3506 - val_accuracy: 0.8500\n"
     ]
    },
    {
     "name": "stdout",
     "output_type": "stream",
     "text": [
      "Epoch 115/200\n",
      "117/117 [==============================] - 0s 3ms/step - loss: 0.3323 - accuracy: 0.8820 - val_loss: 0.3509 - val_accuracy: 0.8583\n",
      "Epoch 116/200\n",
      "117/117 [==============================] - 0s 3ms/step - loss: 0.3360 - accuracy: 0.8821 - val_loss: 0.3482 - val_accuracy: 0.8533\n",
      "Epoch 117/200\n",
      "117/117 [==============================] - 0s 3ms/step - loss: 0.3340 - accuracy: 0.8795 - val_loss: 0.3494 - val_accuracy: 0.8617\n",
      "Epoch 118/200\n",
      "117/117 [==============================] - 0s 3ms/step - loss: 0.3295 - accuracy: 0.8846 - val_loss: 0.3480 - val_accuracy: 0.8550\n",
      "Epoch 119/200\n",
      "117/117 [==============================] - 0s 3ms/step - loss: 0.3310 - accuracy: 0.8814 - val_loss: 0.3490 - val_accuracy: 0.8517\n",
      "Epoch 120/200\n",
      "117/117 [==============================] - 0s 3ms/step - loss: 0.3345 - accuracy: 0.8808 - val_loss: 0.3454 - val_accuracy: 0.8517\n",
      "Epoch 121/200\n",
      "117/117 [==============================] - 0s 3ms/step - loss: 0.3279 - accuracy: 0.8832 - val_loss: 0.3515 - val_accuracy: 0.8550\n",
      "Epoch 122/200\n",
      "117/117 [==============================] - 0s 3ms/step - loss: 0.3309 - accuracy: 0.8833 - val_loss: 0.3469 - val_accuracy: 0.8567\n",
      "Epoch 123/200\n",
      "117/117 [==============================] - 0s 3ms/step - loss: 0.3322 - accuracy: 0.8815 - val_loss: 0.3495 - val_accuracy: 0.8500\n",
      "Epoch 124/200\n",
      "117/117 [==============================] - 0s 3ms/step - loss: 0.3333 - accuracy: 0.8828 - val_loss: 0.3460 - val_accuracy: 0.8533\n",
      "Epoch 125/200\n",
      "117/117 [==============================] - 0s 3ms/step - loss: 0.3289 - accuracy: 0.8844 - val_loss: 0.3426 - val_accuracy: 0.8583\n",
      "Epoch 126/200\n",
      "117/117 [==============================] - 0s 3ms/step - loss: 0.3277 - accuracy: 0.8853 - val_loss: 0.3454 - val_accuracy: 0.8583\n",
      "Epoch 127/200\n",
      "117/117 [==============================] - 0s 3ms/step - loss: 0.3252 - accuracy: 0.8840 - val_loss: 0.3433 - val_accuracy: 0.8533\n",
      "Epoch 128/200\n",
      "117/117 [==============================] - 0s 3ms/step - loss: 0.3242 - accuracy: 0.8846 - val_loss: 0.3468 - val_accuracy: 0.8550\n",
      "Epoch 129/200\n",
      "117/117 [==============================] - 0s 3ms/step - loss: 0.3216 - accuracy: 0.8852 - val_loss: 0.3429 - val_accuracy: 0.8550\n",
      "Epoch 130/200\n",
      "117/117 [==============================] - 0s 3ms/step - loss: 0.3248 - accuracy: 0.8859 - val_loss: 0.3431 - val_accuracy: 0.8550\n",
      "Epoch 131/200\n",
      "117/117 [==============================] - 0s 3ms/step - loss: 0.3274 - accuracy: 0.8838 - val_loss: 0.3428 - val_accuracy: 0.8583\n",
      "Epoch 132/200\n",
      "117/117 [==============================] - 0s 3ms/step - loss: 0.3274 - accuracy: 0.8835 - val_loss: 0.3452 - val_accuracy: 0.8600\n",
      "Epoch 133/200\n",
      "117/117 [==============================] - 0s 3ms/step - loss: 0.3226 - accuracy: 0.8858 - val_loss: 0.3389 - val_accuracy: 0.8583\n",
      "Epoch 134/200\n",
      "117/117 [==============================] - 0s 3ms/step - loss: 0.3251 - accuracy: 0.8842 - val_loss: 0.3426 - val_accuracy: 0.8567\n",
      "Epoch 135/200\n",
      "117/117 [==============================] - 0s 3ms/step - loss: 0.3250 - accuracy: 0.8839 - val_loss: 0.3416 - val_accuracy: 0.8617\n",
      "Epoch 136/200\n",
      "117/117 [==============================] - 0s 3ms/step - loss: 0.3254 - accuracy: 0.8832 - val_loss: 0.3446 - val_accuracy: 0.8567\n",
      "Epoch 137/200\n",
      "117/117 [==============================] - 0s 3ms/step - loss: 0.3191 - accuracy: 0.8858 - val_loss: 0.3446 - val_accuracy: 0.8600\n",
      "Epoch 138/200\n",
      "117/117 [==============================] - 0s 3ms/step - loss: 0.3173 - accuracy: 0.8885 - val_loss: 0.3420 - val_accuracy: 0.8550\n",
      "Epoch 139/200\n",
      "117/117 [==============================] - 0s 3ms/step - loss: 0.3157 - accuracy: 0.8870 - val_loss: 0.3413 - val_accuracy: 0.8633\n",
      "Epoch 140/200\n",
      "117/117 [==============================] - 0s 3ms/step - loss: 0.3173 - accuracy: 0.8872 - val_loss: 0.3443 - val_accuracy: 0.8567\n",
      "Epoch 141/200\n",
      "117/117 [==============================] - 0s 3ms/step - loss: 0.3131 - accuracy: 0.8899 - val_loss: 0.3402 - val_accuracy: 0.8617\n",
      "Epoch 142/200\n",
      "117/117 [==============================] - 0s 3ms/step - loss: 0.3170 - accuracy: 0.8867 - val_loss: 0.3377 - val_accuracy: 0.8550\n",
      "Epoch 143/200\n",
      "117/117 [==============================] - 0s 3ms/step - loss: 0.3187 - accuracy: 0.8860 - val_loss: 0.3456 - val_accuracy: 0.8567\n",
      "Epoch 144/200\n",
      "117/117 [==============================] - 0s 3ms/step - loss: 0.3157 - accuracy: 0.8885 - val_loss: 0.3414 - val_accuracy: 0.8583\n",
      "Epoch 145/200\n",
      "117/117 [==============================] - 0s 3ms/step - loss: 0.3209 - accuracy: 0.8854 - val_loss: 0.3375 - val_accuracy: 0.8600\n",
      "Epoch 146/200\n",
      "117/117 [==============================] - 0s 3ms/step - loss: 0.3136 - accuracy: 0.8893 - val_loss: 0.3389 - val_accuracy: 0.8600\n",
      "Epoch 147/200\n",
      "117/117 [==============================] - 0s 3ms/step - loss: 0.3171 - accuracy: 0.8878 - val_loss: 0.3370 - val_accuracy: 0.8650\n",
      "Epoch 148/200\n",
      "117/117 [==============================] - 0s 3ms/step - loss: 0.3118 - accuracy: 0.8893 - val_loss: 0.3433 - val_accuracy: 0.8617\n",
      "Epoch 149/200\n",
      "117/117 [==============================] - 0s 3ms/step - loss: 0.3122 - accuracy: 0.8896 - val_loss: 0.3376 - val_accuracy: 0.8583\n",
      "Epoch 150/200\n",
      "117/117 [==============================] - 0s 3ms/step - loss: 0.3163 - accuracy: 0.8865 - val_loss: 0.3377 - val_accuracy: 0.8550\n",
      "Epoch 151/200\n",
      "117/117 [==============================] - 0s 3ms/step - loss: 0.3092 - accuracy: 0.8902 - val_loss: 0.3332 - val_accuracy: 0.8650\n",
      "Epoch 152/200\n",
      "117/117 [==============================] - 0s 3ms/step - loss: 0.3087 - accuracy: 0.8908 - val_loss: 0.3352 - val_accuracy: 0.8600\n",
      "Epoch 153/200\n",
      "117/117 [==============================] - 0s 3ms/step - loss: 0.3162 - accuracy: 0.8878 - val_loss: 0.3342 - val_accuracy: 0.8683\n",
      "Epoch 154/200\n",
      "117/117 [==============================] - 0s 3ms/step - loss: 0.3060 - accuracy: 0.8919 - val_loss: 0.3356 - val_accuracy: 0.8617\n",
      "Epoch 155/200\n",
      "117/117 [==============================] - 0s 3ms/step - loss: 0.3113 - accuracy: 0.8900 - val_loss: 0.3397 - val_accuracy: 0.8633\n",
      "Epoch 156/200\n",
      "117/117 [==============================] - 0s 3ms/step - loss: 0.3081 - accuracy: 0.8899 - val_loss: 0.3442 - val_accuracy: 0.8550\n",
      "Epoch 157/200\n",
      "117/117 [==============================] - 0s 3ms/step - loss: 0.3112 - accuracy: 0.8883 - val_loss: 0.3357 - val_accuracy: 0.8650\n",
      "Epoch 158/200\n",
      "117/117 [==============================] - 0s 3ms/step - loss: 0.3050 - accuracy: 0.8909 - val_loss: 0.3356 - val_accuracy: 0.8550\n",
      "Epoch 159/200\n",
      "117/117 [==============================] - 0s 3ms/step - loss: 0.3025 - accuracy: 0.8918 - val_loss: 0.3393 - val_accuracy: 0.8583\n",
      "Epoch 160/200\n",
      "117/117 [==============================] - 0s 3ms/step - loss: 0.3055 - accuracy: 0.8920 - val_loss: 0.3425 - val_accuracy: 0.8600\n",
      "Epoch 161/200\n",
      "117/117 [==============================] - 0s 3ms/step - loss: 0.3131 - accuracy: 0.8874 - val_loss: 0.3419 - val_accuracy: 0.8617\n",
      "Epoch 162/200\n",
      "117/117 [==============================] - 0s 3ms/step - loss: 0.3084 - accuracy: 0.8893 - val_loss: 0.3377 - val_accuracy: 0.8583\n",
      "Epoch 163/200\n",
      "117/117 [==============================] - 0s 3ms/step - loss: 0.3092 - accuracy: 0.8910 - val_loss: 0.3314 - val_accuracy: 0.8633\n",
      "Epoch 164/200\n",
      "117/117 [==============================] - 0s 3ms/step - loss: 0.3028 - accuracy: 0.8927 - val_loss: 0.3353 - val_accuracy: 0.8650\n",
      "Epoch 165/200\n",
      "117/117 [==============================] - 0s 3ms/step - loss: 0.3069 - accuracy: 0.8916 - val_loss: 0.3298 - val_accuracy: 0.8600\n",
      "Epoch 166/200\n",
      "117/117 [==============================] - 0s 3ms/step - loss: 0.3032 - accuracy: 0.8925 - val_loss: 0.3319 - val_accuracy: 0.8600\n",
      "Epoch 167/200\n",
      "117/117 [==============================] - 0s 3ms/step - loss: 0.3018 - accuracy: 0.8920 - val_loss: 0.3326 - val_accuracy: 0.8683\n",
      "Epoch 168/200\n",
      "117/117 [==============================] - 0s 3ms/step - loss: 0.3086 - accuracy: 0.8900 - val_loss: 0.3310 - val_accuracy: 0.8667\n",
      "Epoch 169/200\n",
      "117/117 [==============================] - 0s 3ms/step - loss: 0.3011 - accuracy: 0.8922 - val_loss: 0.3291 - val_accuracy: 0.8683\n",
      "Epoch 170/200\n",
      "117/117 [==============================] - 0s 3ms/step - loss: 0.3022 - accuracy: 0.8938 - val_loss: 0.3300 - val_accuracy: 0.8633\n",
      "Epoch 171/200\n"
     ]
    },
    {
     "name": "stdout",
     "output_type": "stream",
     "text": [
      "117/117 [==============================] - 0s 3ms/step - loss: 0.3001 - accuracy: 0.8932 - val_loss: 0.3267 - val_accuracy: 0.8667\n",
      "Epoch 172/200\n",
      "117/117 [==============================] - 0s 3ms/step - loss: 0.3017 - accuracy: 0.8913 - val_loss: 0.3309 - val_accuracy: 0.8650\n",
      "Epoch 173/200\n",
      "117/117 [==============================] - 0s 3ms/step - loss: 0.3020 - accuracy: 0.8928 - val_loss: 0.3297 - val_accuracy: 0.8633\n",
      "Epoch 174/200\n",
      "117/117 [==============================] - 0s 3ms/step - loss: 0.3013 - accuracy: 0.8930 - val_loss: 0.3296 - val_accuracy: 0.8667\n",
      "Epoch 175/200\n",
      "117/117 [==============================] - 0s 3ms/step - loss: 0.3011 - accuracy: 0.8921 - val_loss: 0.3303 - val_accuracy: 0.8650\n",
      "Epoch 176/200\n",
      "117/117 [==============================] - 0s 3ms/step - loss: 0.2973 - accuracy: 0.8933 - val_loss: 0.3267 - val_accuracy: 0.8650\n",
      "Epoch 177/200\n",
      "117/117 [==============================] - 0s 3ms/step - loss: 0.2981 - accuracy: 0.8938 - val_loss: 0.3302 - val_accuracy: 0.8667\n",
      "Epoch 178/200\n",
      "117/117 [==============================] - 0s 3ms/step - loss: 0.3003 - accuracy: 0.8921 - val_loss: 0.3313 - val_accuracy: 0.8717\n",
      "Epoch 179/200\n",
      "117/117 [==============================] - 0s 3ms/step - loss: 0.2975 - accuracy: 0.8946 - val_loss: 0.3275 - val_accuracy: 0.8683\n",
      "Epoch 180/200\n",
      "117/117 [==============================] - 0s 3ms/step - loss: 0.2955 - accuracy: 0.8933 - val_loss: 0.3243 - val_accuracy: 0.8717\n",
      "Epoch 181/200\n",
      "117/117 [==============================] - 0s 3ms/step - loss: 0.2958 - accuracy: 0.8947 - val_loss: 0.3307 - val_accuracy: 0.8733\n",
      "Epoch 182/200\n",
      "117/117 [==============================] - 0s 3ms/step - loss: 0.2971 - accuracy: 0.8949 - val_loss: 0.3297 - val_accuracy: 0.8617\n",
      "Epoch 183/200\n",
      "117/117 [==============================] - 0s 3ms/step - loss: 0.2942 - accuracy: 0.8942 - val_loss: 0.3280 - val_accuracy: 0.8667\n",
      "Epoch 184/200\n",
      "117/117 [==============================] - 0s 3ms/step - loss: 0.2928 - accuracy: 0.8960 - val_loss: 0.3264 - val_accuracy: 0.8667\n",
      "Epoch 185/200\n",
      "117/117 [==============================] - 0s 3ms/step - loss: 0.2907 - accuracy: 0.8966 - val_loss: 0.3291 - val_accuracy: 0.8617\n",
      "Epoch 186/200\n",
      "117/117 [==============================] - 0s 3ms/step - loss: 0.2914 - accuracy: 0.8975 - val_loss: 0.3289 - val_accuracy: 0.8667\n",
      "Epoch 187/200\n",
      "117/117 [==============================] - 0s 3ms/step - loss: 0.2901 - accuracy: 0.8960 - val_loss: 0.3260 - val_accuracy: 0.8667\n",
      "Epoch 188/200\n",
      "117/117 [==============================] - 0s 3ms/step - loss: 0.2891 - accuracy: 0.8969 - val_loss: 0.3299 - val_accuracy: 0.8717\n",
      "Epoch 189/200\n",
      "117/117 [==============================] - 0s 3ms/step - loss: 0.2965 - accuracy: 0.8932 - val_loss: 0.3267 - val_accuracy: 0.8683\n",
      "Epoch 190/200\n",
      "117/117 [==============================] - 0s 3ms/step - loss: 0.2866 - accuracy: 0.8977 - val_loss: 0.3228 - val_accuracy: 0.8700\n",
      "Epoch 191/200\n",
      "117/117 [==============================] - 0s 3ms/step - loss: 0.2925 - accuracy: 0.8952 - val_loss: 0.3242 - val_accuracy: 0.8733\n",
      "Epoch 192/200\n",
      "117/117 [==============================] - 0s 3ms/step - loss: 0.2877 - accuracy: 0.8983 - val_loss: 0.3269 - val_accuracy: 0.8733\n",
      "Epoch 193/200\n",
      "117/117 [==============================] - 0s 3ms/step - loss: 0.2866 - accuracy: 0.8974 - val_loss: 0.3260 - val_accuracy: 0.8717\n",
      "Epoch 194/200\n",
      "117/117 [==============================] - 0s 3ms/step - loss: 0.2881 - accuracy: 0.8980 - val_loss: 0.3244 - val_accuracy: 0.8683\n",
      "Epoch 195/200\n",
      "117/117 [==============================] - 0s 3ms/step - loss: 0.2864 - accuracy: 0.8981 - val_loss: 0.3245 - val_accuracy: 0.8750\n",
      "Epoch 196/200\n",
      "117/117 [==============================] - 0s 3ms/step - loss: 0.2923 - accuracy: 0.8967 - val_loss: 0.3271 - val_accuracy: 0.8650\n",
      "Epoch 197/200\n",
      "117/117 [==============================] - 0s 3ms/step - loss: 0.2932 - accuracy: 0.8950 - val_loss: 0.3286 - val_accuracy: 0.8650\n",
      "Epoch 198/200\n",
      "117/117 [==============================] - 0s 3ms/step - loss: 0.2884 - accuracy: 0.8965 - val_loss: 0.3223 - val_accuracy: 0.8733\n",
      "Epoch 199/200\n",
      "117/117 [==============================] - 0s 3ms/step - loss: 0.2859 - accuracy: 0.8971 - val_loss: 0.3277 - val_accuracy: 0.8717\n",
      "Epoch 200/200\n",
      "117/117 [==============================] - 0s 3ms/step - loss: 0.2895 - accuracy: 0.8967 - val_loss: 0.3198 - val_accuracy: 0.8700\n"
     ]
    }
   ],
   "source": [
    "X_train, X_valid, y_train, y_valid = train_test_split(train_images, train_labels, test_size=0.01, random_state=101)\n",
    "X_train = X_train / 255.0\n",
    "X_valid = X_valid / 255.0\n",
    "\n",
    "#Dense layer만으로 만들어 낸 classification 모델입니다.\n",
    "model = keras.Sequential([\n",
    "    keras.layers.Flatten(input_shape=(28, 28)),\n",
    "    keras.layers.Dense(256, activation='relu'),\n",
    "    keras.layers.Dense(10, activation='softmax')\n",
    "])\n",
    "\n",
    "model.compile(optimizer='adam',loss='sparse_categorical_crossentropy',\n",
    "              metrics=['accuracy'])\n",
    "\n",
    "history= model.fit(X_train, y_train, epochs=200, batch_size=512, validation_data=(X_valid, y_valid))"
   ]
  },
  {
   "cell_type": "code",
   "execution_count": 22,
   "id": "continent-family",
   "metadata": {},
   "outputs": [
    {
     "data": {
      "image/png": "[encoded data removed]",
      "text/plain": [
       "<Figure size 432x288 with 1 Axes>"
      ]
     },
     "metadata": {
      "needs_background": "light"
     },
     "output_type": "display_data"
    }
   ],
   "source": [
    "# loss 값을 plot\n",
    "y_vloss = history.history['val_loss']\n",
    "y_loss = history.history['loss']\n",
    "x_len = np.arange(len(y_loss))\n",
    "\n",
    "plt.plot(x_len, y_vloss, marker='.', c='red', label=\"Validation-set Loss\")\n",
    "plt.plot(x_len, y_loss, marker='.', c='blue', label=\"Train-set Loss\")\n",
    "plt.legend(loc='upper right')\n",
    "plt.grid()\n",
    "plt.title('Loss graph without dropout layer') \n",
    "plt.ylim(0,1)\n",
    "plt.xlabel('epoch')\n",
    "plt.ylabel('loss')\n",
    "plt.show()"
   ]
  },
  {
   "cell_type": "code",
   "execution_count": 23,
   "id": "informative-separation",
   "metadata": {},
   "outputs": [
    {
     "data": {
      "image/png": "[encoded data removed]",
      "text/plain": [
       "<Figure size 432x288 with 1 Axes>"
      ]
     },
     "metadata": {
      "needs_background": "light"
     },
     "output_type": "display_data"
    }
   ],
   "source": [
    "# accuracy 값을 plot \n",
    "y_vacc = history.history['val_accuracy']\n",
    "y_acc = history.history['accuracy']\n",
    "x_len = np.arange(len(y_acc))\n",
    "\n",
    "plt.plot(x_len, y_vacc, marker='.', c='red', label=\"Validation-set accuracy\")\n",
    "plt.plot(x_len, y_acc, marker='.', c='blue', label=\"Train-set accuracy\")\n",
    "plt.legend(loc='lower right')\n",
    "plt.grid()\n",
    "plt.ylim(0.5,1) \n",
    "plt.title('Accuracy graph with dropout layer') \n",
    "plt.xlabel('epoch')\n",
    "plt.ylabel('accuracy')\n",
    "plt.show()"
   ]
  },
  {
   "cell_type": "markdown",
   "id": "private-amplifier",
   "metadata": {},
   "source": [
    "Dropout layer 하나만으로도 오버피팅을 막고, 두 데이터 셋이 정확도도 비슷하게 나옴을 확인할 수 있다."
   ]
  },
  {
   "cell_type": "markdown",
   "id": "previous-proposal",
   "metadata": {},
   "source": [
    "----\n",
    "## Batch Normalization\n",
    "\n",
    " fully connected layer와 Batch Normalization layer를 추가한 두 실험을 비교했다. \n",
    " \n",
    " 중점적으로 봐야할 내용은 __정확도 비교__와 __속도의 차이__ 이다."
   ]
  },
  {
   "cell_type": "code",
   "execution_count": 24,
   "id": "chicken-flooring",
   "metadata": {},
   "outputs": [],
   "source": [
    "import tensorflow as tf\n",
    "from tensorflow import keras\n",
    "import numpy as np\n",
    "import matplotlib.pyplot as plt\n",
    "\n",
    "fashion_mnist = keras.datasets.fashion_mnist"
   ]
  },
  {
   "cell_type": "code",
   "execution_count": 25,
   "id": "considerable-shooting",
   "metadata": {},
   "outputs": [],
   "source": [
    "(train_images, train_labels), (test_images, test_labels) = fashion_mnist.load_data()\n",
    "class_names = ['T-shirt/top', 'Trouser', 'Pullover', 'Dress', 'Coat',\n",
    "               'Sandal', 'Shirt', 'Sneaker', 'Bag', 'Ankle boot']\n",
    "\n",
    "train_images = train_images / 255.0\n",
    "test_images = test_images / 255.0"
   ]
  },
  {
   "cell_type": "code",
   "execution_count": 26,
   "id": "protecting-proportion",
   "metadata": {},
   "outputs": [
    {
     "name": "stdout",
     "output_type": "stream",
     "text": [
      "Epoch 1/20\n",
      "21/21 [==============================] - 1s 16ms/step - loss: 1.6676 - accuracy: 0.4554 - val_loss: 0.7672 - val_accuracy: 0.7398\n",
      "Epoch 2/20\n",
      "21/21 [==============================] - 0s 7ms/step - loss: 0.6975 - accuracy: 0.7626 - val_loss: 0.6030 - val_accuracy: 0.7952\n",
      "Epoch 3/20\n",
      "21/21 [==============================] - 0s 7ms/step - loss: 0.5654 - accuracy: 0.8121 - val_loss: 0.5346 - val_accuracy: 0.8203\n",
      "Epoch 4/20\n",
      "21/21 [==============================] - 0s 7ms/step - loss: 0.5118 - accuracy: 0.8295 - val_loss: 0.4991 - val_accuracy: 0.8313\n",
      "Epoch 5/20\n",
      "21/21 [==============================] - 0s 7ms/step - loss: 0.4789 - accuracy: 0.8386 - val_loss: 0.4742 - val_accuracy: 0.8396\n",
      "Epoch 6/20\n",
      "21/21 [==============================] - 0s 7ms/step - loss: 0.4548 - accuracy: 0.8456 - val_loss: 0.4542 - val_accuracy: 0.8453\n",
      "Epoch 7/20\n",
      "21/21 [==============================] - 0s 7ms/step - loss: 0.4341 - accuracy: 0.8529 - val_loss: 0.4399 - val_accuracy: 0.8504\n",
      "Epoch 8/20\n",
      "21/21 [==============================] - 0s 7ms/step - loss: 0.4209 - accuracy: 0.8564 - val_loss: 0.4300 - val_accuracy: 0.8546\n",
      "Epoch 9/20\n",
      "21/21 [==============================] - 0s 7ms/step - loss: 0.4117 - accuracy: 0.8600 - val_loss: 0.4230 - val_accuracy: 0.8544\n",
      "Epoch 10/20\n",
      "21/21 [==============================] - 0s 7ms/step - loss: 0.3985 - accuracy: 0.8621 - val_loss: 0.4142 - val_accuracy: 0.8579\n",
      "Epoch 11/20\n",
      "21/21 [==============================] - 0s 8ms/step - loss: 0.3848 - accuracy: 0.8690 - val_loss: 0.4100 - val_accuracy: 0.8589\n",
      "Epoch 12/20\n",
      "21/21 [==============================] - 0s 7ms/step - loss: 0.3780 - accuracy: 0.8700 - val_loss: 0.4006 - val_accuracy: 0.8623\n",
      "Epoch 13/20\n",
      "21/21 [==============================] - 0s 7ms/step - loss: 0.3771 - accuracy: 0.8705 - val_loss: 0.3975 - val_accuracy: 0.8602\n",
      "Epoch 14/20\n",
      "21/21 [==============================] - 0s 7ms/step - loss: 0.3685 - accuracy: 0.8734 - val_loss: 0.3891 - val_accuracy: 0.8653\n",
      "Epoch 15/20\n",
      "21/21 [==============================] - 0s 7ms/step - loss: 0.3569 - accuracy: 0.8781 - val_loss: 0.3874 - val_accuracy: 0.8652\n",
      "Epoch 16/20\n",
      "21/21 [==============================] - 0s 7ms/step - loss: 0.3482 - accuracy: 0.8796 - val_loss: 0.3814 - val_accuracy: 0.8658\n",
      "Epoch 17/20\n",
      "21/21 [==============================] - 0s 7ms/step - loss: 0.3446 - accuracy: 0.8818 - val_loss: 0.3797 - val_accuracy: 0.8672\n",
      "Epoch 18/20\n",
      "21/21 [==============================] - 0s 7ms/step - loss: 0.3393 - accuracy: 0.8823 - val_loss: 0.3809 - val_accuracy: 0.8654\n",
      "Epoch 19/20\n",
      "21/21 [==============================] - 0s 7ms/step - loss: 0.3434 - accuracy: 0.8822 - val_loss: 0.3745 - val_accuracy: 0.8686\n",
      "Epoch 20/20\n",
      "21/21 [==============================] - 0s 7ms/step - loss: 0.3287 - accuracy: 0.8869 - val_loss: 0.3693 - val_accuracy: 0.8696\n"
     ]
    }
   ],
   "source": [
    "from sklearn.model_selection import train_test_split\n",
    "\n",
    "X_train, X_valid, y_train, y_valid = train_test_split(train_images, train_labels, test_size=0.3, random_state=101)\n",
    "\n",
    "model = keras.Sequential([\n",
    "    keras.layers.Flatten(input_shape=(28, 28)),\n",
    "    keras.layers.Dense(128, activation='relu'),\n",
    "    keras.layers.Dense(10, activation='softmax')\n",
    "])\n",
    "\n",
    "model.compile(optimizer='adam',loss='sparse_categorical_crossentropy',\n",
    "              metrics=['accuracy'])\n",
    "\n",
    "history= model.fit(X_train, y_train, epochs=20, batch_size=2048, validation_data=(X_valid, y_valid))"
   ]
  },
  {
   "cell_type": "code",
   "execution_count": 27,
   "id": "biblical-winter",
   "metadata": {},
   "outputs": [
    {
     "data": {
      "image/png": "[encoded data removed]",
      "text/plain": [
       "<Figure size 432x288 with 1 Axes>"
      ]
     },
     "metadata": {
      "needs_background": "light"
     },
     "output_type": "display_data"
    }
   ],
   "source": [
    "# loss 값을 plot 해보겠습니다. \n",
    "y_vloss = history.history['val_loss']\n",
    "y_loss = history.history['loss']\n",
    "x_len = np.arange(len(y_loss))\n",
    "\n",
    "plt.plot(x_len, y_vloss, marker='.', c='red', label=\"Validation-set Loss\")\n",
    "plt.plot(x_len, y_loss, marker='.', c='blue', label=\"Train-set Loss\")\n",
    "plt.legend(loc='upper right')\n",
    "plt.grid()\n",
    "plt.ylim(0,1)\n",
    "plt.title('Loss graph without batch normalization') \n",
    "plt.xlabel('epoch')\n",
    "plt.ylabel('loss')\n",
    "plt.show()"
   ]
  },
  {
   "cell_type": "code",
   "execution_count": 28,
   "id": "fundamental-bonus",
   "metadata": {},
   "outputs": [
    {
     "data": {
      "image/png": "[encoded data removed]",
      "text/plain": [
       "<Figure size 432x288 with 1 Axes>"
      ]
     },
     "metadata": {
      "needs_background": "light"
     },
     "output_type": "display_data"
    }
   ],
   "source": [
    "# accuracy 값을 plot 해보겠습니다. \n",
    "y_vacc = history.history['val_accuracy']\n",
    "y_acc = history.history['accuracy']\n",
    "x_len = np.arange(len(y_acc))\n",
    "\n",
    "plt.plot(x_len, y_vacc, marker='.', c='red', label=\"Validation-set accuracy\")\n",
    "plt.plot(x_len, y_acc, marker='.', c='blue', label=\"Train-set accuracy\")\n",
    "plt.legend(loc='lower right')\n",
    "plt.grid()\n",
    "plt.ylim(0.5,1)\n",
    "plt.title('Accuracy graph without batch normalization') \n",
    "plt.xlabel('epoch')\n",
    "plt.ylabel('accuracy')\n",
    "plt.show()"
   ]
  },
  {
   "cell_type": "markdown",
   "id": "sustained-chemical",
   "metadata": {},
   "source": [
    "### BatchNoramlization layer를 추가"
   ]
  },
  {
   "cell_type": "code",
   "execution_count": 29,
   "id": "musical-auckland",
   "metadata": {},
   "outputs": [
    {
     "name": "stdout",
     "output_type": "stream",
     "text": [
      "Epoch 1/20\n",
      "21/21 [==============================] - 1s 17ms/step - loss: 1.3910 - accuracy: 0.5430 - val_loss: 1.0203 - val_accuracy: 0.7096\n",
      "Epoch 2/20\n",
      "21/21 [==============================] - 0s 8ms/step - loss: 0.5427 - accuracy: 0.8158 - val_loss: 0.8344 - val_accuracy: 0.7615\n",
      "Epoch 3/20\n",
      "21/21 [==============================] - 0s 8ms/step - loss: 0.4653 - accuracy: 0.8407 - val_loss: 0.7418 - val_accuracy: 0.7942\n",
      "Epoch 4/20\n",
      "21/21 [==============================] - 0s 8ms/step - loss: 0.4246 - accuracy: 0.8524 - val_loss: 0.7014 - val_accuracy: 0.8016\n",
      "Epoch 5/20\n",
      "21/21 [==============================] - 0s 8ms/step - loss: 0.3888 - accuracy: 0.8673 - val_loss: 0.6303 - val_accuracy: 0.8297\n",
      "Epoch 6/20\n",
      "21/21 [==============================] - 0s 8ms/step - loss: 0.3626 - accuracy: 0.8756 - val_loss: 0.6100 - val_accuracy: 0.8232\n",
      "Epoch 7/20\n",
      "21/21 [==============================] - 0s 8ms/step - loss: 0.3453 - accuracy: 0.8807 - val_loss: 0.5480 - val_accuracy: 0.8523\n",
      "Epoch 8/20\n",
      "21/21 [==============================] - 0s 8ms/step - loss: 0.3336 - accuracy: 0.8830 - val_loss: 0.5278 - val_accuracy: 0.8534\n",
      "Epoch 9/20\n",
      "21/21 [==============================] - 0s 8ms/step - loss: 0.3146 - accuracy: 0.8891 - val_loss: 0.4883 - val_accuracy: 0.8608\n",
      "Epoch 10/20\n",
      "21/21 [==============================] - 0s 8ms/step - loss: 0.3110 - accuracy: 0.8896 - val_loss: 0.4656 - val_accuracy: 0.8601\n",
      "Epoch 11/20\n",
      "21/21 [==============================] - 0s 8ms/step - loss: 0.3019 - accuracy: 0.8946 - val_loss: 0.4411 - val_accuracy: 0.8602\n",
      "Epoch 12/20\n",
      "21/21 [==============================] - 0s 8ms/step - loss: 0.2843 - accuracy: 0.9016 - val_loss: 0.4221 - val_accuracy: 0.8664\n",
      "Epoch 13/20\n",
      "21/21 [==============================] - 0s 8ms/step - loss: 0.2758 - accuracy: 0.9040 - val_loss: 0.4032 - val_accuracy: 0.8720\n",
      "Epoch 14/20\n",
      "21/21 [==============================] - 0s 8ms/step - loss: 0.2680 - accuracy: 0.9068 - val_loss: 0.4028 - val_accuracy: 0.8684\n",
      "Epoch 15/20\n",
      "21/21 [==============================] - 0s 8ms/step - loss: 0.2619 - accuracy: 0.9078 - val_loss: 0.3795 - val_accuracy: 0.8745\n",
      "Epoch 16/20\n",
      "21/21 [==============================] - 0s 8ms/step - loss: 0.2484 - accuracy: 0.9117 - val_loss: 0.3818 - val_accuracy: 0.8699\n",
      "Epoch 17/20\n",
      "21/21 [==============================] - 0s 8ms/step - loss: 0.2433 - accuracy: 0.9134 - val_loss: 0.3632 - val_accuracy: 0.8781\n",
      "Epoch 18/20\n",
      "21/21 [==============================] - 0s 8ms/step - loss: 0.2389 - accuracy: 0.9160 - val_loss: 0.3561 - val_accuracy: 0.8733\n",
      "Epoch 19/20\n",
      "21/21 [==============================] - 0s 8ms/step - loss: 0.2263 - accuracy: 0.9205 - val_loss: 0.3422 - val_accuracy: 0.8821\n",
      "Epoch 20/20\n",
      "21/21 [==============================] - 0s 8ms/step - loss: 0.2226 - accuracy: 0.9218 - val_loss: 0.3674 - val_accuracy: 0.8671\n"
     ]
    }
   ],
   "source": [
    "model = keras.Sequential([\n",
    "    keras.layers.Flatten(input_shape=(28, 28)),\n",
    "    keras.layers.Dense(128, activation='relu'),\n",
    "    #여기에 batchnormalization layer를 추가해보았습니다. 나머지 layer는 위의 실습과 같습니다.\n",
    "    keras.layers.BatchNormalization(),\n",
    "    keras.layers.Dense(10, activation='softmax')\n",
    "])\n",
    "\n",
    "model.compile(optimizer='adam',loss='sparse_categorical_crossentropy',\n",
    "              metrics=['accuracy'])\n",
    "\n",
    "history= model.fit(X_train, y_train, epochs=20, batch_size=2048, validation_data=(X_valid, y_valid))"
   ]
  },
  {
   "cell_type": "code",
   "execution_count": 30,
   "id": "attempted-paper",
   "metadata": {},
   "outputs": [
    {
     "data": {
      "image/png": "[encoded data removed]",
      "text/plain": [
       "<Figure size 432x288 with 1 Axes>"
      ]
     },
     "metadata": {
      "needs_background": "light"
     },
     "output_type": "display_data"
    }
   ],
   "source": [
    "# loss 값을 plot 해보겠습니다. \n",
    "y_vloss = history.history['val_loss']\n",
    "y_loss = history.history['loss']\n",
    "x_len = np.arange(len(y_loss))\n",
    "\n",
    "plt.plot(x_len, y_vloss, marker='.', c='red', label=\"Validation-set Loss\")\n",
    "plt.plot(x_len, y_loss, marker='.', c='blue', label=\"Train-set Loss\")\n",
    "plt.legend(loc='upper right')\n",
    "plt.grid()\n",
    "plt.ylim(0,1)\n",
    "plt.title('Loss graph with batch normalization') \n",
    "plt.xlabel('epoch')\n",
    "plt.ylabel('loss')\n",
    "plt.show()"
   ]
  },
  {
   "cell_type": "code",
   "execution_count": 31,
   "id": "dated-minister",
   "metadata": {},
   "outputs": [
    {
     "data": {
      "image/png": "[encoded data removed]",
      "text/plain": [
       "<Figure size 432x288 with 1 Axes>"
      ]
     },
     "metadata": {
      "needs_background": "light"
     },
     "output_type": "display_data"
    }
   ],
   "source": [
    "# accuracy 값을 plot 해보겠습니다. \n",
    "y_vacc = history.history['val_accuracy']\n",
    "y_acc = history.history['accuracy']\n",
    "x_len = np.arange(len(y_acc))\n",
    "\n",
    "plt.plot(x_len, y_vacc, marker='.', c='red', label=\"Validation-set accuracy\")\n",
    "plt.plot(x_len, y_acc, marker='.', c='blue', label=\"Train-set accuracy\")\n",
    "plt.legend(loc='lower right')\n",
    "plt.grid()\n",
    "plt.ylim(0.5,1) \n",
    "plt.title('Accurcy graph with batch normalization') \n",
    "plt.xlabel('epoch')\n",
    "plt.ylabel('accuracy')\n",
    "plt.show()"
   ]
  },
  {
   "cell_type": "markdown",
   "id": "czech-survivor",
   "metadata": {},
   "source": [
    "- 기존의 fully connected layer도 낮지 않은 결과를 가져오지만, Batch Normalization을 추가하니 좀 더 빠르게 정확도 상승이 있음을 확인할 수 있다.  \n",
    "\n",
    "- loss 함수의 감소도 더 빨라짐을 확인할 수 있다.\n",
    "\n",
    "- Batch Normalization으로 인해 이미지가 정규화되면서 좀 더 고른 분포를 가지기도 하며, 앞서 설명해 드린 \\epsilonϵ 부분으로 인해 안정적인 학습이 가능해짐"
   ]
  },
  {
   "cell_type": "code",
   "execution_count": null,
   "id": "bizarre-penny",
   "metadata": {},
   "outputs": [],
   "source": []
  }
 ],
 "metadata": {
  "kernelspec": {
   "display_name": "Python 3",
   "language": "python",
   "name": "python3"
  },
  "language_info": {
   "codemirror_mode": {
    "name": "ipython",
    "version": 3
   },
   "file_extension": ".py",
   "mimetype": "text/x-python",
   "name": "python",
   "nbconvert_exporter": "python",
   "pygments_lexer": "ipython3",
   "version": "3.7.9"
  }
 },
 "nbformat": 4,
 "nbformat_minor": 5
}
